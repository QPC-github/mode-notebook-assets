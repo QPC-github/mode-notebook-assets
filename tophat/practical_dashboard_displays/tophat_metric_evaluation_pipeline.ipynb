{
 "cells": [
  {
   "cell_type": "code",
   "execution_count": 28,
   "metadata": {
    "collapsed": true
   },
   "outputs": [
    {
     "data": {
      "text/plain": "<module 'mode_notebook_assets.practical_dashboard_displays' from '/Users/joelbecker/src/github.com/Shopify/mode-notebook-assets/mode_notebook_assets/practical_dashboard_displays.py'>"
     },
     "execution_count": 28,
     "metadata": {},
     "output_type": "execute_result"
    }
   ],
   "source": [
    "from importlib import reload\n",
    "import pandas as pd\n",
    "from IPython.core.display import HTML\n",
    "import mode_notebook_assets.practical_dashboard_displays as dis\n",
    "reload(dis)"
   ]
  },
  {
   "cell_type": "code",
   "execution_count": 29,
   "outputs": [],
   "source": [
    "# read test series\n",
    "_ts_path = 'https://raw.githubusercontent.com/jbrownlee/Datasets/master/shampoo.csv'\n",
    "_ts = pd.read_csv(_ts_path)\\\n",
    "        .set_index('Month')['Sales']\n",
    "\n",
    "_births_ts_path = 'https://raw.githubusercontent.com/jbrownlee/Datasets/master/daily-total-female-births.csv'\n",
    "_births_ts = pd.read_csv(_births_ts_path).set_index('Date')['Births']"
   ],
   "metadata": {
    "collapsed": false,
    "pycharm": {
     "name": "#%%\n"
    }
   }
  },
  {
   "cell_type": "code",
   "execution_count": 30,
   "outputs": [
    {
     "data": {
      "application/vnd.plotly.v1+json": {
       "config": {
        "plotlyServerURL": "https://plot.ly"
       },
       "data": [
        {
         "hoverinfo": "text",
         "hovertext": [],
         "marker": {
          "color": [],
          "size": 10
         },
         "mode": "markers",
         "name": "Actionability",
         "showlegend": false,
         "type": "scatter",
         "x": [],
         "y": []
        },
        {
         "hoverinfo": "skip",
         "marker": {
          "color": [],
          "size": 10
         },
         "mode": "markers",
         "name": "Historical Alerts",
         "showlegend": false,
         "type": "scatter",
         "x": [],
         "y": []
        },
        {
         "line": {
          "color": "gray",
          "width": 4
         },
         "mode": "lines",
         "name": "Sales",
         "showlegend": false,
         "type": "scatter",
         "x": [
          "1-01",
          "1-02",
          "1-03",
          "1-04",
          "1-05",
          "1-06",
          "1-07",
          "1-08",
          "1-09",
          "1-10",
          "1-11",
          "1-12",
          "2-01",
          "2-02",
          "2-03",
          "2-04",
          "2-05",
          "2-06",
          "2-07",
          "2-08",
          "2-09",
          "2-10",
          "2-11",
          "2-12",
          "3-01",
          "3-02",
          "3-03",
          "3-04",
          "3-05",
          "3-06",
          "3-07",
          "3-08",
          "3-09",
          "3-10",
          "3-11",
          "3-12"
         ],
         "y": [
          266.0,
          145.9,
          183.1,
          119.3,
          180.3,
          168.5,
          231.8,
          224.5,
          192.8,
          122.9,
          336.5,
          185.9,
          194.3,
          149.5,
          210.1,
          273.3,
          191.4,
          287.0,
          226.0,
          303.6,
          289.9,
          421.6,
          264.5,
          342.3,
          339.7,
          440.4,
          315.9,
          439.3,
          401.3,
          437.4,
          575.5,
          407.6,
          682.0,
          475.3,
          581.3,
          646.9
         ]
        }
       ],
       "layout": {
        "hovermode": "x",
        "paper_bgcolor": "rgba(0,0,0,0)",
        "plot_bgcolor": "rgba(0,0,0,0)",
        "template": {
         "data": {
          "bar": [
           {
            "error_x": {
             "color": "#2a3f5f"
            },
            "error_y": {
             "color": "#2a3f5f"
            },
            "marker": {
             "line": {
              "color": "#E5ECF6",
              "width": 0.5
             }
            },
            "type": "bar"
           }
          ],
          "barpolar": [
           {
            "marker": {
             "line": {
              "color": "#E5ECF6",
              "width": 0.5
             }
            },
            "type": "barpolar"
           }
          ],
          "carpet": [
           {
            "aaxis": {
             "endlinecolor": "#2a3f5f",
             "gridcolor": "white",
             "linecolor": "white",
             "minorgridcolor": "white",
             "startlinecolor": "#2a3f5f"
            },
            "baxis": {
             "endlinecolor": "#2a3f5f",
             "gridcolor": "white",
             "linecolor": "white",
             "minorgridcolor": "white",
             "startlinecolor": "#2a3f5f"
            },
            "type": "carpet"
           }
          ],
          "choropleth": [
           {
            "colorbar": {
             "outlinewidth": 0,
             "ticks": ""
            },
            "type": "choropleth"
           }
          ],
          "contour": [
           {
            "colorbar": {
             "outlinewidth": 0,
             "ticks": ""
            },
            "colorscale": [
             [
              0.0,
              "#0d0887"
             ],
             [
              0.1111111111111111,
              "#46039f"
             ],
             [
              0.2222222222222222,
              "#7201a8"
             ],
             [
              0.3333333333333333,
              "#9c179e"
             ],
             [
              0.4444444444444444,
              "#bd3786"
             ],
             [
              0.5555555555555556,
              "#d8576b"
             ],
             [
              0.6666666666666666,
              "#ed7953"
             ],
             [
              0.7777777777777778,
              "#fb9f3a"
             ],
             [
              0.8888888888888888,
              "#fdca26"
             ],
             [
              1.0,
              "#f0f921"
             ]
            ],
            "type": "contour"
           }
          ],
          "contourcarpet": [
           {
            "colorbar": {
             "outlinewidth": 0,
             "ticks": ""
            },
            "type": "contourcarpet"
           }
          ],
          "heatmap": [
           {
            "colorbar": {
             "outlinewidth": 0,
             "ticks": ""
            },
            "colorscale": [
             [
              0.0,
              "#0d0887"
             ],
             [
              0.1111111111111111,
              "#46039f"
             ],
             [
              0.2222222222222222,
              "#7201a8"
             ],
             [
              0.3333333333333333,
              "#9c179e"
             ],
             [
              0.4444444444444444,
              "#bd3786"
             ],
             [
              0.5555555555555556,
              "#d8576b"
             ],
             [
              0.6666666666666666,
              "#ed7953"
             ],
             [
              0.7777777777777778,
              "#fb9f3a"
             ],
             [
              0.8888888888888888,
              "#fdca26"
             ],
             [
              1.0,
              "#f0f921"
             ]
            ],
            "type": "heatmap"
           }
          ],
          "heatmapgl": [
           {
            "colorbar": {
             "outlinewidth": 0,
             "ticks": ""
            },
            "colorscale": [
             [
              0.0,
              "#0d0887"
             ],
             [
              0.1111111111111111,
              "#46039f"
             ],
             [
              0.2222222222222222,
              "#7201a8"
             ],
             [
              0.3333333333333333,
              "#9c179e"
             ],
             [
              0.4444444444444444,
              "#bd3786"
             ],
             [
              0.5555555555555556,
              "#d8576b"
             ],
             [
              0.6666666666666666,
              "#ed7953"
             ],
             [
              0.7777777777777778,
              "#fb9f3a"
             ],
             [
              0.8888888888888888,
              "#fdca26"
             ],
             [
              1.0,
              "#f0f921"
             ]
            ],
            "type": "heatmapgl"
           }
          ],
          "histogram": [
           {
            "marker": {
             "colorbar": {
              "outlinewidth": 0,
              "ticks": ""
             }
            },
            "type": "histogram"
           }
          ],
          "histogram2d": [
           {
            "colorbar": {
             "outlinewidth": 0,
             "ticks": ""
            },
            "colorscale": [
             [
              0.0,
              "#0d0887"
             ],
             [
              0.1111111111111111,
              "#46039f"
             ],
             [
              0.2222222222222222,
              "#7201a8"
             ],
             [
              0.3333333333333333,
              "#9c179e"
             ],
             [
              0.4444444444444444,
              "#bd3786"
             ],
             [
              0.5555555555555556,
              "#d8576b"
             ],
             [
              0.6666666666666666,
              "#ed7953"
             ],
             [
              0.7777777777777778,
              "#fb9f3a"
             ],
             [
              0.8888888888888888,
              "#fdca26"
             ],
             [
              1.0,
              "#f0f921"
             ]
            ],
            "type": "histogram2d"
           }
          ],
          "histogram2dcontour": [
           {
            "colorbar": {
             "outlinewidth": 0,
             "ticks": ""
            },
            "colorscale": [
             [
              0.0,
              "#0d0887"
             ],
             [
              0.1111111111111111,
              "#46039f"
             ],
             [
              0.2222222222222222,
              "#7201a8"
             ],
             [
              0.3333333333333333,
              "#9c179e"
             ],
             [
              0.4444444444444444,
              "#bd3786"
             ],
             [
              0.5555555555555556,
              "#d8576b"
             ],
             [
              0.6666666666666666,
              "#ed7953"
             ],
             [
              0.7777777777777778,
              "#fb9f3a"
             ],
             [
              0.8888888888888888,
              "#fdca26"
             ],
             [
              1.0,
              "#f0f921"
             ]
            ],
            "type": "histogram2dcontour"
           }
          ],
          "mesh3d": [
           {
            "colorbar": {
             "outlinewidth": 0,
             "ticks": ""
            },
            "type": "mesh3d"
           }
          ],
          "parcoords": [
           {
            "line": {
             "colorbar": {
              "outlinewidth": 0,
              "ticks": ""
             }
            },
            "type": "parcoords"
           }
          ],
          "pie": [
           {
            "automargin": true,
            "type": "pie"
           }
          ],
          "scatter": [
           {
            "marker": {
             "colorbar": {
              "outlinewidth": 0,
              "ticks": ""
             }
            },
            "type": "scatter"
           }
          ],
          "scatter3d": [
           {
            "line": {
             "colorbar": {
              "outlinewidth": 0,
              "ticks": ""
             }
            },
            "marker": {
             "colorbar": {
              "outlinewidth": 0,
              "ticks": ""
             }
            },
            "type": "scatter3d"
           }
          ],
          "scattercarpet": [
           {
            "marker": {
             "colorbar": {
              "outlinewidth": 0,
              "ticks": ""
             }
            },
            "type": "scattercarpet"
           }
          ],
          "scattergeo": [
           {
            "marker": {
             "colorbar": {
              "outlinewidth": 0,
              "ticks": ""
             }
            },
            "type": "scattergeo"
           }
          ],
          "scattergl": [
           {
            "marker": {
             "colorbar": {
              "outlinewidth": 0,
              "ticks": ""
             }
            },
            "type": "scattergl"
           }
          ],
          "scattermapbox": [
           {
            "marker": {
             "colorbar": {
              "outlinewidth": 0,
              "ticks": ""
             }
            },
            "type": "scattermapbox"
           }
          ],
          "scatterpolar": [
           {
            "marker": {
             "colorbar": {
              "outlinewidth": 0,
              "ticks": ""
             }
            },
            "type": "scatterpolar"
           }
          ],
          "scatterpolargl": [
           {
            "marker": {
             "colorbar": {
              "outlinewidth": 0,
              "ticks": ""
             }
            },
            "type": "scatterpolargl"
           }
          ],
          "scatterternary": [
           {
            "marker": {
             "colorbar": {
              "outlinewidth": 0,
              "ticks": ""
             }
            },
            "type": "scatterternary"
           }
          ],
          "surface": [
           {
            "colorbar": {
             "outlinewidth": 0,
             "ticks": ""
            },
            "colorscale": [
             [
              0.0,
              "#0d0887"
             ],
             [
              0.1111111111111111,
              "#46039f"
             ],
             [
              0.2222222222222222,
              "#7201a8"
             ],
             [
              0.3333333333333333,
              "#9c179e"
             ],
             [
              0.4444444444444444,
              "#bd3786"
             ],
             [
              0.5555555555555556,
              "#d8576b"
             ],
             [
              0.6666666666666666,
              "#ed7953"
             ],
             [
              0.7777777777777778,
              "#fb9f3a"
             ],
             [
              0.8888888888888888,
              "#fdca26"
             ],
             [
              1.0,
              "#f0f921"
             ]
            ],
            "type": "surface"
           }
          ],
          "table": [
           {
            "cells": {
             "fill": {
              "color": "#EBF0F8"
             },
             "line": {
              "color": "white"
             }
            },
            "header": {
             "fill": {
              "color": "#C8D4E3"
             },
             "line": {
              "color": "white"
             }
            },
            "type": "table"
           }
          ]
         },
         "layout": {
          "annotationdefaults": {
           "arrowcolor": "#2a3f5f",
           "arrowhead": 0,
           "arrowwidth": 1
          },
          "coloraxis": {
           "colorbar": {
            "outlinewidth": 0,
            "ticks": ""
           }
          },
          "colorscale": {
           "diverging": [
            [
             0,
             "#8e0152"
            ],
            [
             0.1,
             "#c51b7d"
            ],
            [
             0.2,
             "#de77ae"
            ],
            [
             0.3,
             "#f1b6da"
            ],
            [
             0.4,
             "#fde0ef"
            ],
            [
             0.5,
             "#f7f7f7"
            ],
            [
             0.6,
             "#e6f5d0"
            ],
            [
             0.7,
             "#b8e186"
            ],
            [
             0.8,
             "#7fbc41"
            ],
            [
             0.9,
             "#4d9221"
            ],
            [
             1,
             "#276419"
            ]
           ],
           "sequential": [
            [
             0.0,
             "#0d0887"
            ],
            [
             0.1111111111111111,
             "#46039f"
            ],
            [
             0.2222222222222222,
             "#7201a8"
            ],
            [
             0.3333333333333333,
             "#9c179e"
            ],
            [
             0.4444444444444444,
             "#bd3786"
            ],
            [
             0.5555555555555556,
             "#d8576b"
            ],
            [
             0.6666666666666666,
             "#ed7953"
            ],
            [
             0.7777777777777778,
             "#fb9f3a"
            ],
            [
             0.8888888888888888,
             "#fdca26"
            ],
            [
             1.0,
             "#f0f921"
            ]
           ],
           "sequentialminus": [
            [
             0.0,
             "#0d0887"
            ],
            [
             0.1111111111111111,
             "#46039f"
            ],
            [
             0.2222222222222222,
             "#7201a8"
            ],
            [
             0.3333333333333333,
             "#9c179e"
            ],
            [
             0.4444444444444444,
             "#bd3786"
            ],
            [
             0.5555555555555556,
             "#d8576b"
            ],
            [
             0.6666666666666666,
             "#ed7953"
            ],
            [
             0.7777777777777778,
             "#fb9f3a"
            ],
            [
             0.8888888888888888,
             "#fdca26"
            ],
            [
             1.0,
             "#f0f921"
            ]
           ]
          },
          "colorway": [
           "#636efa",
           "#EF553B",
           "#00cc96",
           "#ab63fa",
           "#FFA15A",
           "#19d3f3",
           "#FF6692",
           "#B6E880",
           "#FF97FF",
           "#FECB52"
          ],
          "font": {
           "color": "#2a3f5f"
          },
          "geo": {
           "bgcolor": "white",
           "lakecolor": "white",
           "landcolor": "#E5ECF6",
           "showlakes": true,
           "showland": true,
           "subunitcolor": "white"
          },
          "hoverlabel": {
           "align": "left"
          },
          "hovermode": "closest",
          "mapbox": {
           "style": "light"
          },
          "paper_bgcolor": "white",
          "plot_bgcolor": "#E5ECF6",
          "polar": {
           "angularaxis": {
            "gridcolor": "white",
            "linecolor": "white",
            "ticks": ""
           },
           "bgcolor": "#E5ECF6",
           "radialaxis": {
            "gridcolor": "white",
            "linecolor": "white",
            "ticks": ""
           }
          },
          "scene": {
           "xaxis": {
            "backgroundcolor": "#E5ECF6",
            "gridcolor": "white",
            "gridwidth": 2,
            "linecolor": "white",
            "showbackground": true,
            "ticks": "",
            "zerolinecolor": "white"
           },
           "yaxis": {
            "backgroundcolor": "#E5ECF6",
            "gridcolor": "white",
            "gridwidth": 2,
            "linecolor": "white",
            "showbackground": true,
            "ticks": "",
            "zerolinecolor": "white"
           },
           "zaxis": {
            "backgroundcolor": "#E5ECF6",
            "gridcolor": "white",
            "gridwidth": 2,
            "linecolor": "white",
            "showbackground": true,
            "ticks": "",
            "zerolinecolor": "white"
           }
          },
          "shapedefaults": {
           "line": {
            "color": "#2a3f5f"
           }
          },
          "ternary": {
           "aaxis": {
            "gridcolor": "white",
            "linecolor": "white",
            "ticks": ""
           },
           "baxis": {
            "gridcolor": "white",
            "linecolor": "white",
            "ticks": ""
           },
           "bgcolor": "#E5ECF6",
           "caxis": {
            "gridcolor": "white",
            "linecolor": "white",
            "ticks": ""
           }
          },
          "title": {
           "x": 0.05
          },
          "xaxis": {
           "automargin": true,
           "gridcolor": "white",
           "linecolor": "white",
           "ticks": "",
           "title": {
            "standoff": 15
           },
           "zerolinecolor": "white",
           "zerolinewidth": 2
          },
          "yaxis": {
           "automargin": true,
           "gridcolor": "white",
           "linecolor": "white",
           "ticks": "",
           "title": {
            "standoff": 15
           },
           "zerolinecolor": "white",
           "zerolinewidth": 2
          }
         }
        },
        "title": {
         "text": "Tophat time series without checks"
        }
       }
      },
      "text/html": "<div>                            <div id=\"34cc14f7-7278-4015-946d-c39dce1a804a\" class=\"plotly-graph-div\" style=\"height:525px; width:100%;\"></div>            <script type=\"text/javascript\">                require([\"plotly\"], function(Plotly) {                    window.PLOTLYENV=window.PLOTLYENV || {};                                    if (document.getElementById(\"34cc14f7-7278-4015-946d-c39dce1a804a\")) {                    Plotly.newPlot(                        \"34cc14f7-7278-4015-946d-c39dce1a804a\",                        [{\"hoverinfo\": \"text\", \"hovertext\": [], \"marker\": {\"color\": [], \"size\": 10}, \"mode\": \"markers\", \"name\": \"Actionability\", \"showlegend\": false, \"type\": \"scatter\", \"x\": [], \"y\": []}, {\"hoverinfo\": \"skip\", \"marker\": {\"color\": [], \"size\": 10}, \"mode\": \"markers\", \"name\": \"Historical Alerts\", \"showlegend\": false, \"type\": \"scatter\", \"x\": [], \"y\": []}, {\"line\": {\"color\": \"gray\", \"width\": 4}, \"mode\": \"lines\", \"name\": \"Sales\", \"showlegend\": false, \"type\": \"scatter\", \"x\": [\"1-01\", \"1-02\", \"1-03\", \"1-04\", \"1-05\", \"1-06\", \"1-07\", \"1-08\", \"1-09\", \"1-10\", \"1-11\", \"1-12\", \"2-01\", \"2-02\", \"2-03\", \"2-04\", \"2-05\", \"2-06\", \"2-07\", \"2-08\", \"2-09\", \"2-10\", \"2-11\", \"2-12\", \"3-01\", \"3-02\", \"3-03\", \"3-04\", \"3-05\", \"3-06\", \"3-07\", \"3-08\", \"3-09\", \"3-10\", \"3-11\", \"3-12\"], \"y\": [266.0, 145.9, 183.1, 119.3, 180.3, 168.5, 231.8, 224.5, 192.8, 122.9, 336.5, 185.9, 194.3, 149.5, 210.1, 273.3, 191.4, 287.0, 226.0, 303.6, 289.9, 421.6, 264.5, 342.3, 339.7, 440.4, 315.9, 439.3, 401.3, 437.4, 575.5, 407.6, 682.0, 475.3, 581.3, 646.9]}],                        {\"hovermode\": \"x\", \"paper_bgcolor\": \"rgba(0,0,0,0)\", \"plot_bgcolor\": \"rgba(0,0,0,0)\", \"template\": {\"data\": {\"bar\": [{\"error_x\": {\"color\": \"#2a3f5f\"}, \"error_y\": {\"color\": \"#2a3f5f\"}, \"marker\": {\"line\": {\"color\": \"#E5ECF6\", \"width\": 0.5}}, \"type\": \"bar\"}], \"barpolar\": [{\"marker\": {\"line\": {\"color\": \"#E5ECF6\", \"width\": 0.5}}, \"type\": \"barpolar\"}], \"carpet\": [{\"aaxis\": {\"endlinecolor\": \"#2a3f5f\", \"gridcolor\": \"white\", \"linecolor\": \"white\", \"minorgridcolor\": \"white\", \"startlinecolor\": \"#2a3f5f\"}, \"baxis\": {\"endlinecolor\": \"#2a3f5f\", \"gridcolor\": \"white\", \"linecolor\": \"white\", \"minorgridcolor\": \"white\", \"startlinecolor\": \"#2a3f5f\"}, \"type\": \"carpet\"}], \"choropleth\": [{\"colorbar\": {\"outlinewidth\": 0, \"ticks\": \"\"}, \"type\": \"choropleth\"}], \"contour\": [{\"colorbar\": {\"outlinewidth\": 0, \"ticks\": \"\"}, \"colorscale\": [[0.0, \"#0d0887\"], [0.1111111111111111, \"#46039f\"], [0.2222222222222222, \"#7201a8\"], [0.3333333333333333, \"#9c179e\"], [0.4444444444444444, \"#bd3786\"], [0.5555555555555556, \"#d8576b\"], [0.6666666666666666, \"#ed7953\"], [0.7777777777777778, \"#fb9f3a\"], [0.8888888888888888, \"#fdca26\"], [1.0, \"#f0f921\"]], \"type\": \"contour\"}], \"contourcarpet\": [{\"colorbar\": {\"outlinewidth\": 0, \"ticks\": \"\"}, \"type\": \"contourcarpet\"}], \"heatmap\": [{\"colorbar\": {\"outlinewidth\": 0, \"ticks\": \"\"}, \"colorscale\": [[0.0, \"#0d0887\"], [0.1111111111111111, \"#46039f\"], [0.2222222222222222, \"#7201a8\"], [0.3333333333333333, \"#9c179e\"], [0.4444444444444444, \"#bd3786\"], [0.5555555555555556, \"#d8576b\"], [0.6666666666666666, \"#ed7953\"], [0.7777777777777778, \"#fb9f3a\"], [0.8888888888888888, \"#fdca26\"], [1.0, \"#f0f921\"]], \"type\": \"heatmap\"}], \"heatmapgl\": [{\"colorbar\": {\"outlinewidth\": 0, \"ticks\": \"\"}, \"colorscale\": [[0.0, \"#0d0887\"], [0.1111111111111111, \"#46039f\"], [0.2222222222222222, \"#7201a8\"], [0.3333333333333333, \"#9c179e\"], [0.4444444444444444, \"#bd3786\"], [0.5555555555555556, \"#d8576b\"], [0.6666666666666666, \"#ed7953\"], [0.7777777777777778, \"#fb9f3a\"], [0.8888888888888888, \"#fdca26\"], [1.0, \"#f0f921\"]], \"type\": \"heatmapgl\"}], \"histogram\": [{\"marker\": {\"colorbar\": {\"outlinewidth\": 0, \"ticks\": \"\"}}, \"type\": \"histogram\"}], \"histogram2d\": [{\"colorbar\": {\"outlinewidth\": 0, \"ticks\": \"\"}, \"colorscale\": [[0.0, \"#0d0887\"], [0.1111111111111111, \"#46039f\"], [0.2222222222222222, \"#7201a8\"], [0.3333333333333333, \"#9c179e\"], [0.4444444444444444, \"#bd3786\"], [0.5555555555555556, \"#d8576b\"], [0.6666666666666666, \"#ed7953\"], [0.7777777777777778, \"#fb9f3a\"], [0.8888888888888888, \"#fdca26\"], [1.0, \"#f0f921\"]], \"type\": \"histogram2d\"}], \"histogram2dcontour\": [{\"colorbar\": {\"outlinewidth\": 0, \"ticks\": \"\"}, \"colorscale\": [[0.0, \"#0d0887\"], [0.1111111111111111, \"#46039f\"], [0.2222222222222222, \"#7201a8\"], [0.3333333333333333, \"#9c179e\"], [0.4444444444444444, \"#bd3786\"], [0.5555555555555556, \"#d8576b\"], [0.6666666666666666, \"#ed7953\"], [0.7777777777777778, \"#fb9f3a\"], [0.8888888888888888, \"#fdca26\"], [1.0, \"#f0f921\"]], \"type\": \"histogram2dcontour\"}], \"mesh3d\": [{\"colorbar\": {\"outlinewidth\": 0, \"ticks\": \"\"}, \"type\": \"mesh3d\"}], \"parcoords\": [{\"line\": {\"colorbar\": {\"outlinewidth\": 0, \"ticks\": \"\"}}, \"type\": \"parcoords\"}], \"pie\": [{\"automargin\": true, \"type\": \"pie\"}], \"scatter\": [{\"marker\": {\"colorbar\": {\"outlinewidth\": 0, \"ticks\": \"\"}}, \"type\": \"scatter\"}], \"scatter3d\": [{\"line\": {\"colorbar\": {\"outlinewidth\": 0, \"ticks\": \"\"}}, \"marker\": {\"colorbar\": {\"outlinewidth\": 0, \"ticks\": \"\"}}, \"type\": \"scatter3d\"}], \"scattercarpet\": [{\"marker\": {\"colorbar\": {\"outlinewidth\": 0, \"ticks\": \"\"}}, \"type\": \"scattercarpet\"}], \"scattergeo\": [{\"marker\": {\"colorbar\": {\"outlinewidth\": 0, \"ticks\": \"\"}}, \"type\": \"scattergeo\"}], \"scattergl\": [{\"marker\": {\"colorbar\": {\"outlinewidth\": 0, \"ticks\": \"\"}}, \"type\": \"scattergl\"}], \"scattermapbox\": [{\"marker\": {\"colorbar\": {\"outlinewidth\": 0, \"ticks\": \"\"}}, \"type\": \"scattermapbox\"}], \"scatterpolar\": [{\"marker\": {\"colorbar\": {\"outlinewidth\": 0, \"ticks\": \"\"}}, \"type\": \"scatterpolar\"}], \"scatterpolargl\": [{\"marker\": {\"colorbar\": {\"outlinewidth\": 0, \"ticks\": \"\"}}, \"type\": \"scatterpolargl\"}], \"scatterternary\": [{\"marker\": {\"colorbar\": {\"outlinewidth\": 0, \"ticks\": \"\"}}, \"type\": \"scatterternary\"}], \"surface\": [{\"colorbar\": {\"outlinewidth\": 0, \"ticks\": \"\"}, \"colorscale\": [[0.0, \"#0d0887\"], [0.1111111111111111, \"#46039f\"], [0.2222222222222222, \"#7201a8\"], [0.3333333333333333, \"#9c179e\"], [0.4444444444444444, \"#bd3786\"], [0.5555555555555556, \"#d8576b\"], [0.6666666666666666, \"#ed7953\"], [0.7777777777777778, \"#fb9f3a\"], [0.8888888888888888, \"#fdca26\"], [1.0, \"#f0f921\"]], \"type\": \"surface\"}], \"table\": [{\"cells\": {\"fill\": {\"color\": \"#EBF0F8\"}, \"line\": {\"color\": \"white\"}}, \"header\": {\"fill\": {\"color\": \"#C8D4E3\"}, \"line\": {\"color\": \"white\"}}, \"type\": \"table\"}]}, \"layout\": {\"annotationdefaults\": {\"arrowcolor\": \"#2a3f5f\", \"arrowhead\": 0, \"arrowwidth\": 1}, \"coloraxis\": {\"colorbar\": {\"outlinewidth\": 0, \"ticks\": \"\"}}, \"colorscale\": {\"diverging\": [[0, \"#8e0152\"], [0.1, \"#c51b7d\"], [0.2, \"#de77ae\"], [0.3, \"#f1b6da\"], [0.4, \"#fde0ef\"], [0.5, \"#f7f7f7\"], [0.6, \"#e6f5d0\"], [0.7, \"#b8e186\"], [0.8, \"#7fbc41\"], [0.9, \"#4d9221\"], [1, \"#276419\"]], \"sequential\": [[0.0, \"#0d0887\"], [0.1111111111111111, \"#46039f\"], [0.2222222222222222, \"#7201a8\"], [0.3333333333333333, \"#9c179e\"], [0.4444444444444444, \"#bd3786\"], [0.5555555555555556, \"#d8576b\"], [0.6666666666666666, \"#ed7953\"], [0.7777777777777778, \"#fb9f3a\"], [0.8888888888888888, \"#fdca26\"], [1.0, \"#f0f921\"]], \"sequentialminus\": [[0.0, \"#0d0887\"], [0.1111111111111111, \"#46039f\"], [0.2222222222222222, \"#7201a8\"], [0.3333333333333333, \"#9c179e\"], [0.4444444444444444, \"#bd3786\"], [0.5555555555555556, \"#d8576b\"], [0.6666666666666666, \"#ed7953\"], [0.7777777777777778, \"#fb9f3a\"], [0.8888888888888888, \"#fdca26\"], [1.0, \"#f0f921\"]]}, \"colorway\": [\"#636efa\", \"#EF553B\", \"#00cc96\", \"#ab63fa\", \"#FFA15A\", \"#19d3f3\", \"#FF6692\", \"#B6E880\", \"#FF97FF\", \"#FECB52\"], \"font\": {\"color\": \"#2a3f5f\"}, \"geo\": {\"bgcolor\": \"white\", \"lakecolor\": \"white\", \"landcolor\": \"#E5ECF6\", \"showlakes\": true, \"showland\": true, \"subunitcolor\": \"white\"}, \"hoverlabel\": {\"align\": \"left\"}, \"hovermode\": \"closest\", \"mapbox\": {\"style\": \"light\"}, \"paper_bgcolor\": \"white\", \"plot_bgcolor\": \"#E5ECF6\", \"polar\": {\"angularaxis\": {\"gridcolor\": \"white\", \"linecolor\": \"white\", \"ticks\": \"\"}, \"bgcolor\": \"#E5ECF6\", \"radialaxis\": {\"gridcolor\": \"white\", \"linecolor\": \"white\", \"ticks\": \"\"}}, \"scene\": {\"xaxis\": {\"backgroundcolor\": \"#E5ECF6\", \"gridcolor\": \"white\", \"gridwidth\": 2, \"linecolor\": \"white\", \"showbackground\": true, \"ticks\": \"\", \"zerolinecolor\": \"white\"}, \"yaxis\": {\"backgroundcolor\": \"#E5ECF6\", \"gridcolor\": \"white\", \"gridwidth\": 2, \"linecolor\": \"white\", \"showbackground\": true, \"ticks\": \"\", \"zerolinecolor\": \"white\"}, \"zaxis\": {\"backgroundcolor\": \"#E5ECF6\", \"gridcolor\": \"white\", \"gridwidth\": 2, \"linecolor\": \"white\", \"showbackground\": true, \"ticks\": \"\", \"zerolinecolor\": \"white\"}}, \"shapedefaults\": {\"line\": {\"color\": \"#2a3f5f\"}}, \"ternary\": {\"aaxis\": {\"gridcolor\": \"white\", \"linecolor\": \"white\", \"ticks\": \"\"}, \"baxis\": {\"gridcolor\": \"white\", \"linecolor\": \"white\", \"ticks\": \"\"}, \"bgcolor\": \"#E5ECF6\", \"caxis\": {\"gridcolor\": \"white\", \"linecolor\": \"white\", \"ticks\": \"\"}}, \"title\": {\"x\": 0.05}, \"xaxis\": {\"automargin\": true, \"gridcolor\": \"white\", \"linecolor\": \"white\", \"ticks\": \"\", \"title\": {\"standoff\": 15}, \"zerolinecolor\": \"white\", \"zerolinewidth\": 2}, \"yaxis\": {\"automargin\": true, \"gridcolor\": \"white\", \"linecolor\": \"white\", \"ticks\": \"\", \"title\": {\"standoff\": 15}, \"zerolinecolor\": \"white\", \"zerolinewidth\": 2}}}, \"title\": {\"text\": \"Tophat time series without checks\"}},                        {\"responsive\": true}                    ).then(function(){\n                            \nvar gd = document.getElementById('34cc14f7-7278-4015-946d-c39dce1a804a');\nvar x = new MutationObserver(function (mutations, observer) {{\n        var display = window.getComputedStyle(gd).display;\n        if (!display || display === 'none') {{\n            console.log([gd, 'removed!']);\n            Plotly.purge(gd);\n            observer.disconnect();\n        }}\n}});\n\n// Listen for the removal of the full notebook cells\nvar notebookContainer = gd.closest('#notebook-container');\nif (notebookContainer) {{\n    x.observe(notebookContainer, {childList: true});\n}}\n\n// Listen for the clearing of the current output cell\nvar outputEl = gd.closest('.output');\nif (outputEl) {{\n    x.observe(outputEl, {childList: true});\n}}\n\n                        })                };                });            </script>        </div>"
     },
     "metadata": {},
     "output_type": "display_data"
    }
   ],
   "source": [
    "dis.MetricEvaluationPipeline(\n",
    "    _ts,\n",
    "    check_change_in_steady_state_long=False,\n",
    "    check_sudden_change=False,\n",
    "    check_outside_of_normal_range=False,\n",
    ").display_actionability_time_series(\n",
    "    title='Tophat time series without checks',\n",
    "    metric_name='Sales',\n",
    ")"
   ],
   "metadata": {
    "collapsed": false,
    "pycharm": {
     "name": "#%%\n"
    }
   }
  },
  {
   "cell_type": "code",
   "execution_count": 31,
   "outputs": [
    {
     "data": {
      "application/vnd.plotly.v1+json": {
       "config": {
        "plotlyServerURL": "https://plot.ly"
       },
       "data": [
        {
         "hoverinfo": "skip",
         "line": {
          "color": "lightgray",
          "dash": "dash"
         },
         "mode": "lines",
         "name": "Extraordinary",
         "showlegend": false,
         "type": "scatter",
         "x": [
          "1-08",
          "1-09",
          "1-10",
          "1-11",
          "1-12",
          "2-01",
          "2-02",
          "2-03",
          "2-04",
          "2-05",
          "2-06",
          "2-07",
          "2-08",
          "2-09",
          "2-10",
          "2-11",
          "2-12",
          "3-01",
          "3-02",
          "3-03",
          "3-04",
          "3-05",
          "3-06",
          "3-07",
          "3-08",
          "3-09",
          "3-10",
          "3-11",
          "3-12"
         ],
         "y": [
          397.69000000000005,
          387.84919444444444,
          390.14766666666674,
          468.61848181818186,
          497.63078787878794,
          475.16005769230776,
          464.11653846153854,
          463.1618333333334,
          466.98555,
          470.2133676470589,
          481.5850849673203,
          480.8418070175439,
          487.5490000000001,
          480.2085928571429,
          501.9901818181819,
          519.6052233201582,
          525.1799130434783,
          517.700375,
          530.3625846153847,
          541.1146652421653,
          555.322126984127,
          555.0520431034483,
          555.7543678160919,
          574.4436548387097,
          590.5361895161291,
          627.2252821969698,
          647.4477058823529,
          657.7008949579831,
          664.5978
         ]
        },
        {
         "hoverinfo": "skip",
         "line": {
          "color": "lightgray",
          "dash": "dash"
         },
         "mode": "lines",
         "name": "Actionably Good",
         "showlegend": false,
         "type": "scatter",
         "x": [
          "1-08",
          "1-09",
          "1-10",
          "1-11",
          "1-12",
          "2-01",
          "2-02",
          "2-03",
          "2-04",
          "2-05",
          "2-06",
          "2-07",
          "2-08",
          "2-09",
          "2-10",
          "2-11",
          "2-12",
          "3-01",
          "3-02",
          "3-03",
          "3-04",
          "3-05",
          "3-06",
          "3-07",
          "3-08",
          "3-09",
          "3-10",
          "3-11",
          "3-12"
         ],
         "y": [
          328.435,
          321.98094444444445,
          321.26844444444447,
          378.2183818181819,
          397.23996969696975,
          382.2041410256411,
          373.72769230769234,
          373.4723333333334,
          377.6716166666667,
          379.6736176470589,
          388.89190849673207,
          388.7910292397661,
          394.91100000000006,
          391.2914428571429,
          408.9661818181819,
          421.31217786561274,
          426.6616086956522,
          423.1429166666667,
          434.2301846153847,
          442.3110113960114,
          454.0992751322751,
          455.63929310344827,
          458.1140229885057,
          473.93555483870966,
          486.06683467741937,
          514.6158446969698,
          529.9200392156863,
          539.4834537815126,
          547.2651999999999
         ]
        },
        {
         "hoverinfo": "skip",
         "line": {
          "color": "lightgray",
          "dash": "dash"
         },
         "mode": "lines",
         "name": "normal_range_rolling_baseline",
         "showlegend": false,
         "type": "scatter",
         "x": [
          "1-08",
          "1-09",
          "1-10",
          "1-11",
          "1-12",
          "2-01",
          "2-02",
          "2-03",
          "2-04",
          "2-05",
          "2-06",
          "2-07",
          "2-08",
          "2-09",
          "2-10",
          "2-11",
          "2-12",
          "3-01",
          "3-02",
          "3-03",
          "3-04",
          "3-05",
          "3-06",
          "3-07",
          "3-08",
          "3-09",
          "3-10",
          "3-11",
          "3-12"
         ],
         "y": [
          189.925,
          190.24444444444444,
          183.51000000000002,
          197.41818181818186,
          196.45833333333337,
          196.29230769230773,
          192.95000000000005,
          194.09333333333336,
          199.04375000000002,
          198.59411764705885,
          203.5055555555556,
          204.68947368421055,
          209.63500000000005,
          213.45714285714288,
          222.91818181818186,
          224.72608695652178,
          229.625,
          234.028,
          241.9653846153846,
          244.70370370370367,
          251.6535714285714,
          256.81379310344823,
          262.8333333333333,
          272.9193548387097,
          277.128125,
          289.39696969696973,
          294.86470588235295,
          303.0485714285714,
          312.59999999999997
         ]
        },
        {
         "hoverinfo": "skip",
         "line": {
          "color": "lightgray",
          "dash": "dash"
         },
         "mode": "lines",
         "name": "Actionably Bad",
         "showlegend": false,
         "type": "scatter",
         "x": [
          "1-08",
          "1-09",
          "1-10",
          "1-11",
          "1-12",
          "2-01",
          "2-02",
          "2-03",
          "2-04",
          "2-05",
          "2-06",
          "2-07",
          "2-08",
          "2-09",
          "2-10",
          "2-11",
          "2-12",
          "3-01",
          "3-02",
          "3-03",
          "3-04",
          "3-05",
          "3-06",
          "3-07",
          "3-08",
          "3-09",
          "3-10",
          "3-11",
          "3-12"
         ],
         "y": [
          51.41500000000002,
          58.50794444444443,
          45.75155555555557,
          16.617981818181846,
          -4.323303030303009,
          10.380474358974396,
          12.172307692307726,
          14.714333333333371,
          20.41588333333334,
          17.514617647058827,
          18.119202614379134,
          20.58791812865499,
          24.35900000000001,
          35.62284285714287,
          36.870181818181834,
          28.139996047430856,
          32.588391304347795,
          44.913083333333276,
          49.70058461538454,
          47.09639601139594,
          49.2078677248677,
          57.9882931034482,
          67.5526436781609,
          71.9031548387097,
          68.18941532258066,
          64.17809469696971,
          59.80937254901963,
          66.61368907563022,
          77.93479999999997
         ]
        },
        {
         "hoverinfo": "skip",
         "line": {
          "color": "lightgray",
          "dash": "dash"
         },
         "mode": "lines",
         "name": "Crisis",
         "showlegend": false,
         "type": "scatter",
         "x": [
          "1-08",
          "1-09",
          "1-10",
          "1-11",
          "1-12",
          "2-01",
          "2-02",
          "2-03",
          "2-04",
          "2-05",
          "2-06",
          "2-07",
          "2-08",
          "2-09",
          "2-10",
          "2-11",
          "2-12",
          "3-01",
          "3-02",
          "3-03",
          "3-04",
          "3-05",
          "3-06",
          "3-07",
          "3-08",
          "3-09",
          "3-10",
          "3-11",
          "3-12"
         ],
         "y": [
          -17.840000000000003,
          -7.360305555555556,
          -23.12766666666667,
          -73.78211818181816,
          -104.7141212121212,
          -82.57544230769227,
          -78.21653846153845,
          -74.97516666666667,
          -68.89804999999998,
          -73.02513235294117,
          -74.57397385620914,
          -71.46285964912278,
          -68.279,
          -53.29430714285715,
          -56.153818181818195,
          -70.15304940711462,
          -65.92991304347834,
          -49.64437500000005,
          -46.43181538461545,
          -51.70725783475794,
          -52.01498412698419,
          -41.42445689655182,
          -30.0877011494253,
          -28.60494516129029,
          -36.27993951612905,
          -48.431342803030304,
          -57.71829411764702,
          -51.60375210084038,
          -39.397800000000075
         ]
        },
        {
         "hoverinfo": "text",
         "hovertext": [
          "<b>Actionably Good</b><br>Metric is <b>high</b> compared with historical ranges.",
          "<b>Actionably Good</b><br>Metric is <b>high</b> compared with historical ranges.",
          "<b>Extraordinary</b><br>Metric is <b>high</b> compared with historical ranges.",
          "<b>Extraordinary</b><br>Metric is <b>high</b> compared with historical ranges.",
          "<b>Actionably Good</b><br>Metric is <b>high</b> compared with historical ranges.",
          "<b>Actionably Good</b><br>Metric is <b>high</b> compared with historical ranges."
         ],
         "marker": {
          "color": [
           "rgb(161,217,155)",
           "rgb(161,217,155)",
           "rgb(35,139,69)",
           "rgb(35,139,69)",
           "rgb(116,196,118)",
           "rgb(65,171,93)"
          ],
          "size": 10
         },
         "mode": "markers",
         "name": "Actionability",
         "showlegend": false,
         "type": "scatter",
         "x": [
          "2-10",
          "3-02",
          "3-07",
          "3-09",
          "3-11",
          "3-12"
         ],
         "y": [
          421.6,
          440.4,
          575.5,
          682.0,
          581.3,
          646.9
         ]
        },
        {
         "hoverinfo": "skip",
         "marker": {
          "color": [
           "lightgray",
           "lightgray",
           "lightgray"
          ],
          "size": 10
         },
         "mode": "markers",
         "name": "Historical Alerts",
         "showlegend": false,
         "type": "scatter",
         "x": [
          "2-10",
          "3-02",
          "3-07"
         ],
         "y": [
          421.6,
          440.4,
          575.5
         ]
        },
        {
         "line": {
          "color": "gray",
          "width": 4
         },
         "mode": "lines",
         "name": "Sales",
         "showlegend": false,
         "type": "scatter",
         "x": [
          "1-08",
          "1-09",
          "1-10",
          "1-11",
          "1-12",
          "2-01",
          "2-02",
          "2-03",
          "2-04",
          "2-05",
          "2-06",
          "2-07",
          "2-08",
          "2-09",
          "2-10",
          "2-11",
          "2-12",
          "3-01",
          "3-02",
          "3-03",
          "3-04",
          "3-05",
          "3-06",
          "3-07",
          "3-08",
          "3-09",
          "3-10",
          "3-11",
          "3-12"
         ],
         "y": [
          224.5,
          192.8,
          122.9,
          336.5,
          185.9,
          194.3,
          149.5,
          210.1,
          273.3,
          191.4,
          287.0,
          226.0,
          303.6,
          289.9,
          421.6,
          264.5,
          342.3,
          339.7,
          440.4,
          315.9,
          439.3,
          401.3,
          437.4,
          575.5,
          407.6,
          682.0,
          475.3,
          581.3,
          646.9
         ]
        }
       ],
       "layout": {
        "hovermode": "x",
        "paper_bgcolor": "rgba(0,0,0,0)",
        "plot_bgcolor": "rgba(0,0,0,0)",
        "template": {
         "data": {
          "bar": [
           {
            "error_x": {
             "color": "#2a3f5f"
            },
            "error_y": {
             "color": "#2a3f5f"
            },
            "marker": {
             "line": {
              "color": "#E5ECF6",
              "width": 0.5
             }
            },
            "type": "bar"
           }
          ],
          "barpolar": [
           {
            "marker": {
             "line": {
              "color": "#E5ECF6",
              "width": 0.5
             }
            },
            "type": "barpolar"
           }
          ],
          "carpet": [
           {
            "aaxis": {
             "endlinecolor": "#2a3f5f",
             "gridcolor": "white",
             "linecolor": "white",
             "minorgridcolor": "white",
             "startlinecolor": "#2a3f5f"
            },
            "baxis": {
             "endlinecolor": "#2a3f5f",
             "gridcolor": "white",
             "linecolor": "white",
             "minorgridcolor": "white",
             "startlinecolor": "#2a3f5f"
            },
            "type": "carpet"
           }
          ],
          "choropleth": [
           {
            "colorbar": {
             "outlinewidth": 0,
             "ticks": ""
            },
            "type": "choropleth"
           }
          ],
          "contour": [
           {
            "colorbar": {
             "outlinewidth": 0,
             "ticks": ""
            },
            "colorscale": [
             [
              0.0,
              "#0d0887"
             ],
             [
              0.1111111111111111,
              "#46039f"
             ],
             [
              0.2222222222222222,
              "#7201a8"
             ],
             [
              0.3333333333333333,
              "#9c179e"
             ],
             [
              0.4444444444444444,
              "#bd3786"
             ],
             [
              0.5555555555555556,
              "#d8576b"
             ],
             [
              0.6666666666666666,
              "#ed7953"
             ],
             [
              0.7777777777777778,
              "#fb9f3a"
             ],
             [
              0.8888888888888888,
              "#fdca26"
             ],
             [
              1.0,
              "#f0f921"
             ]
            ],
            "type": "contour"
           }
          ],
          "contourcarpet": [
           {
            "colorbar": {
             "outlinewidth": 0,
             "ticks": ""
            },
            "type": "contourcarpet"
           }
          ],
          "heatmap": [
           {
            "colorbar": {
             "outlinewidth": 0,
             "ticks": ""
            },
            "colorscale": [
             [
              0.0,
              "#0d0887"
             ],
             [
              0.1111111111111111,
              "#46039f"
             ],
             [
              0.2222222222222222,
              "#7201a8"
             ],
             [
              0.3333333333333333,
              "#9c179e"
             ],
             [
              0.4444444444444444,
              "#bd3786"
             ],
             [
              0.5555555555555556,
              "#d8576b"
             ],
             [
              0.6666666666666666,
              "#ed7953"
             ],
             [
              0.7777777777777778,
              "#fb9f3a"
             ],
             [
              0.8888888888888888,
              "#fdca26"
             ],
             [
              1.0,
              "#f0f921"
             ]
            ],
            "type": "heatmap"
           }
          ],
          "heatmapgl": [
           {
            "colorbar": {
             "outlinewidth": 0,
             "ticks": ""
            },
            "colorscale": [
             [
              0.0,
              "#0d0887"
             ],
             [
              0.1111111111111111,
              "#46039f"
             ],
             [
              0.2222222222222222,
              "#7201a8"
             ],
             [
              0.3333333333333333,
              "#9c179e"
             ],
             [
              0.4444444444444444,
              "#bd3786"
             ],
             [
              0.5555555555555556,
              "#d8576b"
             ],
             [
              0.6666666666666666,
              "#ed7953"
             ],
             [
              0.7777777777777778,
              "#fb9f3a"
             ],
             [
              0.8888888888888888,
              "#fdca26"
             ],
             [
              1.0,
              "#f0f921"
             ]
            ],
            "type": "heatmapgl"
           }
          ],
          "histogram": [
           {
            "marker": {
             "colorbar": {
              "outlinewidth": 0,
              "ticks": ""
             }
            },
            "type": "histogram"
           }
          ],
          "histogram2d": [
           {
            "colorbar": {
             "outlinewidth": 0,
             "ticks": ""
            },
            "colorscale": [
             [
              0.0,
              "#0d0887"
             ],
             [
              0.1111111111111111,
              "#46039f"
             ],
             [
              0.2222222222222222,
              "#7201a8"
             ],
             [
              0.3333333333333333,
              "#9c179e"
             ],
             [
              0.4444444444444444,
              "#bd3786"
             ],
             [
              0.5555555555555556,
              "#d8576b"
             ],
             [
              0.6666666666666666,
              "#ed7953"
             ],
             [
              0.7777777777777778,
              "#fb9f3a"
             ],
             [
              0.8888888888888888,
              "#fdca26"
             ],
             [
              1.0,
              "#f0f921"
             ]
            ],
            "type": "histogram2d"
           }
          ],
          "histogram2dcontour": [
           {
            "colorbar": {
             "outlinewidth": 0,
             "ticks": ""
            },
            "colorscale": [
             [
              0.0,
              "#0d0887"
             ],
             [
              0.1111111111111111,
              "#46039f"
             ],
             [
              0.2222222222222222,
              "#7201a8"
             ],
             [
              0.3333333333333333,
              "#9c179e"
             ],
             [
              0.4444444444444444,
              "#bd3786"
             ],
             [
              0.5555555555555556,
              "#d8576b"
             ],
             [
              0.6666666666666666,
              "#ed7953"
             ],
             [
              0.7777777777777778,
              "#fb9f3a"
             ],
             [
              0.8888888888888888,
              "#fdca26"
             ],
             [
              1.0,
              "#f0f921"
             ]
            ],
            "type": "histogram2dcontour"
           }
          ],
          "mesh3d": [
           {
            "colorbar": {
             "outlinewidth": 0,
             "ticks": ""
            },
            "type": "mesh3d"
           }
          ],
          "parcoords": [
           {
            "line": {
             "colorbar": {
              "outlinewidth": 0,
              "ticks": ""
             }
            },
            "type": "parcoords"
           }
          ],
          "pie": [
           {
            "automargin": true,
            "type": "pie"
           }
          ],
          "scatter": [
           {
            "marker": {
             "colorbar": {
              "outlinewidth": 0,
              "ticks": ""
             }
            },
            "type": "scatter"
           }
          ],
          "scatter3d": [
           {
            "line": {
             "colorbar": {
              "outlinewidth": 0,
              "ticks": ""
             }
            },
            "marker": {
             "colorbar": {
              "outlinewidth": 0,
              "ticks": ""
             }
            },
            "type": "scatter3d"
           }
          ],
          "scattercarpet": [
           {
            "marker": {
             "colorbar": {
              "outlinewidth": 0,
              "ticks": ""
             }
            },
            "type": "scattercarpet"
           }
          ],
          "scattergeo": [
           {
            "marker": {
             "colorbar": {
              "outlinewidth": 0,
              "ticks": ""
             }
            },
            "type": "scattergeo"
           }
          ],
          "scattergl": [
           {
            "marker": {
             "colorbar": {
              "outlinewidth": 0,
              "ticks": ""
             }
            },
            "type": "scattergl"
           }
          ],
          "scattermapbox": [
           {
            "marker": {
             "colorbar": {
              "outlinewidth": 0,
              "ticks": ""
             }
            },
            "type": "scattermapbox"
           }
          ],
          "scatterpolar": [
           {
            "marker": {
             "colorbar": {
              "outlinewidth": 0,
              "ticks": ""
             }
            },
            "type": "scatterpolar"
           }
          ],
          "scatterpolargl": [
           {
            "marker": {
             "colorbar": {
              "outlinewidth": 0,
              "ticks": ""
             }
            },
            "type": "scatterpolargl"
           }
          ],
          "scatterternary": [
           {
            "marker": {
             "colorbar": {
              "outlinewidth": 0,
              "ticks": ""
             }
            },
            "type": "scatterternary"
           }
          ],
          "surface": [
           {
            "colorbar": {
             "outlinewidth": 0,
             "ticks": ""
            },
            "colorscale": [
             [
              0.0,
              "#0d0887"
             ],
             [
              0.1111111111111111,
              "#46039f"
             ],
             [
              0.2222222222222222,
              "#7201a8"
             ],
             [
              0.3333333333333333,
              "#9c179e"
             ],
             [
              0.4444444444444444,
              "#bd3786"
             ],
             [
              0.5555555555555556,
              "#d8576b"
             ],
             [
              0.6666666666666666,
              "#ed7953"
             ],
             [
              0.7777777777777778,
              "#fb9f3a"
             ],
             [
              0.8888888888888888,
              "#fdca26"
             ],
             [
              1.0,
              "#f0f921"
             ]
            ],
            "type": "surface"
           }
          ],
          "table": [
           {
            "cells": {
             "fill": {
              "color": "#EBF0F8"
             },
             "line": {
              "color": "white"
             }
            },
            "header": {
             "fill": {
              "color": "#C8D4E3"
             },
             "line": {
              "color": "white"
             }
            },
            "type": "table"
           }
          ]
         },
         "layout": {
          "annotationdefaults": {
           "arrowcolor": "#2a3f5f",
           "arrowhead": 0,
           "arrowwidth": 1
          },
          "coloraxis": {
           "colorbar": {
            "outlinewidth": 0,
            "ticks": ""
           }
          },
          "colorscale": {
           "diverging": [
            [
             0,
             "#8e0152"
            ],
            [
             0.1,
             "#c51b7d"
            ],
            [
             0.2,
             "#de77ae"
            ],
            [
             0.3,
             "#f1b6da"
            ],
            [
             0.4,
             "#fde0ef"
            ],
            [
             0.5,
             "#f7f7f7"
            ],
            [
             0.6,
             "#e6f5d0"
            ],
            [
             0.7,
             "#b8e186"
            ],
            [
             0.8,
             "#7fbc41"
            ],
            [
             0.9,
             "#4d9221"
            ],
            [
             1,
             "#276419"
            ]
           ],
           "sequential": [
            [
             0.0,
             "#0d0887"
            ],
            [
             0.1111111111111111,
             "#46039f"
            ],
            [
             0.2222222222222222,
             "#7201a8"
            ],
            [
             0.3333333333333333,
             "#9c179e"
            ],
            [
             0.4444444444444444,
             "#bd3786"
            ],
            [
             0.5555555555555556,
             "#d8576b"
            ],
            [
             0.6666666666666666,
             "#ed7953"
            ],
            [
             0.7777777777777778,
             "#fb9f3a"
            ],
            [
             0.8888888888888888,
             "#fdca26"
            ],
            [
             1.0,
             "#f0f921"
            ]
           ],
           "sequentialminus": [
            [
             0.0,
             "#0d0887"
            ],
            [
             0.1111111111111111,
             "#46039f"
            ],
            [
             0.2222222222222222,
             "#7201a8"
            ],
            [
             0.3333333333333333,
             "#9c179e"
            ],
            [
             0.4444444444444444,
             "#bd3786"
            ],
            [
             0.5555555555555556,
             "#d8576b"
            ],
            [
             0.6666666666666666,
             "#ed7953"
            ],
            [
             0.7777777777777778,
             "#fb9f3a"
            ],
            [
             0.8888888888888888,
             "#fdca26"
            ],
            [
             1.0,
             "#f0f921"
            ]
           ]
          },
          "colorway": [
           "#636efa",
           "#EF553B",
           "#00cc96",
           "#ab63fa",
           "#FFA15A",
           "#19d3f3",
           "#FF6692",
           "#B6E880",
           "#FF97FF",
           "#FECB52"
          ],
          "font": {
           "color": "#2a3f5f"
          },
          "geo": {
           "bgcolor": "white",
           "lakecolor": "white",
           "landcolor": "#E5ECF6",
           "showlakes": true,
           "showland": true,
           "subunitcolor": "white"
          },
          "hoverlabel": {
           "align": "left"
          },
          "hovermode": "closest",
          "mapbox": {
           "style": "light"
          },
          "paper_bgcolor": "white",
          "plot_bgcolor": "#E5ECF6",
          "polar": {
           "angularaxis": {
            "gridcolor": "white",
            "linecolor": "white",
            "ticks": ""
           },
           "bgcolor": "#E5ECF6",
           "radialaxis": {
            "gridcolor": "white",
            "linecolor": "white",
            "ticks": ""
           }
          },
          "scene": {
           "xaxis": {
            "backgroundcolor": "#E5ECF6",
            "gridcolor": "white",
            "gridwidth": 2,
            "linecolor": "white",
            "showbackground": true,
            "ticks": "",
            "zerolinecolor": "white"
           },
           "yaxis": {
            "backgroundcolor": "#E5ECF6",
            "gridcolor": "white",
            "gridwidth": 2,
            "linecolor": "white",
            "showbackground": true,
            "ticks": "",
            "zerolinecolor": "white"
           },
           "zaxis": {
            "backgroundcolor": "#E5ECF6",
            "gridcolor": "white",
            "gridwidth": 2,
            "linecolor": "white",
            "showbackground": true,
            "ticks": "",
            "zerolinecolor": "white"
           }
          },
          "shapedefaults": {
           "line": {
            "color": "#2a3f5f"
           }
          },
          "ternary": {
           "aaxis": {
            "gridcolor": "white",
            "linecolor": "white",
            "ticks": ""
           },
           "baxis": {
            "gridcolor": "white",
            "linecolor": "white",
            "ticks": ""
           },
           "bgcolor": "#E5ECF6",
           "caxis": {
            "gridcolor": "white",
            "linecolor": "white",
            "ticks": ""
           }
          },
          "title": {
           "x": 0.05
          },
          "xaxis": {
           "automargin": true,
           "gridcolor": "white",
           "linecolor": "white",
           "ticks": "",
           "title": {
            "standoff": 15
           },
           "zerolinecolor": "white",
           "zerolinewidth": 2
          },
          "yaxis": {
           "automargin": true,
           "gridcolor": "white",
           "linecolor": "white",
           "ticks": "",
           "title": {
            "standoff": 15
           },
           "zerolinecolor": "white",
           "zerolinewidth": 2
          }
         }
        },
        "title": {
         "text": "Tophat time series with checks"
        }
       }
      },
      "text/html": "<div>                            <div id=\"2bc09185-0e2f-4ba4-8f22-502d5f8faae9\" class=\"plotly-graph-div\" style=\"height:525px; width:100%;\"></div>            <script type=\"text/javascript\">                require([\"plotly\"], function(Plotly) {                    window.PLOTLYENV=window.PLOTLYENV || {};                                    if (document.getElementById(\"2bc09185-0e2f-4ba4-8f22-502d5f8faae9\")) {                    Plotly.newPlot(                        \"2bc09185-0e2f-4ba4-8f22-502d5f8faae9\",                        [{\"hoverinfo\": \"skip\", \"line\": {\"color\": \"lightgray\", \"dash\": \"dash\"}, \"mode\": \"lines\", \"name\": \"Extraordinary\", \"showlegend\": false, \"type\": \"scatter\", \"x\": [\"1-08\", \"1-09\", \"1-10\", \"1-11\", \"1-12\", \"2-01\", \"2-02\", \"2-03\", \"2-04\", \"2-05\", \"2-06\", \"2-07\", \"2-08\", \"2-09\", \"2-10\", \"2-11\", \"2-12\", \"3-01\", \"3-02\", \"3-03\", \"3-04\", \"3-05\", \"3-06\", \"3-07\", \"3-08\", \"3-09\", \"3-10\", \"3-11\", \"3-12\"], \"y\": [397.69000000000005, 387.84919444444444, 390.14766666666674, 468.61848181818186, 497.63078787878794, 475.16005769230776, 464.11653846153854, 463.1618333333334, 466.98555, 470.2133676470589, 481.5850849673203, 480.8418070175439, 487.5490000000001, 480.2085928571429, 501.9901818181819, 519.6052233201582, 525.1799130434783, 517.700375, 530.3625846153847, 541.1146652421653, 555.322126984127, 555.0520431034483, 555.7543678160919, 574.4436548387097, 590.5361895161291, 627.2252821969698, 647.4477058823529, 657.7008949579831, 664.5978]}, {\"hoverinfo\": \"skip\", \"line\": {\"color\": \"lightgray\", \"dash\": \"dash\"}, \"mode\": \"lines\", \"name\": \"Actionably Good\", \"showlegend\": false, \"type\": \"scatter\", \"x\": [\"1-08\", \"1-09\", \"1-10\", \"1-11\", \"1-12\", \"2-01\", \"2-02\", \"2-03\", \"2-04\", \"2-05\", \"2-06\", \"2-07\", \"2-08\", \"2-09\", \"2-10\", \"2-11\", \"2-12\", \"3-01\", \"3-02\", \"3-03\", \"3-04\", \"3-05\", \"3-06\", \"3-07\", \"3-08\", \"3-09\", \"3-10\", \"3-11\", \"3-12\"], \"y\": [328.435, 321.98094444444445, 321.26844444444447, 378.2183818181819, 397.23996969696975, 382.2041410256411, 373.72769230769234, 373.4723333333334, 377.6716166666667, 379.6736176470589, 388.89190849673207, 388.7910292397661, 394.91100000000006, 391.2914428571429, 408.9661818181819, 421.31217786561274, 426.6616086956522, 423.1429166666667, 434.2301846153847, 442.3110113960114, 454.0992751322751, 455.63929310344827, 458.1140229885057, 473.93555483870966, 486.06683467741937, 514.6158446969698, 529.9200392156863, 539.4834537815126, 547.2651999999999]}, {\"hoverinfo\": \"skip\", \"line\": {\"color\": \"lightgray\", \"dash\": \"dash\"}, \"mode\": \"lines\", \"name\": \"normal_range_rolling_baseline\", \"showlegend\": false, \"type\": \"scatter\", \"x\": [\"1-08\", \"1-09\", \"1-10\", \"1-11\", \"1-12\", \"2-01\", \"2-02\", \"2-03\", \"2-04\", \"2-05\", \"2-06\", \"2-07\", \"2-08\", \"2-09\", \"2-10\", \"2-11\", \"2-12\", \"3-01\", \"3-02\", \"3-03\", \"3-04\", \"3-05\", \"3-06\", \"3-07\", \"3-08\", \"3-09\", \"3-10\", \"3-11\", \"3-12\"], \"y\": [189.925, 190.24444444444444, 183.51000000000002, 197.41818181818186, 196.45833333333337, 196.29230769230773, 192.95000000000005, 194.09333333333336, 199.04375000000002, 198.59411764705885, 203.5055555555556, 204.68947368421055, 209.63500000000005, 213.45714285714288, 222.91818181818186, 224.72608695652178, 229.625, 234.028, 241.9653846153846, 244.70370370370367, 251.6535714285714, 256.81379310344823, 262.8333333333333, 272.9193548387097, 277.128125, 289.39696969696973, 294.86470588235295, 303.0485714285714, 312.59999999999997]}, {\"hoverinfo\": \"skip\", \"line\": {\"color\": \"lightgray\", \"dash\": \"dash\"}, \"mode\": \"lines\", \"name\": \"Actionably Bad\", \"showlegend\": false, \"type\": \"scatter\", \"x\": [\"1-08\", \"1-09\", \"1-10\", \"1-11\", \"1-12\", \"2-01\", \"2-02\", \"2-03\", \"2-04\", \"2-05\", \"2-06\", \"2-07\", \"2-08\", \"2-09\", \"2-10\", \"2-11\", \"2-12\", \"3-01\", \"3-02\", \"3-03\", \"3-04\", \"3-05\", \"3-06\", \"3-07\", \"3-08\", \"3-09\", \"3-10\", \"3-11\", \"3-12\"], \"y\": [51.41500000000002, 58.50794444444443, 45.75155555555557, 16.617981818181846, -4.323303030303009, 10.380474358974396, 12.172307692307726, 14.714333333333371, 20.41588333333334, 17.514617647058827, 18.119202614379134, 20.58791812865499, 24.35900000000001, 35.62284285714287, 36.870181818181834, 28.139996047430856, 32.588391304347795, 44.913083333333276, 49.70058461538454, 47.09639601139594, 49.2078677248677, 57.9882931034482, 67.5526436781609, 71.9031548387097, 68.18941532258066, 64.17809469696971, 59.80937254901963, 66.61368907563022, 77.93479999999997]}, {\"hoverinfo\": \"skip\", \"line\": {\"color\": \"lightgray\", \"dash\": \"dash\"}, \"mode\": \"lines\", \"name\": \"Crisis\", \"showlegend\": false, \"type\": \"scatter\", \"x\": [\"1-08\", \"1-09\", \"1-10\", \"1-11\", \"1-12\", \"2-01\", \"2-02\", \"2-03\", \"2-04\", \"2-05\", \"2-06\", \"2-07\", \"2-08\", \"2-09\", \"2-10\", \"2-11\", \"2-12\", \"3-01\", \"3-02\", \"3-03\", \"3-04\", \"3-05\", \"3-06\", \"3-07\", \"3-08\", \"3-09\", \"3-10\", \"3-11\", \"3-12\"], \"y\": [-17.840000000000003, -7.360305555555556, -23.12766666666667, -73.78211818181816, -104.7141212121212, -82.57544230769227, -78.21653846153845, -74.97516666666667, -68.89804999999998, -73.02513235294117, -74.57397385620914, -71.46285964912278, -68.279, -53.29430714285715, -56.153818181818195, -70.15304940711462, -65.92991304347834, -49.64437500000005, -46.43181538461545, -51.70725783475794, -52.01498412698419, -41.42445689655182, -30.0877011494253, -28.60494516129029, -36.27993951612905, -48.431342803030304, -57.71829411764702, -51.60375210084038, -39.397800000000075]}, {\"hoverinfo\": \"text\", \"hovertext\": [\"<b>Actionably Good</b><br>Metric is <b>high</b> compared with historical ranges.\", \"<b>Actionably Good</b><br>Metric is <b>high</b> compared with historical ranges.\", \"<b>Extraordinary</b><br>Metric is <b>high</b> compared with historical ranges.\", \"<b>Extraordinary</b><br>Metric is <b>high</b> compared with historical ranges.\", \"<b>Actionably Good</b><br>Metric is <b>high</b> compared with historical ranges.\", \"<b>Actionably Good</b><br>Metric is <b>high</b> compared with historical ranges.\"], \"marker\": {\"color\": [\"rgb(161,217,155)\", \"rgb(161,217,155)\", \"rgb(35,139,69)\", \"rgb(35,139,69)\", \"rgb(116,196,118)\", \"rgb(65,171,93)\"], \"size\": 10}, \"mode\": \"markers\", \"name\": \"Actionability\", \"showlegend\": false, \"type\": \"scatter\", \"x\": [\"2-10\", \"3-02\", \"3-07\", \"3-09\", \"3-11\", \"3-12\"], \"y\": [421.6, 440.4, 575.5, 682.0, 581.3, 646.9]}, {\"hoverinfo\": \"skip\", \"marker\": {\"color\": [\"lightgray\", \"lightgray\", \"lightgray\"], \"size\": 10}, \"mode\": \"markers\", \"name\": \"Historical Alerts\", \"showlegend\": false, \"type\": \"scatter\", \"x\": [\"2-10\", \"3-02\", \"3-07\"], \"y\": [421.6, 440.4, 575.5]}, {\"line\": {\"color\": \"gray\", \"width\": 4}, \"mode\": \"lines\", \"name\": \"Sales\", \"showlegend\": false, \"type\": \"scatter\", \"x\": [\"1-08\", \"1-09\", \"1-10\", \"1-11\", \"1-12\", \"2-01\", \"2-02\", \"2-03\", \"2-04\", \"2-05\", \"2-06\", \"2-07\", \"2-08\", \"2-09\", \"2-10\", \"2-11\", \"2-12\", \"3-01\", \"3-02\", \"3-03\", \"3-04\", \"3-05\", \"3-06\", \"3-07\", \"3-08\", \"3-09\", \"3-10\", \"3-11\", \"3-12\"], \"y\": [224.5, 192.8, 122.9, 336.5, 185.9, 194.3, 149.5, 210.1, 273.3, 191.4, 287.0, 226.0, 303.6, 289.9, 421.6, 264.5, 342.3, 339.7, 440.4, 315.9, 439.3, 401.3, 437.4, 575.5, 407.6, 682.0, 475.3, 581.3, 646.9]}],                        {\"hovermode\": \"x\", \"paper_bgcolor\": \"rgba(0,0,0,0)\", \"plot_bgcolor\": \"rgba(0,0,0,0)\", \"template\": {\"data\": {\"bar\": [{\"error_x\": {\"color\": \"#2a3f5f\"}, \"error_y\": {\"color\": \"#2a3f5f\"}, \"marker\": {\"line\": {\"color\": \"#E5ECF6\", \"width\": 0.5}}, \"type\": \"bar\"}], \"barpolar\": [{\"marker\": {\"line\": {\"color\": \"#E5ECF6\", \"width\": 0.5}}, \"type\": \"barpolar\"}], \"carpet\": [{\"aaxis\": {\"endlinecolor\": \"#2a3f5f\", \"gridcolor\": \"white\", \"linecolor\": \"white\", \"minorgridcolor\": \"white\", \"startlinecolor\": \"#2a3f5f\"}, \"baxis\": {\"endlinecolor\": \"#2a3f5f\", \"gridcolor\": \"white\", \"linecolor\": \"white\", \"minorgridcolor\": \"white\", \"startlinecolor\": \"#2a3f5f\"}, \"type\": \"carpet\"}], \"choropleth\": [{\"colorbar\": {\"outlinewidth\": 0, \"ticks\": \"\"}, \"type\": \"choropleth\"}], \"contour\": [{\"colorbar\": {\"outlinewidth\": 0, \"ticks\": \"\"}, \"colorscale\": [[0.0, \"#0d0887\"], [0.1111111111111111, \"#46039f\"], [0.2222222222222222, \"#7201a8\"], [0.3333333333333333, \"#9c179e\"], [0.4444444444444444, \"#bd3786\"], [0.5555555555555556, \"#d8576b\"], [0.6666666666666666, \"#ed7953\"], [0.7777777777777778, \"#fb9f3a\"], [0.8888888888888888, \"#fdca26\"], [1.0, \"#f0f921\"]], \"type\": \"contour\"}], \"contourcarpet\": [{\"colorbar\": {\"outlinewidth\": 0, \"ticks\": \"\"}, \"type\": \"contourcarpet\"}], \"heatmap\": [{\"colorbar\": {\"outlinewidth\": 0, \"ticks\": \"\"}, \"colorscale\": [[0.0, \"#0d0887\"], [0.1111111111111111, \"#46039f\"], [0.2222222222222222, \"#7201a8\"], [0.3333333333333333, \"#9c179e\"], [0.4444444444444444, \"#bd3786\"], [0.5555555555555556, \"#d8576b\"], [0.6666666666666666, \"#ed7953\"], [0.7777777777777778, \"#fb9f3a\"], [0.8888888888888888, \"#fdca26\"], [1.0, \"#f0f921\"]], \"type\": \"heatmap\"}], \"heatmapgl\": [{\"colorbar\": {\"outlinewidth\": 0, \"ticks\": \"\"}, \"colorscale\": [[0.0, \"#0d0887\"], [0.1111111111111111, \"#46039f\"], [0.2222222222222222, \"#7201a8\"], [0.3333333333333333, \"#9c179e\"], [0.4444444444444444, \"#bd3786\"], [0.5555555555555556, \"#d8576b\"], [0.6666666666666666, \"#ed7953\"], [0.7777777777777778, \"#fb9f3a\"], [0.8888888888888888, \"#fdca26\"], [1.0, \"#f0f921\"]], \"type\": \"heatmapgl\"}], \"histogram\": [{\"marker\": {\"colorbar\": {\"outlinewidth\": 0, \"ticks\": \"\"}}, \"type\": \"histogram\"}], \"histogram2d\": [{\"colorbar\": {\"outlinewidth\": 0, \"ticks\": \"\"}, \"colorscale\": [[0.0, \"#0d0887\"], [0.1111111111111111, \"#46039f\"], [0.2222222222222222, \"#7201a8\"], [0.3333333333333333, \"#9c179e\"], [0.4444444444444444, \"#bd3786\"], [0.5555555555555556, \"#d8576b\"], [0.6666666666666666, \"#ed7953\"], [0.7777777777777778, \"#fb9f3a\"], [0.8888888888888888, \"#fdca26\"], [1.0, \"#f0f921\"]], \"type\": \"histogram2d\"}], \"histogram2dcontour\": [{\"colorbar\": {\"outlinewidth\": 0, \"ticks\": \"\"}, \"colorscale\": [[0.0, \"#0d0887\"], [0.1111111111111111, \"#46039f\"], [0.2222222222222222, \"#7201a8\"], [0.3333333333333333, \"#9c179e\"], [0.4444444444444444, \"#bd3786\"], [0.5555555555555556, \"#d8576b\"], [0.6666666666666666, \"#ed7953\"], [0.7777777777777778, \"#fb9f3a\"], [0.8888888888888888, \"#fdca26\"], [1.0, \"#f0f921\"]], \"type\": \"histogram2dcontour\"}], \"mesh3d\": [{\"colorbar\": {\"outlinewidth\": 0, \"ticks\": \"\"}, \"type\": \"mesh3d\"}], \"parcoords\": [{\"line\": {\"colorbar\": {\"outlinewidth\": 0, \"ticks\": \"\"}}, \"type\": \"parcoords\"}], \"pie\": [{\"automargin\": true, \"type\": \"pie\"}], \"scatter\": [{\"marker\": {\"colorbar\": {\"outlinewidth\": 0, \"ticks\": \"\"}}, \"type\": \"scatter\"}], \"scatter3d\": [{\"line\": {\"colorbar\": {\"outlinewidth\": 0, \"ticks\": \"\"}}, \"marker\": {\"colorbar\": {\"outlinewidth\": 0, \"ticks\": \"\"}}, \"type\": \"scatter3d\"}], \"scattercarpet\": [{\"marker\": {\"colorbar\": {\"outlinewidth\": 0, \"ticks\": \"\"}}, \"type\": \"scattercarpet\"}], \"scattergeo\": [{\"marker\": {\"colorbar\": {\"outlinewidth\": 0, \"ticks\": \"\"}}, \"type\": \"scattergeo\"}], \"scattergl\": [{\"marker\": {\"colorbar\": {\"outlinewidth\": 0, \"ticks\": \"\"}}, \"type\": \"scattergl\"}], \"scattermapbox\": [{\"marker\": {\"colorbar\": {\"outlinewidth\": 0, \"ticks\": \"\"}}, \"type\": \"scattermapbox\"}], \"scatterpolar\": [{\"marker\": {\"colorbar\": {\"outlinewidth\": 0, \"ticks\": \"\"}}, \"type\": \"scatterpolar\"}], \"scatterpolargl\": [{\"marker\": {\"colorbar\": {\"outlinewidth\": 0, \"ticks\": \"\"}}, \"type\": \"scatterpolargl\"}], \"scatterternary\": [{\"marker\": {\"colorbar\": {\"outlinewidth\": 0, \"ticks\": \"\"}}, \"type\": \"scatterternary\"}], \"surface\": [{\"colorbar\": {\"outlinewidth\": 0, \"ticks\": \"\"}, \"colorscale\": [[0.0, \"#0d0887\"], [0.1111111111111111, \"#46039f\"], [0.2222222222222222, \"#7201a8\"], [0.3333333333333333, \"#9c179e\"], [0.4444444444444444, \"#bd3786\"], [0.5555555555555556, \"#d8576b\"], [0.6666666666666666, \"#ed7953\"], [0.7777777777777778, \"#fb9f3a\"], [0.8888888888888888, \"#fdca26\"], [1.0, \"#f0f921\"]], \"type\": \"surface\"}], \"table\": [{\"cells\": {\"fill\": {\"color\": \"#EBF0F8\"}, \"line\": {\"color\": \"white\"}}, \"header\": {\"fill\": {\"color\": \"#C8D4E3\"}, \"line\": {\"color\": \"white\"}}, \"type\": \"table\"}]}, \"layout\": {\"annotationdefaults\": {\"arrowcolor\": \"#2a3f5f\", \"arrowhead\": 0, \"arrowwidth\": 1}, \"coloraxis\": {\"colorbar\": {\"outlinewidth\": 0, \"ticks\": \"\"}}, \"colorscale\": {\"diverging\": [[0, \"#8e0152\"], [0.1, \"#c51b7d\"], [0.2, \"#de77ae\"], [0.3, \"#f1b6da\"], [0.4, \"#fde0ef\"], [0.5, \"#f7f7f7\"], [0.6, \"#e6f5d0\"], [0.7, \"#b8e186\"], [0.8, \"#7fbc41\"], [0.9, \"#4d9221\"], [1, \"#276419\"]], \"sequential\": [[0.0, \"#0d0887\"], [0.1111111111111111, \"#46039f\"], [0.2222222222222222, \"#7201a8\"], [0.3333333333333333, \"#9c179e\"], [0.4444444444444444, \"#bd3786\"], [0.5555555555555556, \"#d8576b\"], [0.6666666666666666, \"#ed7953\"], [0.7777777777777778, \"#fb9f3a\"], [0.8888888888888888, \"#fdca26\"], [1.0, \"#f0f921\"]], \"sequentialminus\": [[0.0, \"#0d0887\"], [0.1111111111111111, \"#46039f\"], [0.2222222222222222, \"#7201a8\"], [0.3333333333333333, \"#9c179e\"], [0.4444444444444444, \"#bd3786\"], [0.5555555555555556, \"#d8576b\"], [0.6666666666666666, \"#ed7953\"], [0.7777777777777778, \"#fb9f3a\"], [0.8888888888888888, \"#fdca26\"], [1.0, \"#f0f921\"]]}, \"colorway\": [\"#636efa\", \"#EF553B\", \"#00cc96\", \"#ab63fa\", \"#FFA15A\", \"#19d3f3\", \"#FF6692\", \"#B6E880\", \"#FF97FF\", \"#FECB52\"], \"font\": {\"color\": \"#2a3f5f\"}, \"geo\": {\"bgcolor\": \"white\", \"lakecolor\": \"white\", \"landcolor\": \"#E5ECF6\", \"showlakes\": true, \"showland\": true, \"subunitcolor\": \"white\"}, \"hoverlabel\": {\"align\": \"left\"}, \"hovermode\": \"closest\", \"mapbox\": {\"style\": \"light\"}, \"paper_bgcolor\": \"white\", \"plot_bgcolor\": \"#E5ECF6\", \"polar\": {\"angularaxis\": {\"gridcolor\": \"white\", \"linecolor\": \"white\", \"ticks\": \"\"}, \"bgcolor\": \"#E5ECF6\", \"radialaxis\": {\"gridcolor\": \"white\", \"linecolor\": \"white\", \"ticks\": \"\"}}, \"scene\": {\"xaxis\": {\"backgroundcolor\": \"#E5ECF6\", \"gridcolor\": \"white\", \"gridwidth\": 2, \"linecolor\": \"white\", \"showbackground\": true, \"ticks\": \"\", \"zerolinecolor\": \"white\"}, \"yaxis\": {\"backgroundcolor\": \"#E5ECF6\", \"gridcolor\": \"white\", \"gridwidth\": 2, \"linecolor\": \"white\", \"showbackground\": true, \"ticks\": \"\", \"zerolinecolor\": \"white\"}, \"zaxis\": {\"backgroundcolor\": \"#E5ECF6\", \"gridcolor\": \"white\", \"gridwidth\": 2, \"linecolor\": \"white\", \"showbackground\": true, \"ticks\": \"\", \"zerolinecolor\": \"white\"}}, \"shapedefaults\": {\"line\": {\"color\": \"#2a3f5f\"}}, \"ternary\": {\"aaxis\": {\"gridcolor\": \"white\", \"linecolor\": \"white\", \"ticks\": \"\"}, \"baxis\": {\"gridcolor\": \"white\", \"linecolor\": \"white\", \"ticks\": \"\"}, \"bgcolor\": \"#E5ECF6\", \"caxis\": {\"gridcolor\": \"white\", \"linecolor\": \"white\", \"ticks\": \"\"}}, \"title\": {\"x\": 0.05}, \"xaxis\": {\"automargin\": true, \"gridcolor\": \"white\", \"linecolor\": \"white\", \"ticks\": \"\", \"title\": {\"standoff\": 15}, \"zerolinecolor\": \"white\", \"zerolinewidth\": 2}, \"yaxis\": {\"automargin\": true, \"gridcolor\": \"white\", \"linecolor\": \"white\", \"ticks\": \"\", \"title\": {\"standoff\": 15}, \"zerolinecolor\": \"white\", \"zerolinewidth\": 2}}}, \"title\": {\"text\": \"Tophat time series with checks\"}},                        {\"responsive\": true}                    ).then(function(){\n                            \nvar gd = document.getElementById('2bc09185-0e2f-4ba4-8f22-502d5f8faae9');\nvar x = new MutationObserver(function (mutations, observer) {{\n        var display = window.getComputedStyle(gd).display;\n        if (!display || display === 'none') {{\n            console.log([gd, 'removed!']);\n            Plotly.purge(gd);\n            observer.disconnect();\n        }}\n}});\n\n// Listen for the removal of the full notebook cells\nvar notebookContainer = gd.closest('#notebook-container');\nif (notebookContainer) {{\n    x.observe(notebookContainer, {childList: true});\n}}\n\n// Listen for the clearing of the current output cell\nvar outputEl = gd.closest('.output');\nif (outputEl) {{\n    x.observe(outputEl, {childList: true});\n}}\n\n                        })                };                });            </script>        </div>"
     },
     "metadata": {},
     "output_type": "display_data"
    }
   ],
   "source": [
    "dis.MetricEvaluationPipeline(\n",
    "    _ts,\n",
    ").display_actionability_time_series(\n",
    "    title='Tophat time series with checks',\n",
    "    metric_name='Sales',\n",
    ")"
   ],
   "metadata": {
    "collapsed": false,
    "pycharm": {
     "name": "#%%\n"
    }
   }
  },
  {
   "cell_type": "code",
   "execution_count": 32,
   "outputs": [
    {
     "data": {
      "application/vnd.plotly.v1+json": {
       "config": {
        "plotlyServerURL": "https://plot.ly"
       },
       "data": [
        {
         "hoverinfo": "skip",
         "line": {
          "color": "lightgray",
          "dash": "dash"
         },
         "mode": "lines",
         "name": "Extraordinary",
         "showlegend": false,
         "type": "scatter",
         "x": [
          "1959-01-08",
          "1959-01-09",
          "1959-01-10",
          "1959-01-11",
          "1959-01-12",
          "1959-01-13",
          "1959-01-14",
          "1959-01-15",
          "1959-01-16",
          "1959-01-17",
          "1959-01-18",
          "1959-01-19",
          "1959-01-20",
          "1959-01-21",
          "1959-01-22",
          "1959-01-23",
          "1959-01-24",
          "1959-01-25",
          "1959-01-26",
          "1959-01-27",
          "1959-01-28",
          "1959-01-29",
          "1959-01-30",
          "1959-01-31",
          "1959-02-01",
          "1959-02-02",
          "1959-02-03",
          "1959-02-04",
          "1959-02-05",
          "1959-02-06",
          "1959-02-07",
          "1959-02-08",
          "1959-02-09",
          "1959-02-10",
          "1959-02-11",
          "1959-02-12",
          "1959-02-13",
          "1959-02-14",
          "1959-02-15",
          "1959-02-16",
          "1959-02-17",
          "1959-02-18",
          "1959-02-19",
          "1959-02-20",
          "1959-02-21",
          "1959-02-22",
          "1959-02-23",
          "1959-02-24",
          "1959-02-25",
          "1959-02-26",
          "1959-02-27",
          "1959-02-28",
          "1959-03-01",
          "1959-03-02",
          "1959-03-03",
          "1959-03-04",
          "1959-03-05",
          "1959-03-06",
          "1959-03-07",
          "1959-03-08",
          "1959-03-09",
          "1959-03-10",
          "1959-03-11",
          "1959-03-12",
          "1959-03-13",
          "1959-03-14",
          "1959-03-15",
          "1959-03-16",
          "1959-03-17",
          "1959-03-18",
          "1959-03-19",
          "1959-03-20",
          "1959-03-21",
          "1959-03-22",
          "1959-03-23",
          "1959-03-24",
          "1959-03-25",
          "1959-03-26",
          "1959-03-27",
          "1959-03-28",
          "1959-03-29",
          "1959-03-30",
          "1959-03-31",
          "1959-04-01",
          "1959-04-02",
          "1959-04-03",
          "1959-04-04",
          "1959-04-05",
          "1959-04-06",
          "1959-04-07",
          "1959-04-08",
          "1959-04-09",
          "1959-04-10",
          "1959-04-11",
          "1959-04-12",
          "1959-04-13",
          "1959-04-14",
          "1959-04-15",
          "1959-04-16",
          "1959-04-17",
          "1959-04-18",
          "1959-04-19",
          "1959-04-20",
          "1959-04-21",
          "1959-04-22",
          "1959-04-23",
          "1959-04-24",
          "1959-04-25",
          "1959-04-26",
          "1959-04-27",
          "1959-04-28",
          "1959-04-29",
          "1959-04-30",
          "1959-05-01",
          "1959-05-02",
          "1959-05-03",
          "1959-05-04",
          "1959-05-05",
          "1959-05-06",
          "1959-05-07",
          "1959-05-08",
          "1959-05-09",
          "1959-05-10",
          "1959-05-11",
          "1959-05-12",
          "1959-05-13",
          "1959-05-14",
          "1959-05-15",
          "1959-05-16",
          "1959-05-17",
          "1959-05-18",
          "1959-05-19",
          "1959-05-20",
          "1959-05-21",
          "1959-05-22",
          "1959-05-23",
          "1959-05-24",
          "1959-05-25",
          "1959-05-26",
          "1959-05-27",
          "1959-05-28",
          "1959-05-29",
          "1959-05-30",
          "1959-05-31",
          "1959-06-01",
          "1959-06-02",
          "1959-06-03",
          "1959-06-04",
          "1959-06-05",
          "1959-06-06",
          "1959-06-07",
          "1959-06-08",
          "1959-06-09",
          "1959-06-10",
          "1959-06-11",
          "1959-06-12",
          "1959-06-13",
          "1959-06-14",
          "1959-06-15",
          "1959-06-16",
          "1959-06-17",
          "1959-06-18",
          "1959-06-19",
          "1959-06-20",
          "1959-06-21",
          "1959-06-22",
          "1959-06-23",
          "1959-06-24",
          "1959-06-25",
          "1959-06-26",
          "1959-06-27",
          "1959-06-28",
          "1959-06-29",
          "1959-06-30",
          "1959-07-01",
          "1959-07-02",
          "1959-07-03",
          "1959-07-04",
          "1959-07-05",
          "1959-07-06",
          "1959-07-07",
          "1959-07-08",
          "1959-07-09",
          "1959-07-10",
          "1959-07-11",
          "1959-07-12",
          "1959-07-13",
          "1959-07-14",
          "1959-07-15",
          "1959-07-16",
          "1959-07-17",
          "1959-07-18",
          "1959-07-19",
          "1959-07-20",
          "1959-07-21",
          "1959-07-22",
          "1959-07-23",
          "1959-07-24",
          "1959-07-25",
          "1959-07-26",
          "1959-07-27",
          "1959-07-28",
          "1959-07-29",
          "1959-07-30",
          "1959-07-31",
          "1959-08-01",
          "1959-08-02",
          "1959-08-03",
          "1959-08-04",
          "1959-08-05",
          "1959-08-06",
          "1959-08-07",
          "1959-08-08",
          "1959-08-09",
          "1959-08-10",
          "1959-08-11",
          "1959-08-12",
          "1959-08-13",
          "1959-08-14",
          "1959-08-15",
          "1959-08-16",
          "1959-08-17",
          "1959-08-18",
          "1959-08-19",
          "1959-08-20",
          "1959-08-21",
          "1959-08-22",
          "1959-08-23",
          "1959-08-24",
          "1959-08-25",
          "1959-08-26",
          "1959-08-27",
          "1959-08-28",
          "1959-08-29",
          "1959-08-30",
          "1959-08-31",
          "1959-09-01",
          "1959-09-02",
          "1959-09-03",
          "1959-09-04",
          "1959-09-05",
          "1959-09-06",
          "1959-09-07",
          "1959-09-08",
          "1959-09-09",
          "1959-09-10",
          "1959-09-11",
          "1959-09-12",
          "1959-09-13",
          "1959-09-14",
          "1959-09-15",
          "1959-09-16",
          "1959-09-17",
          "1959-09-18",
          "1959-09-19",
          "1959-09-20",
          "1959-09-21",
          "1959-09-22",
          "1959-09-23",
          "1959-09-24",
          "1959-09-25",
          "1959-09-26",
          "1959-09-27",
          "1959-09-28",
          "1959-09-29",
          "1959-09-30",
          "1959-10-01",
          "1959-10-02",
          "1959-10-03",
          "1959-10-04",
          "1959-10-05",
          "1959-10-06",
          "1959-10-07",
          "1959-10-08",
          "1959-10-09",
          "1959-10-10",
          "1959-10-11",
          "1959-10-12",
          "1959-10-13",
          "1959-10-14",
          "1959-10-15",
          "1959-10-16",
          "1959-10-17",
          "1959-10-18",
          "1959-10-19",
          "1959-10-20",
          "1959-10-21",
          "1959-10-22",
          "1959-10-23",
          "1959-10-24",
          "1959-10-25",
          "1959-10-26",
          "1959-10-27",
          "1959-10-28",
          "1959-10-29",
          "1959-10-30",
          "1959-10-31",
          "1959-11-01",
          "1959-11-02",
          "1959-11-03",
          "1959-11-04",
          "1959-11-05",
          "1959-11-06",
          "1959-11-07",
          "1959-11-08",
          "1959-11-09",
          "1959-11-10",
          "1959-11-11",
          "1959-11-12",
          "1959-11-13",
          "1959-11-14",
          "1959-11-15",
          "1959-11-16",
          "1959-11-17",
          "1959-11-18",
          "1959-11-19",
          "1959-11-20",
          "1959-11-21",
          "1959-11-22",
          "1959-11-23",
          "1959-11-24",
          "1959-11-25",
          "1959-11-26",
          "1959-11-27",
          "1959-11-28",
          "1959-11-29",
          "1959-11-30",
          "1959-12-01",
          "1959-12-02",
          "1959-12-03",
          "1959-12-04",
          "1959-12-05",
          "1959-12-06",
          "1959-12-07",
          "1959-12-08",
          "1959-12-09",
          "1959-12-10",
          "1959-12-11",
          "1959-12-12",
          "1959-12-13",
          "1959-12-14",
          "1959-12-15",
          "1959-12-16",
          "1959-12-17",
          "1959-12-18",
          "1959-12-19",
          "1959-12-20",
          "1959-12-21",
          "1959-12-22",
          "1959-12-23",
          "1959-12-24",
          "1959-12-25",
          "1959-12-26",
          "1959-12-27",
          "1959-12-28",
          "1959-12-29",
          "1959-12-30",
          "1959-12-31"
         ],
         "y": [
          65.765,
          64.76208333333334,
          65.54666666666667,
          67.15736363636364,
          65.88575757575758,
          72.16807692307692,
          72.63208791208791,
          71.19333333333333,
          71.04650000000001,
          72.92908088235293,
          72.79764705882353,
          71.46859649122808,
          72.72,
          74.38869047619048,
          76.9509090909091,
          77.76711462450592,
          77.00615942028986,
          76.17500000000001,
          75.80036923076923,
          74.99985754985755,
          74.11571428571429,
          74.3171551724138,
          73.89229885057472,
          74.10803225806453,
          72.60435483870967,
          72.3089393939394,
          73.01791443850269,
          72.69256302521009,
          73.40311111111112,
          73.75033783783783,
          74.52870554765292,
          75.48871794871795,
          74.35307692307693,
          75.75678048780487,
          76.24862950058072,
          76.35627906976745,
          76.31706131078224,
          76.89962121212122,
          77.93614492753623,
          77.69386679000925,
          77.1656914893617,
          76.59690051020408,
          76.4,
          76.54703137254901,
          76.63334841628959,
          75.98798984034833,
          76.81097833682739,
          76.90459595959595,
          76.54058441558442,
          76.29811403508772,
          75.7496551724138,
          75.44539742840445,
          75.09943502824859,
          74.7832049180328,
          75.40553146483342,
          75.4470942140297,
          74.94854166666667,
          75.42905048076923,
          75.31286247086247,
          75.06514246947083,
          74.84097453906936,
          74.72479965899404,
          74.63987577639752,
          74.30123943661971,
          74.02899843505477,
          73.87639269406392,
          73.45523880044428,
          73.03148648648649,
          73.25568421052631,
          73.10594155844156,
          72.94783216783217,
          72.7304917234664,
          72.83316455696203,
          72.54663734567902,
          72.32914182475159,
          72.15403908316192,
          71.88745840504876,
          71.4964705882353,
          72.29767715458277,
          72.80402165196472,
          72.5194670846395,
          73.07837717058223,
          73.1212734082397,
          72.83090842490843,
          72.56866220735786,
          72.55011453950445,
          72.69400823610158,
          72.38896416573348,
          72.10108333333335,
          71.79824097938145,
          71.57337891857775,
          71.2309595959596,
          71.01666666666667,
          71.59326732673267,
          71.97220151426907,
          71.60045973729298,
          71.42933905899925,
          71.1945695970696,
          70.93596226415094,
          71.03917034032798,
          70.99179993077189,
          71.20316768603466,
          71.41163469557965,
          71.76044144144144,
          71.55485521235522,
          71.71759402654868,
          72.09044092532216,
          71.88782608695652,
          71.63679460269866,
          71.53601016799293,
          71.35159061277706,
          71.77814342686227,
          71.83745098039216,
          72.1377582644628,
          71.93007993496816,
          71.7501912568306,
          71.59778127458694,
          71.52799999999999,
          71.58666666666667,
          71.60520997375329,
          71.88992125984252,
          72.24902797965117,
          72.0765831842576,
          72.01397240164415,
          71.88398103169096,
          71.86904135338347,
          71.66686567164179,
          71.47511608623549,
          71.34546405228758,
          71.40890993988836,
          71.42738495715646,
          71.48142320925868,
          71.42727646454266,
          71.85065248226951,
          72.02795325142344,
          71.94974391805377,
          71.84485431235431,
          71.71383620689656,
          71.68075389702409,
          71.56625850340137,
          71.46706563706564,
          71.5441610738255,
          71.412774049217,
          71.2432940397351,
          71.25422969675846,
          71.11406045751633,
          71.18466768525593,
          70.9758064516129,
          71.16187427626139,
          71.1089000489956,
          71.26663791018302,
          71.10047130005573,
          71.26858490566038,
          71.1853179347826,
          71.18968867418144,
          71.30515678254942,
          71.29053868023342,
          71.21540650406504,
          71.14712157721797,
          71.06776747709401,
          70.91776732249787,
          70.85255177514793,
          70.76441698572921,
          70.60105951152391,
          70.59116279069768,
          70.56411849710983,
          70.6352375257458,
          70.74019704433498,
          70.5761090909091,
          70.68571295582949,
          70.55173109883832,
          70.43049839934719,
          70.26603972687772,
          70.60185635359116,
          70.80196830793516,
          70.70388818831441,
          70.67785459729151,
          70.516589306698,
          70.55105027608253,
          70.46184146972573,
          70.70941745363523,
          70.81127012270629,
          70.81169590643275,
          70.86476439790576,
          70.86496727748691,
          71.06808047279793,
          71.06739383579938,
          71.11286677240285,
          71.01979905808477,
          70.89204314720813,
          70.8365507870584,
          70.88729861428354,
          70.75708542713568,
          70.62817562189055,
          70.55015220925078,
          70.5668353411696,
          70.50468559837728,
          70.46767575322812,
          70.31909969216197,
          70.22519581633132,
          70.21887123745819,
          70.1263084284137,
          70.09186147186148,
          70.13861137440759,
          70.09504247518555,
          70.1694213393569,
          70.2291667763591,
          70.12985220604216,
          70.11028423772609,
          70.41398681515616,
          70.6461260728026,
          70.67948619664028,
          70.60318804483188,
          70.59100514191691,
          70.56084260731319,
          70.48603866198036,
          70.40297805893658,
          70.37861111111111,
          70.27464306784661,
          70.2465859030837,
          70.15285416183632,
          70.20004366812228,
          70.27722232770078,
          70.24101731601732,
          70.27415360501567,
          70.16941893591832,
          70.1426899233337,
          70.02667757774141,
          70.00075369635773,
          69.97502091825788,
          69.92423891075418,
          69.95358109771105,
          69.8532880055788,
          69.92417531120333,
          69.96970954356847,
          69.91179998639595,
          69.87903663226068,
          70.36144948143192,
          70.69353542392568,
          70.60931124716106,
          70.6751364764268,
          70.68014234356782,
          70.59296385542169,
          70.59830677290837,
          70.87769683172074,
          70.97682147562583,
          70.89381065015095,
          70.99596881272194,
          71.05435845588235,
          71.03440585481518,
          71.00681295810334,
          71.19586109365179,
          71.27567567567567,
          71.34332095490717,
          71.31107133456173,
          71.43143906191042,
          71.68733321811268,
          71.6843782161235,
          71.95990863952333,
          72.16595505617978,
          72.22480798255911,
          72.13062392498475,
          72.05569461654963,
          72.06626158261582,
          72.04728728022575,
          72.06143759426848,
          72.0791690061763,
          72.08582946250829,
          72.05616179183136,
          72.09541516245488,
          72.03716827260214,
          71.94705139114515,
          71.85400921658987,
          71.8008078291815,
          71.79411448474295,
          71.73795541688594,
          71.70688498482059,
          71.63740857425253,
          71.85885314685315,
          72.00208182061841,
          71.91144308943089,
          71.96340902537486,
          71.91147595752297,
          71.87367318402654,
          71.80185849456292,
          71.71345843657956,
          71.6529096143577,
          71.69113801452785,
          71.6987022446175,
          71.60512296387296,
          71.58604501389736,
          71.5570730174407,
          71.50496098104793,
          71.62605149501661,
          71.61380101647929,
          71.64454614997925,
          71.5730315268369,
          71.52167008196722,
          71.4608318868531,
          71.44604394200678,
          71.36312195947376,
          71.54302736098853,
          71.63787034137175,
          71.66451291359817,
          71.65892447852255,
          71.61501566724012,
          71.53952280173378,
          71.4390966535234,
          71.4184641350211,
          71.42954957473147,
          71.3146971410432,
          71.27897645945467,
          71.19032327586207,
          71.1458761682243,
          71.16694549254078,
          71.15379862700229,
          71.14072621641249,
          71.14314102564103,
          71.0964403964134,
          71.2611243691488,
          71.2905952114567,
          71.25907016828528,
          71.23985815602838,
          71.20262345509475,
          71.18671714046519,
          71.12884664785267,
          71.16716782650914,
          71.17241844668871,
          71.21041009239516,
          71.30159310089022,
          71.27088441346373,
          71.24331788588086,
          71.14235294117647,
          71.07424969811971,
          71.16156608530123,
          71.14921282798834,
          71.06713573801613,
          71.06383847320527,
          71.02874993717015,
          70.97080491745932,
          71.11152539004273,
          71.09952475051873,
          71.10187883749488,
          71.1583829059829,
          71.08099553224554,
          71.02104872199331,
          70.93883532593908,
          71.01205538314633,
          71.07925589492008,
          71.00317761936235,
          70.93311534669733,
          70.9247384105445,
          70.93308727948003,
          70.8721163434903,
          70.98555103227682,
          70.966097057973,
          70.9989564980474,
          70.99601422550053
         ]
        },
        {
         "hoverinfo": "skip",
         "line": {
          "color": "lightgray",
          "dash": "dash"
         },
         "mode": "lines",
         "name": "Actionably Good",
         "showlegend": false,
         "type": "scatter",
         "x": [
          "1959-01-08",
          "1959-01-09",
          "1959-01-10",
          "1959-01-11",
          "1959-01-12",
          "1959-01-13",
          "1959-01-14",
          "1959-01-15",
          "1959-01-16",
          "1959-01-17",
          "1959-01-18",
          "1959-01-19",
          "1959-01-20",
          "1959-01-21",
          "1959-01-22",
          "1959-01-23",
          "1959-01-24",
          "1959-01-25",
          "1959-01-26",
          "1959-01-27",
          "1959-01-28",
          "1959-01-29",
          "1959-01-30",
          "1959-01-31",
          "1959-02-01",
          "1959-02-02",
          "1959-02-03",
          "1959-02-04",
          "1959-02-05",
          "1959-02-06",
          "1959-02-07",
          "1959-02-08",
          "1959-02-09",
          "1959-02-10",
          "1959-02-11",
          "1959-02-12",
          "1959-02-13",
          "1959-02-14",
          "1959-02-15",
          "1959-02-16",
          "1959-02-17",
          "1959-02-18",
          "1959-02-19",
          "1959-02-20",
          "1959-02-21",
          "1959-02-22",
          "1959-02-23",
          "1959-02-24",
          "1959-02-25",
          "1959-02-26",
          "1959-02-27",
          "1959-02-28",
          "1959-03-01",
          "1959-03-02",
          "1959-03-03",
          "1959-03-04",
          "1959-03-05",
          "1959-03-06",
          "1959-03-07",
          "1959-03-08",
          "1959-03-09",
          "1959-03-10",
          "1959-03-11",
          "1959-03-12",
          "1959-03-13",
          "1959-03-14",
          "1959-03-15",
          "1959-03-16",
          "1959-03-17",
          "1959-03-18",
          "1959-03-19",
          "1959-03-20",
          "1959-03-21",
          "1959-03-22",
          "1959-03-23",
          "1959-03-24",
          "1959-03-25",
          "1959-03-26",
          "1959-03-27",
          "1959-03-28",
          "1959-03-29",
          "1959-03-30",
          "1959-03-31",
          "1959-04-01",
          "1959-04-02",
          "1959-04-03",
          "1959-04-04",
          "1959-04-05",
          "1959-04-06",
          "1959-04-07",
          "1959-04-08",
          "1959-04-09",
          "1959-04-10",
          "1959-04-11",
          "1959-04-12",
          "1959-04-13",
          "1959-04-14",
          "1959-04-15",
          "1959-04-16",
          "1959-04-17",
          "1959-04-18",
          "1959-04-19",
          "1959-04-20",
          "1959-04-21",
          "1959-04-22",
          "1959-04-23",
          "1959-04-24",
          "1959-04-25",
          "1959-04-26",
          "1959-04-27",
          "1959-04-28",
          "1959-04-29",
          "1959-04-30",
          "1959-05-01",
          "1959-05-02",
          "1959-05-03",
          "1959-05-04",
          "1959-05-05",
          "1959-05-06",
          "1959-05-07",
          "1959-05-08",
          "1959-05-09",
          "1959-05-10",
          "1959-05-11",
          "1959-05-12",
          "1959-05-13",
          "1959-05-14",
          "1959-05-15",
          "1959-05-16",
          "1959-05-17",
          "1959-05-18",
          "1959-05-19",
          "1959-05-20",
          "1959-05-21",
          "1959-05-22",
          "1959-05-23",
          "1959-05-24",
          "1959-05-25",
          "1959-05-26",
          "1959-05-27",
          "1959-05-28",
          "1959-05-29",
          "1959-05-30",
          "1959-05-31",
          "1959-06-01",
          "1959-06-02",
          "1959-06-03",
          "1959-06-04",
          "1959-06-05",
          "1959-06-06",
          "1959-06-07",
          "1959-06-08",
          "1959-06-09",
          "1959-06-10",
          "1959-06-11",
          "1959-06-12",
          "1959-06-13",
          "1959-06-14",
          "1959-06-15",
          "1959-06-16",
          "1959-06-17",
          "1959-06-18",
          "1959-06-19",
          "1959-06-20",
          "1959-06-21",
          "1959-06-22",
          "1959-06-23",
          "1959-06-24",
          "1959-06-25",
          "1959-06-26",
          "1959-06-27",
          "1959-06-28",
          "1959-06-29",
          "1959-06-30",
          "1959-07-01",
          "1959-07-02",
          "1959-07-03",
          "1959-07-04",
          "1959-07-05",
          "1959-07-06",
          "1959-07-07",
          "1959-07-08",
          "1959-07-09",
          "1959-07-10",
          "1959-07-11",
          "1959-07-12",
          "1959-07-13",
          "1959-07-14",
          "1959-07-15",
          "1959-07-16",
          "1959-07-17",
          "1959-07-18",
          "1959-07-19",
          "1959-07-20",
          "1959-07-21",
          "1959-07-22",
          "1959-07-23",
          "1959-07-24",
          "1959-07-25",
          "1959-07-26",
          "1959-07-27",
          "1959-07-28",
          "1959-07-29",
          "1959-07-30",
          "1959-07-31",
          "1959-08-01",
          "1959-08-02",
          "1959-08-03",
          "1959-08-04",
          "1959-08-05",
          "1959-08-06",
          "1959-08-07",
          "1959-08-08",
          "1959-08-09",
          "1959-08-10",
          "1959-08-11",
          "1959-08-12",
          "1959-08-13",
          "1959-08-14",
          "1959-08-15",
          "1959-08-16",
          "1959-08-17",
          "1959-08-18",
          "1959-08-19",
          "1959-08-20",
          "1959-08-21",
          "1959-08-22",
          "1959-08-23",
          "1959-08-24",
          "1959-08-25",
          "1959-08-26",
          "1959-08-27",
          "1959-08-28",
          "1959-08-29",
          "1959-08-30",
          "1959-08-31",
          "1959-09-01",
          "1959-09-02",
          "1959-09-03",
          "1959-09-04",
          "1959-09-05",
          "1959-09-06",
          "1959-09-07",
          "1959-09-08",
          "1959-09-09",
          "1959-09-10",
          "1959-09-11",
          "1959-09-12",
          "1959-09-13",
          "1959-09-14",
          "1959-09-15",
          "1959-09-16",
          "1959-09-17",
          "1959-09-18",
          "1959-09-19",
          "1959-09-20",
          "1959-09-21",
          "1959-09-22",
          "1959-09-23",
          "1959-09-24",
          "1959-09-25",
          "1959-09-26",
          "1959-09-27",
          "1959-09-28",
          "1959-09-29",
          "1959-09-30",
          "1959-10-01",
          "1959-10-02",
          "1959-10-03",
          "1959-10-04",
          "1959-10-05",
          "1959-10-06",
          "1959-10-07",
          "1959-10-08",
          "1959-10-09",
          "1959-10-10",
          "1959-10-11",
          "1959-10-12",
          "1959-10-13",
          "1959-10-14",
          "1959-10-15",
          "1959-10-16",
          "1959-10-17",
          "1959-10-18",
          "1959-10-19",
          "1959-10-20",
          "1959-10-21",
          "1959-10-22",
          "1959-10-23",
          "1959-10-24",
          "1959-10-25",
          "1959-10-26",
          "1959-10-27",
          "1959-10-28",
          "1959-10-29",
          "1959-10-30",
          "1959-10-31",
          "1959-11-01",
          "1959-11-02",
          "1959-11-03",
          "1959-11-04",
          "1959-11-05",
          "1959-11-06",
          "1959-11-07",
          "1959-11-08",
          "1959-11-09",
          "1959-11-10",
          "1959-11-11",
          "1959-11-12",
          "1959-11-13",
          "1959-11-14",
          "1959-11-15",
          "1959-11-16",
          "1959-11-17",
          "1959-11-18",
          "1959-11-19",
          "1959-11-20",
          "1959-11-21",
          "1959-11-22",
          "1959-11-23",
          "1959-11-24",
          "1959-11-25",
          "1959-11-26",
          "1959-11-27",
          "1959-11-28",
          "1959-11-29",
          "1959-11-30",
          "1959-12-01",
          "1959-12-02",
          "1959-12-03",
          "1959-12-04",
          "1959-12-05",
          "1959-12-06",
          "1959-12-07",
          "1959-12-08",
          "1959-12-09",
          "1959-12-10",
          "1959-12-11",
          "1959-12-12",
          "1959-12-13",
          "1959-12-14",
          "1959-12-15",
          "1959-12-16",
          "1959-12-17",
          "1959-12-18",
          "1959-12-19",
          "1959-12-20",
          "1959-12-21",
          "1959-12-22",
          "1959-12-23",
          "1959-12-24",
          "1959-12-25",
          "1959-12-26",
          "1959-12-27",
          "1959-12-28",
          "1959-12-29",
          "1959-12-30",
          "1959-12-31"
         ],
         "y": [
          55.885000000000005,
          55.285833333333336,
          55.49777777777778,
          56.650363636363636,
          55.729393939393944,
          60.41974358974359,
          60.969010989011,
          60.17333333333333,
          60.051833333333335,
          61.54095588235295,
          61.53176470588235,
          60.68081871345029,
          61.730000000000004,
          62.75119047619047,
          64.66424242424243,
          65.19256916996048,
          64.57355072463768,
          63.983333333333334,
          63.77716923076923,
          63.23447293447293,
          62.58904761904762,
          62.774655172413794,
          62.47264367816092,
          62.44836559139786,
          61.277903225806455,
          61.00393939393939,
          61.531550802139044,
          61.30932773109244,
          61.88911111111111,
          62.112837837837844,
          62.73843527738265,
          63.30871794871795,
          62.48538461538462,
          63.52078048780487,
          63.82448315911731,
          63.94294573643411,
          64.0068287526427,
          64.35530303030303,
          65.13858937198067,
          65.02995374653099,
          64.71462765957448,
          64.37752551020408,
          64.24000000000001,
          64.39083137254903,
          64.42864253393665,
          63.96683599419449,
          64.59003494060099,
          64.66367003367003,
          64.44967532467533,
          64.28061403508772,
          63.89632183908046,
          63.63591466978375,
          63.3774011299435,
          63.10137158469946,
          63.54454785827604,
          63.541449052739374,
          63.18965277777778,
          63.56295673076923,
          63.50655477855478,
          63.336960651289004,
          63.14888498683055,
          63.06774083546462,
          63.036107660455485,
          62.825239436619725,
          62.63970266040689,
          62.49750380517504,
          62.15934838948537,
          61.83432432432433,
          61.995017543859646,
          61.92344155844155,
          61.82419580419581,
          61.664209672184356,
          61.755443037974686,
          61.59076234567901,
          61.459265281541704,
          61.335624449015576,
          61.13528973034997,
          60.8564705882353,
          61.45426538987688,
          61.777393744987975,
          61.558432601880874,
          61.9698544433095,
          62.003071161048695,
          61.80668620268621,
          61.636354515050165,
          61.6498971482001,
          61.725083504918786,
          61.50843225083987,
          61.29308333333334,
          61.07511597938145,
          60.91966757837156,
          60.6859595959596,
          60.52444444444444,
          60.95326732673267,
          61.18735002912056,
          60.921342090234155,
          60.802251680358474,
          60.631300366300366,
          60.43529559748428,
          60.51209486862987,
          60.463669089650395,
          60.62474176010873,
          60.73502919099249,
          60.98744144144144,
          60.86692728442729,
          61.01821902654868,
          61.25035242974694,
          61.10782608695652,
          60.927403298350825,
          60.86161361626879,
          60.74569317687962,
          61.08178749465888,
          61.15274509803922,
          61.33150826446281,
          61.18016257959626,
          61.05568306010929,
          60.93615525832678,
          60.888,
          60.946666666666665,
          60.95465441819773,
          61.176614173228344,
          61.39082485465117,
          61.261311866428144,
          61.22051086318262,
          61.12214897062226,
          61.11820802005013,
          60.98686567164179,
          60.864892205638476,
          60.774427015250545,
          60.77868935165307,
          60.77767692795938,
          60.82214784693984,
          60.777708119218914,
          61.096652482269505,
          61.21816601738088,
          61.17861715749039,
          61.11184731934732,
          61.018419540229885,
          61.00406424185168,
          60.926258503401364,
          60.84516087516088,
          60.904161073825506,
          60.81740492170022,
          60.700827373068435,
          60.719925060996864,
          60.640310457516335,
          60.67505984211867,
          60.5258064516129,
          60.667745244003314,
          60.656464151559696,
          60.75370797387728,
          60.62882573043547,
          60.75405660377359,
          60.703255434782605,
          60.723166935051,
          60.788304930697564,
          60.781090827472696,
          60.72138211382114,
          60.67639430449069,
          60.61204458552774,
          60.49279726261763,
          60.44213510848127,
          60.38412112774104,
          60.2740006879945,
          60.27782945736435,
          60.25661849710983,
          60.31812769915621,
          60.37536945812808,
          60.2477090909091,
          60.32531522855676,
          60.24235256776487,
          60.16409390496516,
          60.056989447548105,
          60.316523020257826,
          60.45589095986886,
          60.40004203446826,
          60.37943929674507,
          60.26691539365453,
          60.299266492298756,
          60.243723190155826,
          60.439257025827736,
          60.5179190588765,
          60.53762183235867,
          60.57476439790577,
          60.5870615183246,
          60.69823672279793,
          60.689259120773464,
          60.72652656621729,
          60.66626059654631,
          60.58454314720812,
          60.540865507870585,
          60.583157200142125,
          60.50472361809045,
          60.427075621890545,
          60.38657011969854,
          60.39431058869434,
          60.35606490872212,
          60.323165949306556,
          60.21758749704002,
          60.15335115613715,
          60.157132107023415,
          60.10015458225985,
          60.08822510822511,
          60.11294470774092,
          60.08537422874005,
          60.150506245017276,
          60.1886033960774,
          60.123777439687025,
          60.11981912144702,
          60.358940518859875,
          60.52096478248002,
          60.53366050856688,
          60.47939809049399,
          60.476959687371455,
          60.46848966613672,
          60.427164788106495,
          60.377282991672004,
          60.35611111111111,
          60.28486529006883,
          60.271585903083704,
          60.215937862276846,
          60.23671033478894,
          60.29351053730777,
          60.26601731601732,
          60.29627481713689,
          60.23454824626314,
          60.21620923663842,
          60.13693398799782,
          60.12479624954922,
          60.118368375885005,
          60.09795199092295,
          60.11828698006399,
          60.05358089260809,
          60.11542531120332,
          60.146473029045644,
          60.112667754990994,
          60.087390541725696,
          60.44640849782536,
          60.666963995354244,
          60.612685230900894,
          60.67052109181142,
          60.67832782743879,
          60.62597590361446,
          60.62330677290837,
          60.83116296717891,
          60.90154369784805,
          60.847842270704305,
          60.93195306469045,
          60.9724368872549,
          60.95030429231518,
          60.93089856121618,
          61.07652000838048,
          61.133783783783784,
          61.19439787798409,
          61.19084144950426,
          61.26861463442951,
          61.46201002419633,
          61.47763579188108,
          61.70134260178749,
          61.85595505617978,
          61.898628207278215,
          61.83801198468623,
          61.78651246041581,
          61.800631952986194,
          61.799907206425004,
          61.82728318250378,
          61.848399775407074,
          61.86812873258128,
          61.865943610013176,
          61.89874849578821,
          61.8629083448043,
          61.80460534797968,
          61.743149001536096,
          61.711807829181495,
          61.71735291890664,
          61.687494423978144,
          61.66843975513861,
          61.62026068692859,
          61.78818648018648,
          61.88292098145757,
          61.822906504065045,
          61.86833958093041,
          61.84213339696933,
          61.82070766678516,
          61.77429835710587,
          61.715684463976814,
          61.671100740637556,
          61.70256658595642,
          61.70341410902428,
          61.63461620711621,
          61.622240300092656,
          61.595462279185654,
          61.545529542920846,
          61.62888482834994,
          61.61449869089789,
          61.638718335409706,
          61.59583680736495,
          61.568545081967216,
          61.53597942783671,
          61.527547209980625,
          61.472600786835315,
          61.611209179170345,
          61.67793506629084,
          61.706674203920755,
          61.7074453788441,
          61.678381051855496,
          61.62613622026414,
          61.557281366899204,
          61.546908579465544,
          61.54714451144032,
          61.46346685713152,
          61.43781293744208,
          61.375840517241386,
          61.3371261682243,
          61.35146262649717,
          61.34814645308924,
          61.34896151053013,
          61.35286324786325,
          61.31991731949032,
          61.44523479859665,
          61.47218542552398,
          61.45437504633405,
          61.44879432624114,
          61.43316890964021,
          61.42668692898482,
          61.39020206953943,
          61.425816475157795,
          61.43235856644919,
          61.4478130774698,
          61.512634767556875,
          61.491240496549786,
          61.46506344801103,
          61.38901960784314,
          61.337867345178545,
          61.40303236096105,
          61.395879494655006,
          61.34223777883247,
          61.332414054600605,
          61.306257183546954,
          61.26103613133215,
          61.36458014508596,
          61.36147877350723,
          61.37268112975849,
          61.407582905982906,
          61.354186415436416,
          61.31431576744785,
          61.25960019846033,
          61.31883504416328,
          61.36088969773698,
          61.30837424857583,
          61.25801730748165,
          61.25437528205288,
          61.25261374187558,
          61.20744967682364,
          61.29239313753998,
          61.285019709906706,
          61.31890140162868,
          61.32428345626976
         ]
        },
        {
         "hoverinfo": "skip",
         "line": {
          "color": "lightgray",
          "dash": "dash"
         },
         "mode": "lines",
         "name": "normal_range_rolling_baseline",
         "showlegend": false,
         "type": "scatter",
         "x": [
          "1959-01-08",
          "1959-01-09",
          "1959-01-10",
          "1959-01-11",
          "1959-01-12",
          "1959-01-13",
          "1959-01-14",
          "1959-01-15",
          "1959-01-16",
          "1959-01-17",
          "1959-01-18",
          "1959-01-19",
          "1959-01-20",
          "1959-01-21",
          "1959-01-22",
          "1959-01-23",
          "1959-01-24",
          "1959-01-25",
          "1959-01-26",
          "1959-01-27",
          "1959-01-28",
          "1959-01-29",
          "1959-01-30",
          "1959-01-31",
          "1959-02-01",
          "1959-02-02",
          "1959-02-03",
          "1959-02-04",
          "1959-02-05",
          "1959-02-06",
          "1959-02-07",
          "1959-02-08",
          "1959-02-09",
          "1959-02-10",
          "1959-02-11",
          "1959-02-12",
          "1959-02-13",
          "1959-02-14",
          "1959-02-15",
          "1959-02-16",
          "1959-02-17",
          "1959-02-18",
          "1959-02-19",
          "1959-02-20",
          "1959-02-21",
          "1959-02-22",
          "1959-02-23",
          "1959-02-24",
          "1959-02-25",
          "1959-02-26",
          "1959-02-27",
          "1959-02-28",
          "1959-03-01",
          "1959-03-02",
          "1959-03-03",
          "1959-03-04",
          "1959-03-05",
          "1959-03-06",
          "1959-03-07",
          "1959-03-08",
          "1959-03-09",
          "1959-03-10",
          "1959-03-11",
          "1959-03-12",
          "1959-03-13",
          "1959-03-14",
          "1959-03-15",
          "1959-03-16",
          "1959-03-17",
          "1959-03-18",
          "1959-03-19",
          "1959-03-20",
          "1959-03-21",
          "1959-03-22",
          "1959-03-23",
          "1959-03-24",
          "1959-03-25",
          "1959-03-26",
          "1959-03-27",
          "1959-03-28",
          "1959-03-29",
          "1959-03-30",
          "1959-03-31",
          "1959-04-01",
          "1959-04-02",
          "1959-04-03",
          "1959-04-04",
          "1959-04-05",
          "1959-04-06",
          "1959-04-07",
          "1959-04-08",
          "1959-04-09",
          "1959-04-10",
          "1959-04-11",
          "1959-04-12",
          "1959-04-13",
          "1959-04-14",
          "1959-04-15",
          "1959-04-16",
          "1959-04-17",
          "1959-04-18",
          "1959-04-19",
          "1959-04-20",
          "1959-04-21",
          "1959-04-22",
          "1959-04-23",
          "1959-04-24",
          "1959-04-25",
          "1959-04-26",
          "1959-04-27",
          "1959-04-28",
          "1959-04-29",
          "1959-04-30",
          "1959-05-01",
          "1959-05-02",
          "1959-05-03",
          "1959-05-04",
          "1959-05-05",
          "1959-05-06",
          "1959-05-07",
          "1959-05-08",
          "1959-05-09",
          "1959-05-10",
          "1959-05-11",
          "1959-05-12",
          "1959-05-13",
          "1959-05-14",
          "1959-05-15",
          "1959-05-16",
          "1959-05-17",
          "1959-05-18",
          "1959-05-19",
          "1959-05-20",
          "1959-05-21",
          "1959-05-22",
          "1959-05-23",
          "1959-05-24",
          "1959-05-25",
          "1959-05-26",
          "1959-05-27",
          "1959-05-28",
          "1959-05-29",
          "1959-05-30",
          "1959-05-31",
          "1959-06-01",
          "1959-06-02",
          "1959-06-03",
          "1959-06-04",
          "1959-06-05",
          "1959-06-06",
          "1959-06-07",
          "1959-06-08",
          "1959-06-09",
          "1959-06-10",
          "1959-06-11",
          "1959-06-12",
          "1959-06-13",
          "1959-06-14",
          "1959-06-15",
          "1959-06-16",
          "1959-06-17",
          "1959-06-18",
          "1959-06-19",
          "1959-06-20",
          "1959-06-21",
          "1959-06-22",
          "1959-06-23",
          "1959-06-24",
          "1959-06-25",
          "1959-06-26",
          "1959-06-27",
          "1959-06-28",
          "1959-06-29",
          "1959-06-30",
          "1959-07-01",
          "1959-07-02",
          "1959-07-03",
          "1959-07-04",
          "1959-07-05",
          "1959-07-06",
          "1959-07-07",
          "1959-07-08",
          "1959-07-09",
          "1959-07-10",
          "1959-07-11",
          "1959-07-12",
          "1959-07-13",
          "1959-07-14",
          "1959-07-15",
          "1959-07-16",
          "1959-07-17",
          "1959-07-18",
          "1959-07-19",
          "1959-07-20",
          "1959-07-21",
          "1959-07-22",
          "1959-07-23",
          "1959-07-24",
          "1959-07-25",
          "1959-07-26",
          "1959-07-27",
          "1959-07-28",
          "1959-07-29",
          "1959-07-30",
          "1959-07-31",
          "1959-08-01",
          "1959-08-02",
          "1959-08-03",
          "1959-08-04",
          "1959-08-05",
          "1959-08-06",
          "1959-08-07",
          "1959-08-08",
          "1959-08-09",
          "1959-08-10",
          "1959-08-11",
          "1959-08-12",
          "1959-08-13",
          "1959-08-14",
          "1959-08-15",
          "1959-08-16",
          "1959-08-17",
          "1959-08-18",
          "1959-08-19",
          "1959-08-20",
          "1959-08-21",
          "1959-08-22",
          "1959-08-23",
          "1959-08-24",
          "1959-08-25",
          "1959-08-26",
          "1959-08-27",
          "1959-08-28",
          "1959-08-29",
          "1959-08-30",
          "1959-08-31",
          "1959-09-01",
          "1959-09-02",
          "1959-09-03",
          "1959-09-04",
          "1959-09-05",
          "1959-09-06",
          "1959-09-07",
          "1959-09-08",
          "1959-09-09",
          "1959-09-10",
          "1959-09-11",
          "1959-09-12",
          "1959-09-13",
          "1959-09-14",
          "1959-09-15",
          "1959-09-16",
          "1959-09-17",
          "1959-09-18",
          "1959-09-19",
          "1959-09-20",
          "1959-09-21",
          "1959-09-22",
          "1959-09-23",
          "1959-09-24",
          "1959-09-25",
          "1959-09-26",
          "1959-09-27",
          "1959-09-28",
          "1959-09-29",
          "1959-09-30",
          "1959-10-01",
          "1959-10-02",
          "1959-10-03",
          "1959-10-04",
          "1959-10-05",
          "1959-10-06",
          "1959-10-07",
          "1959-10-08",
          "1959-10-09",
          "1959-10-10",
          "1959-10-11",
          "1959-10-12",
          "1959-10-13",
          "1959-10-14",
          "1959-10-15",
          "1959-10-16",
          "1959-10-17",
          "1959-10-18",
          "1959-10-19",
          "1959-10-20",
          "1959-10-21",
          "1959-10-22",
          "1959-10-23",
          "1959-10-24",
          "1959-10-25",
          "1959-10-26",
          "1959-10-27",
          "1959-10-28",
          "1959-10-29",
          "1959-10-30",
          "1959-10-31",
          "1959-11-01",
          "1959-11-02",
          "1959-11-03",
          "1959-11-04",
          "1959-11-05",
          "1959-11-06",
          "1959-11-07",
          "1959-11-08",
          "1959-11-09",
          "1959-11-10",
          "1959-11-11",
          "1959-11-12",
          "1959-11-13",
          "1959-11-14",
          "1959-11-15",
          "1959-11-16",
          "1959-11-17",
          "1959-11-18",
          "1959-11-19",
          "1959-11-20",
          "1959-11-21",
          "1959-11-22",
          "1959-11-23",
          "1959-11-24",
          "1959-11-25",
          "1959-11-26",
          "1959-11-27",
          "1959-11-28",
          "1959-11-29",
          "1959-11-30",
          "1959-12-01",
          "1959-12-02",
          "1959-12-03",
          "1959-12-04",
          "1959-12-05",
          "1959-12-06",
          "1959-12-07",
          "1959-12-08",
          "1959-12-09",
          "1959-12-10",
          "1959-12-11",
          "1959-12-12",
          "1959-12-13",
          "1959-12-14",
          "1959-12-15",
          "1959-12-16",
          "1959-12-17",
          "1959-12-18",
          "1959-12-19",
          "1959-12-20",
          "1959-12-21",
          "1959-12-22",
          "1959-12-23",
          "1959-12-24",
          "1959-12-25",
          "1959-12-26",
          "1959-12-27",
          "1959-12-28",
          "1959-12-29",
          "1959-12-30",
          "1959-12-31"
         ],
         "y": [
          36.125,
          36.333333333333336,
          35.4,
          35.63636363636363,
          35.416666666666664,
          36.92307692307692,
          37.642857142857146,
          38.13333333333333,
          38.0625,
          38.76470588235294,
          39.0,
          39.10526315789474,
          39.75,
          39.476190476190474,
          40.09090909090909,
          40.04347826086956,
          39.708333333333336,
          39.6,
          39.73076923076923,
          39.7037037037037,
          39.535714285714285,
          39.689655172413794,
          39.63333333333333,
          39.12903225806452,
          38.625,
          38.39393939393939,
          38.55882352941177,
          38.542857142857144,
          38.861111111111114,
          38.83783783783784,
          39.1578947368421,
          38.94871794871795,
          38.75,
          39.048780487804876,
          38.976190476190474,
          39.116279069767444,
          39.38636363636363,
          39.266666666666666,
          39.54347826086956,
          39.702127659574465,
          39.8125,
          39.93877551020408,
          39.92,
          40.07843137254902,
          40.01923076923077,
          39.924528301886795,
          40.148148148148145,
          40.18181818181818,
          40.267857142857146,
          40.24561403508772,
          40.189655172413794,
          40.016949152542374,
          39.93333333333333,
          39.73770491803279,
          39.82258064516129,
          39.73015873015873,
          39.671875,
          39.83076923076923,
          39.89393939393939,
          39.88059701492537,
          39.76470588235294,
          39.7536231884058,
          39.82857142857143,
          39.87323943661972,
          39.861111111111114,
          39.73972602739726,
          39.567567567567565,
          39.44,
          39.473684210526315,
          39.55844155844156,
          39.57692307692308,
          39.53164556962025,
          39.6,
          39.67901234567901,
          39.71951219512195,
          39.69879518072289,
          39.63095238095238,
          39.576470588235296,
          39.76744186046512,
          39.724137931034484,
          39.63636363636363,
          39.752808988764045,
          39.766666666666666,
          39.75824175824176,
          39.77173913043478,
          39.8494623655914,
          39.787234042553195,
          39.747368421052634,
          39.677083333333336,
          39.628865979381445,
          39.61224489795919,
          39.5959595959596,
          39.54,
          39.67326732673267,
          39.61764705882353,
          39.56310679611651,
          39.54807692307692,
          39.50476190476191,
          39.43396226415094,
          39.45794392523364,
          39.407407407407405,
          39.46788990825688,
          39.38181818181818,
          39.44144144144144,
          39.49107142857143,
          39.61946902654867,
          39.57017543859649,
          39.54782608695652,
          39.508620689655174,
          39.51282051282051,
          39.53389830508475,
          39.6890756302521,
          39.78333333333333,
          39.71900826446281,
          39.68032786885246,
          39.666666666666664,
          39.61290322580645,
          39.608,
          39.666666666666664,
          39.653543307086615,
          39.75,
          39.674418604651166,
          39.63076923076923,
          39.63358778625954,
          39.59848484848485,
          39.61654135338346,
          39.62686567164179,
          39.644444444444446,
          39.63235294117647,
          39.518248175182485,
          39.47826086956522,
          39.50359712230216,
          39.47857142857143,
          39.5886524822695,
          39.598591549295776,
          39.63636363636363,
          39.645833333333336,
          39.62758620689655,
          39.65068493150685,
          39.64625850340136,
          39.601351351351354,
          39.624161073825505,
          39.626666666666665,
          39.615894039735096,
          39.651315789473685,
          39.69281045751634,
          39.65584415584416,
          39.6258064516129,
          39.67948717948718,
          39.7515923566879,
          39.72784810126582,
          39.685534591194966,
          39.725,
          39.73913043478261,
          39.79012345679013,
          39.75460122699386,
          39.76219512195122,
          39.733333333333334,
          39.734939759036145,
          39.70059880239521,
          39.642857142857146,
          39.62130177514793,
          39.62352941176471,
          39.619883040935676,
          39.651162790697676,
          39.641618497109825,
          39.68390804597701,
          39.645714285714284,
          39.59090909090909,
          39.6045197740113,
          39.62359550561798,
          39.63128491620112,
          39.638888888888886,
          39.74585635359116,
          39.76373626373626,
          39.79234972677595,
          39.78260869565217,
          39.76756756756757,
          39.795698924731184,
          39.80748663101604,
          39.898936170212764,
          39.93121693121693,
          39.98947368421052,
          39.99476439790576,
          40.03125,
          39.95854922279793,
          39.93298969072165,
          39.95384615384615,
          39.95918367346939,
          39.96954314720812,
          39.94949494949495,
          39.97487437185929,
          40.0,
          40.024875621890544,
          40.05940594059406,
          40.04926108374384,
          40.05882352941177,
          40.03414634146341,
          40.01456310679612,
          40.009661835748794,
          40.03365384615385,
          40.047846889952154,
          40.08095238095238,
          40.06161137440758,
          40.06603773584906,
          40.11267605633803,
          40.10747663551402,
          40.11162790697674,
          40.138888888888886,
          40.24884792626728,
          40.27064220183486,
          40.242009132420094,
          40.231818181818184,
          40.248868778280546,
          40.28378378378378,
          40.309417040358746,
          40.325892857142854,
          40.31111111111111,
          40.30530973451327,
          40.3215859030837,
          40.3421052631579,
          40.31004366812227,
          40.32608695652174,
          40.316017316017316,
          40.34051724137931,
          40.36480686695279,
          40.363247863247864,
          40.35744680851064,
          40.3728813559322,
          40.40506329113924,
          40.445378151260506,
          40.44769874476987,
          40.454166666666666,
          40.49792531120332,
          40.5,
          40.51440329218107,
          40.50409836065574,
          40.61632653061225,
          40.613821138211385,
          40.61943319838057,
          40.66129032258065,
          40.674698795180724,
          40.692,
          40.67330677290837,
          40.73809523809524,
          40.75098814229249,
          40.75590551181102,
          40.80392156862745,
          40.80859375,
          40.782101167315176,
          40.77906976744186,
          40.83783783783784,
          40.85,
          40.89655172413793,
          40.95038167938932,
          40.94296577946768,
          41.01136363636363,
          41.06415094339623,
          41.18421052631579,
          41.235955056179776,
          41.24626865671642,
          41.25278810408922,
          41.24814814814815,
          41.269372693726936,
          41.30514705882353,
          41.35897435897436,
          41.386861313868614,
          41.43272727272727,
          41.48550724637681,
          41.505415162454874,
          41.514388489208635,
          41.51971326164875,
          41.52142857142857,
          41.5338078291815,
          41.56382978723404,
          41.58657243816254,
          41.59154929577465,
          41.5859649122807,
          41.64685314685315,
          41.64459930313589,
          41.645833333333336,
          41.67820069204152,
          41.703448275862065,
          41.7147766323024,
          41.71917808219178,
          41.720136518771334,
          41.70748299319728,
          41.72542372881356,
          41.71283783783784,
          41.69360269360269,
          41.69463087248322,
          41.67224080267559,
          41.626666666666665,
          41.63455149501661,
          41.615894039735096,
          41.62706270627063,
          41.641447368421055,
          41.662295081967216,
          41.68627450980392,
          41.69055374592834,
          41.69155844155844,
          41.74757281553398,
          41.75806451612903,
          41.79099678456592,
          41.80448717948718,
          41.805111821086264,
          41.79936305732484,
          41.79365079365079,
          41.80379746835443,
          41.782334384858046,
          41.76100628930818,
          41.755485893416925,
          41.746875,
          41.7196261682243,
          41.72049689440994,
          41.73684210526316,
          41.76543209876543,
          41.77230769230769,
          41.76687116564417,
          41.813455657492355,
          41.83536585365854,
          41.84498480243161,
          41.86666666666667,
          41.894259818731115,
          41.9066265060241,
          41.912912912912915,
          41.94311377245509,
          41.95223880597015,
          41.92261904761905,
          41.93471810089021,
          41.93195266272189,
          41.908554572271385,
          41.88235294117647,
          41.86510263929619,
          41.8859649122807,
          41.88921282798834,
          41.89244186046512,
          41.869565217391305,
          41.861271676300575,
          41.84149855907781,
          41.87068965517241,
          41.88538681948424,
          41.91428571428571,
          41.9059829059829,
          41.90056818181818,
          41.90084985835694,
          41.90112994350282,
          41.93239436619718,
          41.924157303370784,
          41.9187675070028,
          41.90782122905028,
          41.91364902506964,
          41.891666666666666,
          41.878116343490305,
          41.9060773480663,
          41.92286501377411,
          41.95879120879121,
          41.98082191780822
         ]
        },
        {
         "hoverinfo": "skip",
         "line": {
          "color": "lightgray",
          "dash": "dash"
         },
         "mode": "lines",
         "name": "Actionably Bad",
         "showlegend": false,
         "type": "scatter",
         "x": [
          "1959-01-08",
          "1959-01-09",
          "1959-01-10",
          "1959-01-11",
          "1959-01-12",
          "1959-01-13",
          "1959-01-14",
          "1959-01-15",
          "1959-01-16",
          "1959-01-17",
          "1959-01-18",
          "1959-01-19",
          "1959-01-20",
          "1959-01-21",
          "1959-01-22",
          "1959-01-23",
          "1959-01-24",
          "1959-01-25",
          "1959-01-26",
          "1959-01-27",
          "1959-01-28",
          "1959-01-29",
          "1959-01-30",
          "1959-01-31",
          "1959-02-01",
          "1959-02-02",
          "1959-02-03",
          "1959-02-04",
          "1959-02-05",
          "1959-02-06",
          "1959-02-07",
          "1959-02-08",
          "1959-02-09",
          "1959-02-10",
          "1959-02-11",
          "1959-02-12",
          "1959-02-13",
          "1959-02-14",
          "1959-02-15",
          "1959-02-16",
          "1959-02-17",
          "1959-02-18",
          "1959-02-19",
          "1959-02-20",
          "1959-02-21",
          "1959-02-22",
          "1959-02-23",
          "1959-02-24",
          "1959-02-25",
          "1959-02-26",
          "1959-02-27",
          "1959-02-28",
          "1959-03-01",
          "1959-03-02",
          "1959-03-03",
          "1959-03-04",
          "1959-03-05",
          "1959-03-06",
          "1959-03-07",
          "1959-03-08",
          "1959-03-09",
          "1959-03-10",
          "1959-03-11",
          "1959-03-12",
          "1959-03-13",
          "1959-03-14",
          "1959-03-15",
          "1959-03-16",
          "1959-03-17",
          "1959-03-18",
          "1959-03-19",
          "1959-03-20",
          "1959-03-21",
          "1959-03-22",
          "1959-03-23",
          "1959-03-24",
          "1959-03-25",
          "1959-03-26",
          "1959-03-27",
          "1959-03-28",
          "1959-03-29",
          "1959-03-30",
          "1959-03-31",
          "1959-04-01",
          "1959-04-02",
          "1959-04-03",
          "1959-04-04",
          "1959-04-05",
          "1959-04-06",
          "1959-04-07",
          "1959-04-08",
          "1959-04-09",
          "1959-04-10",
          "1959-04-11",
          "1959-04-12",
          "1959-04-13",
          "1959-04-14",
          "1959-04-15",
          "1959-04-16",
          "1959-04-17",
          "1959-04-18",
          "1959-04-19",
          "1959-04-20",
          "1959-04-21",
          "1959-04-22",
          "1959-04-23",
          "1959-04-24",
          "1959-04-25",
          "1959-04-26",
          "1959-04-27",
          "1959-04-28",
          "1959-04-29",
          "1959-04-30",
          "1959-05-01",
          "1959-05-02",
          "1959-05-03",
          "1959-05-04",
          "1959-05-05",
          "1959-05-06",
          "1959-05-07",
          "1959-05-08",
          "1959-05-09",
          "1959-05-10",
          "1959-05-11",
          "1959-05-12",
          "1959-05-13",
          "1959-05-14",
          "1959-05-15",
          "1959-05-16",
          "1959-05-17",
          "1959-05-18",
          "1959-05-19",
          "1959-05-20",
          "1959-05-21",
          "1959-05-22",
          "1959-05-23",
          "1959-05-24",
          "1959-05-25",
          "1959-05-26",
          "1959-05-27",
          "1959-05-28",
          "1959-05-29",
          "1959-05-30",
          "1959-05-31",
          "1959-06-01",
          "1959-06-02",
          "1959-06-03",
          "1959-06-04",
          "1959-06-05",
          "1959-06-06",
          "1959-06-07",
          "1959-06-08",
          "1959-06-09",
          "1959-06-10",
          "1959-06-11",
          "1959-06-12",
          "1959-06-13",
          "1959-06-14",
          "1959-06-15",
          "1959-06-16",
          "1959-06-17",
          "1959-06-18",
          "1959-06-19",
          "1959-06-20",
          "1959-06-21",
          "1959-06-22",
          "1959-06-23",
          "1959-06-24",
          "1959-06-25",
          "1959-06-26",
          "1959-06-27",
          "1959-06-28",
          "1959-06-29",
          "1959-06-30",
          "1959-07-01",
          "1959-07-02",
          "1959-07-03",
          "1959-07-04",
          "1959-07-05",
          "1959-07-06",
          "1959-07-07",
          "1959-07-08",
          "1959-07-09",
          "1959-07-10",
          "1959-07-11",
          "1959-07-12",
          "1959-07-13",
          "1959-07-14",
          "1959-07-15",
          "1959-07-16",
          "1959-07-17",
          "1959-07-18",
          "1959-07-19",
          "1959-07-20",
          "1959-07-21",
          "1959-07-22",
          "1959-07-23",
          "1959-07-24",
          "1959-07-25",
          "1959-07-26",
          "1959-07-27",
          "1959-07-28",
          "1959-07-29",
          "1959-07-30",
          "1959-07-31",
          "1959-08-01",
          "1959-08-02",
          "1959-08-03",
          "1959-08-04",
          "1959-08-05",
          "1959-08-06",
          "1959-08-07",
          "1959-08-08",
          "1959-08-09",
          "1959-08-10",
          "1959-08-11",
          "1959-08-12",
          "1959-08-13",
          "1959-08-14",
          "1959-08-15",
          "1959-08-16",
          "1959-08-17",
          "1959-08-18",
          "1959-08-19",
          "1959-08-20",
          "1959-08-21",
          "1959-08-22",
          "1959-08-23",
          "1959-08-24",
          "1959-08-25",
          "1959-08-26",
          "1959-08-27",
          "1959-08-28",
          "1959-08-29",
          "1959-08-30",
          "1959-08-31",
          "1959-09-01",
          "1959-09-02",
          "1959-09-03",
          "1959-09-04",
          "1959-09-05",
          "1959-09-06",
          "1959-09-07",
          "1959-09-08",
          "1959-09-09",
          "1959-09-10",
          "1959-09-11",
          "1959-09-12",
          "1959-09-13",
          "1959-09-14",
          "1959-09-15",
          "1959-09-16",
          "1959-09-17",
          "1959-09-18",
          "1959-09-19",
          "1959-09-20",
          "1959-09-21",
          "1959-09-22",
          "1959-09-23",
          "1959-09-24",
          "1959-09-25",
          "1959-09-26",
          "1959-09-27",
          "1959-09-28",
          "1959-09-29",
          "1959-09-30",
          "1959-10-01",
          "1959-10-02",
          "1959-10-03",
          "1959-10-04",
          "1959-10-05",
          "1959-10-06",
          "1959-10-07",
          "1959-10-08",
          "1959-10-09",
          "1959-10-10",
          "1959-10-11",
          "1959-10-12",
          "1959-10-13",
          "1959-10-14",
          "1959-10-15",
          "1959-10-16",
          "1959-10-17",
          "1959-10-18",
          "1959-10-19",
          "1959-10-20",
          "1959-10-21",
          "1959-10-22",
          "1959-10-23",
          "1959-10-24",
          "1959-10-25",
          "1959-10-26",
          "1959-10-27",
          "1959-10-28",
          "1959-10-29",
          "1959-10-30",
          "1959-10-31",
          "1959-11-01",
          "1959-11-02",
          "1959-11-03",
          "1959-11-04",
          "1959-11-05",
          "1959-11-06",
          "1959-11-07",
          "1959-11-08",
          "1959-11-09",
          "1959-11-10",
          "1959-11-11",
          "1959-11-12",
          "1959-11-13",
          "1959-11-14",
          "1959-11-15",
          "1959-11-16",
          "1959-11-17",
          "1959-11-18",
          "1959-11-19",
          "1959-11-20",
          "1959-11-21",
          "1959-11-22",
          "1959-11-23",
          "1959-11-24",
          "1959-11-25",
          "1959-11-26",
          "1959-11-27",
          "1959-11-28",
          "1959-11-29",
          "1959-11-30",
          "1959-12-01",
          "1959-12-02",
          "1959-12-03",
          "1959-12-04",
          "1959-12-05",
          "1959-12-06",
          "1959-12-07",
          "1959-12-08",
          "1959-12-09",
          "1959-12-10",
          "1959-12-11",
          "1959-12-12",
          "1959-12-13",
          "1959-12-14",
          "1959-12-15",
          "1959-12-16",
          "1959-12-17",
          "1959-12-18",
          "1959-12-19",
          "1959-12-20",
          "1959-12-21",
          "1959-12-22",
          "1959-12-23",
          "1959-12-24",
          "1959-12-25",
          "1959-12-26",
          "1959-12-27",
          "1959-12-28",
          "1959-12-29",
          "1959-12-30",
          "1959-12-31"
         ],
         "y": [
          16.365,
          17.380833333333335,
          15.30222222222222,
          14.62236363636363,
          15.103939393939388,
          13.42641025641025,
          14.316703296703295,
          16.09333333333333,
          16.073166666666662,
          15.988455882352941,
          16.468235294117644,
          17.529707602339183,
          17.77,
          16.201190476190472,
          15.51757575757576,
          14.89438735177865,
          14.843115942028987,
          15.216666666666669,
          15.684369230769235,
          16.172934472934468,
          16.48238095238095,
          16.604655172413793,
          16.794022988505745,
          15.809698924731183,
          15.972096774193549,
          15.783939393939391,
          15.586096256684492,
          15.776386554621851,
          15.833111111111116,
          15.562837837837836,
          15.57735419630156,
          14.58871794871795,
          15.014615384615382,
          14.576780487804879,
          14.127897793263642,
          14.289612403100776,
          14.765898520084562,
          14.178030303030301,
          13.94836714975845,
          14.374301572617942,
          14.910372340425528,
          15.500025510204079,
          15.600000000000001,
          15.766031372549016,
          15.609819004524883,
          15.8822206095791,
          15.706261355695311,
          15.699966329966326,
          16.08603896103896,
          16.210614035087715,
          16.482988505747127,
          16.397983635300996,
          16.48926553672316,
          16.374038251366123,
          16.100613432046536,
          15.918868407578081,
          16.15409722222222,
          16.098581730769226,
          16.281324009324003,
          16.424233378561734,
          16.38052677787533,
          16.43950554134697,
          16.62103519668737,
          16.921239436619718,
          17.08251956181534,
          16.98194824961948,
          16.975786745649756,
          17.04567567567567,
          16.95235087719298,
          17.19344155844156,
          17.329650349650354,
          17.399081467056146,
          17.444556962025317,
          17.76726234567901,
          17.979759108702194,
          18.061965912430203,
          18.12661503155479,
          18.296470588235294,
          18.080618331053355,
          17.670882117080996,
          17.714294670846392,
          17.535763534218592,
          17.53026217228464,
          17.70979731379731,
          17.907123745819398,
          18.049027582982703,
          17.8493845801876,
          17.9863045912654,
          18.061083333333332,
          18.182615979381442,
          18.304822217546814,
          18.505959595959595,
          18.555555555555554,
          18.39326732673267,
          18.0479440885265,
          18.20487150199886,
          18.293902165795366,
          18.378223443223444,
          18.432628930817607,
          18.403792981837416,
          18.35114572516441,
          18.311038056405028,
          18.028607172643873,
          17.89544144144144,
          18.115215572715574,
          18.220719026548668,
          17.889998447446047,
          17.98782608695652,
          18.08983808095952,
          18.16402740937223,
          18.322103433289875,
          18.296363765845317,
          18.413921568627448,
          18.106508264462807,
          18.180493158108657,
          18.27765027322404,
          18.289651193286122,
          18.327999999999996,
          18.386666666666663,
          18.352432195975503,
          18.323385826771652,
          17.958012354651164,
          18.000226595110316,
          18.04666470933646,
          18.074820726347443,
          18.114874686716792,
          18.26686567164179,
          18.423996683250415,
          18.490278867102397,
          18.257806998711896,
          18.178844811171057,
          18.18504639766448,
          18.17943473792394,
          18.080652482269503,
          17.979017081210667,
          18.094110115236873,
          18.17981934731935,
          18.23675287356322,
          18.297305621162025,
          18.36625850340136,
          18.35754182754183,
          18.344161073825504,
          18.435928411633107,
          18.53096070640176,
          18.582706517950506,
          18.745310457516336,
          18.636628469569647,
          18.725806451612904,
          18.69122911497105,
          18.846720561816106,
          18.701988228654354,
          18.742243451954458,
          18.695943396226415,
          18.77500543478261,
          18.857079978529256,
          18.72089752329016,
          18.74329941642975,
          18.745284552845526,
          18.793485213581597,
          18.78915301926268,
          18.792917023096667,
          18.80046844181459,
          18.862937695788375,
          18.96576539387685,
          19.024496124031007,
          19.026618497109823,
          19.049688392797822,
          18.91605911330049,
          18.934109090909093,
          18.883724319465845,
          19.004838443471083,
          19.09847592743707,
          19.220788330229666,
          19.17518968692449,
          19.071581567603666,
          19.184657419083646,
          19.185778094559275,
          19.26821974148061,
          19.292131357163615,
          19.371250071876254,
          19.35861531459779,
          19.344514803557356,
          19.441325536062376,
          19.41476439790576,
          19.475438481675393,
          19.218861722797925,
          19.176720260669832,
          19.181165741475017,
          19.252106750392468,
          19.35454314720812,
          19.35812439111931,
          19.366591543576465,
          19.495276381909548,
          19.622675621890544,
          19.732241761489583,
          19.70421157879335,
          19.76158215010142,
          19.74512673362027,
          19.811538716552214,
          19.865972515360443,
          19.910175585284282,
          19.99553919764446,
          20.073679653679655,
          20.010278041074248,
          20.04670124295806,
          20.074845867658787,
          20.026349874950636,
          20.09947837426646,
          20.157958656330745,
          20.138755333674688,
          20.020319621189696,
          19.950357756273306,
          19.984238273142385,
          20.020777869189637,
          20.099077901430842,
          20.191669292610996,
          20.274502722613704,
          20.26611111111111,
          20.325754178957716,
          20.371585903083698,
          20.468272664038953,
          20.383377001455603,
          20.358663375735716,
          20.366017316017313,
          20.384759665621733,
          20.495065487642442,
          20.510286489857307,
          20.577959629023457,
          20.620966462315177,
          20.69175820639348,
          20.792804311598058,
          20.777110509475754,
          20.854752440725242,
          20.880425311203318,
          20.853526970954356,
          20.916138829371153,
          20.920806179585778,
          20.786244563399134,
          20.560678281068526,
          20.626181165860242,
          20.652059553349876,
          20.67106976292266,
          20.75802409638554,
          20.723306772908366,
          20.645027509011573,
          20.600432586736936,
          20.66396875291774,
          20.67589007256446,
          20.6447506127451,
          20.613898042315174,
          20.62724097366754,
          20.5991556672952,
          20.566216216216215,
          20.598705570291774,
          20.70992190927437,
          20.617316924505843,
          20.56071724853093,
          20.65066609491138,
          20.667078450844087,
          20.615955056179775,
          20.59390910615462,
          20.667564223492203,
          20.709783835880486,
          20.738113434467675,
          20.810386911222054,
          20.890665535444942,
          20.92532285233015,
          20.997325812873253,
          21.105070882740446,
          21.11208182912154,
          21.165868633612966,
          21.234821175317812,
          21.299708141321045,
          21.355807829181497,
          21.410306655561442,
          21.48565045234694,
          21.51465883641069,
          21.551669137632814,
          21.505519813519815,
          21.406277624814212,
          21.46876016260163,
          21.488061803152632,
          21.5647631547548,
          21.608845597819645,
          21.664057807277693,
          21.724588573565853,
          21.743865245757007,
          21.7482808716707,
          21.722261566651397,
          21.752589180089178,
          21.767021444873794,
          21.74901932616552,
          21.707803790412484,
          21.640218161683276,
          21.617289388572303,
          21.615407077131554,
          21.68705792947716,
          21.756045081967212,
          21.836569591771134,
          21.853560281876053,
          21.91051609628157,
          21.883936451897615,
          21.83819396596722,
          21.87531936521108,
          21.90152898013027,
          21.931842590317032,
          21.972589894385543,
          22.03002022040238,
          22.06068635724332,
          22.017524258275767,
          22.058545721484833,
          22.073158849391767,
          22.117909482758623,
          22.102126168224302,
          22.08953116232271,
          22.12553775743707,
          22.181902687000726,
          22.191752136752136,
          22.213825011798015,
          22.18167651638806,
          22.198546281793092,
          22.235594558529172,
          22.284539007092196,
          22.35535072782202,
          22.38656608306337,
          22.435623756286407,
          22.46041106975239,
          22.472119045491105,
          22.397425017768303,
          22.35680143422354,
          22.372664828893996,
          22.35204569653174,
          22.375686274509803,
          22.392337933413835,
          22.368897463600348,
          22.38254616132167,
          22.442645942097773,
          22.406716380182,
          22.416286169054196,
          22.421960986823475,
          22.376799165258866,
          22.40929486546125,
          22.455890298812932,
          22.4043829059829,
          22.446949948199943,
          22.487383949266032,
          22.542659688545317,
          22.545953688231076,
          22.487424909004584,
          22.52916076542976,
          22.557625150618904,
          22.572922768086396,
          22.53071959145775,
          22.54878301015697,
          22.519761558592613,
          22.56071031764151,
          22.598681015953748,
          22.63736037934668
         ]
        },
        {
         "hoverinfo": "skip",
         "line": {
          "color": "lightgray",
          "dash": "dash"
         },
         "mode": "lines",
         "name": "Crisis",
         "showlegend": false,
         "type": "scatter",
         "x": [
          "1959-01-08",
          "1959-01-09",
          "1959-01-10",
          "1959-01-11",
          "1959-01-12",
          "1959-01-13",
          "1959-01-14",
          "1959-01-15",
          "1959-01-16",
          "1959-01-17",
          "1959-01-18",
          "1959-01-19",
          "1959-01-20",
          "1959-01-21",
          "1959-01-22",
          "1959-01-23",
          "1959-01-24",
          "1959-01-25",
          "1959-01-26",
          "1959-01-27",
          "1959-01-28",
          "1959-01-29",
          "1959-01-30",
          "1959-01-31",
          "1959-02-01",
          "1959-02-02",
          "1959-02-03",
          "1959-02-04",
          "1959-02-05",
          "1959-02-06",
          "1959-02-07",
          "1959-02-08",
          "1959-02-09",
          "1959-02-10",
          "1959-02-11",
          "1959-02-12",
          "1959-02-13",
          "1959-02-14",
          "1959-02-15",
          "1959-02-16",
          "1959-02-17",
          "1959-02-18",
          "1959-02-19",
          "1959-02-20",
          "1959-02-21",
          "1959-02-22",
          "1959-02-23",
          "1959-02-24",
          "1959-02-25",
          "1959-02-26",
          "1959-02-27",
          "1959-02-28",
          "1959-03-01",
          "1959-03-02",
          "1959-03-03",
          "1959-03-04",
          "1959-03-05",
          "1959-03-06",
          "1959-03-07",
          "1959-03-08",
          "1959-03-09",
          "1959-03-10",
          "1959-03-11",
          "1959-03-12",
          "1959-03-13",
          "1959-03-14",
          "1959-03-15",
          "1959-03-16",
          "1959-03-17",
          "1959-03-18",
          "1959-03-19",
          "1959-03-20",
          "1959-03-21",
          "1959-03-22",
          "1959-03-23",
          "1959-03-24",
          "1959-03-25",
          "1959-03-26",
          "1959-03-27",
          "1959-03-28",
          "1959-03-29",
          "1959-03-30",
          "1959-03-31",
          "1959-04-01",
          "1959-04-02",
          "1959-04-03",
          "1959-04-04",
          "1959-04-05",
          "1959-04-06",
          "1959-04-07",
          "1959-04-08",
          "1959-04-09",
          "1959-04-10",
          "1959-04-11",
          "1959-04-12",
          "1959-04-13",
          "1959-04-14",
          "1959-04-15",
          "1959-04-16",
          "1959-04-17",
          "1959-04-18",
          "1959-04-19",
          "1959-04-20",
          "1959-04-21",
          "1959-04-22",
          "1959-04-23",
          "1959-04-24",
          "1959-04-25",
          "1959-04-26",
          "1959-04-27",
          "1959-04-28",
          "1959-04-29",
          "1959-04-30",
          "1959-05-01",
          "1959-05-02",
          "1959-05-03",
          "1959-05-04",
          "1959-05-05",
          "1959-05-06",
          "1959-05-07",
          "1959-05-08",
          "1959-05-09",
          "1959-05-10",
          "1959-05-11",
          "1959-05-12",
          "1959-05-13",
          "1959-05-14",
          "1959-05-15",
          "1959-05-16",
          "1959-05-17",
          "1959-05-18",
          "1959-05-19",
          "1959-05-20",
          "1959-05-21",
          "1959-05-22",
          "1959-05-23",
          "1959-05-24",
          "1959-05-25",
          "1959-05-26",
          "1959-05-27",
          "1959-05-28",
          "1959-05-29",
          "1959-05-30",
          "1959-05-31",
          "1959-06-01",
          "1959-06-02",
          "1959-06-03",
          "1959-06-04",
          "1959-06-05",
          "1959-06-06",
          "1959-06-07",
          "1959-06-08",
          "1959-06-09",
          "1959-06-10",
          "1959-06-11",
          "1959-06-12",
          "1959-06-13",
          "1959-06-14",
          "1959-06-15",
          "1959-06-16",
          "1959-06-17",
          "1959-06-18",
          "1959-06-19",
          "1959-06-20",
          "1959-06-21",
          "1959-06-22",
          "1959-06-23",
          "1959-06-24",
          "1959-06-25",
          "1959-06-26",
          "1959-06-27",
          "1959-06-28",
          "1959-06-29",
          "1959-06-30",
          "1959-07-01",
          "1959-07-02",
          "1959-07-03",
          "1959-07-04",
          "1959-07-05",
          "1959-07-06",
          "1959-07-07",
          "1959-07-08",
          "1959-07-09",
          "1959-07-10",
          "1959-07-11",
          "1959-07-12",
          "1959-07-13",
          "1959-07-14",
          "1959-07-15",
          "1959-07-16",
          "1959-07-17",
          "1959-07-18",
          "1959-07-19",
          "1959-07-20",
          "1959-07-21",
          "1959-07-22",
          "1959-07-23",
          "1959-07-24",
          "1959-07-25",
          "1959-07-26",
          "1959-07-27",
          "1959-07-28",
          "1959-07-29",
          "1959-07-30",
          "1959-07-31",
          "1959-08-01",
          "1959-08-02",
          "1959-08-03",
          "1959-08-04",
          "1959-08-05",
          "1959-08-06",
          "1959-08-07",
          "1959-08-08",
          "1959-08-09",
          "1959-08-10",
          "1959-08-11",
          "1959-08-12",
          "1959-08-13",
          "1959-08-14",
          "1959-08-15",
          "1959-08-16",
          "1959-08-17",
          "1959-08-18",
          "1959-08-19",
          "1959-08-20",
          "1959-08-21",
          "1959-08-22",
          "1959-08-23",
          "1959-08-24",
          "1959-08-25",
          "1959-08-26",
          "1959-08-27",
          "1959-08-28",
          "1959-08-29",
          "1959-08-30",
          "1959-08-31",
          "1959-09-01",
          "1959-09-02",
          "1959-09-03",
          "1959-09-04",
          "1959-09-05",
          "1959-09-06",
          "1959-09-07",
          "1959-09-08",
          "1959-09-09",
          "1959-09-10",
          "1959-09-11",
          "1959-09-12",
          "1959-09-13",
          "1959-09-14",
          "1959-09-15",
          "1959-09-16",
          "1959-09-17",
          "1959-09-18",
          "1959-09-19",
          "1959-09-20",
          "1959-09-21",
          "1959-09-22",
          "1959-09-23",
          "1959-09-24",
          "1959-09-25",
          "1959-09-26",
          "1959-09-27",
          "1959-09-28",
          "1959-09-29",
          "1959-09-30",
          "1959-10-01",
          "1959-10-02",
          "1959-10-03",
          "1959-10-04",
          "1959-10-05",
          "1959-10-06",
          "1959-10-07",
          "1959-10-08",
          "1959-10-09",
          "1959-10-10",
          "1959-10-11",
          "1959-10-12",
          "1959-10-13",
          "1959-10-14",
          "1959-10-15",
          "1959-10-16",
          "1959-10-17",
          "1959-10-18",
          "1959-10-19",
          "1959-10-20",
          "1959-10-21",
          "1959-10-22",
          "1959-10-23",
          "1959-10-24",
          "1959-10-25",
          "1959-10-26",
          "1959-10-27",
          "1959-10-28",
          "1959-10-29",
          "1959-10-30",
          "1959-10-31",
          "1959-11-01",
          "1959-11-02",
          "1959-11-03",
          "1959-11-04",
          "1959-11-05",
          "1959-11-06",
          "1959-11-07",
          "1959-11-08",
          "1959-11-09",
          "1959-11-10",
          "1959-11-11",
          "1959-11-12",
          "1959-11-13",
          "1959-11-14",
          "1959-11-15",
          "1959-11-16",
          "1959-11-17",
          "1959-11-18",
          "1959-11-19",
          "1959-11-20",
          "1959-11-21",
          "1959-11-22",
          "1959-11-23",
          "1959-11-24",
          "1959-11-25",
          "1959-11-26",
          "1959-11-27",
          "1959-11-28",
          "1959-11-29",
          "1959-11-30",
          "1959-12-01",
          "1959-12-02",
          "1959-12-03",
          "1959-12-04",
          "1959-12-05",
          "1959-12-06",
          "1959-12-07",
          "1959-12-08",
          "1959-12-09",
          "1959-12-10",
          "1959-12-11",
          "1959-12-12",
          "1959-12-13",
          "1959-12-14",
          "1959-12-15",
          "1959-12-16",
          "1959-12-17",
          "1959-12-18",
          "1959-12-19",
          "1959-12-20",
          "1959-12-21",
          "1959-12-22",
          "1959-12-23",
          "1959-12-24",
          "1959-12-25",
          "1959-12-26",
          "1959-12-27",
          "1959-12-28",
          "1959-12-29",
          "1959-12-30",
          "1959-12-31"
         ],
         "y": [
          6.484999999999996,
          7.904583333333335,
          5.25333333333333,
          4.115363636363629,
          4.947575757575752,
          1.6780769230769153,
          2.6536263736263734,
          5.073333333333331,
          5.078499999999998,
          4.600330882352942,
          5.202352941176471,
          6.741929824561403,
          6.779999999999994,
          4.563690476190473,
          3.230909090909094,
          2.3198418972331964,
          2.4105072463768096,
          3.0249999999999986,
          3.6611692307692323,
          4.407549857549853,
          4.955714285714286,
          5.062155172413789,
          5.374367816091954,
          4.150032258064513,
          4.645645161290325,
          4.478939393939392,
          4.099732620320857,
          4.3931512605042045,
          4.319111111111113,
          3.925337837837837,
          3.7870839260312863,
          2.4087179487179498,
          3.1469230769230734,
          2.340780487804878,
          1.7037514518002297,
          1.8762790697674419,
          2.455665961945023,
          1.6337121212121204,
          1.1508115942028923,
          1.7103885291396779,
          2.4593085106382944,
          3.280650510204076,
          3.440000000000005,
          3.609831372549017,
          3.40511312217194,
          3.8610667634252565,
          3.485317959468894,
          3.459040404040401,
          3.9951298701298654,
          4.193114035087717,
          4.629655172413791,
          4.588500876680307,
          4.767231638418075,
          4.692204918032786,
          4.2396298254891605,
          4.013223246287758,
          4.395208333333329,
          4.232487980769228,
          4.475016317016312,
          4.696051560379914,
          4.68843722563652,
          4.782446717817557,
          5.0172670807453414,
          5.4452394366197225,
          5.6932237871674545,
          5.60305936073059,
          5.679896334690852,
          5.84851351351351,
          5.6916842105263115,
          6.010941558441559,
          6.206013986013986,
          6.332799415774097,
          6.366835443037978,
          6.811387345679009,
          7.109882565492313,
          7.24355127828386,
          7.374446356855998,
          7.656470588235294,
          7.237206566347474,
          6.6442542101042505,
          6.753260188087772,
          6.427240806945861,
          6.412059925093629,
          6.685575091575089,
          6.974816053511702,
          7.148810191678358,
          6.880459849004801,
          7.105772676371785,
          7.253083333333329,
          7.459490979381442,
          7.651110877340628,
          7.960959595959597,
          8.063333333333329,
          7.753267326732669,
          7.263092603377984,
          7.525753854940035,
          7.666814787154589,
          7.814954212454211,
          7.93196226415094,
          7.876717510139301,
          7.823014884042916,
          7.732612130479101,
          7.352001668056715,
          7.122441441441438,
          7.427287644787647,
          7.521344026548668,
          7.0499099518708235,
          7.207826086956523,
          7.3804467766116915,
          7.489630857648095,
          7.716205997392439,
          7.600007833641925,
          7.729215686274507,
          7.300258264462805,
          7.4305758027367546,
          7.583142076502725,
          7.628025177025961,
          7.687999999999995,
          7.746666666666663,
          7.701876640419947,
          7.610078740157476,
          7.099809229651164,
          7.1849552772808565,
          7.253203170874926,
          7.312988665278738,
          7.364041353383456,
          7.586865671641789,
          7.8137728026534,
          7.91924183006536,
          7.627586410476603,
          7.529136781973975,
          7.525771035345642,
          7.529866392600201,
          7.326652482269502,
          7.169229847168111,
          7.3229833546734895,
          7.446812354312357,
          7.541336206896553,
          7.620615965989614,
          7.726258503401361,
          7.735637065637064,
          7.704161073825503,
          7.840559284116328,
          7.9884940397350945,
          8.048401882188916,
          8.271560457516337,
          8.12702062643239,
          8.275806451612901,
          8.197100082712986,
          8.394284664380208,
          8.18905829234862,
          8.270597882334204,
          8.181415094339624,
          8.292942934782609,
          8.390558239398821,
          8.204045671438305,
          8.233851563669013,
          8.251260162601625,
          8.322757940854324,
          8.333430127696417,
          8.367946963216426,
          8.390051775147924,
          8.482641837800209,
          8.638706570347438,
          8.711162790697674,
          8.719118497109822,
          8.732578566208225,
          8.551231527093591,
          8.605709090909091,
          8.523326592193115,
          8.695459912397638,
          8.832071433055049,
          9.011738050900057,
          8.889856353591156,
          8.725504219537367,
          8.88081126523749,
          8.887362794012827,
          9.018545828437134,
          9.04034757337983,
          9.153131792306361,
          9.088454886790302,
          9.051163739727567,
          9.1672514619883,
          9.12476439790576,
          9.197532722513088,
          8.849017972797924,
          8.798585545643924,
          8.794825535289448,
          8.898568288854005,
          9.047043147208118,
          9.062439111931496,
          9.06245012943505,
          9.242914572864322,
          9.421575621890543,
          9.568659671937343,
          9.531686826318097,
          9.61296146044625,
          9.600616929698703,
          9.710026521430265,
          9.794127855166266,
          9.848436454849498,
          9.969385351490615,
          10.07004329004329,
          9.984611374407582,
          10.037032996512565,
          10.055930773319162,
          9.985786494668947,
          10.09340360791132,
          10.167493540051673,
          10.08370903737839,
          9.895158330867115,
          9.804532068199912,
          9.860448318804483,
          9.906732414644182,
          10.00672496025437,
          10.132795418737125,
          10.248807655349133,
          10.243611111111107,
          10.335976401179938,
          10.3965859030837,
          10.531356364479482,
          10.420043668122268,
          10.3749515853427,
          10.391017316017315,
          10.406880877742942,
          10.560194797987272,
          10.583805803162026,
          10.688216039279865,
          10.745009015506668,
          10.835105664020595,
          10.966517391766835,
          10.941816391828695,
          11.05504532775453,
          11.071675311203315,
          11.030290456431533,
          11.117006597966192,
          11.1291600890508,
          10.871203579792574,
          10.534106852497096,
          10.62955514960008,
          10.647444168734491,
          10.669255246793625,
          10.791036144578314,
          10.748306772908368,
          10.598493644469741,
          10.525154808959158,
          10.618000373471098,
          10.611874324532963,
          10.562829044117645,
          10.529796479815175,
          10.551326576780383,
          10.479814582023884,
          10.424324324324324,
          10.449782493368694,
          10.589692024216902,
          10.45449249702493,
          10.335394054614582,
          10.443923670668955,
          10.408512413108237,
          10.305955056179773,
          10.267729330873717,
          10.374952283193696,
          10.440601679746656,
          10.472483804838046,
          10.563006837421316,
          10.656511123680236,
          10.694553621560921,
          10.779625082946247,
          10.914852700922264,
          10.91541516245487,
          10.991608705815128,
          11.092375132152345,
          11.188847926267279,
          11.266807829181499,
          11.333545089725142,
          11.435189459439137,
          11.47621360672871,
          11.53452125030887,
          11.434853146853147,
          11.287116785653371,
          11.380223577235775,
          11.392992358708188,
          11.495420594201164,
          11.555880080578262,
          11.636497669820645,
          11.72681460096311,
          11.76205637203687,
          11.759709443099272,
          11.726973431058177,
          11.782082423332419,
          11.803216731069082,
          11.787408587910484,
          11.748372352285394,
          11.643051495016607,
          11.617987062990906,
          11.609579262562015,
          11.709863210005214,
          11.802920081967212,
          11.911717132754742,
          11.935063549849907,
          12.019994923643129,
          11.952118270079431,
          11.878258690886312,
          11.917480655533659,
          11.950049880451811,
          11.995207974932416,
          12.059203312915894,
          12.148204933778178,
          12.189130801687764,
          12.135119194984629,
          12.207315437573161,
          12.231995327379188,
          12.303426724137932,
          12.293376168224299,
          12.274048296279098,
          12.319885583524023,
          12.390137981118372,
          12.401474358974358,
          12.437301934874935,
          12.365786945835914,
          12.38013649586037,
          12.430899436577949,
          12.493475177304962,
          12.585896182367478,
          12.626535871583009,
          12.696979177973155,
          12.719059718401034,
          12.73205916525158,
          12.63482800284293,
          12.567843100890208,
          12.593020911980052,
          12.573791258661917,
          12.62235294117647,
          12.65595558047266,
          12.610363739260169,
          12.629212827988336,
          12.717747982914098,
          12.67529196157735,
          12.693793415431006,
          12.712192200696308,
          12.629853920302093,
          12.671248888449753,
          12.726692591076542,
          12.653582905982901,
          12.720140831390825,
          12.780650994720578,
          12.863424561066562,
          12.852733349248027,
          12.769058711821486,
          12.834357394643245,
          12.882527111403217,
          12.902559639594777,
          12.850246053853294,
          12.884116343490305,
          12.82660366385577,
          12.879632969575212,
          12.918625919535014,
          12.965629610115911
         ]
        },
        {
         "hoverinfo": "text",
         "hovertext": [
          "<b>Actionably Good</b><br>Metric is <b>high</b> compared with historical ranges.",
          "<b>Actionably Good</b><br>Metric is <b>high</b> compared with historical ranges.<br>Metric <b>increased suddenly</b> compared to historical values.",
          "<b>Actionably Bad</b><br>Metric is within a <b>normal</b> range based on historical values.<br>Metric <b>decreased suddenly</b> compared to historical values.",
          "<b>Extraordinary</b><br>Metric is <b>high</b> compared with historical ranges."
         ],
         "marker": {
          "color": [
           "rgb(116,196,118)",
           "rgb(65,171,93)",
           "rgb(252,146,114)",
           "rgb(35,139,69)"
          ],
          "size": 10
         },
         "mode": "markers",
         "name": "Actionability",
         "showlegend": false,
         "type": "scatter",
         "x": [
          "1959-08-05",
          "1959-09-02",
          "1959-09-03",
          "1959-09-23"
         ],
         "y": [
          64,
          68,
          40,
          73
         ]
        },
        {
         "hoverinfo": "skip",
         "marker": {
          "color": [
           "lightgray",
           "lightgray",
           "lightgray",
           "lightgray"
          ],
          "size": 10
         },
         "mode": "markers",
         "name": "Historical Alerts",
         "showlegend": false,
         "type": "scatter",
         "x": [
          "1959-08-05",
          "1959-09-02",
          "1959-09-03",
          "1959-09-23"
         ],
         "y": [
          64,
          68,
          40,
          73
         ]
        },
        {
         "line": {
          "color": "gray",
          "width": 4
         },
         "mode": "lines",
         "name": "Births",
         "showlegend": false,
         "type": "scatter",
         "x": [
          "1959-01-08",
          "1959-01-09",
          "1959-01-10",
          "1959-01-11",
          "1959-01-12",
          "1959-01-13",
          "1959-01-14",
          "1959-01-15",
          "1959-01-16",
          "1959-01-17",
          "1959-01-18",
          "1959-01-19",
          "1959-01-20",
          "1959-01-21",
          "1959-01-22",
          "1959-01-23",
          "1959-01-24",
          "1959-01-25",
          "1959-01-26",
          "1959-01-27",
          "1959-01-28",
          "1959-01-29",
          "1959-01-30",
          "1959-01-31",
          "1959-02-01",
          "1959-02-02",
          "1959-02-03",
          "1959-02-04",
          "1959-02-05",
          "1959-02-06",
          "1959-02-07",
          "1959-02-08",
          "1959-02-09",
          "1959-02-10",
          "1959-02-11",
          "1959-02-12",
          "1959-02-13",
          "1959-02-14",
          "1959-02-15",
          "1959-02-16",
          "1959-02-17",
          "1959-02-18",
          "1959-02-19",
          "1959-02-20",
          "1959-02-21",
          "1959-02-22",
          "1959-02-23",
          "1959-02-24",
          "1959-02-25",
          "1959-02-26",
          "1959-02-27",
          "1959-02-28",
          "1959-03-01",
          "1959-03-02",
          "1959-03-03",
          "1959-03-04",
          "1959-03-05",
          "1959-03-06",
          "1959-03-07",
          "1959-03-08",
          "1959-03-09",
          "1959-03-10",
          "1959-03-11",
          "1959-03-12",
          "1959-03-13",
          "1959-03-14",
          "1959-03-15",
          "1959-03-16",
          "1959-03-17",
          "1959-03-18",
          "1959-03-19",
          "1959-03-20",
          "1959-03-21",
          "1959-03-22",
          "1959-03-23",
          "1959-03-24",
          "1959-03-25",
          "1959-03-26",
          "1959-03-27",
          "1959-03-28",
          "1959-03-29",
          "1959-03-30",
          "1959-03-31",
          "1959-04-01",
          "1959-04-02",
          "1959-04-03",
          "1959-04-04",
          "1959-04-05",
          "1959-04-06",
          "1959-04-07",
          "1959-04-08",
          "1959-04-09",
          "1959-04-10",
          "1959-04-11",
          "1959-04-12",
          "1959-04-13",
          "1959-04-14",
          "1959-04-15",
          "1959-04-16",
          "1959-04-17",
          "1959-04-18",
          "1959-04-19",
          "1959-04-20",
          "1959-04-21",
          "1959-04-22",
          "1959-04-23",
          "1959-04-24",
          "1959-04-25",
          "1959-04-26",
          "1959-04-27",
          "1959-04-28",
          "1959-04-29",
          "1959-04-30",
          "1959-05-01",
          "1959-05-02",
          "1959-05-03",
          "1959-05-04",
          "1959-05-05",
          "1959-05-06",
          "1959-05-07",
          "1959-05-08",
          "1959-05-09",
          "1959-05-10",
          "1959-05-11",
          "1959-05-12",
          "1959-05-13",
          "1959-05-14",
          "1959-05-15",
          "1959-05-16",
          "1959-05-17",
          "1959-05-18",
          "1959-05-19",
          "1959-05-20",
          "1959-05-21",
          "1959-05-22",
          "1959-05-23",
          "1959-05-24",
          "1959-05-25",
          "1959-05-26",
          "1959-05-27",
          "1959-05-28",
          "1959-05-29",
          "1959-05-30",
          "1959-05-31",
          "1959-06-01",
          "1959-06-02",
          "1959-06-03",
          "1959-06-04",
          "1959-06-05",
          "1959-06-06",
          "1959-06-07",
          "1959-06-08",
          "1959-06-09",
          "1959-06-10",
          "1959-06-11",
          "1959-06-12",
          "1959-06-13",
          "1959-06-14",
          "1959-06-15",
          "1959-06-16",
          "1959-06-17",
          "1959-06-18",
          "1959-06-19",
          "1959-06-20",
          "1959-06-21",
          "1959-06-22",
          "1959-06-23",
          "1959-06-24",
          "1959-06-25",
          "1959-06-26",
          "1959-06-27",
          "1959-06-28",
          "1959-06-29",
          "1959-06-30",
          "1959-07-01",
          "1959-07-02",
          "1959-07-03",
          "1959-07-04",
          "1959-07-05",
          "1959-07-06",
          "1959-07-07",
          "1959-07-08",
          "1959-07-09",
          "1959-07-10",
          "1959-07-11",
          "1959-07-12",
          "1959-07-13",
          "1959-07-14",
          "1959-07-15",
          "1959-07-16",
          "1959-07-17",
          "1959-07-18",
          "1959-07-19",
          "1959-07-20",
          "1959-07-21",
          "1959-07-22",
          "1959-07-23",
          "1959-07-24",
          "1959-07-25",
          "1959-07-26",
          "1959-07-27",
          "1959-07-28",
          "1959-07-29",
          "1959-07-30",
          "1959-07-31",
          "1959-08-01",
          "1959-08-02",
          "1959-08-03",
          "1959-08-04",
          "1959-08-05",
          "1959-08-06",
          "1959-08-07",
          "1959-08-08",
          "1959-08-09",
          "1959-08-10",
          "1959-08-11",
          "1959-08-12",
          "1959-08-13",
          "1959-08-14",
          "1959-08-15",
          "1959-08-16",
          "1959-08-17",
          "1959-08-18",
          "1959-08-19",
          "1959-08-20",
          "1959-08-21",
          "1959-08-22",
          "1959-08-23",
          "1959-08-24",
          "1959-08-25",
          "1959-08-26",
          "1959-08-27",
          "1959-08-28",
          "1959-08-29",
          "1959-08-30",
          "1959-08-31",
          "1959-09-01",
          "1959-09-02",
          "1959-09-03",
          "1959-09-04",
          "1959-09-05",
          "1959-09-06",
          "1959-09-07",
          "1959-09-08",
          "1959-09-09",
          "1959-09-10",
          "1959-09-11",
          "1959-09-12",
          "1959-09-13",
          "1959-09-14",
          "1959-09-15",
          "1959-09-16",
          "1959-09-17",
          "1959-09-18",
          "1959-09-19",
          "1959-09-20",
          "1959-09-21",
          "1959-09-22",
          "1959-09-23",
          "1959-09-24",
          "1959-09-25",
          "1959-09-26",
          "1959-09-27",
          "1959-09-28",
          "1959-09-29",
          "1959-09-30",
          "1959-10-01",
          "1959-10-02",
          "1959-10-03",
          "1959-10-04",
          "1959-10-05",
          "1959-10-06",
          "1959-10-07",
          "1959-10-08",
          "1959-10-09",
          "1959-10-10",
          "1959-10-11",
          "1959-10-12",
          "1959-10-13",
          "1959-10-14",
          "1959-10-15",
          "1959-10-16",
          "1959-10-17",
          "1959-10-18",
          "1959-10-19",
          "1959-10-20",
          "1959-10-21",
          "1959-10-22",
          "1959-10-23",
          "1959-10-24",
          "1959-10-25",
          "1959-10-26",
          "1959-10-27",
          "1959-10-28",
          "1959-10-29",
          "1959-10-30",
          "1959-10-31",
          "1959-11-01",
          "1959-11-02",
          "1959-11-03",
          "1959-11-04",
          "1959-11-05",
          "1959-11-06",
          "1959-11-07",
          "1959-11-08",
          "1959-11-09",
          "1959-11-10",
          "1959-11-11",
          "1959-11-12",
          "1959-11-13",
          "1959-11-14",
          "1959-11-15",
          "1959-11-16",
          "1959-11-17",
          "1959-11-18",
          "1959-11-19",
          "1959-11-20",
          "1959-11-21",
          "1959-11-22",
          "1959-11-23",
          "1959-11-24",
          "1959-11-25",
          "1959-11-26",
          "1959-11-27",
          "1959-11-28",
          "1959-11-29",
          "1959-11-30",
          "1959-12-01",
          "1959-12-02",
          "1959-12-03",
          "1959-12-04",
          "1959-12-05",
          "1959-12-06",
          "1959-12-07",
          "1959-12-08",
          "1959-12-09",
          "1959-12-10",
          "1959-12-11",
          "1959-12-12",
          "1959-12-13",
          "1959-12-14",
          "1959-12-15",
          "1959-12-16",
          "1959-12-17",
          "1959-12-18",
          "1959-12-19",
          "1959-12-20",
          "1959-12-21",
          "1959-12-22",
          "1959-12-23",
          "1959-12-24",
          "1959-12-25",
          "1959-12-26",
          "1959-12-27",
          "1959-12-28",
          "1959-12-29",
          "1959-12-30",
          "1959-12-31"
         ],
         "y": [
          43,
          38,
          27,
          38,
          33,
          55,
          47,
          45,
          37,
          50,
          43,
          41,
          52,
          34,
          53,
          39,
          32,
          37,
          43,
          39,
          35,
          44,
          38,
          24,
          23,
          31,
          44,
          38,
          50,
          38,
          51,
          31,
          31,
          51,
          36,
          45,
          51,
          34,
          52,
          47,
          45,
          46,
          39,
          48,
          37,
          35,
          52,
          42,
          45,
          39,
          37,
          30,
          35,
          28,
          45,
          34,
          36,
          50,
          44,
          39,
          32,
          39,
          45,
          43,
          39,
          31,
          27,
          30,
          42,
          46,
          41,
          36,
          45,
          46,
          43,
          38,
          34,
          35,
          56,
          36,
          32,
          50,
          41,
          39,
          41,
          47,
          34,
          36,
          33,
          35,
          38,
          38,
          34,
          53,
          34,
          34,
          38,
          35,
          32,
          42,
          34,
          46,
          30,
          46,
          45,
          54,
          34,
          37,
          35,
          40,
          42,
          58,
          51,
          32,
          35,
          38,
          33,
          39,
          47,
          38,
          52,
          30,
          34,
          40,
          35,
          42,
          41,
          42,
          38,
          24,
          34,
          43,
          36,
          55,
          41,
          45,
          41,
          37,
          43,
          39,
          33,
          43,
          40,
          38,
          45,
          46,
          34,
          35,
          48,
          51,
          36,
          33,
          46,
          42,
          48,
          34,
          41,
          35,
          40,
          34,
          30,
          36,
          40,
          39,
          45,
          38,
          47,
          33,
          30,
          42,
          43,
          41,
          41,
          59,
          43,
          45,
          38,
          37,
          45,
          42,
          57,
          46,
          51,
          41,
          47,
          26,
          35,
          44,
          41,
          42,
          36,
          45,
          45,
          45,
          47,
          38,
          42,
          35,
          36,
          39,
          45,
          43,
          47,
          36,
          41,
          50,
          39,
          41,
          46,
          64,
          45,
          34,
          38,
          44,
          48,
          46,
          44,
          37,
          39,
          44,
          45,
          33,
          44,
          38,
          46,
          46,
          40,
          39,
          44,
          48,
          50,
          41,
          42,
          51,
          41,
          44,
          38,
          68,
          40,
          42,
          51,
          44,
          45,
          36,
          57,
          44,
          42,
          53,
          42,
          34,
          40,
          56,
          44,
          53,
          55,
          39,
          59,
          55,
          73,
          55,
          44,
          43,
          40,
          47,
          51,
          56,
          49,
          54,
          56,
          47,
          44,
          43,
          42,
          45,
          50,
          48,
          43,
          40,
          59,
          41,
          42,
          51,
          49,
          45,
          43,
          42,
          38,
          47,
          38,
          36,
          42,
          35,
          28,
          44,
          36,
          45,
          46,
          48,
          49,
          43,
          42,
          59,
          45,
          52,
          46,
          42,
          40,
          40,
          45,
          35,
          35,
          40,
          39,
          33,
          42,
          47,
          51,
          44,
          40,
          57,
          49,
          45,
          49,
          51,
          46,
          44,
          52,
          45,
          32,
          46,
          41,
          34,
          33,
          36,
          49,
          43,
          43,
          34,
          39,
          35,
          52,
          47,
          52,
          39,
          40,
          42,
          42,
          53,
          39,
          40,
          38,
          44,
          34,
          37,
          52,
          48,
          55,
          50
         ]
        }
       ],
       "layout": {
        "hovermode": "x",
        "paper_bgcolor": "rgba(0,0,0,0)",
        "plot_bgcolor": "rgba(0,0,0,0)",
        "template": {
         "data": {
          "bar": [
           {
            "error_x": {
             "color": "#2a3f5f"
            },
            "error_y": {
             "color": "#2a3f5f"
            },
            "marker": {
             "line": {
              "color": "#E5ECF6",
              "width": 0.5
             }
            },
            "type": "bar"
           }
          ],
          "barpolar": [
           {
            "marker": {
             "line": {
              "color": "#E5ECF6",
              "width": 0.5
             }
            },
            "type": "barpolar"
           }
          ],
          "carpet": [
           {
            "aaxis": {
             "endlinecolor": "#2a3f5f",
             "gridcolor": "white",
             "linecolor": "white",
             "minorgridcolor": "white",
             "startlinecolor": "#2a3f5f"
            },
            "baxis": {
             "endlinecolor": "#2a3f5f",
             "gridcolor": "white",
             "linecolor": "white",
             "minorgridcolor": "white",
             "startlinecolor": "#2a3f5f"
            },
            "type": "carpet"
           }
          ],
          "choropleth": [
           {
            "colorbar": {
             "outlinewidth": 0,
             "ticks": ""
            },
            "type": "choropleth"
           }
          ],
          "contour": [
           {
            "colorbar": {
             "outlinewidth": 0,
             "ticks": ""
            },
            "colorscale": [
             [
              0.0,
              "#0d0887"
             ],
             [
              0.1111111111111111,
              "#46039f"
             ],
             [
              0.2222222222222222,
              "#7201a8"
             ],
             [
              0.3333333333333333,
              "#9c179e"
             ],
             [
              0.4444444444444444,
              "#bd3786"
             ],
             [
              0.5555555555555556,
              "#d8576b"
             ],
             [
              0.6666666666666666,
              "#ed7953"
             ],
             [
              0.7777777777777778,
              "#fb9f3a"
             ],
             [
              0.8888888888888888,
              "#fdca26"
             ],
             [
              1.0,
              "#f0f921"
             ]
            ],
            "type": "contour"
           }
          ],
          "contourcarpet": [
           {
            "colorbar": {
             "outlinewidth": 0,
             "ticks": ""
            },
            "type": "contourcarpet"
           }
          ],
          "heatmap": [
           {
            "colorbar": {
             "outlinewidth": 0,
             "ticks": ""
            },
            "colorscale": [
             [
              0.0,
              "#0d0887"
             ],
             [
              0.1111111111111111,
              "#46039f"
             ],
             [
              0.2222222222222222,
              "#7201a8"
             ],
             [
              0.3333333333333333,
              "#9c179e"
             ],
             [
              0.4444444444444444,
              "#bd3786"
             ],
             [
              0.5555555555555556,
              "#d8576b"
             ],
             [
              0.6666666666666666,
              "#ed7953"
             ],
             [
              0.7777777777777778,
              "#fb9f3a"
             ],
             [
              0.8888888888888888,
              "#fdca26"
             ],
             [
              1.0,
              "#f0f921"
             ]
            ],
            "type": "heatmap"
           }
          ],
          "heatmapgl": [
           {
            "colorbar": {
             "outlinewidth": 0,
             "ticks": ""
            },
            "colorscale": [
             [
              0.0,
              "#0d0887"
             ],
             [
              0.1111111111111111,
              "#46039f"
             ],
             [
              0.2222222222222222,
              "#7201a8"
             ],
             [
              0.3333333333333333,
              "#9c179e"
             ],
             [
              0.4444444444444444,
              "#bd3786"
             ],
             [
              0.5555555555555556,
              "#d8576b"
             ],
             [
              0.6666666666666666,
              "#ed7953"
             ],
             [
              0.7777777777777778,
              "#fb9f3a"
             ],
             [
              0.8888888888888888,
              "#fdca26"
             ],
             [
              1.0,
              "#f0f921"
             ]
            ],
            "type": "heatmapgl"
           }
          ],
          "histogram": [
           {
            "marker": {
             "colorbar": {
              "outlinewidth": 0,
              "ticks": ""
             }
            },
            "type": "histogram"
           }
          ],
          "histogram2d": [
           {
            "colorbar": {
             "outlinewidth": 0,
             "ticks": ""
            },
            "colorscale": [
             [
              0.0,
              "#0d0887"
             ],
             [
              0.1111111111111111,
              "#46039f"
             ],
             [
              0.2222222222222222,
              "#7201a8"
             ],
             [
              0.3333333333333333,
              "#9c179e"
             ],
             [
              0.4444444444444444,
              "#bd3786"
             ],
             [
              0.5555555555555556,
              "#d8576b"
             ],
             [
              0.6666666666666666,
              "#ed7953"
             ],
             [
              0.7777777777777778,
              "#fb9f3a"
             ],
             [
              0.8888888888888888,
              "#fdca26"
             ],
             [
              1.0,
              "#f0f921"
             ]
            ],
            "type": "histogram2d"
           }
          ],
          "histogram2dcontour": [
           {
            "colorbar": {
             "outlinewidth": 0,
             "ticks": ""
            },
            "colorscale": [
             [
              0.0,
              "#0d0887"
             ],
             [
              0.1111111111111111,
              "#46039f"
             ],
             [
              0.2222222222222222,
              "#7201a8"
             ],
             [
              0.3333333333333333,
              "#9c179e"
             ],
             [
              0.4444444444444444,
              "#bd3786"
             ],
             [
              0.5555555555555556,
              "#d8576b"
             ],
             [
              0.6666666666666666,
              "#ed7953"
             ],
             [
              0.7777777777777778,
              "#fb9f3a"
             ],
             [
              0.8888888888888888,
              "#fdca26"
             ],
             [
              1.0,
              "#f0f921"
             ]
            ],
            "type": "histogram2dcontour"
           }
          ],
          "mesh3d": [
           {
            "colorbar": {
             "outlinewidth": 0,
             "ticks": ""
            },
            "type": "mesh3d"
           }
          ],
          "parcoords": [
           {
            "line": {
             "colorbar": {
              "outlinewidth": 0,
              "ticks": ""
             }
            },
            "type": "parcoords"
           }
          ],
          "pie": [
           {
            "automargin": true,
            "type": "pie"
           }
          ],
          "scatter": [
           {
            "marker": {
             "colorbar": {
              "outlinewidth": 0,
              "ticks": ""
             }
            },
            "type": "scatter"
           }
          ],
          "scatter3d": [
           {
            "line": {
             "colorbar": {
              "outlinewidth": 0,
              "ticks": ""
             }
            },
            "marker": {
             "colorbar": {
              "outlinewidth": 0,
              "ticks": ""
             }
            },
            "type": "scatter3d"
           }
          ],
          "scattercarpet": [
           {
            "marker": {
             "colorbar": {
              "outlinewidth": 0,
              "ticks": ""
             }
            },
            "type": "scattercarpet"
           }
          ],
          "scattergeo": [
           {
            "marker": {
             "colorbar": {
              "outlinewidth": 0,
              "ticks": ""
             }
            },
            "type": "scattergeo"
           }
          ],
          "scattergl": [
           {
            "marker": {
             "colorbar": {
              "outlinewidth": 0,
              "ticks": ""
             }
            },
            "type": "scattergl"
           }
          ],
          "scattermapbox": [
           {
            "marker": {
             "colorbar": {
              "outlinewidth": 0,
              "ticks": ""
             }
            },
            "type": "scattermapbox"
           }
          ],
          "scatterpolar": [
           {
            "marker": {
             "colorbar": {
              "outlinewidth": 0,
              "ticks": ""
             }
            },
            "type": "scatterpolar"
           }
          ],
          "scatterpolargl": [
           {
            "marker": {
             "colorbar": {
              "outlinewidth": 0,
              "ticks": ""
             }
            },
            "type": "scatterpolargl"
           }
          ],
          "scatterternary": [
           {
            "marker": {
             "colorbar": {
              "outlinewidth": 0,
              "ticks": ""
             }
            },
            "type": "scatterternary"
           }
          ],
          "surface": [
           {
            "colorbar": {
             "outlinewidth": 0,
             "ticks": ""
            },
            "colorscale": [
             [
              0.0,
              "#0d0887"
             ],
             [
              0.1111111111111111,
              "#46039f"
             ],
             [
              0.2222222222222222,
              "#7201a8"
             ],
             [
              0.3333333333333333,
              "#9c179e"
             ],
             [
              0.4444444444444444,
              "#bd3786"
             ],
             [
              0.5555555555555556,
              "#d8576b"
             ],
             [
              0.6666666666666666,
              "#ed7953"
             ],
             [
              0.7777777777777778,
              "#fb9f3a"
             ],
             [
              0.8888888888888888,
              "#fdca26"
             ],
             [
              1.0,
              "#f0f921"
             ]
            ],
            "type": "surface"
           }
          ],
          "table": [
           {
            "cells": {
             "fill": {
              "color": "#EBF0F8"
             },
             "line": {
              "color": "white"
             }
            },
            "header": {
             "fill": {
              "color": "#C8D4E3"
             },
             "line": {
              "color": "white"
             }
            },
            "type": "table"
           }
          ]
         },
         "layout": {
          "annotationdefaults": {
           "arrowcolor": "#2a3f5f",
           "arrowhead": 0,
           "arrowwidth": 1
          },
          "coloraxis": {
           "colorbar": {
            "outlinewidth": 0,
            "ticks": ""
           }
          },
          "colorscale": {
           "diverging": [
            [
             0,
             "#8e0152"
            ],
            [
             0.1,
             "#c51b7d"
            ],
            [
             0.2,
             "#de77ae"
            ],
            [
             0.3,
             "#f1b6da"
            ],
            [
             0.4,
             "#fde0ef"
            ],
            [
             0.5,
             "#f7f7f7"
            ],
            [
             0.6,
             "#e6f5d0"
            ],
            [
             0.7,
             "#b8e186"
            ],
            [
             0.8,
             "#7fbc41"
            ],
            [
             0.9,
             "#4d9221"
            ],
            [
             1,
             "#276419"
            ]
           ],
           "sequential": [
            [
             0.0,
             "#0d0887"
            ],
            [
             0.1111111111111111,
             "#46039f"
            ],
            [
             0.2222222222222222,
             "#7201a8"
            ],
            [
             0.3333333333333333,
             "#9c179e"
            ],
            [
             0.4444444444444444,
             "#bd3786"
            ],
            [
             0.5555555555555556,
             "#d8576b"
            ],
            [
             0.6666666666666666,
             "#ed7953"
            ],
            [
             0.7777777777777778,
             "#fb9f3a"
            ],
            [
             0.8888888888888888,
             "#fdca26"
            ],
            [
             1.0,
             "#f0f921"
            ]
           ],
           "sequentialminus": [
            [
             0.0,
             "#0d0887"
            ],
            [
             0.1111111111111111,
             "#46039f"
            ],
            [
             0.2222222222222222,
             "#7201a8"
            ],
            [
             0.3333333333333333,
             "#9c179e"
            ],
            [
             0.4444444444444444,
             "#bd3786"
            ],
            [
             0.5555555555555556,
             "#d8576b"
            ],
            [
             0.6666666666666666,
             "#ed7953"
            ],
            [
             0.7777777777777778,
             "#fb9f3a"
            ],
            [
             0.8888888888888888,
             "#fdca26"
            ],
            [
             1.0,
             "#f0f921"
            ]
           ]
          },
          "colorway": [
           "#636efa",
           "#EF553B",
           "#00cc96",
           "#ab63fa",
           "#FFA15A",
           "#19d3f3",
           "#FF6692",
           "#B6E880",
           "#FF97FF",
           "#FECB52"
          ],
          "font": {
           "color": "#2a3f5f"
          },
          "geo": {
           "bgcolor": "white",
           "lakecolor": "white",
           "landcolor": "#E5ECF6",
           "showlakes": true,
           "showland": true,
           "subunitcolor": "white"
          },
          "hoverlabel": {
           "align": "left"
          },
          "hovermode": "closest",
          "mapbox": {
           "style": "light"
          },
          "paper_bgcolor": "white",
          "plot_bgcolor": "#E5ECF6",
          "polar": {
           "angularaxis": {
            "gridcolor": "white",
            "linecolor": "white",
            "ticks": ""
           },
           "bgcolor": "#E5ECF6",
           "radialaxis": {
            "gridcolor": "white",
            "linecolor": "white",
            "ticks": ""
           }
          },
          "scene": {
           "xaxis": {
            "backgroundcolor": "#E5ECF6",
            "gridcolor": "white",
            "gridwidth": 2,
            "linecolor": "white",
            "showbackground": true,
            "ticks": "",
            "zerolinecolor": "white"
           },
           "yaxis": {
            "backgroundcolor": "#E5ECF6",
            "gridcolor": "white",
            "gridwidth": 2,
            "linecolor": "white",
            "showbackground": true,
            "ticks": "",
            "zerolinecolor": "white"
           },
           "zaxis": {
            "backgroundcolor": "#E5ECF6",
            "gridcolor": "white",
            "gridwidth": 2,
            "linecolor": "white",
            "showbackground": true,
            "ticks": "",
            "zerolinecolor": "white"
           }
          },
          "shapedefaults": {
           "line": {
            "color": "#2a3f5f"
           }
          },
          "ternary": {
           "aaxis": {
            "gridcolor": "white",
            "linecolor": "white",
            "ticks": ""
           },
           "baxis": {
            "gridcolor": "white",
            "linecolor": "white",
            "ticks": ""
           },
           "bgcolor": "#E5ECF6",
           "caxis": {
            "gridcolor": "white",
            "linecolor": "white",
            "ticks": ""
           }
          },
          "title": {
           "x": 0.05
          },
          "xaxis": {
           "automargin": true,
           "gridcolor": "white",
           "linecolor": "white",
           "ticks": "",
           "title": {
            "standoff": 15
           },
           "zerolinecolor": "white",
           "zerolinewidth": 2
          },
          "yaxis": {
           "automargin": true,
           "gridcolor": "white",
           "linecolor": "white",
           "ticks": "",
           "title": {
            "standoff": 15
           },
           "zerolinecolor": "white",
           "zerolinewidth": 2
          }
         }
        },
        "title": {
         "text": "Tophat time series with checks many periods"
        }
       }
      },
      "text/html": "<div>                            <div id=\"2056cef8-a554-42c7-a206-d2c9395a0197\" class=\"plotly-graph-div\" style=\"height:525px; width:100%;\"></div>            <script type=\"text/javascript\">                require([\"plotly\"], function(Plotly) {                    window.PLOTLYENV=window.PLOTLYENV || {};                                    if (document.getElementById(\"2056cef8-a554-42c7-a206-d2c9395a0197\")) {                    Plotly.newPlot(                        \"2056cef8-a554-42c7-a206-d2c9395a0197\",                        [{\"hoverinfo\": \"skip\", \"line\": {\"color\": \"lightgray\", \"dash\": \"dash\"}, \"mode\": \"lines\", \"name\": \"Extraordinary\", \"showlegend\": false, \"type\": \"scatter\", \"x\": [\"1959-01-08\", \"1959-01-09\", \"1959-01-10\", \"1959-01-11\", \"1959-01-12\", \"1959-01-13\", \"1959-01-14\", \"1959-01-15\", \"1959-01-16\", \"1959-01-17\", \"1959-01-18\", \"1959-01-19\", \"1959-01-20\", \"1959-01-21\", \"1959-01-22\", \"1959-01-23\", \"1959-01-24\", \"1959-01-25\", \"1959-01-26\", \"1959-01-27\", \"1959-01-28\", \"1959-01-29\", \"1959-01-30\", \"1959-01-31\", \"1959-02-01\", \"1959-02-02\", \"1959-02-03\", \"1959-02-04\", \"1959-02-05\", \"1959-02-06\", \"1959-02-07\", \"1959-02-08\", \"1959-02-09\", \"1959-02-10\", \"1959-02-11\", \"1959-02-12\", \"1959-02-13\", \"1959-02-14\", \"1959-02-15\", \"1959-02-16\", \"1959-02-17\", \"1959-02-18\", \"1959-02-19\", \"1959-02-20\", \"1959-02-21\", \"1959-02-22\", \"1959-02-23\", \"1959-02-24\", \"1959-02-25\", \"1959-02-26\", \"1959-02-27\", \"1959-02-28\", \"1959-03-01\", \"1959-03-02\", \"1959-03-03\", \"1959-03-04\", \"1959-03-05\", \"1959-03-06\", \"1959-03-07\", \"1959-03-08\", \"1959-03-09\", \"1959-03-10\", \"1959-03-11\", \"1959-03-12\", \"1959-03-13\", \"1959-03-14\", \"1959-03-15\", \"1959-03-16\", \"1959-03-17\", \"1959-03-18\", \"1959-03-19\", \"1959-03-20\", \"1959-03-21\", \"1959-03-22\", \"1959-03-23\", \"1959-03-24\", \"1959-03-25\", \"1959-03-26\", \"1959-03-27\", \"1959-03-28\", \"1959-03-29\", \"1959-03-30\", \"1959-03-31\", \"1959-04-01\", \"1959-04-02\", \"1959-04-03\", \"1959-04-04\", \"1959-04-05\", \"1959-04-06\", \"1959-04-07\", \"1959-04-08\", \"1959-04-09\", \"1959-04-10\", \"1959-04-11\", \"1959-04-12\", \"1959-04-13\", \"1959-04-14\", \"1959-04-15\", \"1959-04-16\", \"1959-04-17\", \"1959-04-18\", \"1959-04-19\", \"1959-04-20\", \"1959-04-21\", \"1959-04-22\", \"1959-04-23\", \"1959-04-24\", \"1959-04-25\", \"1959-04-26\", \"1959-04-27\", \"1959-04-28\", \"1959-04-29\", \"1959-04-30\", \"1959-05-01\", \"1959-05-02\", \"1959-05-03\", \"1959-05-04\", \"1959-05-05\", \"1959-05-06\", \"1959-05-07\", \"1959-05-08\", \"1959-05-09\", \"1959-05-10\", \"1959-05-11\", \"1959-05-12\", \"1959-05-13\", \"1959-05-14\", \"1959-05-15\", \"1959-05-16\", \"1959-05-17\", \"1959-05-18\", \"1959-05-19\", \"1959-05-20\", \"1959-05-21\", \"1959-05-22\", \"1959-05-23\", \"1959-05-24\", \"1959-05-25\", \"1959-05-26\", \"1959-05-27\", \"1959-05-28\", \"1959-05-29\", \"1959-05-30\", \"1959-05-31\", \"1959-06-01\", \"1959-06-02\", \"1959-06-03\", \"1959-06-04\", \"1959-06-05\", \"1959-06-06\", \"1959-06-07\", \"1959-06-08\", \"1959-06-09\", \"1959-06-10\", \"1959-06-11\", \"1959-06-12\", \"1959-06-13\", \"1959-06-14\", \"1959-06-15\", \"1959-06-16\", \"1959-06-17\", \"1959-06-18\", \"1959-06-19\", \"1959-06-20\", \"1959-06-21\", \"1959-06-22\", \"1959-06-23\", \"1959-06-24\", \"1959-06-25\", \"1959-06-26\", \"1959-06-27\", \"1959-06-28\", \"1959-06-29\", \"1959-06-30\", \"1959-07-01\", \"1959-07-02\", \"1959-07-03\", \"1959-07-04\", \"1959-07-05\", \"1959-07-06\", \"1959-07-07\", \"1959-07-08\", \"1959-07-09\", \"1959-07-10\", \"1959-07-11\", \"1959-07-12\", \"1959-07-13\", \"1959-07-14\", \"1959-07-15\", \"1959-07-16\", \"1959-07-17\", \"1959-07-18\", \"1959-07-19\", \"1959-07-20\", \"1959-07-21\", \"1959-07-22\", \"1959-07-23\", \"1959-07-24\", \"1959-07-25\", \"1959-07-26\", \"1959-07-27\", \"1959-07-28\", \"1959-07-29\", \"1959-07-30\", \"1959-07-31\", \"1959-08-01\", \"1959-08-02\", \"1959-08-03\", \"1959-08-04\", \"1959-08-05\", \"1959-08-06\", \"1959-08-07\", \"1959-08-08\", \"1959-08-09\", \"1959-08-10\", \"1959-08-11\", \"1959-08-12\", \"1959-08-13\", \"1959-08-14\", \"1959-08-15\", \"1959-08-16\", \"1959-08-17\", \"1959-08-18\", \"1959-08-19\", \"1959-08-20\", \"1959-08-21\", \"1959-08-22\", \"1959-08-23\", \"1959-08-24\", \"1959-08-25\", \"1959-08-26\", \"1959-08-27\", \"1959-08-28\", \"1959-08-29\", \"1959-08-30\", \"1959-08-31\", \"1959-09-01\", \"1959-09-02\", \"1959-09-03\", \"1959-09-04\", \"1959-09-05\", \"1959-09-06\", \"1959-09-07\", \"1959-09-08\", \"1959-09-09\", \"1959-09-10\", \"1959-09-11\", \"1959-09-12\", \"1959-09-13\", \"1959-09-14\", \"1959-09-15\", \"1959-09-16\", \"1959-09-17\", \"1959-09-18\", \"1959-09-19\", \"1959-09-20\", \"1959-09-21\", \"1959-09-22\", \"1959-09-23\", \"1959-09-24\", \"1959-09-25\", \"1959-09-26\", \"1959-09-27\", \"1959-09-28\", \"1959-09-29\", \"1959-09-30\", \"1959-10-01\", \"1959-10-02\", \"1959-10-03\", \"1959-10-04\", \"1959-10-05\", \"1959-10-06\", \"1959-10-07\", \"1959-10-08\", \"1959-10-09\", \"1959-10-10\", \"1959-10-11\", \"1959-10-12\", \"1959-10-13\", \"1959-10-14\", \"1959-10-15\", \"1959-10-16\", \"1959-10-17\", \"1959-10-18\", \"1959-10-19\", \"1959-10-20\", \"1959-10-21\", \"1959-10-22\", \"1959-10-23\", \"1959-10-24\", \"1959-10-25\", \"1959-10-26\", \"1959-10-27\", \"1959-10-28\", \"1959-10-29\", \"1959-10-30\", \"1959-10-31\", \"1959-11-01\", \"1959-11-02\", \"1959-11-03\", \"1959-11-04\", \"1959-11-05\", \"1959-11-06\", \"1959-11-07\", \"1959-11-08\", \"1959-11-09\", \"1959-11-10\", \"1959-11-11\", \"1959-11-12\", \"1959-11-13\", \"1959-11-14\", \"1959-11-15\", \"1959-11-16\", \"1959-11-17\", \"1959-11-18\", \"1959-11-19\", \"1959-11-20\", \"1959-11-21\", \"1959-11-22\", \"1959-11-23\", \"1959-11-24\", \"1959-11-25\", \"1959-11-26\", \"1959-11-27\", \"1959-11-28\", \"1959-11-29\", \"1959-11-30\", \"1959-12-01\", \"1959-12-02\", \"1959-12-03\", \"1959-12-04\", \"1959-12-05\", \"1959-12-06\", \"1959-12-07\", \"1959-12-08\", \"1959-12-09\", \"1959-12-10\", \"1959-12-11\", \"1959-12-12\", \"1959-12-13\", \"1959-12-14\", \"1959-12-15\", \"1959-12-16\", \"1959-12-17\", \"1959-12-18\", \"1959-12-19\", \"1959-12-20\", \"1959-12-21\", \"1959-12-22\", \"1959-12-23\", \"1959-12-24\", \"1959-12-25\", \"1959-12-26\", \"1959-12-27\", \"1959-12-28\", \"1959-12-29\", \"1959-12-30\", \"1959-12-31\"], \"y\": [65.765, 64.76208333333334, 65.54666666666667, 67.15736363636364, 65.88575757575758, 72.16807692307692, 72.63208791208791, 71.19333333333333, 71.04650000000001, 72.92908088235293, 72.79764705882353, 71.46859649122808, 72.72, 74.38869047619048, 76.9509090909091, 77.76711462450592, 77.00615942028986, 76.17500000000001, 75.80036923076923, 74.99985754985755, 74.11571428571429, 74.3171551724138, 73.89229885057472, 74.10803225806453, 72.60435483870967, 72.3089393939394, 73.01791443850269, 72.69256302521009, 73.40311111111112, 73.75033783783783, 74.52870554765292, 75.48871794871795, 74.35307692307693, 75.75678048780487, 76.24862950058072, 76.35627906976745, 76.31706131078224, 76.89962121212122, 77.93614492753623, 77.69386679000925, 77.1656914893617, 76.59690051020408, 76.4, 76.54703137254901, 76.63334841628959, 75.98798984034833, 76.81097833682739, 76.90459595959595, 76.54058441558442, 76.29811403508772, 75.7496551724138, 75.44539742840445, 75.09943502824859, 74.7832049180328, 75.40553146483342, 75.4470942140297, 74.94854166666667, 75.42905048076923, 75.31286247086247, 75.06514246947083, 74.84097453906936, 74.72479965899404, 74.63987577639752, 74.30123943661971, 74.02899843505477, 73.87639269406392, 73.45523880044428, 73.03148648648649, 73.25568421052631, 73.10594155844156, 72.94783216783217, 72.7304917234664, 72.83316455696203, 72.54663734567902, 72.32914182475159, 72.15403908316192, 71.88745840504876, 71.4964705882353, 72.29767715458277, 72.80402165196472, 72.5194670846395, 73.07837717058223, 73.1212734082397, 72.83090842490843, 72.56866220735786, 72.55011453950445, 72.69400823610158, 72.38896416573348, 72.10108333333335, 71.79824097938145, 71.57337891857775, 71.2309595959596, 71.01666666666667, 71.59326732673267, 71.97220151426907, 71.60045973729298, 71.42933905899925, 71.1945695970696, 70.93596226415094, 71.03917034032798, 70.99179993077189, 71.20316768603466, 71.41163469557965, 71.76044144144144, 71.55485521235522, 71.71759402654868, 72.09044092532216, 71.88782608695652, 71.63679460269866, 71.53601016799293, 71.35159061277706, 71.77814342686227, 71.83745098039216, 72.1377582644628, 71.93007993496816, 71.7501912568306, 71.59778127458694, 71.52799999999999, 71.58666666666667, 71.60520997375329, 71.88992125984252, 72.24902797965117, 72.0765831842576, 72.01397240164415, 71.88398103169096, 71.86904135338347, 71.66686567164179, 71.47511608623549, 71.34546405228758, 71.40890993988836, 71.42738495715646, 71.48142320925868, 71.42727646454266, 71.85065248226951, 72.02795325142344, 71.94974391805377, 71.84485431235431, 71.71383620689656, 71.68075389702409, 71.56625850340137, 71.46706563706564, 71.5441610738255, 71.412774049217, 71.2432940397351, 71.25422969675846, 71.11406045751633, 71.18466768525593, 70.9758064516129, 71.16187427626139, 71.1089000489956, 71.26663791018302, 71.10047130005573, 71.26858490566038, 71.1853179347826, 71.18968867418144, 71.30515678254942, 71.29053868023342, 71.21540650406504, 71.14712157721797, 71.06776747709401, 70.91776732249787, 70.85255177514793, 70.76441698572921, 70.60105951152391, 70.59116279069768, 70.56411849710983, 70.6352375257458, 70.74019704433498, 70.5761090909091, 70.68571295582949, 70.55173109883832, 70.43049839934719, 70.26603972687772, 70.60185635359116, 70.80196830793516, 70.70388818831441, 70.67785459729151, 70.516589306698, 70.55105027608253, 70.46184146972573, 70.70941745363523, 70.81127012270629, 70.81169590643275, 70.86476439790576, 70.86496727748691, 71.06808047279793, 71.06739383579938, 71.11286677240285, 71.01979905808477, 70.89204314720813, 70.8365507870584, 70.88729861428354, 70.75708542713568, 70.62817562189055, 70.55015220925078, 70.5668353411696, 70.50468559837728, 70.46767575322812, 70.31909969216197, 70.22519581633132, 70.21887123745819, 70.1263084284137, 70.09186147186148, 70.13861137440759, 70.09504247518555, 70.1694213393569, 70.2291667763591, 70.12985220604216, 70.11028423772609, 70.41398681515616, 70.6461260728026, 70.67948619664028, 70.60318804483188, 70.59100514191691, 70.56084260731319, 70.48603866198036, 70.40297805893658, 70.37861111111111, 70.27464306784661, 70.2465859030837, 70.15285416183632, 70.20004366812228, 70.27722232770078, 70.24101731601732, 70.27415360501567, 70.16941893591832, 70.1426899233337, 70.02667757774141, 70.00075369635773, 69.97502091825788, 69.92423891075418, 69.95358109771105, 69.8532880055788, 69.92417531120333, 69.96970954356847, 69.91179998639595, 69.87903663226068, 70.36144948143192, 70.69353542392568, 70.60931124716106, 70.6751364764268, 70.68014234356782, 70.59296385542169, 70.59830677290837, 70.87769683172074, 70.97682147562583, 70.89381065015095, 70.99596881272194, 71.05435845588235, 71.03440585481518, 71.00681295810334, 71.19586109365179, 71.27567567567567, 71.34332095490717, 71.31107133456173, 71.43143906191042, 71.68733321811268, 71.6843782161235, 71.95990863952333, 72.16595505617978, 72.22480798255911, 72.13062392498475, 72.05569461654963, 72.06626158261582, 72.04728728022575, 72.06143759426848, 72.0791690061763, 72.08582946250829, 72.05616179183136, 72.09541516245488, 72.03716827260214, 71.94705139114515, 71.85400921658987, 71.8008078291815, 71.79411448474295, 71.73795541688594, 71.70688498482059, 71.63740857425253, 71.85885314685315, 72.00208182061841, 71.91144308943089, 71.96340902537486, 71.91147595752297, 71.87367318402654, 71.80185849456292, 71.71345843657956, 71.6529096143577, 71.69113801452785, 71.6987022446175, 71.60512296387296, 71.58604501389736, 71.5570730174407, 71.50496098104793, 71.62605149501661, 71.61380101647929, 71.64454614997925, 71.5730315268369, 71.52167008196722, 71.4608318868531, 71.44604394200678, 71.36312195947376, 71.54302736098853, 71.63787034137175, 71.66451291359817, 71.65892447852255, 71.61501566724012, 71.53952280173378, 71.4390966535234, 71.4184641350211, 71.42954957473147, 71.3146971410432, 71.27897645945467, 71.19032327586207, 71.1458761682243, 71.16694549254078, 71.15379862700229, 71.14072621641249, 71.14314102564103, 71.0964403964134, 71.2611243691488, 71.2905952114567, 71.25907016828528, 71.23985815602838, 71.20262345509475, 71.18671714046519, 71.12884664785267, 71.16716782650914, 71.17241844668871, 71.21041009239516, 71.30159310089022, 71.27088441346373, 71.24331788588086, 71.14235294117647, 71.07424969811971, 71.16156608530123, 71.14921282798834, 71.06713573801613, 71.06383847320527, 71.02874993717015, 70.97080491745932, 71.11152539004273, 71.09952475051873, 71.10187883749488, 71.1583829059829, 71.08099553224554, 71.02104872199331, 70.93883532593908, 71.01205538314633, 71.07925589492008, 71.00317761936235, 70.93311534669733, 70.9247384105445, 70.93308727948003, 70.8721163434903, 70.98555103227682, 70.966097057973, 70.9989564980474, 70.99601422550053]}, {\"hoverinfo\": \"skip\", \"line\": {\"color\": \"lightgray\", \"dash\": \"dash\"}, \"mode\": \"lines\", \"name\": \"Actionably Good\", \"showlegend\": false, \"type\": \"scatter\", \"x\": [\"1959-01-08\", \"1959-01-09\", \"1959-01-10\", \"1959-01-11\", \"1959-01-12\", \"1959-01-13\", \"1959-01-14\", \"1959-01-15\", \"1959-01-16\", \"1959-01-17\", \"1959-01-18\", \"1959-01-19\", \"1959-01-20\", \"1959-01-21\", \"1959-01-22\", \"1959-01-23\", \"1959-01-24\", \"1959-01-25\", \"1959-01-26\", \"1959-01-27\", \"1959-01-28\", \"1959-01-29\", \"1959-01-30\", \"1959-01-31\", \"1959-02-01\", \"1959-02-02\", \"1959-02-03\", \"1959-02-04\", \"1959-02-05\", \"1959-02-06\", \"1959-02-07\", \"1959-02-08\", \"1959-02-09\", \"1959-02-10\", \"1959-02-11\", \"1959-02-12\", \"1959-02-13\", \"1959-02-14\", \"1959-02-15\", \"1959-02-16\", \"1959-02-17\", \"1959-02-18\", \"1959-02-19\", \"1959-02-20\", \"1959-02-21\", \"1959-02-22\", \"1959-02-23\", \"1959-02-24\", \"1959-02-25\", \"1959-02-26\", \"1959-02-27\", \"1959-02-28\", \"1959-03-01\", \"1959-03-02\", \"1959-03-03\", \"1959-03-04\", \"1959-03-05\", \"1959-03-06\", \"1959-03-07\", \"1959-03-08\", \"1959-03-09\", \"1959-03-10\", \"1959-03-11\", \"1959-03-12\", \"1959-03-13\", \"1959-03-14\", \"1959-03-15\", \"1959-03-16\", \"1959-03-17\", \"1959-03-18\", \"1959-03-19\", \"1959-03-20\", \"1959-03-21\", \"1959-03-22\", \"1959-03-23\", \"1959-03-24\", \"1959-03-25\", \"1959-03-26\", \"1959-03-27\", \"1959-03-28\", \"1959-03-29\", \"1959-03-30\", \"1959-03-31\", \"1959-04-01\", \"1959-04-02\", \"1959-04-03\", \"1959-04-04\", \"1959-04-05\", \"1959-04-06\", \"1959-04-07\", \"1959-04-08\", \"1959-04-09\", \"1959-04-10\", \"1959-04-11\", \"1959-04-12\", \"1959-04-13\", \"1959-04-14\", \"1959-04-15\", \"1959-04-16\", \"1959-04-17\", \"1959-04-18\", \"1959-04-19\", \"1959-04-20\", \"1959-04-21\", \"1959-04-22\", \"1959-04-23\", \"1959-04-24\", \"1959-04-25\", \"1959-04-26\", \"1959-04-27\", \"1959-04-28\", \"1959-04-29\", \"1959-04-30\", \"1959-05-01\", \"1959-05-02\", \"1959-05-03\", \"1959-05-04\", \"1959-05-05\", \"1959-05-06\", \"1959-05-07\", \"1959-05-08\", \"1959-05-09\", \"1959-05-10\", \"1959-05-11\", \"1959-05-12\", \"1959-05-13\", \"1959-05-14\", \"1959-05-15\", \"1959-05-16\", \"1959-05-17\", \"1959-05-18\", \"1959-05-19\", \"1959-05-20\", \"1959-05-21\", \"1959-05-22\", \"1959-05-23\", \"1959-05-24\", \"1959-05-25\", \"1959-05-26\", \"1959-05-27\", \"1959-05-28\", \"1959-05-29\", \"1959-05-30\", \"1959-05-31\", \"1959-06-01\", \"1959-06-02\", \"1959-06-03\", \"1959-06-04\", \"1959-06-05\", \"1959-06-06\", \"1959-06-07\", \"1959-06-08\", \"1959-06-09\", \"1959-06-10\", \"1959-06-11\", \"1959-06-12\", \"1959-06-13\", \"1959-06-14\", \"1959-06-15\", \"1959-06-16\", \"1959-06-17\", \"1959-06-18\", \"1959-06-19\", \"1959-06-20\", \"1959-06-21\", \"1959-06-22\", \"1959-06-23\", \"1959-06-24\", \"1959-06-25\", \"1959-06-26\", \"1959-06-27\", \"1959-06-28\", \"1959-06-29\", \"1959-06-30\", \"1959-07-01\", \"1959-07-02\", \"1959-07-03\", \"1959-07-04\", \"1959-07-05\", \"1959-07-06\", \"1959-07-07\", \"1959-07-08\", \"1959-07-09\", \"1959-07-10\", \"1959-07-11\", \"1959-07-12\", \"1959-07-13\", \"1959-07-14\", \"1959-07-15\", \"1959-07-16\", \"1959-07-17\", \"1959-07-18\", \"1959-07-19\", \"1959-07-20\", \"1959-07-21\", \"1959-07-22\", \"1959-07-23\", \"1959-07-24\", \"1959-07-25\", \"1959-07-26\", \"1959-07-27\", \"1959-07-28\", \"1959-07-29\", \"1959-07-30\", \"1959-07-31\", \"1959-08-01\", \"1959-08-02\", \"1959-08-03\", \"1959-08-04\", \"1959-08-05\", \"1959-08-06\", \"1959-08-07\", \"1959-08-08\", \"1959-08-09\", \"1959-08-10\", \"1959-08-11\", \"1959-08-12\", \"1959-08-13\", \"1959-08-14\", \"1959-08-15\", \"1959-08-16\", \"1959-08-17\", \"1959-08-18\", \"1959-08-19\", \"1959-08-20\", \"1959-08-21\", \"1959-08-22\", \"1959-08-23\", \"1959-08-24\", \"1959-08-25\", \"1959-08-26\", \"1959-08-27\", \"1959-08-28\", \"1959-08-29\", \"1959-08-30\", \"1959-08-31\", \"1959-09-01\", \"1959-09-02\", \"1959-09-03\", \"1959-09-04\", \"1959-09-05\", \"1959-09-06\", \"1959-09-07\", \"1959-09-08\", \"1959-09-09\", \"1959-09-10\", \"1959-09-11\", \"1959-09-12\", \"1959-09-13\", \"1959-09-14\", \"1959-09-15\", \"1959-09-16\", \"1959-09-17\", \"1959-09-18\", \"1959-09-19\", \"1959-09-20\", \"1959-09-21\", \"1959-09-22\", \"1959-09-23\", \"1959-09-24\", \"1959-09-25\", \"1959-09-26\", \"1959-09-27\", \"1959-09-28\", \"1959-09-29\", \"1959-09-30\", \"1959-10-01\", \"1959-10-02\", \"1959-10-03\", \"1959-10-04\", \"1959-10-05\", \"1959-10-06\", \"1959-10-07\", \"1959-10-08\", \"1959-10-09\", \"1959-10-10\", \"1959-10-11\", \"1959-10-12\", \"1959-10-13\", \"1959-10-14\", \"1959-10-15\", \"1959-10-16\", \"1959-10-17\", \"1959-10-18\", \"1959-10-19\", \"1959-10-20\", \"1959-10-21\", \"1959-10-22\", \"1959-10-23\", \"1959-10-24\", \"1959-10-25\", \"1959-10-26\", \"1959-10-27\", \"1959-10-28\", \"1959-10-29\", \"1959-10-30\", \"1959-10-31\", \"1959-11-01\", \"1959-11-02\", \"1959-11-03\", \"1959-11-04\", \"1959-11-05\", \"1959-11-06\", \"1959-11-07\", \"1959-11-08\", \"1959-11-09\", \"1959-11-10\", \"1959-11-11\", \"1959-11-12\", \"1959-11-13\", \"1959-11-14\", \"1959-11-15\", \"1959-11-16\", \"1959-11-17\", \"1959-11-18\", \"1959-11-19\", \"1959-11-20\", \"1959-11-21\", \"1959-11-22\", \"1959-11-23\", \"1959-11-24\", \"1959-11-25\", \"1959-11-26\", \"1959-11-27\", \"1959-11-28\", \"1959-11-29\", \"1959-11-30\", \"1959-12-01\", \"1959-12-02\", \"1959-12-03\", \"1959-12-04\", \"1959-12-05\", \"1959-12-06\", \"1959-12-07\", \"1959-12-08\", \"1959-12-09\", \"1959-12-10\", \"1959-12-11\", \"1959-12-12\", \"1959-12-13\", \"1959-12-14\", \"1959-12-15\", \"1959-12-16\", \"1959-12-17\", \"1959-12-18\", \"1959-12-19\", \"1959-12-20\", \"1959-12-21\", \"1959-12-22\", \"1959-12-23\", \"1959-12-24\", \"1959-12-25\", \"1959-12-26\", \"1959-12-27\", \"1959-12-28\", \"1959-12-29\", \"1959-12-30\", \"1959-12-31\"], \"y\": [55.885000000000005, 55.285833333333336, 55.49777777777778, 56.650363636363636, 55.729393939393944, 60.41974358974359, 60.969010989011, 60.17333333333333, 60.051833333333335, 61.54095588235295, 61.53176470588235, 60.68081871345029, 61.730000000000004, 62.75119047619047, 64.66424242424243, 65.19256916996048, 64.57355072463768, 63.983333333333334, 63.77716923076923, 63.23447293447293, 62.58904761904762, 62.774655172413794, 62.47264367816092, 62.44836559139786, 61.277903225806455, 61.00393939393939, 61.531550802139044, 61.30932773109244, 61.88911111111111, 62.112837837837844, 62.73843527738265, 63.30871794871795, 62.48538461538462, 63.52078048780487, 63.82448315911731, 63.94294573643411, 64.0068287526427, 64.35530303030303, 65.13858937198067, 65.02995374653099, 64.71462765957448, 64.37752551020408, 64.24000000000001, 64.39083137254903, 64.42864253393665, 63.96683599419449, 64.59003494060099, 64.66367003367003, 64.44967532467533, 64.28061403508772, 63.89632183908046, 63.63591466978375, 63.3774011299435, 63.10137158469946, 63.54454785827604, 63.541449052739374, 63.18965277777778, 63.56295673076923, 63.50655477855478, 63.336960651289004, 63.14888498683055, 63.06774083546462, 63.036107660455485, 62.825239436619725, 62.63970266040689, 62.49750380517504, 62.15934838948537, 61.83432432432433, 61.995017543859646, 61.92344155844155, 61.82419580419581, 61.664209672184356, 61.755443037974686, 61.59076234567901, 61.459265281541704, 61.335624449015576, 61.13528973034997, 60.8564705882353, 61.45426538987688, 61.777393744987975, 61.558432601880874, 61.9698544433095, 62.003071161048695, 61.80668620268621, 61.636354515050165, 61.6498971482001, 61.725083504918786, 61.50843225083987, 61.29308333333334, 61.07511597938145, 60.91966757837156, 60.6859595959596, 60.52444444444444, 60.95326732673267, 61.18735002912056, 60.921342090234155, 60.802251680358474, 60.631300366300366, 60.43529559748428, 60.51209486862987, 60.463669089650395, 60.62474176010873, 60.73502919099249, 60.98744144144144, 60.86692728442729, 61.01821902654868, 61.25035242974694, 61.10782608695652, 60.927403298350825, 60.86161361626879, 60.74569317687962, 61.08178749465888, 61.15274509803922, 61.33150826446281, 61.18016257959626, 61.05568306010929, 60.93615525832678, 60.888, 60.946666666666665, 60.95465441819773, 61.176614173228344, 61.39082485465117, 61.261311866428144, 61.22051086318262, 61.12214897062226, 61.11820802005013, 60.98686567164179, 60.864892205638476, 60.774427015250545, 60.77868935165307, 60.77767692795938, 60.82214784693984, 60.777708119218914, 61.096652482269505, 61.21816601738088, 61.17861715749039, 61.11184731934732, 61.018419540229885, 61.00406424185168, 60.926258503401364, 60.84516087516088, 60.904161073825506, 60.81740492170022, 60.700827373068435, 60.719925060996864, 60.640310457516335, 60.67505984211867, 60.5258064516129, 60.667745244003314, 60.656464151559696, 60.75370797387728, 60.62882573043547, 60.75405660377359, 60.703255434782605, 60.723166935051, 60.788304930697564, 60.781090827472696, 60.72138211382114, 60.67639430449069, 60.61204458552774, 60.49279726261763, 60.44213510848127, 60.38412112774104, 60.2740006879945, 60.27782945736435, 60.25661849710983, 60.31812769915621, 60.37536945812808, 60.2477090909091, 60.32531522855676, 60.24235256776487, 60.16409390496516, 60.056989447548105, 60.316523020257826, 60.45589095986886, 60.40004203446826, 60.37943929674507, 60.26691539365453, 60.299266492298756, 60.243723190155826, 60.439257025827736, 60.5179190588765, 60.53762183235867, 60.57476439790577, 60.5870615183246, 60.69823672279793, 60.689259120773464, 60.72652656621729, 60.66626059654631, 60.58454314720812, 60.540865507870585, 60.583157200142125, 60.50472361809045, 60.427075621890545, 60.38657011969854, 60.39431058869434, 60.35606490872212, 60.323165949306556, 60.21758749704002, 60.15335115613715, 60.157132107023415, 60.10015458225985, 60.08822510822511, 60.11294470774092, 60.08537422874005, 60.150506245017276, 60.1886033960774, 60.123777439687025, 60.11981912144702, 60.358940518859875, 60.52096478248002, 60.53366050856688, 60.47939809049399, 60.476959687371455, 60.46848966613672, 60.427164788106495, 60.377282991672004, 60.35611111111111, 60.28486529006883, 60.271585903083704, 60.215937862276846, 60.23671033478894, 60.29351053730777, 60.26601731601732, 60.29627481713689, 60.23454824626314, 60.21620923663842, 60.13693398799782, 60.12479624954922, 60.118368375885005, 60.09795199092295, 60.11828698006399, 60.05358089260809, 60.11542531120332, 60.146473029045644, 60.112667754990994, 60.087390541725696, 60.44640849782536, 60.666963995354244, 60.612685230900894, 60.67052109181142, 60.67832782743879, 60.62597590361446, 60.62330677290837, 60.83116296717891, 60.90154369784805, 60.847842270704305, 60.93195306469045, 60.9724368872549, 60.95030429231518, 60.93089856121618, 61.07652000838048, 61.133783783783784, 61.19439787798409, 61.19084144950426, 61.26861463442951, 61.46201002419633, 61.47763579188108, 61.70134260178749, 61.85595505617978, 61.898628207278215, 61.83801198468623, 61.78651246041581, 61.800631952986194, 61.799907206425004, 61.82728318250378, 61.848399775407074, 61.86812873258128, 61.865943610013176, 61.89874849578821, 61.8629083448043, 61.80460534797968, 61.743149001536096, 61.711807829181495, 61.71735291890664, 61.687494423978144, 61.66843975513861, 61.62026068692859, 61.78818648018648, 61.88292098145757, 61.822906504065045, 61.86833958093041, 61.84213339696933, 61.82070766678516, 61.77429835710587, 61.715684463976814, 61.671100740637556, 61.70256658595642, 61.70341410902428, 61.63461620711621, 61.622240300092656, 61.595462279185654, 61.545529542920846, 61.62888482834994, 61.61449869089789, 61.638718335409706, 61.59583680736495, 61.568545081967216, 61.53597942783671, 61.527547209980625, 61.472600786835315, 61.611209179170345, 61.67793506629084, 61.706674203920755, 61.7074453788441, 61.678381051855496, 61.62613622026414, 61.557281366899204, 61.546908579465544, 61.54714451144032, 61.46346685713152, 61.43781293744208, 61.375840517241386, 61.3371261682243, 61.35146262649717, 61.34814645308924, 61.34896151053013, 61.35286324786325, 61.31991731949032, 61.44523479859665, 61.47218542552398, 61.45437504633405, 61.44879432624114, 61.43316890964021, 61.42668692898482, 61.39020206953943, 61.425816475157795, 61.43235856644919, 61.4478130774698, 61.512634767556875, 61.491240496549786, 61.46506344801103, 61.38901960784314, 61.337867345178545, 61.40303236096105, 61.395879494655006, 61.34223777883247, 61.332414054600605, 61.306257183546954, 61.26103613133215, 61.36458014508596, 61.36147877350723, 61.37268112975849, 61.407582905982906, 61.354186415436416, 61.31431576744785, 61.25960019846033, 61.31883504416328, 61.36088969773698, 61.30837424857583, 61.25801730748165, 61.25437528205288, 61.25261374187558, 61.20744967682364, 61.29239313753998, 61.285019709906706, 61.31890140162868, 61.32428345626976]}, {\"hoverinfo\": \"skip\", \"line\": {\"color\": \"lightgray\", \"dash\": \"dash\"}, \"mode\": \"lines\", \"name\": \"normal_range_rolling_baseline\", \"showlegend\": false, \"type\": \"scatter\", \"x\": [\"1959-01-08\", \"1959-01-09\", \"1959-01-10\", \"1959-01-11\", \"1959-01-12\", \"1959-01-13\", \"1959-01-14\", \"1959-01-15\", \"1959-01-16\", \"1959-01-17\", \"1959-01-18\", \"1959-01-19\", \"1959-01-20\", \"1959-01-21\", \"1959-01-22\", \"1959-01-23\", \"1959-01-24\", \"1959-01-25\", \"1959-01-26\", \"1959-01-27\", \"1959-01-28\", \"1959-01-29\", \"1959-01-30\", \"1959-01-31\", \"1959-02-01\", \"1959-02-02\", \"1959-02-03\", \"1959-02-04\", \"1959-02-05\", \"1959-02-06\", \"1959-02-07\", \"1959-02-08\", \"1959-02-09\", \"1959-02-10\", \"1959-02-11\", \"1959-02-12\", \"1959-02-13\", \"1959-02-14\", \"1959-02-15\", \"1959-02-16\", \"1959-02-17\", \"1959-02-18\", \"1959-02-19\", \"1959-02-20\", \"1959-02-21\", \"1959-02-22\", \"1959-02-23\", \"1959-02-24\", \"1959-02-25\", \"1959-02-26\", \"1959-02-27\", \"1959-02-28\", \"1959-03-01\", \"1959-03-02\", \"1959-03-03\", \"1959-03-04\", \"1959-03-05\", \"1959-03-06\", \"1959-03-07\", \"1959-03-08\", \"1959-03-09\", \"1959-03-10\", \"1959-03-11\", \"1959-03-12\", \"1959-03-13\", \"1959-03-14\", \"1959-03-15\", \"1959-03-16\", \"1959-03-17\", \"1959-03-18\", \"1959-03-19\", \"1959-03-20\", \"1959-03-21\", \"1959-03-22\", \"1959-03-23\", \"1959-03-24\", \"1959-03-25\", \"1959-03-26\", \"1959-03-27\", \"1959-03-28\", \"1959-03-29\", \"1959-03-30\", \"1959-03-31\", \"1959-04-01\", \"1959-04-02\", \"1959-04-03\", \"1959-04-04\", \"1959-04-05\", \"1959-04-06\", \"1959-04-07\", \"1959-04-08\", \"1959-04-09\", \"1959-04-10\", \"1959-04-11\", \"1959-04-12\", \"1959-04-13\", \"1959-04-14\", \"1959-04-15\", \"1959-04-16\", \"1959-04-17\", \"1959-04-18\", \"1959-04-19\", \"1959-04-20\", \"1959-04-21\", \"1959-04-22\", \"1959-04-23\", \"1959-04-24\", \"1959-04-25\", \"1959-04-26\", \"1959-04-27\", \"1959-04-28\", \"1959-04-29\", \"1959-04-30\", \"1959-05-01\", \"1959-05-02\", \"1959-05-03\", \"1959-05-04\", \"1959-05-05\", \"1959-05-06\", \"1959-05-07\", \"1959-05-08\", \"1959-05-09\", \"1959-05-10\", \"1959-05-11\", \"1959-05-12\", \"1959-05-13\", \"1959-05-14\", \"1959-05-15\", \"1959-05-16\", \"1959-05-17\", \"1959-05-18\", \"1959-05-19\", \"1959-05-20\", \"1959-05-21\", \"1959-05-22\", \"1959-05-23\", \"1959-05-24\", \"1959-05-25\", \"1959-05-26\", \"1959-05-27\", \"1959-05-28\", \"1959-05-29\", \"1959-05-30\", \"1959-05-31\", \"1959-06-01\", \"1959-06-02\", \"1959-06-03\", \"1959-06-04\", \"1959-06-05\", \"1959-06-06\", \"1959-06-07\", \"1959-06-08\", \"1959-06-09\", \"1959-06-10\", \"1959-06-11\", \"1959-06-12\", \"1959-06-13\", \"1959-06-14\", \"1959-06-15\", \"1959-06-16\", \"1959-06-17\", \"1959-06-18\", \"1959-06-19\", \"1959-06-20\", \"1959-06-21\", \"1959-06-22\", \"1959-06-23\", \"1959-06-24\", \"1959-06-25\", \"1959-06-26\", \"1959-06-27\", \"1959-06-28\", \"1959-06-29\", \"1959-06-30\", \"1959-07-01\", \"1959-07-02\", \"1959-07-03\", \"1959-07-04\", \"1959-07-05\", \"1959-07-06\", \"1959-07-07\", \"1959-07-08\", \"1959-07-09\", \"1959-07-10\", \"1959-07-11\", \"1959-07-12\", \"1959-07-13\", \"1959-07-14\", \"1959-07-15\", \"1959-07-16\", \"1959-07-17\", \"1959-07-18\", \"1959-07-19\", \"1959-07-20\", \"1959-07-21\", \"1959-07-22\", \"1959-07-23\", \"1959-07-24\", \"1959-07-25\", \"1959-07-26\", \"1959-07-27\", \"1959-07-28\", \"1959-07-29\", \"1959-07-30\", \"1959-07-31\", \"1959-08-01\", \"1959-08-02\", \"1959-08-03\", \"1959-08-04\", \"1959-08-05\", \"1959-08-06\", \"1959-08-07\", \"1959-08-08\", \"1959-08-09\", \"1959-08-10\", \"1959-08-11\", \"1959-08-12\", \"1959-08-13\", \"1959-08-14\", \"1959-08-15\", \"1959-08-16\", \"1959-08-17\", \"1959-08-18\", \"1959-08-19\", \"1959-08-20\", \"1959-08-21\", \"1959-08-22\", \"1959-08-23\", \"1959-08-24\", \"1959-08-25\", \"1959-08-26\", \"1959-08-27\", \"1959-08-28\", \"1959-08-29\", \"1959-08-30\", \"1959-08-31\", \"1959-09-01\", \"1959-09-02\", \"1959-09-03\", \"1959-09-04\", \"1959-09-05\", \"1959-09-06\", \"1959-09-07\", \"1959-09-08\", \"1959-09-09\", \"1959-09-10\", \"1959-09-11\", \"1959-09-12\", \"1959-09-13\", \"1959-09-14\", \"1959-09-15\", \"1959-09-16\", \"1959-09-17\", \"1959-09-18\", \"1959-09-19\", \"1959-09-20\", \"1959-09-21\", \"1959-09-22\", \"1959-09-23\", \"1959-09-24\", \"1959-09-25\", \"1959-09-26\", \"1959-09-27\", \"1959-09-28\", \"1959-09-29\", \"1959-09-30\", \"1959-10-01\", \"1959-10-02\", \"1959-10-03\", \"1959-10-04\", \"1959-10-05\", \"1959-10-06\", \"1959-10-07\", \"1959-10-08\", \"1959-10-09\", \"1959-10-10\", \"1959-10-11\", \"1959-10-12\", \"1959-10-13\", \"1959-10-14\", \"1959-10-15\", \"1959-10-16\", \"1959-10-17\", \"1959-10-18\", \"1959-10-19\", \"1959-10-20\", \"1959-10-21\", \"1959-10-22\", \"1959-10-23\", \"1959-10-24\", \"1959-10-25\", \"1959-10-26\", \"1959-10-27\", \"1959-10-28\", \"1959-10-29\", \"1959-10-30\", \"1959-10-31\", \"1959-11-01\", \"1959-11-02\", \"1959-11-03\", \"1959-11-04\", \"1959-11-05\", \"1959-11-06\", \"1959-11-07\", \"1959-11-08\", \"1959-11-09\", \"1959-11-10\", \"1959-11-11\", \"1959-11-12\", \"1959-11-13\", \"1959-11-14\", \"1959-11-15\", \"1959-11-16\", \"1959-11-17\", \"1959-11-18\", \"1959-11-19\", \"1959-11-20\", \"1959-11-21\", \"1959-11-22\", \"1959-11-23\", \"1959-11-24\", \"1959-11-25\", \"1959-11-26\", \"1959-11-27\", \"1959-11-28\", \"1959-11-29\", \"1959-11-30\", \"1959-12-01\", \"1959-12-02\", \"1959-12-03\", \"1959-12-04\", \"1959-12-05\", \"1959-12-06\", \"1959-12-07\", \"1959-12-08\", \"1959-12-09\", \"1959-12-10\", \"1959-12-11\", \"1959-12-12\", \"1959-12-13\", \"1959-12-14\", \"1959-12-15\", \"1959-12-16\", \"1959-12-17\", \"1959-12-18\", \"1959-12-19\", \"1959-12-20\", \"1959-12-21\", \"1959-12-22\", \"1959-12-23\", \"1959-12-24\", \"1959-12-25\", \"1959-12-26\", \"1959-12-27\", \"1959-12-28\", \"1959-12-29\", \"1959-12-30\", \"1959-12-31\"], \"y\": [36.125, 36.333333333333336, 35.4, 35.63636363636363, 35.416666666666664, 36.92307692307692, 37.642857142857146, 38.13333333333333, 38.0625, 38.76470588235294, 39.0, 39.10526315789474, 39.75, 39.476190476190474, 40.09090909090909, 40.04347826086956, 39.708333333333336, 39.6, 39.73076923076923, 39.7037037037037, 39.535714285714285, 39.689655172413794, 39.63333333333333, 39.12903225806452, 38.625, 38.39393939393939, 38.55882352941177, 38.542857142857144, 38.861111111111114, 38.83783783783784, 39.1578947368421, 38.94871794871795, 38.75, 39.048780487804876, 38.976190476190474, 39.116279069767444, 39.38636363636363, 39.266666666666666, 39.54347826086956, 39.702127659574465, 39.8125, 39.93877551020408, 39.92, 40.07843137254902, 40.01923076923077, 39.924528301886795, 40.148148148148145, 40.18181818181818, 40.267857142857146, 40.24561403508772, 40.189655172413794, 40.016949152542374, 39.93333333333333, 39.73770491803279, 39.82258064516129, 39.73015873015873, 39.671875, 39.83076923076923, 39.89393939393939, 39.88059701492537, 39.76470588235294, 39.7536231884058, 39.82857142857143, 39.87323943661972, 39.861111111111114, 39.73972602739726, 39.567567567567565, 39.44, 39.473684210526315, 39.55844155844156, 39.57692307692308, 39.53164556962025, 39.6, 39.67901234567901, 39.71951219512195, 39.69879518072289, 39.63095238095238, 39.576470588235296, 39.76744186046512, 39.724137931034484, 39.63636363636363, 39.752808988764045, 39.766666666666666, 39.75824175824176, 39.77173913043478, 39.8494623655914, 39.787234042553195, 39.747368421052634, 39.677083333333336, 39.628865979381445, 39.61224489795919, 39.5959595959596, 39.54, 39.67326732673267, 39.61764705882353, 39.56310679611651, 39.54807692307692, 39.50476190476191, 39.43396226415094, 39.45794392523364, 39.407407407407405, 39.46788990825688, 39.38181818181818, 39.44144144144144, 39.49107142857143, 39.61946902654867, 39.57017543859649, 39.54782608695652, 39.508620689655174, 39.51282051282051, 39.53389830508475, 39.6890756302521, 39.78333333333333, 39.71900826446281, 39.68032786885246, 39.666666666666664, 39.61290322580645, 39.608, 39.666666666666664, 39.653543307086615, 39.75, 39.674418604651166, 39.63076923076923, 39.63358778625954, 39.59848484848485, 39.61654135338346, 39.62686567164179, 39.644444444444446, 39.63235294117647, 39.518248175182485, 39.47826086956522, 39.50359712230216, 39.47857142857143, 39.5886524822695, 39.598591549295776, 39.63636363636363, 39.645833333333336, 39.62758620689655, 39.65068493150685, 39.64625850340136, 39.601351351351354, 39.624161073825505, 39.626666666666665, 39.615894039735096, 39.651315789473685, 39.69281045751634, 39.65584415584416, 39.6258064516129, 39.67948717948718, 39.7515923566879, 39.72784810126582, 39.685534591194966, 39.725, 39.73913043478261, 39.79012345679013, 39.75460122699386, 39.76219512195122, 39.733333333333334, 39.734939759036145, 39.70059880239521, 39.642857142857146, 39.62130177514793, 39.62352941176471, 39.619883040935676, 39.651162790697676, 39.641618497109825, 39.68390804597701, 39.645714285714284, 39.59090909090909, 39.6045197740113, 39.62359550561798, 39.63128491620112, 39.638888888888886, 39.74585635359116, 39.76373626373626, 39.79234972677595, 39.78260869565217, 39.76756756756757, 39.795698924731184, 39.80748663101604, 39.898936170212764, 39.93121693121693, 39.98947368421052, 39.99476439790576, 40.03125, 39.95854922279793, 39.93298969072165, 39.95384615384615, 39.95918367346939, 39.96954314720812, 39.94949494949495, 39.97487437185929, 40.0, 40.024875621890544, 40.05940594059406, 40.04926108374384, 40.05882352941177, 40.03414634146341, 40.01456310679612, 40.009661835748794, 40.03365384615385, 40.047846889952154, 40.08095238095238, 40.06161137440758, 40.06603773584906, 40.11267605633803, 40.10747663551402, 40.11162790697674, 40.138888888888886, 40.24884792626728, 40.27064220183486, 40.242009132420094, 40.231818181818184, 40.248868778280546, 40.28378378378378, 40.309417040358746, 40.325892857142854, 40.31111111111111, 40.30530973451327, 40.3215859030837, 40.3421052631579, 40.31004366812227, 40.32608695652174, 40.316017316017316, 40.34051724137931, 40.36480686695279, 40.363247863247864, 40.35744680851064, 40.3728813559322, 40.40506329113924, 40.445378151260506, 40.44769874476987, 40.454166666666666, 40.49792531120332, 40.5, 40.51440329218107, 40.50409836065574, 40.61632653061225, 40.613821138211385, 40.61943319838057, 40.66129032258065, 40.674698795180724, 40.692, 40.67330677290837, 40.73809523809524, 40.75098814229249, 40.75590551181102, 40.80392156862745, 40.80859375, 40.782101167315176, 40.77906976744186, 40.83783783783784, 40.85, 40.89655172413793, 40.95038167938932, 40.94296577946768, 41.01136363636363, 41.06415094339623, 41.18421052631579, 41.235955056179776, 41.24626865671642, 41.25278810408922, 41.24814814814815, 41.269372693726936, 41.30514705882353, 41.35897435897436, 41.386861313868614, 41.43272727272727, 41.48550724637681, 41.505415162454874, 41.514388489208635, 41.51971326164875, 41.52142857142857, 41.5338078291815, 41.56382978723404, 41.58657243816254, 41.59154929577465, 41.5859649122807, 41.64685314685315, 41.64459930313589, 41.645833333333336, 41.67820069204152, 41.703448275862065, 41.7147766323024, 41.71917808219178, 41.720136518771334, 41.70748299319728, 41.72542372881356, 41.71283783783784, 41.69360269360269, 41.69463087248322, 41.67224080267559, 41.626666666666665, 41.63455149501661, 41.615894039735096, 41.62706270627063, 41.641447368421055, 41.662295081967216, 41.68627450980392, 41.69055374592834, 41.69155844155844, 41.74757281553398, 41.75806451612903, 41.79099678456592, 41.80448717948718, 41.805111821086264, 41.79936305732484, 41.79365079365079, 41.80379746835443, 41.782334384858046, 41.76100628930818, 41.755485893416925, 41.746875, 41.7196261682243, 41.72049689440994, 41.73684210526316, 41.76543209876543, 41.77230769230769, 41.76687116564417, 41.813455657492355, 41.83536585365854, 41.84498480243161, 41.86666666666667, 41.894259818731115, 41.9066265060241, 41.912912912912915, 41.94311377245509, 41.95223880597015, 41.92261904761905, 41.93471810089021, 41.93195266272189, 41.908554572271385, 41.88235294117647, 41.86510263929619, 41.8859649122807, 41.88921282798834, 41.89244186046512, 41.869565217391305, 41.861271676300575, 41.84149855907781, 41.87068965517241, 41.88538681948424, 41.91428571428571, 41.9059829059829, 41.90056818181818, 41.90084985835694, 41.90112994350282, 41.93239436619718, 41.924157303370784, 41.9187675070028, 41.90782122905028, 41.91364902506964, 41.891666666666666, 41.878116343490305, 41.9060773480663, 41.92286501377411, 41.95879120879121, 41.98082191780822]}, {\"hoverinfo\": \"skip\", \"line\": {\"color\": \"lightgray\", \"dash\": \"dash\"}, \"mode\": \"lines\", \"name\": \"Actionably Bad\", \"showlegend\": false, \"type\": \"scatter\", \"x\": [\"1959-01-08\", \"1959-01-09\", \"1959-01-10\", \"1959-01-11\", \"1959-01-12\", \"1959-01-13\", \"1959-01-14\", \"1959-01-15\", \"1959-01-16\", \"1959-01-17\", \"1959-01-18\", \"1959-01-19\", \"1959-01-20\", \"1959-01-21\", \"1959-01-22\", \"1959-01-23\", \"1959-01-24\", \"1959-01-25\", \"1959-01-26\", \"1959-01-27\", \"1959-01-28\", \"1959-01-29\", \"1959-01-30\", \"1959-01-31\", \"1959-02-01\", \"1959-02-02\", \"1959-02-03\", \"1959-02-04\", \"1959-02-05\", \"1959-02-06\", \"1959-02-07\", \"1959-02-08\", \"1959-02-09\", \"1959-02-10\", \"1959-02-11\", \"1959-02-12\", \"1959-02-13\", \"1959-02-14\", \"1959-02-15\", \"1959-02-16\", \"1959-02-17\", \"1959-02-18\", \"1959-02-19\", \"1959-02-20\", \"1959-02-21\", \"1959-02-22\", \"1959-02-23\", \"1959-02-24\", \"1959-02-25\", \"1959-02-26\", \"1959-02-27\", \"1959-02-28\", \"1959-03-01\", \"1959-03-02\", \"1959-03-03\", \"1959-03-04\", \"1959-03-05\", \"1959-03-06\", \"1959-03-07\", \"1959-03-08\", \"1959-03-09\", \"1959-03-10\", \"1959-03-11\", \"1959-03-12\", \"1959-03-13\", \"1959-03-14\", \"1959-03-15\", \"1959-03-16\", \"1959-03-17\", \"1959-03-18\", \"1959-03-19\", \"1959-03-20\", \"1959-03-21\", \"1959-03-22\", \"1959-03-23\", \"1959-03-24\", \"1959-03-25\", \"1959-03-26\", \"1959-03-27\", \"1959-03-28\", \"1959-03-29\", \"1959-03-30\", \"1959-03-31\", \"1959-04-01\", \"1959-04-02\", \"1959-04-03\", \"1959-04-04\", \"1959-04-05\", \"1959-04-06\", \"1959-04-07\", \"1959-04-08\", \"1959-04-09\", \"1959-04-10\", \"1959-04-11\", \"1959-04-12\", \"1959-04-13\", \"1959-04-14\", \"1959-04-15\", \"1959-04-16\", \"1959-04-17\", \"1959-04-18\", \"1959-04-19\", \"1959-04-20\", \"1959-04-21\", \"1959-04-22\", \"1959-04-23\", \"1959-04-24\", \"1959-04-25\", \"1959-04-26\", \"1959-04-27\", \"1959-04-28\", \"1959-04-29\", \"1959-04-30\", \"1959-05-01\", \"1959-05-02\", \"1959-05-03\", \"1959-05-04\", \"1959-05-05\", \"1959-05-06\", \"1959-05-07\", \"1959-05-08\", \"1959-05-09\", \"1959-05-10\", \"1959-05-11\", \"1959-05-12\", \"1959-05-13\", \"1959-05-14\", \"1959-05-15\", \"1959-05-16\", \"1959-05-17\", \"1959-05-18\", \"1959-05-19\", \"1959-05-20\", \"1959-05-21\", \"1959-05-22\", \"1959-05-23\", \"1959-05-24\", \"1959-05-25\", \"1959-05-26\", \"1959-05-27\", \"1959-05-28\", \"1959-05-29\", \"1959-05-30\", \"1959-05-31\", \"1959-06-01\", \"1959-06-02\", \"1959-06-03\", \"1959-06-04\", \"1959-06-05\", \"1959-06-06\", \"1959-06-07\", \"1959-06-08\", \"1959-06-09\", \"1959-06-10\", \"1959-06-11\", \"1959-06-12\", \"1959-06-13\", \"1959-06-14\", \"1959-06-15\", \"1959-06-16\", \"1959-06-17\", \"1959-06-18\", \"1959-06-19\", \"1959-06-20\", \"1959-06-21\", \"1959-06-22\", \"1959-06-23\", \"1959-06-24\", \"1959-06-25\", \"1959-06-26\", \"1959-06-27\", \"1959-06-28\", \"1959-06-29\", \"1959-06-30\", \"1959-07-01\", \"1959-07-02\", \"1959-07-03\", \"1959-07-04\", \"1959-07-05\", \"1959-07-06\", \"1959-07-07\", \"1959-07-08\", \"1959-07-09\", \"1959-07-10\", \"1959-07-11\", \"1959-07-12\", \"1959-07-13\", \"1959-07-14\", \"1959-07-15\", \"1959-07-16\", \"1959-07-17\", \"1959-07-18\", \"1959-07-19\", \"1959-07-20\", \"1959-07-21\", \"1959-07-22\", \"1959-07-23\", \"1959-07-24\", \"1959-07-25\", \"1959-07-26\", \"1959-07-27\", \"1959-07-28\", \"1959-07-29\", \"1959-07-30\", \"1959-07-31\", \"1959-08-01\", \"1959-08-02\", \"1959-08-03\", \"1959-08-04\", \"1959-08-05\", \"1959-08-06\", \"1959-08-07\", \"1959-08-08\", \"1959-08-09\", \"1959-08-10\", \"1959-08-11\", \"1959-08-12\", \"1959-08-13\", \"1959-08-14\", \"1959-08-15\", \"1959-08-16\", \"1959-08-17\", \"1959-08-18\", \"1959-08-19\", \"1959-08-20\", \"1959-08-21\", \"1959-08-22\", \"1959-08-23\", \"1959-08-24\", \"1959-08-25\", \"1959-08-26\", \"1959-08-27\", \"1959-08-28\", \"1959-08-29\", \"1959-08-30\", \"1959-08-31\", \"1959-09-01\", \"1959-09-02\", \"1959-09-03\", \"1959-09-04\", \"1959-09-05\", \"1959-09-06\", \"1959-09-07\", \"1959-09-08\", \"1959-09-09\", \"1959-09-10\", \"1959-09-11\", \"1959-09-12\", \"1959-09-13\", \"1959-09-14\", \"1959-09-15\", \"1959-09-16\", \"1959-09-17\", \"1959-09-18\", \"1959-09-19\", \"1959-09-20\", \"1959-09-21\", \"1959-09-22\", \"1959-09-23\", \"1959-09-24\", \"1959-09-25\", \"1959-09-26\", \"1959-09-27\", \"1959-09-28\", \"1959-09-29\", \"1959-09-30\", \"1959-10-01\", \"1959-10-02\", \"1959-10-03\", \"1959-10-04\", \"1959-10-05\", \"1959-10-06\", \"1959-10-07\", \"1959-10-08\", \"1959-10-09\", \"1959-10-10\", \"1959-10-11\", \"1959-10-12\", \"1959-10-13\", \"1959-10-14\", \"1959-10-15\", \"1959-10-16\", \"1959-10-17\", \"1959-10-18\", \"1959-10-19\", \"1959-10-20\", \"1959-10-21\", \"1959-10-22\", \"1959-10-23\", \"1959-10-24\", \"1959-10-25\", \"1959-10-26\", \"1959-10-27\", \"1959-10-28\", \"1959-10-29\", \"1959-10-30\", \"1959-10-31\", \"1959-11-01\", \"1959-11-02\", \"1959-11-03\", \"1959-11-04\", \"1959-11-05\", \"1959-11-06\", \"1959-11-07\", \"1959-11-08\", \"1959-11-09\", \"1959-11-10\", \"1959-11-11\", \"1959-11-12\", \"1959-11-13\", \"1959-11-14\", \"1959-11-15\", \"1959-11-16\", \"1959-11-17\", \"1959-11-18\", \"1959-11-19\", \"1959-11-20\", \"1959-11-21\", \"1959-11-22\", \"1959-11-23\", \"1959-11-24\", \"1959-11-25\", \"1959-11-26\", \"1959-11-27\", \"1959-11-28\", \"1959-11-29\", \"1959-11-30\", \"1959-12-01\", \"1959-12-02\", \"1959-12-03\", \"1959-12-04\", \"1959-12-05\", \"1959-12-06\", \"1959-12-07\", \"1959-12-08\", \"1959-12-09\", \"1959-12-10\", \"1959-12-11\", \"1959-12-12\", \"1959-12-13\", \"1959-12-14\", \"1959-12-15\", \"1959-12-16\", \"1959-12-17\", \"1959-12-18\", \"1959-12-19\", \"1959-12-20\", \"1959-12-21\", \"1959-12-22\", \"1959-12-23\", \"1959-12-24\", \"1959-12-25\", \"1959-12-26\", \"1959-12-27\", \"1959-12-28\", \"1959-12-29\", \"1959-12-30\", \"1959-12-31\"], \"y\": [16.365, 17.380833333333335, 15.30222222222222, 14.62236363636363, 15.103939393939388, 13.42641025641025, 14.316703296703295, 16.09333333333333, 16.073166666666662, 15.988455882352941, 16.468235294117644, 17.529707602339183, 17.77, 16.201190476190472, 15.51757575757576, 14.89438735177865, 14.843115942028987, 15.216666666666669, 15.684369230769235, 16.172934472934468, 16.48238095238095, 16.604655172413793, 16.794022988505745, 15.809698924731183, 15.972096774193549, 15.783939393939391, 15.586096256684492, 15.776386554621851, 15.833111111111116, 15.562837837837836, 15.57735419630156, 14.58871794871795, 15.014615384615382, 14.576780487804879, 14.127897793263642, 14.289612403100776, 14.765898520084562, 14.178030303030301, 13.94836714975845, 14.374301572617942, 14.910372340425528, 15.500025510204079, 15.600000000000001, 15.766031372549016, 15.609819004524883, 15.8822206095791, 15.706261355695311, 15.699966329966326, 16.08603896103896, 16.210614035087715, 16.482988505747127, 16.397983635300996, 16.48926553672316, 16.374038251366123, 16.100613432046536, 15.918868407578081, 16.15409722222222, 16.098581730769226, 16.281324009324003, 16.424233378561734, 16.38052677787533, 16.43950554134697, 16.62103519668737, 16.921239436619718, 17.08251956181534, 16.98194824961948, 16.975786745649756, 17.04567567567567, 16.95235087719298, 17.19344155844156, 17.329650349650354, 17.399081467056146, 17.444556962025317, 17.76726234567901, 17.979759108702194, 18.061965912430203, 18.12661503155479, 18.296470588235294, 18.080618331053355, 17.670882117080996, 17.714294670846392, 17.535763534218592, 17.53026217228464, 17.70979731379731, 17.907123745819398, 18.049027582982703, 17.8493845801876, 17.9863045912654, 18.061083333333332, 18.182615979381442, 18.304822217546814, 18.505959595959595, 18.555555555555554, 18.39326732673267, 18.0479440885265, 18.20487150199886, 18.293902165795366, 18.378223443223444, 18.432628930817607, 18.403792981837416, 18.35114572516441, 18.311038056405028, 18.028607172643873, 17.89544144144144, 18.115215572715574, 18.220719026548668, 17.889998447446047, 17.98782608695652, 18.08983808095952, 18.16402740937223, 18.322103433289875, 18.296363765845317, 18.413921568627448, 18.106508264462807, 18.180493158108657, 18.27765027322404, 18.289651193286122, 18.327999999999996, 18.386666666666663, 18.352432195975503, 18.323385826771652, 17.958012354651164, 18.000226595110316, 18.04666470933646, 18.074820726347443, 18.114874686716792, 18.26686567164179, 18.423996683250415, 18.490278867102397, 18.257806998711896, 18.178844811171057, 18.18504639766448, 18.17943473792394, 18.080652482269503, 17.979017081210667, 18.094110115236873, 18.17981934731935, 18.23675287356322, 18.297305621162025, 18.36625850340136, 18.35754182754183, 18.344161073825504, 18.435928411633107, 18.53096070640176, 18.582706517950506, 18.745310457516336, 18.636628469569647, 18.725806451612904, 18.69122911497105, 18.846720561816106, 18.701988228654354, 18.742243451954458, 18.695943396226415, 18.77500543478261, 18.857079978529256, 18.72089752329016, 18.74329941642975, 18.745284552845526, 18.793485213581597, 18.78915301926268, 18.792917023096667, 18.80046844181459, 18.862937695788375, 18.96576539387685, 19.024496124031007, 19.026618497109823, 19.049688392797822, 18.91605911330049, 18.934109090909093, 18.883724319465845, 19.004838443471083, 19.09847592743707, 19.220788330229666, 19.17518968692449, 19.071581567603666, 19.184657419083646, 19.185778094559275, 19.26821974148061, 19.292131357163615, 19.371250071876254, 19.35861531459779, 19.344514803557356, 19.441325536062376, 19.41476439790576, 19.475438481675393, 19.218861722797925, 19.176720260669832, 19.181165741475017, 19.252106750392468, 19.35454314720812, 19.35812439111931, 19.366591543576465, 19.495276381909548, 19.622675621890544, 19.732241761489583, 19.70421157879335, 19.76158215010142, 19.74512673362027, 19.811538716552214, 19.865972515360443, 19.910175585284282, 19.99553919764446, 20.073679653679655, 20.010278041074248, 20.04670124295806, 20.074845867658787, 20.026349874950636, 20.09947837426646, 20.157958656330745, 20.138755333674688, 20.020319621189696, 19.950357756273306, 19.984238273142385, 20.020777869189637, 20.099077901430842, 20.191669292610996, 20.274502722613704, 20.26611111111111, 20.325754178957716, 20.371585903083698, 20.468272664038953, 20.383377001455603, 20.358663375735716, 20.366017316017313, 20.384759665621733, 20.495065487642442, 20.510286489857307, 20.577959629023457, 20.620966462315177, 20.69175820639348, 20.792804311598058, 20.777110509475754, 20.854752440725242, 20.880425311203318, 20.853526970954356, 20.916138829371153, 20.920806179585778, 20.786244563399134, 20.560678281068526, 20.626181165860242, 20.652059553349876, 20.67106976292266, 20.75802409638554, 20.723306772908366, 20.645027509011573, 20.600432586736936, 20.66396875291774, 20.67589007256446, 20.6447506127451, 20.613898042315174, 20.62724097366754, 20.5991556672952, 20.566216216216215, 20.598705570291774, 20.70992190927437, 20.617316924505843, 20.56071724853093, 20.65066609491138, 20.667078450844087, 20.615955056179775, 20.59390910615462, 20.667564223492203, 20.709783835880486, 20.738113434467675, 20.810386911222054, 20.890665535444942, 20.92532285233015, 20.997325812873253, 21.105070882740446, 21.11208182912154, 21.165868633612966, 21.234821175317812, 21.299708141321045, 21.355807829181497, 21.410306655561442, 21.48565045234694, 21.51465883641069, 21.551669137632814, 21.505519813519815, 21.406277624814212, 21.46876016260163, 21.488061803152632, 21.5647631547548, 21.608845597819645, 21.664057807277693, 21.724588573565853, 21.743865245757007, 21.7482808716707, 21.722261566651397, 21.752589180089178, 21.767021444873794, 21.74901932616552, 21.707803790412484, 21.640218161683276, 21.617289388572303, 21.615407077131554, 21.68705792947716, 21.756045081967212, 21.836569591771134, 21.853560281876053, 21.91051609628157, 21.883936451897615, 21.83819396596722, 21.87531936521108, 21.90152898013027, 21.931842590317032, 21.972589894385543, 22.03002022040238, 22.06068635724332, 22.017524258275767, 22.058545721484833, 22.073158849391767, 22.117909482758623, 22.102126168224302, 22.08953116232271, 22.12553775743707, 22.181902687000726, 22.191752136752136, 22.213825011798015, 22.18167651638806, 22.198546281793092, 22.235594558529172, 22.284539007092196, 22.35535072782202, 22.38656608306337, 22.435623756286407, 22.46041106975239, 22.472119045491105, 22.397425017768303, 22.35680143422354, 22.372664828893996, 22.35204569653174, 22.375686274509803, 22.392337933413835, 22.368897463600348, 22.38254616132167, 22.442645942097773, 22.406716380182, 22.416286169054196, 22.421960986823475, 22.376799165258866, 22.40929486546125, 22.455890298812932, 22.4043829059829, 22.446949948199943, 22.487383949266032, 22.542659688545317, 22.545953688231076, 22.487424909004584, 22.52916076542976, 22.557625150618904, 22.572922768086396, 22.53071959145775, 22.54878301015697, 22.519761558592613, 22.56071031764151, 22.598681015953748, 22.63736037934668]}, {\"hoverinfo\": \"skip\", \"line\": {\"color\": \"lightgray\", \"dash\": \"dash\"}, \"mode\": \"lines\", \"name\": \"Crisis\", \"showlegend\": false, \"type\": \"scatter\", \"x\": [\"1959-01-08\", \"1959-01-09\", \"1959-01-10\", \"1959-01-11\", \"1959-01-12\", \"1959-01-13\", \"1959-01-14\", \"1959-01-15\", \"1959-01-16\", \"1959-01-17\", \"1959-01-18\", \"1959-01-19\", \"1959-01-20\", \"1959-01-21\", \"1959-01-22\", \"1959-01-23\", \"1959-01-24\", \"1959-01-25\", \"1959-01-26\", \"1959-01-27\", \"1959-01-28\", \"1959-01-29\", \"1959-01-30\", \"1959-01-31\", \"1959-02-01\", \"1959-02-02\", \"1959-02-03\", \"1959-02-04\", \"1959-02-05\", \"1959-02-06\", \"1959-02-07\", \"1959-02-08\", \"1959-02-09\", \"1959-02-10\", \"1959-02-11\", \"1959-02-12\", \"1959-02-13\", \"1959-02-14\", \"1959-02-15\", \"1959-02-16\", \"1959-02-17\", \"1959-02-18\", \"1959-02-19\", \"1959-02-20\", \"1959-02-21\", \"1959-02-22\", \"1959-02-23\", \"1959-02-24\", \"1959-02-25\", \"1959-02-26\", \"1959-02-27\", \"1959-02-28\", \"1959-03-01\", \"1959-03-02\", \"1959-03-03\", \"1959-03-04\", \"1959-03-05\", \"1959-03-06\", \"1959-03-07\", \"1959-03-08\", \"1959-03-09\", \"1959-03-10\", \"1959-03-11\", \"1959-03-12\", \"1959-03-13\", \"1959-03-14\", \"1959-03-15\", \"1959-03-16\", \"1959-03-17\", \"1959-03-18\", \"1959-03-19\", \"1959-03-20\", \"1959-03-21\", \"1959-03-22\", \"1959-03-23\", \"1959-03-24\", \"1959-03-25\", \"1959-03-26\", \"1959-03-27\", \"1959-03-28\", \"1959-03-29\", \"1959-03-30\", \"1959-03-31\", \"1959-04-01\", \"1959-04-02\", \"1959-04-03\", \"1959-04-04\", \"1959-04-05\", \"1959-04-06\", \"1959-04-07\", \"1959-04-08\", \"1959-04-09\", \"1959-04-10\", \"1959-04-11\", \"1959-04-12\", \"1959-04-13\", \"1959-04-14\", \"1959-04-15\", \"1959-04-16\", \"1959-04-17\", \"1959-04-18\", \"1959-04-19\", \"1959-04-20\", \"1959-04-21\", \"1959-04-22\", \"1959-04-23\", \"1959-04-24\", \"1959-04-25\", \"1959-04-26\", \"1959-04-27\", \"1959-04-28\", \"1959-04-29\", \"1959-04-30\", \"1959-05-01\", \"1959-05-02\", \"1959-05-03\", \"1959-05-04\", \"1959-05-05\", \"1959-05-06\", \"1959-05-07\", \"1959-05-08\", \"1959-05-09\", \"1959-05-10\", \"1959-05-11\", \"1959-05-12\", \"1959-05-13\", \"1959-05-14\", \"1959-05-15\", \"1959-05-16\", \"1959-05-17\", \"1959-05-18\", \"1959-05-19\", \"1959-05-20\", \"1959-05-21\", \"1959-05-22\", \"1959-05-23\", \"1959-05-24\", \"1959-05-25\", \"1959-05-26\", \"1959-05-27\", \"1959-05-28\", \"1959-05-29\", \"1959-05-30\", \"1959-05-31\", \"1959-06-01\", \"1959-06-02\", \"1959-06-03\", \"1959-06-04\", \"1959-06-05\", \"1959-06-06\", \"1959-06-07\", \"1959-06-08\", \"1959-06-09\", \"1959-06-10\", \"1959-06-11\", \"1959-06-12\", \"1959-06-13\", \"1959-06-14\", \"1959-06-15\", \"1959-06-16\", \"1959-06-17\", \"1959-06-18\", \"1959-06-19\", \"1959-06-20\", \"1959-06-21\", \"1959-06-22\", \"1959-06-23\", \"1959-06-24\", \"1959-06-25\", \"1959-06-26\", \"1959-06-27\", \"1959-06-28\", \"1959-06-29\", \"1959-06-30\", \"1959-07-01\", \"1959-07-02\", \"1959-07-03\", \"1959-07-04\", \"1959-07-05\", \"1959-07-06\", \"1959-07-07\", \"1959-07-08\", \"1959-07-09\", \"1959-07-10\", \"1959-07-11\", \"1959-07-12\", \"1959-07-13\", \"1959-07-14\", \"1959-07-15\", \"1959-07-16\", \"1959-07-17\", \"1959-07-18\", \"1959-07-19\", \"1959-07-20\", \"1959-07-21\", \"1959-07-22\", \"1959-07-23\", \"1959-07-24\", \"1959-07-25\", \"1959-07-26\", \"1959-07-27\", \"1959-07-28\", \"1959-07-29\", \"1959-07-30\", \"1959-07-31\", \"1959-08-01\", \"1959-08-02\", \"1959-08-03\", \"1959-08-04\", \"1959-08-05\", \"1959-08-06\", \"1959-08-07\", \"1959-08-08\", \"1959-08-09\", \"1959-08-10\", \"1959-08-11\", \"1959-08-12\", \"1959-08-13\", \"1959-08-14\", \"1959-08-15\", \"1959-08-16\", \"1959-08-17\", \"1959-08-18\", \"1959-08-19\", \"1959-08-20\", \"1959-08-21\", \"1959-08-22\", \"1959-08-23\", \"1959-08-24\", \"1959-08-25\", \"1959-08-26\", \"1959-08-27\", \"1959-08-28\", \"1959-08-29\", \"1959-08-30\", \"1959-08-31\", \"1959-09-01\", \"1959-09-02\", \"1959-09-03\", \"1959-09-04\", \"1959-09-05\", \"1959-09-06\", \"1959-09-07\", \"1959-09-08\", \"1959-09-09\", \"1959-09-10\", \"1959-09-11\", \"1959-09-12\", \"1959-09-13\", \"1959-09-14\", \"1959-09-15\", \"1959-09-16\", \"1959-09-17\", \"1959-09-18\", \"1959-09-19\", \"1959-09-20\", \"1959-09-21\", \"1959-09-22\", \"1959-09-23\", \"1959-09-24\", \"1959-09-25\", \"1959-09-26\", \"1959-09-27\", \"1959-09-28\", \"1959-09-29\", \"1959-09-30\", \"1959-10-01\", \"1959-10-02\", \"1959-10-03\", \"1959-10-04\", \"1959-10-05\", \"1959-10-06\", \"1959-10-07\", \"1959-10-08\", \"1959-10-09\", \"1959-10-10\", \"1959-10-11\", \"1959-10-12\", \"1959-10-13\", \"1959-10-14\", \"1959-10-15\", \"1959-10-16\", \"1959-10-17\", \"1959-10-18\", \"1959-10-19\", \"1959-10-20\", \"1959-10-21\", \"1959-10-22\", \"1959-10-23\", \"1959-10-24\", \"1959-10-25\", \"1959-10-26\", \"1959-10-27\", \"1959-10-28\", \"1959-10-29\", \"1959-10-30\", \"1959-10-31\", \"1959-11-01\", \"1959-11-02\", \"1959-11-03\", \"1959-11-04\", \"1959-11-05\", \"1959-11-06\", \"1959-11-07\", \"1959-11-08\", \"1959-11-09\", \"1959-11-10\", \"1959-11-11\", \"1959-11-12\", \"1959-11-13\", \"1959-11-14\", \"1959-11-15\", \"1959-11-16\", \"1959-11-17\", \"1959-11-18\", \"1959-11-19\", \"1959-11-20\", \"1959-11-21\", \"1959-11-22\", \"1959-11-23\", \"1959-11-24\", \"1959-11-25\", \"1959-11-26\", \"1959-11-27\", \"1959-11-28\", \"1959-11-29\", \"1959-11-30\", \"1959-12-01\", \"1959-12-02\", \"1959-12-03\", \"1959-12-04\", \"1959-12-05\", \"1959-12-06\", \"1959-12-07\", \"1959-12-08\", \"1959-12-09\", \"1959-12-10\", \"1959-12-11\", \"1959-12-12\", \"1959-12-13\", \"1959-12-14\", \"1959-12-15\", \"1959-12-16\", \"1959-12-17\", \"1959-12-18\", \"1959-12-19\", \"1959-12-20\", \"1959-12-21\", \"1959-12-22\", \"1959-12-23\", \"1959-12-24\", \"1959-12-25\", \"1959-12-26\", \"1959-12-27\", \"1959-12-28\", \"1959-12-29\", \"1959-12-30\", \"1959-12-31\"], \"y\": [6.484999999999996, 7.904583333333335, 5.25333333333333, 4.115363636363629, 4.947575757575752, 1.6780769230769153, 2.6536263736263734, 5.073333333333331, 5.078499999999998, 4.600330882352942, 5.202352941176471, 6.741929824561403, 6.779999999999994, 4.563690476190473, 3.230909090909094, 2.3198418972331964, 2.4105072463768096, 3.0249999999999986, 3.6611692307692323, 4.407549857549853, 4.955714285714286, 5.062155172413789, 5.374367816091954, 4.150032258064513, 4.645645161290325, 4.478939393939392, 4.099732620320857, 4.3931512605042045, 4.319111111111113, 3.925337837837837, 3.7870839260312863, 2.4087179487179498, 3.1469230769230734, 2.340780487804878, 1.7037514518002297, 1.8762790697674419, 2.455665961945023, 1.6337121212121204, 1.1508115942028923, 1.7103885291396779, 2.4593085106382944, 3.280650510204076, 3.440000000000005, 3.609831372549017, 3.40511312217194, 3.8610667634252565, 3.485317959468894, 3.459040404040401, 3.9951298701298654, 4.193114035087717, 4.629655172413791, 4.588500876680307, 4.767231638418075, 4.692204918032786, 4.2396298254891605, 4.013223246287758, 4.395208333333329, 4.232487980769228, 4.475016317016312, 4.696051560379914, 4.68843722563652, 4.782446717817557, 5.0172670807453414, 5.4452394366197225, 5.6932237871674545, 5.60305936073059, 5.679896334690852, 5.84851351351351, 5.6916842105263115, 6.010941558441559, 6.206013986013986, 6.332799415774097, 6.366835443037978, 6.811387345679009, 7.109882565492313, 7.24355127828386, 7.374446356855998, 7.656470588235294, 7.237206566347474, 6.6442542101042505, 6.753260188087772, 6.427240806945861, 6.412059925093629, 6.685575091575089, 6.974816053511702, 7.148810191678358, 6.880459849004801, 7.105772676371785, 7.253083333333329, 7.459490979381442, 7.651110877340628, 7.960959595959597, 8.063333333333329, 7.753267326732669, 7.263092603377984, 7.525753854940035, 7.666814787154589, 7.814954212454211, 7.93196226415094, 7.876717510139301, 7.823014884042916, 7.732612130479101, 7.352001668056715, 7.122441441441438, 7.427287644787647, 7.521344026548668, 7.0499099518708235, 7.207826086956523, 7.3804467766116915, 7.489630857648095, 7.716205997392439, 7.600007833641925, 7.729215686274507, 7.300258264462805, 7.4305758027367546, 7.583142076502725, 7.628025177025961, 7.687999999999995, 7.746666666666663, 7.701876640419947, 7.610078740157476, 7.099809229651164, 7.1849552772808565, 7.253203170874926, 7.312988665278738, 7.364041353383456, 7.586865671641789, 7.8137728026534, 7.91924183006536, 7.627586410476603, 7.529136781973975, 7.525771035345642, 7.529866392600201, 7.326652482269502, 7.169229847168111, 7.3229833546734895, 7.446812354312357, 7.541336206896553, 7.620615965989614, 7.726258503401361, 7.735637065637064, 7.704161073825503, 7.840559284116328, 7.9884940397350945, 8.048401882188916, 8.271560457516337, 8.12702062643239, 8.275806451612901, 8.197100082712986, 8.394284664380208, 8.18905829234862, 8.270597882334204, 8.181415094339624, 8.292942934782609, 8.390558239398821, 8.204045671438305, 8.233851563669013, 8.251260162601625, 8.322757940854324, 8.333430127696417, 8.367946963216426, 8.390051775147924, 8.482641837800209, 8.638706570347438, 8.711162790697674, 8.719118497109822, 8.732578566208225, 8.551231527093591, 8.605709090909091, 8.523326592193115, 8.695459912397638, 8.832071433055049, 9.011738050900057, 8.889856353591156, 8.725504219537367, 8.88081126523749, 8.887362794012827, 9.018545828437134, 9.04034757337983, 9.153131792306361, 9.088454886790302, 9.051163739727567, 9.1672514619883, 9.12476439790576, 9.197532722513088, 8.849017972797924, 8.798585545643924, 8.794825535289448, 8.898568288854005, 9.047043147208118, 9.062439111931496, 9.06245012943505, 9.242914572864322, 9.421575621890543, 9.568659671937343, 9.531686826318097, 9.61296146044625, 9.600616929698703, 9.710026521430265, 9.794127855166266, 9.848436454849498, 9.969385351490615, 10.07004329004329, 9.984611374407582, 10.037032996512565, 10.055930773319162, 9.985786494668947, 10.09340360791132, 10.167493540051673, 10.08370903737839, 9.895158330867115, 9.804532068199912, 9.860448318804483, 9.906732414644182, 10.00672496025437, 10.132795418737125, 10.248807655349133, 10.243611111111107, 10.335976401179938, 10.3965859030837, 10.531356364479482, 10.420043668122268, 10.3749515853427, 10.391017316017315, 10.406880877742942, 10.560194797987272, 10.583805803162026, 10.688216039279865, 10.745009015506668, 10.835105664020595, 10.966517391766835, 10.941816391828695, 11.05504532775453, 11.071675311203315, 11.030290456431533, 11.117006597966192, 11.1291600890508, 10.871203579792574, 10.534106852497096, 10.62955514960008, 10.647444168734491, 10.669255246793625, 10.791036144578314, 10.748306772908368, 10.598493644469741, 10.525154808959158, 10.618000373471098, 10.611874324532963, 10.562829044117645, 10.529796479815175, 10.551326576780383, 10.479814582023884, 10.424324324324324, 10.449782493368694, 10.589692024216902, 10.45449249702493, 10.335394054614582, 10.443923670668955, 10.408512413108237, 10.305955056179773, 10.267729330873717, 10.374952283193696, 10.440601679746656, 10.472483804838046, 10.563006837421316, 10.656511123680236, 10.694553621560921, 10.779625082946247, 10.914852700922264, 10.91541516245487, 10.991608705815128, 11.092375132152345, 11.188847926267279, 11.266807829181499, 11.333545089725142, 11.435189459439137, 11.47621360672871, 11.53452125030887, 11.434853146853147, 11.287116785653371, 11.380223577235775, 11.392992358708188, 11.495420594201164, 11.555880080578262, 11.636497669820645, 11.72681460096311, 11.76205637203687, 11.759709443099272, 11.726973431058177, 11.782082423332419, 11.803216731069082, 11.787408587910484, 11.748372352285394, 11.643051495016607, 11.617987062990906, 11.609579262562015, 11.709863210005214, 11.802920081967212, 11.911717132754742, 11.935063549849907, 12.019994923643129, 11.952118270079431, 11.878258690886312, 11.917480655533659, 11.950049880451811, 11.995207974932416, 12.059203312915894, 12.148204933778178, 12.189130801687764, 12.135119194984629, 12.207315437573161, 12.231995327379188, 12.303426724137932, 12.293376168224299, 12.274048296279098, 12.319885583524023, 12.390137981118372, 12.401474358974358, 12.437301934874935, 12.365786945835914, 12.38013649586037, 12.430899436577949, 12.493475177304962, 12.585896182367478, 12.626535871583009, 12.696979177973155, 12.719059718401034, 12.73205916525158, 12.63482800284293, 12.567843100890208, 12.593020911980052, 12.573791258661917, 12.62235294117647, 12.65595558047266, 12.610363739260169, 12.629212827988336, 12.717747982914098, 12.67529196157735, 12.693793415431006, 12.712192200696308, 12.629853920302093, 12.671248888449753, 12.726692591076542, 12.653582905982901, 12.720140831390825, 12.780650994720578, 12.863424561066562, 12.852733349248027, 12.769058711821486, 12.834357394643245, 12.882527111403217, 12.902559639594777, 12.850246053853294, 12.884116343490305, 12.82660366385577, 12.879632969575212, 12.918625919535014, 12.965629610115911]}, {\"hoverinfo\": \"text\", \"hovertext\": [\"<b>Actionably Good</b><br>Metric is <b>high</b> compared with historical ranges.\", \"<b>Actionably Good</b><br>Metric is <b>high</b> compared with historical ranges.<br>Metric <b>increased suddenly</b> compared to historical values.\", \"<b>Actionably Bad</b><br>Metric is within a <b>normal</b> range based on historical values.<br>Metric <b>decreased suddenly</b> compared to historical values.\", \"<b>Extraordinary</b><br>Metric is <b>high</b> compared with historical ranges.\"], \"marker\": {\"color\": [\"rgb(116,196,118)\", \"rgb(65,171,93)\", \"rgb(252,146,114)\", \"rgb(35,139,69)\"], \"size\": 10}, \"mode\": \"markers\", \"name\": \"Actionability\", \"showlegend\": false, \"type\": \"scatter\", \"x\": [\"1959-08-05\", \"1959-09-02\", \"1959-09-03\", \"1959-09-23\"], \"y\": [64, 68, 40, 73]}, {\"hoverinfo\": \"skip\", \"marker\": {\"color\": [\"lightgray\", \"lightgray\", \"lightgray\", \"lightgray\"], \"size\": 10}, \"mode\": \"markers\", \"name\": \"Historical Alerts\", \"showlegend\": false, \"type\": \"scatter\", \"x\": [\"1959-08-05\", \"1959-09-02\", \"1959-09-03\", \"1959-09-23\"], \"y\": [64, 68, 40, 73]}, {\"line\": {\"color\": \"gray\", \"width\": 4}, \"mode\": \"lines\", \"name\": \"Births\", \"showlegend\": false, \"type\": \"scatter\", \"x\": [\"1959-01-08\", \"1959-01-09\", \"1959-01-10\", \"1959-01-11\", \"1959-01-12\", \"1959-01-13\", \"1959-01-14\", \"1959-01-15\", \"1959-01-16\", \"1959-01-17\", \"1959-01-18\", \"1959-01-19\", \"1959-01-20\", \"1959-01-21\", \"1959-01-22\", \"1959-01-23\", \"1959-01-24\", \"1959-01-25\", \"1959-01-26\", \"1959-01-27\", \"1959-01-28\", \"1959-01-29\", \"1959-01-30\", \"1959-01-31\", \"1959-02-01\", \"1959-02-02\", \"1959-02-03\", \"1959-02-04\", \"1959-02-05\", \"1959-02-06\", \"1959-02-07\", \"1959-02-08\", \"1959-02-09\", \"1959-02-10\", \"1959-02-11\", \"1959-02-12\", \"1959-02-13\", \"1959-02-14\", \"1959-02-15\", \"1959-02-16\", \"1959-02-17\", \"1959-02-18\", \"1959-02-19\", \"1959-02-20\", \"1959-02-21\", \"1959-02-22\", \"1959-02-23\", \"1959-02-24\", \"1959-02-25\", \"1959-02-26\", \"1959-02-27\", \"1959-02-28\", \"1959-03-01\", \"1959-03-02\", \"1959-03-03\", \"1959-03-04\", \"1959-03-05\", \"1959-03-06\", \"1959-03-07\", \"1959-03-08\", \"1959-03-09\", \"1959-03-10\", \"1959-03-11\", \"1959-03-12\", \"1959-03-13\", \"1959-03-14\", \"1959-03-15\", \"1959-03-16\", \"1959-03-17\", \"1959-03-18\", \"1959-03-19\", \"1959-03-20\", \"1959-03-21\", \"1959-03-22\", \"1959-03-23\", \"1959-03-24\", \"1959-03-25\", \"1959-03-26\", \"1959-03-27\", \"1959-03-28\", \"1959-03-29\", \"1959-03-30\", \"1959-03-31\", \"1959-04-01\", \"1959-04-02\", \"1959-04-03\", \"1959-04-04\", \"1959-04-05\", \"1959-04-06\", \"1959-04-07\", \"1959-04-08\", \"1959-04-09\", \"1959-04-10\", \"1959-04-11\", \"1959-04-12\", \"1959-04-13\", \"1959-04-14\", \"1959-04-15\", \"1959-04-16\", \"1959-04-17\", \"1959-04-18\", \"1959-04-19\", \"1959-04-20\", \"1959-04-21\", \"1959-04-22\", \"1959-04-23\", \"1959-04-24\", \"1959-04-25\", \"1959-04-26\", \"1959-04-27\", \"1959-04-28\", \"1959-04-29\", \"1959-04-30\", \"1959-05-01\", \"1959-05-02\", \"1959-05-03\", \"1959-05-04\", \"1959-05-05\", \"1959-05-06\", \"1959-05-07\", \"1959-05-08\", \"1959-05-09\", \"1959-05-10\", \"1959-05-11\", \"1959-05-12\", \"1959-05-13\", \"1959-05-14\", \"1959-05-15\", \"1959-05-16\", \"1959-05-17\", \"1959-05-18\", \"1959-05-19\", \"1959-05-20\", \"1959-05-21\", \"1959-05-22\", \"1959-05-23\", \"1959-05-24\", \"1959-05-25\", \"1959-05-26\", \"1959-05-27\", \"1959-05-28\", \"1959-05-29\", \"1959-05-30\", \"1959-05-31\", \"1959-06-01\", \"1959-06-02\", \"1959-06-03\", \"1959-06-04\", \"1959-06-05\", \"1959-06-06\", \"1959-06-07\", \"1959-06-08\", \"1959-06-09\", \"1959-06-10\", \"1959-06-11\", \"1959-06-12\", \"1959-06-13\", \"1959-06-14\", \"1959-06-15\", \"1959-06-16\", \"1959-06-17\", \"1959-06-18\", \"1959-06-19\", \"1959-06-20\", \"1959-06-21\", \"1959-06-22\", \"1959-06-23\", \"1959-06-24\", \"1959-06-25\", \"1959-06-26\", \"1959-06-27\", \"1959-06-28\", \"1959-06-29\", \"1959-06-30\", \"1959-07-01\", \"1959-07-02\", \"1959-07-03\", \"1959-07-04\", \"1959-07-05\", \"1959-07-06\", \"1959-07-07\", \"1959-07-08\", \"1959-07-09\", \"1959-07-10\", \"1959-07-11\", \"1959-07-12\", \"1959-07-13\", \"1959-07-14\", \"1959-07-15\", \"1959-07-16\", \"1959-07-17\", \"1959-07-18\", \"1959-07-19\", \"1959-07-20\", \"1959-07-21\", \"1959-07-22\", \"1959-07-23\", \"1959-07-24\", \"1959-07-25\", \"1959-07-26\", \"1959-07-27\", \"1959-07-28\", \"1959-07-29\", \"1959-07-30\", \"1959-07-31\", \"1959-08-01\", \"1959-08-02\", \"1959-08-03\", \"1959-08-04\", \"1959-08-05\", \"1959-08-06\", \"1959-08-07\", \"1959-08-08\", \"1959-08-09\", \"1959-08-10\", \"1959-08-11\", \"1959-08-12\", \"1959-08-13\", \"1959-08-14\", \"1959-08-15\", \"1959-08-16\", \"1959-08-17\", \"1959-08-18\", \"1959-08-19\", \"1959-08-20\", \"1959-08-21\", \"1959-08-22\", \"1959-08-23\", \"1959-08-24\", \"1959-08-25\", \"1959-08-26\", \"1959-08-27\", \"1959-08-28\", \"1959-08-29\", \"1959-08-30\", \"1959-08-31\", \"1959-09-01\", \"1959-09-02\", \"1959-09-03\", \"1959-09-04\", \"1959-09-05\", \"1959-09-06\", \"1959-09-07\", \"1959-09-08\", \"1959-09-09\", \"1959-09-10\", \"1959-09-11\", \"1959-09-12\", \"1959-09-13\", \"1959-09-14\", \"1959-09-15\", \"1959-09-16\", \"1959-09-17\", \"1959-09-18\", \"1959-09-19\", \"1959-09-20\", \"1959-09-21\", \"1959-09-22\", \"1959-09-23\", \"1959-09-24\", \"1959-09-25\", \"1959-09-26\", \"1959-09-27\", \"1959-09-28\", \"1959-09-29\", \"1959-09-30\", \"1959-10-01\", \"1959-10-02\", \"1959-10-03\", \"1959-10-04\", \"1959-10-05\", \"1959-10-06\", \"1959-10-07\", \"1959-10-08\", \"1959-10-09\", \"1959-10-10\", \"1959-10-11\", \"1959-10-12\", \"1959-10-13\", \"1959-10-14\", \"1959-10-15\", \"1959-10-16\", \"1959-10-17\", \"1959-10-18\", \"1959-10-19\", \"1959-10-20\", \"1959-10-21\", \"1959-10-22\", \"1959-10-23\", \"1959-10-24\", \"1959-10-25\", \"1959-10-26\", \"1959-10-27\", \"1959-10-28\", \"1959-10-29\", \"1959-10-30\", \"1959-10-31\", \"1959-11-01\", \"1959-11-02\", \"1959-11-03\", \"1959-11-04\", \"1959-11-05\", \"1959-11-06\", \"1959-11-07\", \"1959-11-08\", \"1959-11-09\", \"1959-11-10\", \"1959-11-11\", \"1959-11-12\", \"1959-11-13\", \"1959-11-14\", \"1959-11-15\", \"1959-11-16\", \"1959-11-17\", \"1959-11-18\", \"1959-11-19\", \"1959-11-20\", \"1959-11-21\", \"1959-11-22\", \"1959-11-23\", \"1959-11-24\", \"1959-11-25\", \"1959-11-26\", \"1959-11-27\", \"1959-11-28\", \"1959-11-29\", \"1959-11-30\", \"1959-12-01\", \"1959-12-02\", \"1959-12-03\", \"1959-12-04\", \"1959-12-05\", \"1959-12-06\", \"1959-12-07\", \"1959-12-08\", \"1959-12-09\", \"1959-12-10\", \"1959-12-11\", \"1959-12-12\", \"1959-12-13\", \"1959-12-14\", \"1959-12-15\", \"1959-12-16\", \"1959-12-17\", \"1959-12-18\", \"1959-12-19\", \"1959-12-20\", \"1959-12-21\", \"1959-12-22\", \"1959-12-23\", \"1959-12-24\", \"1959-12-25\", \"1959-12-26\", \"1959-12-27\", \"1959-12-28\", \"1959-12-29\", \"1959-12-30\", \"1959-12-31\"], \"y\": [43, 38, 27, 38, 33, 55, 47, 45, 37, 50, 43, 41, 52, 34, 53, 39, 32, 37, 43, 39, 35, 44, 38, 24, 23, 31, 44, 38, 50, 38, 51, 31, 31, 51, 36, 45, 51, 34, 52, 47, 45, 46, 39, 48, 37, 35, 52, 42, 45, 39, 37, 30, 35, 28, 45, 34, 36, 50, 44, 39, 32, 39, 45, 43, 39, 31, 27, 30, 42, 46, 41, 36, 45, 46, 43, 38, 34, 35, 56, 36, 32, 50, 41, 39, 41, 47, 34, 36, 33, 35, 38, 38, 34, 53, 34, 34, 38, 35, 32, 42, 34, 46, 30, 46, 45, 54, 34, 37, 35, 40, 42, 58, 51, 32, 35, 38, 33, 39, 47, 38, 52, 30, 34, 40, 35, 42, 41, 42, 38, 24, 34, 43, 36, 55, 41, 45, 41, 37, 43, 39, 33, 43, 40, 38, 45, 46, 34, 35, 48, 51, 36, 33, 46, 42, 48, 34, 41, 35, 40, 34, 30, 36, 40, 39, 45, 38, 47, 33, 30, 42, 43, 41, 41, 59, 43, 45, 38, 37, 45, 42, 57, 46, 51, 41, 47, 26, 35, 44, 41, 42, 36, 45, 45, 45, 47, 38, 42, 35, 36, 39, 45, 43, 47, 36, 41, 50, 39, 41, 46, 64, 45, 34, 38, 44, 48, 46, 44, 37, 39, 44, 45, 33, 44, 38, 46, 46, 40, 39, 44, 48, 50, 41, 42, 51, 41, 44, 38, 68, 40, 42, 51, 44, 45, 36, 57, 44, 42, 53, 42, 34, 40, 56, 44, 53, 55, 39, 59, 55, 73, 55, 44, 43, 40, 47, 51, 56, 49, 54, 56, 47, 44, 43, 42, 45, 50, 48, 43, 40, 59, 41, 42, 51, 49, 45, 43, 42, 38, 47, 38, 36, 42, 35, 28, 44, 36, 45, 46, 48, 49, 43, 42, 59, 45, 52, 46, 42, 40, 40, 45, 35, 35, 40, 39, 33, 42, 47, 51, 44, 40, 57, 49, 45, 49, 51, 46, 44, 52, 45, 32, 46, 41, 34, 33, 36, 49, 43, 43, 34, 39, 35, 52, 47, 52, 39, 40, 42, 42, 53, 39, 40, 38, 44, 34, 37, 52, 48, 55, 50]}],                        {\"hovermode\": \"x\", \"paper_bgcolor\": \"rgba(0,0,0,0)\", \"plot_bgcolor\": \"rgba(0,0,0,0)\", \"template\": {\"data\": {\"bar\": [{\"error_x\": {\"color\": \"#2a3f5f\"}, \"error_y\": {\"color\": \"#2a3f5f\"}, \"marker\": {\"line\": {\"color\": \"#E5ECF6\", \"width\": 0.5}}, \"type\": \"bar\"}], \"barpolar\": [{\"marker\": {\"line\": {\"color\": \"#E5ECF6\", \"width\": 0.5}}, \"type\": \"barpolar\"}], \"carpet\": [{\"aaxis\": {\"endlinecolor\": \"#2a3f5f\", \"gridcolor\": \"white\", \"linecolor\": \"white\", \"minorgridcolor\": \"white\", \"startlinecolor\": \"#2a3f5f\"}, \"baxis\": {\"endlinecolor\": \"#2a3f5f\", \"gridcolor\": \"white\", \"linecolor\": \"white\", \"minorgridcolor\": \"white\", \"startlinecolor\": \"#2a3f5f\"}, \"type\": \"carpet\"}], \"choropleth\": [{\"colorbar\": {\"outlinewidth\": 0, \"ticks\": \"\"}, \"type\": \"choropleth\"}], \"contour\": [{\"colorbar\": {\"outlinewidth\": 0, \"ticks\": \"\"}, \"colorscale\": [[0.0, \"#0d0887\"], [0.1111111111111111, \"#46039f\"], [0.2222222222222222, \"#7201a8\"], [0.3333333333333333, \"#9c179e\"], [0.4444444444444444, \"#bd3786\"], [0.5555555555555556, \"#d8576b\"], [0.6666666666666666, \"#ed7953\"], [0.7777777777777778, \"#fb9f3a\"], [0.8888888888888888, \"#fdca26\"], [1.0, \"#f0f921\"]], \"type\": \"contour\"}], \"contourcarpet\": [{\"colorbar\": {\"outlinewidth\": 0, \"ticks\": \"\"}, \"type\": \"contourcarpet\"}], \"heatmap\": [{\"colorbar\": {\"outlinewidth\": 0, \"ticks\": \"\"}, \"colorscale\": [[0.0, \"#0d0887\"], [0.1111111111111111, \"#46039f\"], [0.2222222222222222, \"#7201a8\"], [0.3333333333333333, \"#9c179e\"], [0.4444444444444444, \"#bd3786\"], [0.5555555555555556, \"#d8576b\"], [0.6666666666666666, \"#ed7953\"], [0.7777777777777778, \"#fb9f3a\"], [0.8888888888888888, \"#fdca26\"], [1.0, \"#f0f921\"]], \"type\": \"heatmap\"}], \"heatmapgl\": [{\"colorbar\": {\"outlinewidth\": 0, \"ticks\": \"\"}, \"colorscale\": [[0.0, \"#0d0887\"], [0.1111111111111111, \"#46039f\"], [0.2222222222222222, \"#7201a8\"], [0.3333333333333333, \"#9c179e\"], [0.4444444444444444, \"#bd3786\"], [0.5555555555555556, \"#d8576b\"], [0.6666666666666666, \"#ed7953\"], [0.7777777777777778, \"#fb9f3a\"], [0.8888888888888888, \"#fdca26\"], [1.0, \"#f0f921\"]], \"type\": \"heatmapgl\"}], \"histogram\": [{\"marker\": {\"colorbar\": {\"outlinewidth\": 0, \"ticks\": \"\"}}, \"type\": \"histogram\"}], \"histogram2d\": [{\"colorbar\": {\"outlinewidth\": 0, \"ticks\": \"\"}, \"colorscale\": [[0.0, \"#0d0887\"], [0.1111111111111111, \"#46039f\"], [0.2222222222222222, \"#7201a8\"], [0.3333333333333333, \"#9c179e\"], [0.4444444444444444, \"#bd3786\"], [0.5555555555555556, \"#d8576b\"], [0.6666666666666666, \"#ed7953\"], [0.7777777777777778, \"#fb9f3a\"], [0.8888888888888888, \"#fdca26\"], [1.0, \"#f0f921\"]], \"type\": \"histogram2d\"}], \"histogram2dcontour\": [{\"colorbar\": {\"outlinewidth\": 0, \"ticks\": \"\"}, \"colorscale\": [[0.0, \"#0d0887\"], [0.1111111111111111, \"#46039f\"], [0.2222222222222222, \"#7201a8\"], [0.3333333333333333, \"#9c179e\"], [0.4444444444444444, \"#bd3786\"], [0.5555555555555556, \"#d8576b\"], [0.6666666666666666, \"#ed7953\"], [0.7777777777777778, \"#fb9f3a\"], [0.8888888888888888, \"#fdca26\"], [1.0, \"#f0f921\"]], \"type\": \"histogram2dcontour\"}], \"mesh3d\": [{\"colorbar\": {\"outlinewidth\": 0, \"ticks\": \"\"}, \"type\": \"mesh3d\"}], \"parcoords\": [{\"line\": {\"colorbar\": {\"outlinewidth\": 0, \"ticks\": \"\"}}, \"type\": \"parcoords\"}], \"pie\": [{\"automargin\": true, \"type\": \"pie\"}], \"scatter\": [{\"marker\": {\"colorbar\": {\"outlinewidth\": 0, \"ticks\": \"\"}}, \"type\": \"scatter\"}], \"scatter3d\": [{\"line\": {\"colorbar\": {\"outlinewidth\": 0, \"ticks\": \"\"}}, \"marker\": {\"colorbar\": {\"outlinewidth\": 0, \"ticks\": \"\"}}, \"type\": \"scatter3d\"}], \"scattercarpet\": [{\"marker\": {\"colorbar\": {\"outlinewidth\": 0, \"ticks\": \"\"}}, \"type\": \"scattercarpet\"}], \"scattergeo\": [{\"marker\": {\"colorbar\": {\"outlinewidth\": 0, \"ticks\": \"\"}}, \"type\": \"scattergeo\"}], \"scattergl\": [{\"marker\": {\"colorbar\": {\"outlinewidth\": 0, \"ticks\": \"\"}}, \"type\": \"scattergl\"}], \"scattermapbox\": [{\"marker\": {\"colorbar\": {\"outlinewidth\": 0, \"ticks\": \"\"}}, \"type\": \"scattermapbox\"}], \"scatterpolar\": [{\"marker\": {\"colorbar\": {\"outlinewidth\": 0, \"ticks\": \"\"}}, \"type\": \"scatterpolar\"}], \"scatterpolargl\": [{\"marker\": {\"colorbar\": {\"outlinewidth\": 0, \"ticks\": \"\"}}, \"type\": \"scatterpolargl\"}], \"scatterternary\": [{\"marker\": {\"colorbar\": {\"outlinewidth\": 0, \"ticks\": \"\"}}, \"type\": \"scatterternary\"}], \"surface\": [{\"colorbar\": {\"outlinewidth\": 0, \"ticks\": \"\"}, \"colorscale\": [[0.0, \"#0d0887\"], [0.1111111111111111, \"#46039f\"], [0.2222222222222222, \"#7201a8\"], [0.3333333333333333, \"#9c179e\"], [0.4444444444444444, \"#bd3786\"], [0.5555555555555556, \"#d8576b\"], [0.6666666666666666, \"#ed7953\"], [0.7777777777777778, \"#fb9f3a\"], [0.8888888888888888, \"#fdca26\"], [1.0, \"#f0f921\"]], \"type\": \"surface\"}], \"table\": [{\"cells\": {\"fill\": {\"color\": \"#EBF0F8\"}, \"line\": {\"color\": \"white\"}}, \"header\": {\"fill\": {\"color\": \"#C8D4E3\"}, \"line\": {\"color\": \"white\"}}, \"type\": \"table\"}]}, \"layout\": {\"annotationdefaults\": {\"arrowcolor\": \"#2a3f5f\", \"arrowhead\": 0, \"arrowwidth\": 1}, \"coloraxis\": {\"colorbar\": {\"outlinewidth\": 0, \"ticks\": \"\"}}, \"colorscale\": {\"diverging\": [[0, \"#8e0152\"], [0.1, \"#c51b7d\"], [0.2, \"#de77ae\"], [0.3, \"#f1b6da\"], [0.4, \"#fde0ef\"], [0.5, \"#f7f7f7\"], [0.6, \"#e6f5d0\"], [0.7, \"#b8e186\"], [0.8, \"#7fbc41\"], [0.9, \"#4d9221\"], [1, \"#276419\"]], \"sequential\": [[0.0, \"#0d0887\"], [0.1111111111111111, \"#46039f\"], [0.2222222222222222, \"#7201a8\"], [0.3333333333333333, \"#9c179e\"], [0.4444444444444444, \"#bd3786\"], [0.5555555555555556, \"#d8576b\"], [0.6666666666666666, \"#ed7953\"], [0.7777777777777778, \"#fb9f3a\"], [0.8888888888888888, \"#fdca26\"], [1.0, \"#f0f921\"]], \"sequentialminus\": [[0.0, \"#0d0887\"], [0.1111111111111111, \"#46039f\"], [0.2222222222222222, \"#7201a8\"], [0.3333333333333333, \"#9c179e\"], [0.4444444444444444, \"#bd3786\"], [0.5555555555555556, \"#d8576b\"], [0.6666666666666666, \"#ed7953\"], [0.7777777777777778, \"#fb9f3a\"], [0.8888888888888888, \"#fdca26\"], [1.0, \"#f0f921\"]]}, \"colorway\": [\"#636efa\", \"#EF553B\", \"#00cc96\", \"#ab63fa\", \"#FFA15A\", \"#19d3f3\", \"#FF6692\", \"#B6E880\", \"#FF97FF\", \"#FECB52\"], \"font\": {\"color\": \"#2a3f5f\"}, \"geo\": {\"bgcolor\": \"white\", \"lakecolor\": \"white\", \"landcolor\": \"#E5ECF6\", \"showlakes\": true, \"showland\": true, \"subunitcolor\": \"white\"}, \"hoverlabel\": {\"align\": \"left\"}, \"hovermode\": \"closest\", \"mapbox\": {\"style\": \"light\"}, \"paper_bgcolor\": \"white\", \"plot_bgcolor\": \"#E5ECF6\", \"polar\": {\"angularaxis\": {\"gridcolor\": \"white\", \"linecolor\": \"white\", \"ticks\": \"\"}, \"bgcolor\": \"#E5ECF6\", \"radialaxis\": {\"gridcolor\": \"white\", \"linecolor\": \"white\", \"ticks\": \"\"}}, \"scene\": {\"xaxis\": {\"backgroundcolor\": \"#E5ECF6\", \"gridcolor\": \"white\", \"gridwidth\": 2, \"linecolor\": \"white\", \"showbackground\": true, \"ticks\": \"\", \"zerolinecolor\": \"white\"}, \"yaxis\": {\"backgroundcolor\": \"#E5ECF6\", \"gridcolor\": \"white\", \"gridwidth\": 2, \"linecolor\": \"white\", \"showbackground\": true, \"ticks\": \"\", \"zerolinecolor\": \"white\"}, \"zaxis\": {\"backgroundcolor\": \"#E5ECF6\", \"gridcolor\": \"white\", \"gridwidth\": 2, \"linecolor\": \"white\", \"showbackground\": true, \"ticks\": \"\", \"zerolinecolor\": \"white\"}}, \"shapedefaults\": {\"line\": {\"color\": \"#2a3f5f\"}}, \"ternary\": {\"aaxis\": {\"gridcolor\": \"white\", \"linecolor\": \"white\", \"ticks\": \"\"}, \"baxis\": {\"gridcolor\": \"white\", \"linecolor\": \"white\", \"ticks\": \"\"}, \"bgcolor\": \"#E5ECF6\", \"caxis\": {\"gridcolor\": \"white\", \"linecolor\": \"white\", \"ticks\": \"\"}}, \"title\": {\"x\": 0.05}, \"xaxis\": {\"automargin\": true, \"gridcolor\": \"white\", \"linecolor\": \"white\", \"ticks\": \"\", \"title\": {\"standoff\": 15}, \"zerolinecolor\": \"white\", \"zerolinewidth\": 2}, \"yaxis\": {\"automargin\": true, \"gridcolor\": \"white\", \"linecolor\": \"white\", \"ticks\": \"\", \"title\": {\"standoff\": 15}, \"zerolinecolor\": \"white\", \"zerolinewidth\": 2}}}, \"title\": {\"text\": \"Tophat time series with checks many periods\"}},                        {\"responsive\": true}                    ).then(function(){\n                            \nvar gd = document.getElementById('2056cef8-a554-42c7-a206-d2c9395a0197');\nvar x = new MutationObserver(function (mutations, observer) {{\n        var display = window.getComputedStyle(gd).display;\n        if (!display || display === 'none') {{\n            console.log([gd, 'removed!']);\n            Plotly.purge(gd);\n            observer.disconnect();\n        }}\n}});\n\n// Listen for the removal of the full notebook cells\nvar notebookContainer = gd.closest('#notebook-container');\nif (notebookContainer) {{\n    x.observe(notebookContainer, {childList: true});\n}}\n\n// Listen for the clearing of the current output cell\nvar outputEl = gd.closest('.output');\nif (outputEl) {{\n    x.observe(outputEl, {childList: true});\n}}\n\n                        })                };                });            </script>        </div>"
     },
     "metadata": {},
     "output_type": "display_data"
    }
   ],
   "source": [
    "dis.MetricEvaluationPipeline(\n",
    "    _births_ts,\n",
    ").display_actionability_time_series(\n",
    "    title='Tophat time series with checks many periods',\n",
    "    metric_name='Births'\n",
    ")"
   ],
   "metadata": {
    "collapsed": false,
    "pycharm": {
     "name": "#%%\n"
    }
   }
  },
  {
   "cell_type": "code",
   "execution_count": 33,
   "outputs": [
    {
     "data": {
      "application/vnd.plotly.v1+json": {
       "config": {
        "plotlyServerURL": "https://plot.ly"
       },
       "data": [
        {
         "hoverinfo": "skip",
         "line": {
          "color": "lightgray",
          "dash": "dash"
         },
         "mode": "lines",
         "name": "Extraordinary",
         "showlegend": true,
         "type": "scatter",
         "x": [
          "1-08",
          "1-09",
          "1-10",
          "1-11",
          "1-12",
          "2-01",
          "2-02",
          "2-03",
          "2-04",
          "2-05",
          "2-06",
          "2-07",
          "2-08",
          "2-09",
          "2-10",
          "2-11",
          "2-12",
          "3-01",
          "3-02",
          "3-03",
          "3-04",
          "3-05",
          "3-06",
          "3-07",
          "3-08",
          "3-09",
          "3-10",
          "3-11",
          "3-12"
         ],
         "y": [
          397.69000000000005,
          387.84919444444444,
          390.14766666666674,
          468.61848181818186,
          497.63078787878794,
          475.16005769230776,
          464.11653846153854,
          463.1618333333334,
          466.98555,
          470.2133676470589,
          481.5850849673203,
          480.8418070175439,
          487.5490000000001,
          480.2085928571429,
          501.9901818181819,
          519.6052233201582,
          525.1799130434783,
          517.700375,
          530.3625846153847,
          541.1146652421653,
          555.322126984127,
          555.0520431034483,
          555.7543678160919,
          574.4436548387097,
          590.5361895161291,
          627.2252821969698,
          647.4477058823529,
          657.7008949579831,
          664.5978
         ]
        },
        {
         "hoverinfo": "skip",
         "line": {
          "color": "lightgray",
          "dash": "dash"
         },
         "mode": "lines",
         "name": "Actionably Good",
         "showlegend": true,
         "type": "scatter",
         "x": [
          "1-08",
          "1-09",
          "1-10",
          "1-11",
          "1-12",
          "2-01",
          "2-02",
          "2-03",
          "2-04",
          "2-05",
          "2-06",
          "2-07",
          "2-08",
          "2-09",
          "2-10",
          "2-11",
          "2-12",
          "3-01",
          "3-02",
          "3-03",
          "3-04",
          "3-05",
          "3-06",
          "3-07",
          "3-08",
          "3-09",
          "3-10",
          "3-11",
          "3-12"
         ],
         "y": [
          328.435,
          321.98094444444445,
          321.26844444444447,
          378.2183818181819,
          397.23996969696975,
          382.2041410256411,
          373.72769230769234,
          373.4723333333334,
          377.6716166666667,
          379.6736176470589,
          388.89190849673207,
          388.7910292397661,
          394.91100000000006,
          391.2914428571429,
          408.9661818181819,
          421.31217786561274,
          426.6616086956522,
          423.1429166666667,
          434.2301846153847,
          442.3110113960114,
          454.0992751322751,
          455.63929310344827,
          458.1140229885057,
          473.93555483870966,
          486.06683467741937,
          514.6158446969698,
          529.9200392156863,
          539.4834537815126,
          547.2651999999999
         ]
        },
        {
         "hoverinfo": "skip",
         "line": {
          "color": "lightgray",
          "dash": "dash"
         },
         "mode": "lines",
         "name": "normal_range_rolling_baseline",
         "showlegend": true,
         "type": "scatter",
         "x": [
          "1-08",
          "1-09",
          "1-10",
          "1-11",
          "1-12",
          "2-01",
          "2-02",
          "2-03",
          "2-04",
          "2-05",
          "2-06",
          "2-07",
          "2-08",
          "2-09",
          "2-10",
          "2-11",
          "2-12",
          "3-01",
          "3-02",
          "3-03",
          "3-04",
          "3-05",
          "3-06",
          "3-07",
          "3-08",
          "3-09",
          "3-10",
          "3-11",
          "3-12"
         ],
         "y": [
          189.925,
          190.24444444444444,
          183.51000000000002,
          197.41818181818186,
          196.45833333333337,
          196.29230769230773,
          192.95000000000005,
          194.09333333333336,
          199.04375000000002,
          198.59411764705885,
          203.5055555555556,
          204.68947368421055,
          209.63500000000005,
          213.45714285714288,
          222.91818181818186,
          224.72608695652178,
          229.625,
          234.028,
          241.9653846153846,
          244.70370370370367,
          251.6535714285714,
          256.81379310344823,
          262.8333333333333,
          272.9193548387097,
          277.128125,
          289.39696969696973,
          294.86470588235295,
          303.0485714285714,
          312.59999999999997
         ]
        },
        {
         "hoverinfo": "skip",
         "line": {
          "color": "lightgray",
          "dash": "dash"
         },
         "mode": "lines",
         "name": "Actionably Bad",
         "showlegend": true,
         "type": "scatter",
         "x": [
          "1-08",
          "1-09",
          "1-10",
          "1-11",
          "1-12",
          "2-01",
          "2-02",
          "2-03",
          "2-04",
          "2-05",
          "2-06",
          "2-07",
          "2-08",
          "2-09",
          "2-10",
          "2-11",
          "2-12",
          "3-01",
          "3-02",
          "3-03",
          "3-04",
          "3-05",
          "3-06",
          "3-07",
          "3-08",
          "3-09",
          "3-10",
          "3-11",
          "3-12"
         ],
         "y": [
          51.41500000000002,
          58.50794444444443,
          45.75155555555557,
          16.617981818181846,
          -4.323303030303009,
          10.380474358974396,
          12.172307692307726,
          14.714333333333371,
          20.41588333333334,
          17.514617647058827,
          18.119202614379134,
          20.58791812865499,
          24.35900000000001,
          35.62284285714287,
          36.870181818181834,
          28.139996047430856,
          32.588391304347795,
          44.913083333333276,
          49.70058461538454,
          47.09639601139594,
          49.2078677248677,
          57.9882931034482,
          67.5526436781609,
          71.9031548387097,
          68.18941532258066,
          64.17809469696971,
          59.80937254901963,
          66.61368907563022,
          77.93479999999997
         ]
        },
        {
         "hoverinfo": "skip",
         "line": {
          "color": "lightgray",
          "dash": "dash"
         },
         "mode": "lines",
         "name": "Crisis",
         "showlegend": true,
         "type": "scatter",
         "x": [
          "1-08",
          "1-09",
          "1-10",
          "1-11",
          "1-12",
          "2-01",
          "2-02",
          "2-03",
          "2-04",
          "2-05",
          "2-06",
          "2-07",
          "2-08",
          "2-09",
          "2-10",
          "2-11",
          "2-12",
          "3-01",
          "3-02",
          "3-03",
          "3-04",
          "3-05",
          "3-06",
          "3-07",
          "3-08",
          "3-09",
          "3-10",
          "3-11",
          "3-12"
         ],
         "y": [
          -17.840000000000003,
          -7.360305555555556,
          -23.12766666666667,
          -73.78211818181816,
          -104.7141212121212,
          -82.57544230769227,
          -78.21653846153845,
          -74.97516666666667,
          -68.89804999999998,
          -73.02513235294117,
          -74.57397385620914,
          -71.46285964912278,
          -68.279,
          -53.29430714285715,
          -56.153818181818195,
          -70.15304940711462,
          -65.92991304347834,
          -49.64437500000005,
          -46.43181538461545,
          -51.70725783475794,
          -52.01498412698419,
          -41.42445689655182,
          -30.0877011494253,
          -28.60494516129029,
          -36.27993951612905,
          -48.431342803030304,
          -57.71829411764702,
          -51.60375210084038,
          -39.397800000000075
         ]
        },
        {
         "hoverinfo": "text",
         "hovertext": [
          "<b>Actionably Good</b><br>Metric is <b>high</b> compared with historical ranges.",
          "<b>Actionably Good</b><br>Metric is <b>high</b> compared with historical ranges.",
          "<b>Extraordinary</b><br>Metric is <b>high</b> compared with historical ranges.",
          "<b>Extraordinary</b><br>Metric is <b>high</b> compared with historical ranges.",
          "<b>Actionably Good</b><br>Metric is <b>high</b> compared with historical ranges.",
          "<b>Actionably Good</b><br>Metric is <b>high</b> compared with historical ranges."
         ],
         "marker": {
          "color": [
           "rgb(161,217,155)",
           "rgb(161,217,155)",
           "rgb(35,139,69)",
           "rgb(35,139,69)",
           "rgb(116,196,118)",
           "rgb(65,171,93)"
          ],
          "size": 10
         },
         "mode": "markers",
         "name": "Actionability",
         "showlegend": true,
         "type": "scatter",
         "x": [
          "2-10",
          "3-02",
          "3-07",
          "3-09",
          "3-11",
          "3-12"
         ],
         "y": [
          421.6,
          440.4,
          575.5,
          682.0,
          581.3,
          646.9
         ]
        },
        {
         "hoverinfo": "skip",
         "marker": {
          "color": [
           "lightgray",
           "lightgray",
           "lightgray"
          ],
          "size": 10
         },
         "mode": "markers",
         "name": "Historical Alerts",
         "showlegend": true,
         "type": "scatter",
         "x": [
          "2-10",
          "3-02",
          "3-07"
         ],
         "y": [
          421.6,
          440.4,
          575.5
         ]
        },
        {
         "line": {
          "color": "gray",
          "width": 4
         },
         "mode": "lines",
         "name": "Sales",
         "showlegend": true,
         "type": "scatter",
         "x": [
          "1-08",
          "1-09",
          "1-10",
          "1-11",
          "1-12",
          "2-01",
          "2-02",
          "2-03",
          "2-04",
          "2-05",
          "2-06",
          "2-07",
          "2-08",
          "2-09",
          "2-10",
          "2-11",
          "2-12",
          "3-01",
          "3-02",
          "3-03",
          "3-04",
          "3-05",
          "3-06",
          "3-07",
          "3-08",
          "3-09",
          "3-10",
          "3-11",
          "3-12"
         ],
         "y": [
          224.5,
          192.8,
          122.9,
          336.5,
          185.9,
          194.3,
          149.5,
          210.1,
          273.3,
          191.4,
          287.0,
          226.0,
          303.6,
          289.9,
          421.6,
          264.5,
          342.3,
          339.7,
          440.4,
          315.9,
          439.3,
          401.3,
          437.4,
          575.5,
          407.6,
          682.0,
          475.3,
          581.3,
          646.9
         ]
        }
       ],
       "layout": {
        "hovermode": "x",
        "paper_bgcolor": "rgba(0,0,0,0)",
        "plot_bgcolor": "rgba(0,0,0,0)",
        "template": {
         "data": {
          "bar": [
           {
            "error_x": {
             "color": "#2a3f5f"
            },
            "error_y": {
             "color": "#2a3f5f"
            },
            "marker": {
             "line": {
              "color": "#E5ECF6",
              "width": 0.5
             }
            },
            "type": "bar"
           }
          ],
          "barpolar": [
           {
            "marker": {
             "line": {
              "color": "#E5ECF6",
              "width": 0.5
             }
            },
            "type": "barpolar"
           }
          ],
          "carpet": [
           {
            "aaxis": {
             "endlinecolor": "#2a3f5f",
             "gridcolor": "white",
             "linecolor": "white",
             "minorgridcolor": "white",
             "startlinecolor": "#2a3f5f"
            },
            "baxis": {
             "endlinecolor": "#2a3f5f",
             "gridcolor": "white",
             "linecolor": "white",
             "minorgridcolor": "white",
             "startlinecolor": "#2a3f5f"
            },
            "type": "carpet"
           }
          ],
          "choropleth": [
           {
            "colorbar": {
             "outlinewidth": 0,
             "ticks": ""
            },
            "type": "choropleth"
           }
          ],
          "contour": [
           {
            "colorbar": {
             "outlinewidth": 0,
             "ticks": ""
            },
            "colorscale": [
             [
              0.0,
              "#0d0887"
             ],
             [
              0.1111111111111111,
              "#46039f"
             ],
             [
              0.2222222222222222,
              "#7201a8"
             ],
             [
              0.3333333333333333,
              "#9c179e"
             ],
             [
              0.4444444444444444,
              "#bd3786"
             ],
             [
              0.5555555555555556,
              "#d8576b"
             ],
             [
              0.6666666666666666,
              "#ed7953"
             ],
             [
              0.7777777777777778,
              "#fb9f3a"
             ],
             [
              0.8888888888888888,
              "#fdca26"
             ],
             [
              1.0,
              "#f0f921"
             ]
            ],
            "type": "contour"
           }
          ],
          "contourcarpet": [
           {
            "colorbar": {
             "outlinewidth": 0,
             "ticks": ""
            },
            "type": "contourcarpet"
           }
          ],
          "heatmap": [
           {
            "colorbar": {
             "outlinewidth": 0,
             "ticks": ""
            },
            "colorscale": [
             [
              0.0,
              "#0d0887"
             ],
             [
              0.1111111111111111,
              "#46039f"
             ],
             [
              0.2222222222222222,
              "#7201a8"
             ],
             [
              0.3333333333333333,
              "#9c179e"
             ],
             [
              0.4444444444444444,
              "#bd3786"
             ],
             [
              0.5555555555555556,
              "#d8576b"
             ],
             [
              0.6666666666666666,
              "#ed7953"
             ],
             [
              0.7777777777777778,
              "#fb9f3a"
             ],
             [
              0.8888888888888888,
              "#fdca26"
             ],
             [
              1.0,
              "#f0f921"
             ]
            ],
            "type": "heatmap"
           }
          ],
          "heatmapgl": [
           {
            "colorbar": {
             "outlinewidth": 0,
             "ticks": ""
            },
            "colorscale": [
             [
              0.0,
              "#0d0887"
             ],
             [
              0.1111111111111111,
              "#46039f"
             ],
             [
              0.2222222222222222,
              "#7201a8"
             ],
             [
              0.3333333333333333,
              "#9c179e"
             ],
             [
              0.4444444444444444,
              "#bd3786"
             ],
             [
              0.5555555555555556,
              "#d8576b"
             ],
             [
              0.6666666666666666,
              "#ed7953"
             ],
             [
              0.7777777777777778,
              "#fb9f3a"
             ],
             [
              0.8888888888888888,
              "#fdca26"
             ],
             [
              1.0,
              "#f0f921"
             ]
            ],
            "type": "heatmapgl"
           }
          ],
          "histogram": [
           {
            "marker": {
             "colorbar": {
              "outlinewidth": 0,
              "ticks": ""
             }
            },
            "type": "histogram"
           }
          ],
          "histogram2d": [
           {
            "colorbar": {
             "outlinewidth": 0,
             "ticks": ""
            },
            "colorscale": [
             [
              0.0,
              "#0d0887"
             ],
             [
              0.1111111111111111,
              "#46039f"
             ],
             [
              0.2222222222222222,
              "#7201a8"
             ],
             [
              0.3333333333333333,
              "#9c179e"
             ],
             [
              0.4444444444444444,
              "#bd3786"
             ],
             [
              0.5555555555555556,
              "#d8576b"
             ],
             [
              0.6666666666666666,
              "#ed7953"
             ],
             [
              0.7777777777777778,
              "#fb9f3a"
             ],
             [
              0.8888888888888888,
              "#fdca26"
             ],
             [
              1.0,
              "#f0f921"
             ]
            ],
            "type": "histogram2d"
           }
          ],
          "histogram2dcontour": [
           {
            "colorbar": {
             "outlinewidth": 0,
             "ticks": ""
            },
            "colorscale": [
             [
              0.0,
              "#0d0887"
             ],
             [
              0.1111111111111111,
              "#46039f"
             ],
             [
              0.2222222222222222,
              "#7201a8"
             ],
             [
              0.3333333333333333,
              "#9c179e"
             ],
             [
              0.4444444444444444,
              "#bd3786"
             ],
             [
              0.5555555555555556,
              "#d8576b"
             ],
             [
              0.6666666666666666,
              "#ed7953"
             ],
             [
              0.7777777777777778,
              "#fb9f3a"
             ],
             [
              0.8888888888888888,
              "#fdca26"
             ],
             [
              1.0,
              "#f0f921"
             ]
            ],
            "type": "histogram2dcontour"
           }
          ],
          "mesh3d": [
           {
            "colorbar": {
             "outlinewidth": 0,
             "ticks": ""
            },
            "type": "mesh3d"
           }
          ],
          "parcoords": [
           {
            "line": {
             "colorbar": {
              "outlinewidth": 0,
              "ticks": ""
             }
            },
            "type": "parcoords"
           }
          ],
          "pie": [
           {
            "automargin": true,
            "type": "pie"
           }
          ],
          "scatter": [
           {
            "marker": {
             "colorbar": {
              "outlinewidth": 0,
              "ticks": ""
             }
            },
            "type": "scatter"
           }
          ],
          "scatter3d": [
           {
            "line": {
             "colorbar": {
              "outlinewidth": 0,
              "ticks": ""
             }
            },
            "marker": {
             "colorbar": {
              "outlinewidth": 0,
              "ticks": ""
             }
            },
            "type": "scatter3d"
           }
          ],
          "scattercarpet": [
           {
            "marker": {
             "colorbar": {
              "outlinewidth": 0,
              "ticks": ""
             }
            },
            "type": "scattercarpet"
           }
          ],
          "scattergeo": [
           {
            "marker": {
             "colorbar": {
              "outlinewidth": 0,
              "ticks": ""
             }
            },
            "type": "scattergeo"
           }
          ],
          "scattergl": [
           {
            "marker": {
             "colorbar": {
              "outlinewidth": 0,
              "ticks": ""
             }
            },
            "type": "scattergl"
           }
          ],
          "scattermapbox": [
           {
            "marker": {
             "colorbar": {
              "outlinewidth": 0,
              "ticks": ""
             }
            },
            "type": "scattermapbox"
           }
          ],
          "scatterpolar": [
           {
            "marker": {
             "colorbar": {
              "outlinewidth": 0,
              "ticks": ""
             }
            },
            "type": "scatterpolar"
           }
          ],
          "scatterpolargl": [
           {
            "marker": {
             "colorbar": {
              "outlinewidth": 0,
              "ticks": ""
             }
            },
            "type": "scatterpolargl"
           }
          ],
          "scatterternary": [
           {
            "marker": {
             "colorbar": {
              "outlinewidth": 0,
              "ticks": ""
             }
            },
            "type": "scatterternary"
           }
          ],
          "surface": [
           {
            "colorbar": {
             "outlinewidth": 0,
             "ticks": ""
            },
            "colorscale": [
             [
              0.0,
              "#0d0887"
             ],
             [
              0.1111111111111111,
              "#46039f"
             ],
             [
              0.2222222222222222,
              "#7201a8"
             ],
             [
              0.3333333333333333,
              "#9c179e"
             ],
             [
              0.4444444444444444,
              "#bd3786"
             ],
             [
              0.5555555555555556,
              "#d8576b"
             ],
             [
              0.6666666666666666,
              "#ed7953"
             ],
             [
              0.7777777777777778,
              "#fb9f3a"
             ],
             [
              0.8888888888888888,
              "#fdca26"
             ],
             [
              1.0,
              "#f0f921"
             ]
            ],
            "type": "surface"
           }
          ],
          "table": [
           {
            "cells": {
             "fill": {
              "color": "#EBF0F8"
             },
             "line": {
              "color": "white"
             }
            },
            "header": {
             "fill": {
              "color": "#C8D4E3"
             },
             "line": {
              "color": "white"
             }
            },
            "type": "table"
           }
          ]
         },
         "layout": {
          "annotationdefaults": {
           "arrowcolor": "#2a3f5f",
           "arrowhead": 0,
           "arrowwidth": 1
          },
          "coloraxis": {
           "colorbar": {
            "outlinewidth": 0,
            "ticks": ""
           }
          },
          "colorscale": {
           "diverging": [
            [
             0,
             "#8e0152"
            ],
            [
             0.1,
             "#c51b7d"
            ],
            [
             0.2,
             "#de77ae"
            ],
            [
             0.3,
             "#f1b6da"
            ],
            [
             0.4,
             "#fde0ef"
            ],
            [
             0.5,
             "#f7f7f7"
            ],
            [
             0.6,
             "#e6f5d0"
            ],
            [
             0.7,
             "#b8e186"
            ],
            [
             0.8,
             "#7fbc41"
            ],
            [
             0.9,
             "#4d9221"
            ],
            [
             1,
             "#276419"
            ]
           ],
           "sequential": [
            [
             0.0,
             "#0d0887"
            ],
            [
             0.1111111111111111,
             "#46039f"
            ],
            [
             0.2222222222222222,
             "#7201a8"
            ],
            [
             0.3333333333333333,
             "#9c179e"
            ],
            [
             0.4444444444444444,
             "#bd3786"
            ],
            [
             0.5555555555555556,
             "#d8576b"
            ],
            [
             0.6666666666666666,
             "#ed7953"
            ],
            [
             0.7777777777777778,
             "#fb9f3a"
            ],
            [
             0.8888888888888888,
             "#fdca26"
            ],
            [
             1.0,
             "#f0f921"
            ]
           ],
           "sequentialminus": [
            [
             0.0,
             "#0d0887"
            ],
            [
             0.1111111111111111,
             "#46039f"
            ],
            [
             0.2222222222222222,
             "#7201a8"
            ],
            [
             0.3333333333333333,
             "#9c179e"
            ],
            [
             0.4444444444444444,
             "#bd3786"
            ],
            [
             0.5555555555555556,
             "#d8576b"
            ],
            [
             0.6666666666666666,
             "#ed7953"
            ],
            [
             0.7777777777777778,
             "#fb9f3a"
            ],
            [
             0.8888888888888888,
             "#fdca26"
            ],
            [
             1.0,
             "#f0f921"
            ]
           ]
          },
          "colorway": [
           "#636efa",
           "#EF553B",
           "#00cc96",
           "#ab63fa",
           "#FFA15A",
           "#19d3f3",
           "#FF6692",
           "#B6E880",
           "#FF97FF",
           "#FECB52"
          ],
          "font": {
           "color": "#2a3f5f"
          },
          "geo": {
           "bgcolor": "white",
           "lakecolor": "white",
           "landcolor": "#E5ECF6",
           "showlakes": true,
           "showland": true,
           "subunitcolor": "white"
          },
          "hoverlabel": {
           "align": "left"
          },
          "hovermode": "closest",
          "mapbox": {
           "style": "light"
          },
          "paper_bgcolor": "white",
          "plot_bgcolor": "#E5ECF6",
          "polar": {
           "angularaxis": {
            "gridcolor": "white",
            "linecolor": "white",
            "ticks": ""
           },
           "bgcolor": "#E5ECF6",
           "radialaxis": {
            "gridcolor": "white",
            "linecolor": "white",
            "ticks": ""
           }
          },
          "scene": {
           "xaxis": {
            "backgroundcolor": "#E5ECF6",
            "gridcolor": "white",
            "gridwidth": 2,
            "linecolor": "white",
            "showbackground": true,
            "ticks": "",
            "zerolinecolor": "white"
           },
           "yaxis": {
            "backgroundcolor": "#E5ECF6",
            "gridcolor": "white",
            "gridwidth": 2,
            "linecolor": "white",
            "showbackground": true,
            "ticks": "",
            "zerolinecolor": "white"
           },
           "zaxis": {
            "backgroundcolor": "#E5ECF6",
            "gridcolor": "white",
            "gridwidth": 2,
            "linecolor": "white",
            "showbackground": true,
            "ticks": "",
            "zerolinecolor": "white"
           }
          },
          "shapedefaults": {
           "line": {
            "color": "#2a3f5f"
           }
          },
          "ternary": {
           "aaxis": {
            "gridcolor": "white",
            "linecolor": "white",
            "ticks": ""
           },
           "baxis": {
            "gridcolor": "white",
            "linecolor": "white",
            "ticks": ""
           },
           "bgcolor": "#E5ECF6",
           "caxis": {
            "gridcolor": "white",
            "linecolor": "white",
            "ticks": ""
           }
          },
          "title": {
           "x": 0.05
          },
          "xaxis": {
           "automargin": true,
           "gridcolor": "white",
           "linecolor": "white",
           "ticks": "",
           "title": {
            "standoff": 15
           },
           "zerolinecolor": "white",
           "zerolinewidth": 2
          },
          "yaxis": {
           "automargin": true,
           "gridcolor": "white",
           "linecolor": "white",
           "ticks": "",
           "title": {
            "standoff": 15
           },
           "zerolinecolor": "white",
           "zerolinewidth": 2
          }
         }
        },
        "title": {
         "text": "Tophat time series with checks and legend"
        }
       }
      },
      "text/html": "<div>                            <div id=\"8687d35c-2980-4278-b748-4a0d3ffd4fcb\" class=\"plotly-graph-div\" style=\"height:525px; width:100%;\"></div>            <script type=\"text/javascript\">                require([\"plotly\"], function(Plotly) {                    window.PLOTLYENV=window.PLOTLYENV || {};                                    if (document.getElementById(\"8687d35c-2980-4278-b748-4a0d3ffd4fcb\")) {                    Plotly.newPlot(                        \"8687d35c-2980-4278-b748-4a0d3ffd4fcb\",                        [{\"hoverinfo\": \"skip\", \"line\": {\"color\": \"lightgray\", \"dash\": \"dash\"}, \"mode\": \"lines\", \"name\": \"Extraordinary\", \"showlegend\": true, \"type\": \"scatter\", \"x\": [\"1-08\", \"1-09\", \"1-10\", \"1-11\", \"1-12\", \"2-01\", \"2-02\", \"2-03\", \"2-04\", \"2-05\", \"2-06\", \"2-07\", \"2-08\", \"2-09\", \"2-10\", \"2-11\", \"2-12\", \"3-01\", \"3-02\", \"3-03\", \"3-04\", \"3-05\", \"3-06\", \"3-07\", \"3-08\", \"3-09\", \"3-10\", \"3-11\", \"3-12\"], \"y\": [397.69000000000005, 387.84919444444444, 390.14766666666674, 468.61848181818186, 497.63078787878794, 475.16005769230776, 464.11653846153854, 463.1618333333334, 466.98555, 470.2133676470589, 481.5850849673203, 480.8418070175439, 487.5490000000001, 480.2085928571429, 501.9901818181819, 519.6052233201582, 525.1799130434783, 517.700375, 530.3625846153847, 541.1146652421653, 555.322126984127, 555.0520431034483, 555.7543678160919, 574.4436548387097, 590.5361895161291, 627.2252821969698, 647.4477058823529, 657.7008949579831, 664.5978]}, {\"hoverinfo\": \"skip\", \"line\": {\"color\": \"lightgray\", \"dash\": \"dash\"}, \"mode\": \"lines\", \"name\": \"Actionably Good\", \"showlegend\": true, \"type\": \"scatter\", \"x\": [\"1-08\", \"1-09\", \"1-10\", \"1-11\", \"1-12\", \"2-01\", \"2-02\", \"2-03\", \"2-04\", \"2-05\", \"2-06\", \"2-07\", \"2-08\", \"2-09\", \"2-10\", \"2-11\", \"2-12\", \"3-01\", \"3-02\", \"3-03\", \"3-04\", \"3-05\", \"3-06\", \"3-07\", \"3-08\", \"3-09\", \"3-10\", \"3-11\", \"3-12\"], \"y\": [328.435, 321.98094444444445, 321.26844444444447, 378.2183818181819, 397.23996969696975, 382.2041410256411, 373.72769230769234, 373.4723333333334, 377.6716166666667, 379.6736176470589, 388.89190849673207, 388.7910292397661, 394.91100000000006, 391.2914428571429, 408.9661818181819, 421.31217786561274, 426.6616086956522, 423.1429166666667, 434.2301846153847, 442.3110113960114, 454.0992751322751, 455.63929310344827, 458.1140229885057, 473.93555483870966, 486.06683467741937, 514.6158446969698, 529.9200392156863, 539.4834537815126, 547.2651999999999]}, {\"hoverinfo\": \"skip\", \"line\": {\"color\": \"lightgray\", \"dash\": \"dash\"}, \"mode\": \"lines\", \"name\": \"normal_range_rolling_baseline\", \"showlegend\": true, \"type\": \"scatter\", \"x\": [\"1-08\", \"1-09\", \"1-10\", \"1-11\", \"1-12\", \"2-01\", \"2-02\", \"2-03\", \"2-04\", \"2-05\", \"2-06\", \"2-07\", \"2-08\", \"2-09\", \"2-10\", \"2-11\", \"2-12\", \"3-01\", \"3-02\", \"3-03\", \"3-04\", \"3-05\", \"3-06\", \"3-07\", \"3-08\", \"3-09\", \"3-10\", \"3-11\", \"3-12\"], \"y\": [189.925, 190.24444444444444, 183.51000000000002, 197.41818181818186, 196.45833333333337, 196.29230769230773, 192.95000000000005, 194.09333333333336, 199.04375000000002, 198.59411764705885, 203.5055555555556, 204.68947368421055, 209.63500000000005, 213.45714285714288, 222.91818181818186, 224.72608695652178, 229.625, 234.028, 241.9653846153846, 244.70370370370367, 251.6535714285714, 256.81379310344823, 262.8333333333333, 272.9193548387097, 277.128125, 289.39696969696973, 294.86470588235295, 303.0485714285714, 312.59999999999997]}, {\"hoverinfo\": \"skip\", \"line\": {\"color\": \"lightgray\", \"dash\": \"dash\"}, \"mode\": \"lines\", \"name\": \"Actionably Bad\", \"showlegend\": true, \"type\": \"scatter\", \"x\": [\"1-08\", \"1-09\", \"1-10\", \"1-11\", \"1-12\", \"2-01\", \"2-02\", \"2-03\", \"2-04\", \"2-05\", \"2-06\", \"2-07\", \"2-08\", \"2-09\", \"2-10\", \"2-11\", \"2-12\", \"3-01\", \"3-02\", \"3-03\", \"3-04\", \"3-05\", \"3-06\", \"3-07\", \"3-08\", \"3-09\", \"3-10\", \"3-11\", \"3-12\"], \"y\": [51.41500000000002, 58.50794444444443, 45.75155555555557, 16.617981818181846, -4.323303030303009, 10.380474358974396, 12.172307692307726, 14.714333333333371, 20.41588333333334, 17.514617647058827, 18.119202614379134, 20.58791812865499, 24.35900000000001, 35.62284285714287, 36.870181818181834, 28.139996047430856, 32.588391304347795, 44.913083333333276, 49.70058461538454, 47.09639601139594, 49.2078677248677, 57.9882931034482, 67.5526436781609, 71.9031548387097, 68.18941532258066, 64.17809469696971, 59.80937254901963, 66.61368907563022, 77.93479999999997]}, {\"hoverinfo\": \"skip\", \"line\": {\"color\": \"lightgray\", \"dash\": \"dash\"}, \"mode\": \"lines\", \"name\": \"Crisis\", \"showlegend\": true, \"type\": \"scatter\", \"x\": [\"1-08\", \"1-09\", \"1-10\", \"1-11\", \"1-12\", \"2-01\", \"2-02\", \"2-03\", \"2-04\", \"2-05\", \"2-06\", \"2-07\", \"2-08\", \"2-09\", \"2-10\", \"2-11\", \"2-12\", \"3-01\", \"3-02\", \"3-03\", \"3-04\", \"3-05\", \"3-06\", \"3-07\", \"3-08\", \"3-09\", \"3-10\", \"3-11\", \"3-12\"], \"y\": [-17.840000000000003, -7.360305555555556, -23.12766666666667, -73.78211818181816, -104.7141212121212, -82.57544230769227, -78.21653846153845, -74.97516666666667, -68.89804999999998, -73.02513235294117, -74.57397385620914, -71.46285964912278, -68.279, -53.29430714285715, -56.153818181818195, -70.15304940711462, -65.92991304347834, -49.64437500000005, -46.43181538461545, -51.70725783475794, -52.01498412698419, -41.42445689655182, -30.0877011494253, -28.60494516129029, -36.27993951612905, -48.431342803030304, -57.71829411764702, -51.60375210084038, -39.397800000000075]}, {\"hoverinfo\": \"text\", \"hovertext\": [\"<b>Actionably Good</b><br>Metric is <b>high</b> compared with historical ranges.\", \"<b>Actionably Good</b><br>Metric is <b>high</b> compared with historical ranges.\", \"<b>Extraordinary</b><br>Metric is <b>high</b> compared with historical ranges.\", \"<b>Extraordinary</b><br>Metric is <b>high</b> compared with historical ranges.\", \"<b>Actionably Good</b><br>Metric is <b>high</b> compared with historical ranges.\", \"<b>Actionably Good</b><br>Metric is <b>high</b> compared with historical ranges.\"], \"marker\": {\"color\": [\"rgb(161,217,155)\", \"rgb(161,217,155)\", \"rgb(35,139,69)\", \"rgb(35,139,69)\", \"rgb(116,196,118)\", \"rgb(65,171,93)\"], \"size\": 10}, \"mode\": \"markers\", \"name\": \"Actionability\", \"showlegend\": true, \"type\": \"scatter\", \"x\": [\"2-10\", \"3-02\", \"3-07\", \"3-09\", \"3-11\", \"3-12\"], \"y\": [421.6, 440.4, 575.5, 682.0, 581.3, 646.9]}, {\"hoverinfo\": \"skip\", \"marker\": {\"color\": [\"lightgray\", \"lightgray\", \"lightgray\"], \"size\": 10}, \"mode\": \"markers\", \"name\": \"Historical Alerts\", \"showlegend\": true, \"type\": \"scatter\", \"x\": [\"2-10\", \"3-02\", \"3-07\"], \"y\": [421.6, 440.4, 575.5]}, {\"line\": {\"color\": \"gray\", \"width\": 4}, \"mode\": \"lines\", \"name\": \"Sales\", \"showlegend\": true, \"type\": \"scatter\", \"x\": [\"1-08\", \"1-09\", \"1-10\", \"1-11\", \"1-12\", \"2-01\", \"2-02\", \"2-03\", \"2-04\", \"2-05\", \"2-06\", \"2-07\", \"2-08\", \"2-09\", \"2-10\", \"2-11\", \"2-12\", \"3-01\", \"3-02\", \"3-03\", \"3-04\", \"3-05\", \"3-06\", \"3-07\", \"3-08\", \"3-09\", \"3-10\", \"3-11\", \"3-12\"], \"y\": [224.5, 192.8, 122.9, 336.5, 185.9, 194.3, 149.5, 210.1, 273.3, 191.4, 287.0, 226.0, 303.6, 289.9, 421.6, 264.5, 342.3, 339.7, 440.4, 315.9, 439.3, 401.3, 437.4, 575.5, 407.6, 682.0, 475.3, 581.3, 646.9]}],                        {\"hovermode\": \"x\", \"paper_bgcolor\": \"rgba(0,0,0,0)\", \"plot_bgcolor\": \"rgba(0,0,0,0)\", \"template\": {\"data\": {\"bar\": [{\"error_x\": {\"color\": \"#2a3f5f\"}, \"error_y\": {\"color\": \"#2a3f5f\"}, \"marker\": {\"line\": {\"color\": \"#E5ECF6\", \"width\": 0.5}}, \"type\": \"bar\"}], \"barpolar\": [{\"marker\": {\"line\": {\"color\": \"#E5ECF6\", \"width\": 0.5}}, \"type\": \"barpolar\"}], \"carpet\": [{\"aaxis\": {\"endlinecolor\": \"#2a3f5f\", \"gridcolor\": \"white\", \"linecolor\": \"white\", \"minorgridcolor\": \"white\", \"startlinecolor\": \"#2a3f5f\"}, \"baxis\": {\"endlinecolor\": \"#2a3f5f\", \"gridcolor\": \"white\", \"linecolor\": \"white\", \"minorgridcolor\": \"white\", \"startlinecolor\": \"#2a3f5f\"}, \"type\": \"carpet\"}], \"choropleth\": [{\"colorbar\": {\"outlinewidth\": 0, \"ticks\": \"\"}, \"type\": \"choropleth\"}], \"contour\": [{\"colorbar\": {\"outlinewidth\": 0, \"ticks\": \"\"}, \"colorscale\": [[0.0, \"#0d0887\"], [0.1111111111111111, \"#46039f\"], [0.2222222222222222, \"#7201a8\"], [0.3333333333333333, \"#9c179e\"], [0.4444444444444444, \"#bd3786\"], [0.5555555555555556, \"#d8576b\"], [0.6666666666666666, \"#ed7953\"], [0.7777777777777778, \"#fb9f3a\"], [0.8888888888888888, \"#fdca26\"], [1.0, \"#f0f921\"]], \"type\": \"contour\"}], \"contourcarpet\": [{\"colorbar\": {\"outlinewidth\": 0, \"ticks\": \"\"}, \"type\": \"contourcarpet\"}], \"heatmap\": [{\"colorbar\": {\"outlinewidth\": 0, \"ticks\": \"\"}, \"colorscale\": [[0.0, \"#0d0887\"], [0.1111111111111111, \"#46039f\"], [0.2222222222222222, \"#7201a8\"], [0.3333333333333333, \"#9c179e\"], [0.4444444444444444, \"#bd3786\"], [0.5555555555555556, \"#d8576b\"], [0.6666666666666666, \"#ed7953\"], [0.7777777777777778, \"#fb9f3a\"], [0.8888888888888888, \"#fdca26\"], [1.0, \"#f0f921\"]], \"type\": \"heatmap\"}], \"heatmapgl\": [{\"colorbar\": {\"outlinewidth\": 0, \"ticks\": \"\"}, \"colorscale\": [[0.0, \"#0d0887\"], [0.1111111111111111, \"#46039f\"], [0.2222222222222222, \"#7201a8\"], [0.3333333333333333, \"#9c179e\"], [0.4444444444444444, \"#bd3786\"], [0.5555555555555556, \"#d8576b\"], [0.6666666666666666, \"#ed7953\"], [0.7777777777777778, \"#fb9f3a\"], [0.8888888888888888, \"#fdca26\"], [1.0, \"#f0f921\"]], \"type\": \"heatmapgl\"}], \"histogram\": [{\"marker\": {\"colorbar\": {\"outlinewidth\": 0, \"ticks\": \"\"}}, \"type\": \"histogram\"}], \"histogram2d\": [{\"colorbar\": {\"outlinewidth\": 0, \"ticks\": \"\"}, \"colorscale\": [[0.0, \"#0d0887\"], [0.1111111111111111, \"#46039f\"], [0.2222222222222222, \"#7201a8\"], [0.3333333333333333, \"#9c179e\"], [0.4444444444444444, \"#bd3786\"], [0.5555555555555556, \"#d8576b\"], [0.6666666666666666, \"#ed7953\"], [0.7777777777777778, \"#fb9f3a\"], [0.8888888888888888, \"#fdca26\"], [1.0, \"#f0f921\"]], \"type\": \"histogram2d\"}], \"histogram2dcontour\": [{\"colorbar\": {\"outlinewidth\": 0, \"ticks\": \"\"}, \"colorscale\": [[0.0, \"#0d0887\"], [0.1111111111111111, \"#46039f\"], [0.2222222222222222, \"#7201a8\"], [0.3333333333333333, \"#9c179e\"], [0.4444444444444444, \"#bd3786\"], [0.5555555555555556, \"#d8576b\"], [0.6666666666666666, \"#ed7953\"], [0.7777777777777778, \"#fb9f3a\"], [0.8888888888888888, \"#fdca26\"], [1.0, \"#f0f921\"]], \"type\": \"histogram2dcontour\"}], \"mesh3d\": [{\"colorbar\": {\"outlinewidth\": 0, \"ticks\": \"\"}, \"type\": \"mesh3d\"}], \"parcoords\": [{\"line\": {\"colorbar\": {\"outlinewidth\": 0, \"ticks\": \"\"}}, \"type\": \"parcoords\"}], \"pie\": [{\"automargin\": true, \"type\": \"pie\"}], \"scatter\": [{\"marker\": {\"colorbar\": {\"outlinewidth\": 0, \"ticks\": \"\"}}, \"type\": \"scatter\"}], \"scatter3d\": [{\"line\": {\"colorbar\": {\"outlinewidth\": 0, \"ticks\": \"\"}}, \"marker\": {\"colorbar\": {\"outlinewidth\": 0, \"ticks\": \"\"}}, \"type\": \"scatter3d\"}], \"scattercarpet\": [{\"marker\": {\"colorbar\": {\"outlinewidth\": 0, \"ticks\": \"\"}}, \"type\": \"scattercarpet\"}], \"scattergeo\": [{\"marker\": {\"colorbar\": {\"outlinewidth\": 0, \"ticks\": \"\"}}, \"type\": \"scattergeo\"}], \"scattergl\": [{\"marker\": {\"colorbar\": {\"outlinewidth\": 0, \"ticks\": \"\"}}, \"type\": \"scattergl\"}], \"scattermapbox\": [{\"marker\": {\"colorbar\": {\"outlinewidth\": 0, \"ticks\": \"\"}}, \"type\": \"scattermapbox\"}], \"scatterpolar\": [{\"marker\": {\"colorbar\": {\"outlinewidth\": 0, \"ticks\": \"\"}}, \"type\": \"scatterpolar\"}], \"scatterpolargl\": [{\"marker\": {\"colorbar\": {\"outlinewidth\": 0, \"ticks\": \"\"}}, \"type\": \"scatterpolargl\"}], \"scatterternary\": [{\"marker\": {\"colorbar\": {\"outlinewidth\": 0, \"ticks\": \"\"}}, \"type\": \"scatterternary\"}], \"surface\": [{\"colorbar\": {\"outlinewidth\": 0, \"ticks\": \"\"}, \"colorscale\": [[0.0, \"#0d0887\"], [0.1111111111111111, \"#46039f\"], [0.2222222222222222, \"#7201a8\"], [0.3333333333333333, \"#9c179e\"], [0.4444444444444444, \"#bd3786\"], [0.5555555555555556, \"#d8576b\"], [0.6666666666666666, \"#ed7953\"], [0.7777777777777778, \"#fb9f3a\"], [0.8888888888888888, \"#fdca26\"], [1.0, \"#f0f921\"]], \"type\": \"surface\"}], \"table\": [{\"cells\": {\"fill\": {\"color\": \"#EBF0F8\"}, \"line\": {\"color\": \"white\"}}, \"header\": {\"fill\": {\"color\": \"#C8D4E3\"}, \"line\": {\"color\": \"white\"}}, \"type\": \"table\"}]}, \"layout\": {\"annotationdefaults\": {\"arrowcolor\": \"#2a3f5f\", \"arrowhead\": 0, \"arrowwidth\": 1}, \"coloraxis\": {\"colorbar\": {\"outlinewidth\": 0, \"ticks\": \"\"}}, \"colorscale\": {\"diverging\": [[0, \"#8e0152\"], [0.1, \"#c51b7d\"], [0.2, \"#de77ae\"], [0.3, \"#f1b6da\"], [0.4, \"#fde0ef\"], [0.5, \"#f7f7f7\"], [0.6, \"#e6f5d0\"], [0.7, \"#b8e186\"], [0.8, \"#7fbc41\"], [0.9, \"#4d9221\"], [1, \"#276419\"]], \"sequential\": [[0.0, \"#0d0887\"], [0.1111111111111111, \"#46039f\"], [0.2222222222222222, \"#7201a8\"], [0.3333333333333333, \"#9c179e\"], [0.4444444444444444, \"#bd3786\"], [0.5555555555555556, \"#d8576b\"], [0.6666666666666666, \"#ed7953\"], [0.7777777777777778, \"#fb9f3a\"], [0.8888888888888888, \"#fdca26\"], [1.0, \"#f0f921\"]], \"sequentialminus\": [[0.0, \"#0d0887\"], [0.1111111111111111, \"#46039f\"], [0.2222222222222222, \"#7201a8\"], [0.3333333333333333, \"#9c179e\"], [0.4444444444444444, \"#bd3786\"], [0.5555555555555556, \"#d8576b\"], [0.6666666666666666, \"#ed7953\"], [0.7777777777777778, \"#fb9f3a\"], [0.8888888888888888, \"#fdca26\"], [1.0, \"#f0f921\"]]}, \"colorway\": [\"#636efa\", \"#EF553B\", \"#00cc96\", \"#ab63fa\", \"#FFA15A\", \"#19d3f3\", \"#FF6692\", \"#B6E880\", \"#FF97FF\", \"#FECB52\"], \"font\": {\"color\": \"#2a3f5f\"}, \"geo\": {\"bgcolor\": \"white\", \"lakecolor\": \"white\", \"landcolor\": \"#E5ECF6\", \"showlakes\": true, \"showland\": true, \"subunitcolor\": \"white\"}, \"hoverlabel\": {\"align\": \"left\"}, \"hovermode\": \"closest\", \"mapbox\": {\"style\": \"light\"}, \"paper_bgcolor\": \"white\", \"plot_bgcolor\": \"#E5ECF6\", \"polar\": {\"angularaxis\": {\"gridcolor\": \"white\", \"linecolor\": \"white\", \"ticks\": \"\"}, \"bgcolor\": \"#E5ECF6\", \"radialaxis\": {\"gridcolor\": \"white\", \"linecolor\": \"white\", \"ticks\": \"\"}}, \"scene\": {\"xaxis\": {\"backgroundcolor\": \"#E5ECF6\", \"gridcolor\": \"white\", \"gridwidth\": 2, \"linecolor\": \"white\", \"showbackground\": true, \"ticks\": \"\", \"zerolinecolor\": \"white\"}, \"yaxis\": {\"backgroundcolor\": \"#E5ECF6\", \"gridcolor\": \"white\", \"gridwidth\": 2, \"linecolor\": \"white\", \"showbackground\": true, \"ticks\": \"\", \"zerolinecolor\": \"white\"}, \"zaxis\": {\"backgroundcolor\": \"#E5ECF6\", \"gridcolor\": \"white\", \"gridwidth\": 2, \"linecolor\": \"white\", \"showbackground\": true, \"ticks\": \"\", \"zerolinecolor\": \"white\"}}, \"shapedefaults\": {\"line\": {\"color\": \"#2a3f5f\"}}, \"ternary\": {\"aaxis\": {\"gridcolor\": \"white\", \"linecolor\": \"white\", \"ticks\": \"\"}, \"baxis\": {\"gridcolor\": \"white\", \"linecolor\": \"white\", \"ticks\": \"\"}, \"bgcolor\": \"#E5ECF6\", \"caxis\": {\"gridcolor\": \"white\", \"linecolor\": \"white\", \"ticks\": \"\"}}, \"title\": {\"x\": 0.05}, \"xaxis\": {\"automargin\": true, \"gridcolor\": \"white\", \"linecolor\": \"white\", \"ticks\": \"\", \"title\": {\"standoff\": 15}, \"zerolinecolor\": \"white\", \"zerolinewidth\": 2}, \"yaxis\": {\"automargin\": true, \"gridcolor\": \"white\", \"linecolor\": \"white\", \"ticks\": \"\", \"title\": {\"standoff\": 15}, \"zerolinecolor\": \"white\", \"zerolinewidth\": 2}}}, \"title\": {\"text\": \"Tophat time series with checks and legend\"}},                        {\"responsive\": true}                    ).then(function(){\n                            \nvar gd = document.getElementById('8687d35c-2980-4278-b748-4a0d3ffd4fcb');\nvar x = new MutationObserver(function (mutations, observer) {{\n        var display = window.getComputedStyle(gd).display;\n        if (!display || display === 'none') {{\n            console.log([gd, 'removed!']);\n            Plotly.purge(gd);\n            observer.disconnect();\n        }}\n}});\n\n// Listen for the removal of the full notebook cells\nvar notebookContainer = gd.closest('#notebook-container');\nif (notebookContainer) {{\n    x.observe(notebookContainer, {childList: true});\n}}\n\n// Listen for the clearing of the current output cell\nvar outputEl = gd.closest('.output');\nif (outputEl) {{\n    x.observe(outputEl, {childList: true});\n}}\n\n                        })                };                });            </script>        </div>"
     },
     "metadata": {},
     "output_type": "display_data"
    }
   ],
   "source": [
    "dis.MetricEvaluationPipeline(\n",
    "    _ts,\n",
    ").display_actionability_time_series(\n",
    "    title='Tophat time series with checks and legend',\n",
    "    metric_name='Sales',\n",
    "    show_legend=True,\n",
    ")"
   ],
   "metadata": {
    "collapsed": false,
    "pycharm": {
     "name": "#%%\n"
    }
   }
  },
  {
   "cell_type": "code",
   "execution_count": 34,
   "outputs": [
    {
     "name": "stdout",
     "output_type": "stream",
     "text": [
      "Tophat Get Current Actionability Status\n"
     ]
    },
    {
     "data": {
      "text/plain": "0.849165534557318"
     },
     "execution_count": 34,
     "metadata": {},
     "output_type": "execute_result"
    }
   ],
   "source": [
    "print('Tophat Get Current Actionability Status')\n",
    "dis.MetricEvaluationPipeline(\n",
    "    _ts,\n",
    ").get_current_actionability_status()\n"
   ],
   "metadata": {
    "collapsed": false,
    "pycharm": {
     "name": "#%%\n"
    }
   }
  },
  {
   "cell_type": "code",
   "execution_count": 36,
   "outputs": [
    {
     "name": "stdout",
     "output_type": "stream",
     "text": [
      "Tophat Get Current Actionability Dot\n"
     ]
    },
    {
     "data": {
      "text/plain": "<IPython.core.display.HTML object>",
      "text/html": "<div style=\"width:98%; display: table;\"><div style=\"display: table-row;\"><div style=\"width: 33%; display: table-cell; padding:5px\"><img style=\"height:40px;width:40px;\" src=\"data:image/png;base64,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\"/></div><div style=\"width: 33%; display: table-cell; padding:5px\"><img style=\"height:40px;width:40px;\" src=\"data:image/png;base64,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\"/></div><div style=\"width: 33%; display: table-cell; padding:5px\"><img style=\"height:40px;width:40px;\" src=\"data:image/png;base64,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\"/></div></div><div style=\"display: table-row;\"></div></div>"
     },
     "execution_count": 36,
     "metadata": {},
     "output_type": "execute_result"
    }
   ],
   "source": [
    "print('Tophat Get Current Actionability Dot')\n",
    "_good_pipeline = dis.MetricEvaluationPipeline(_ts)\n",
    "_bad_pipeline = dis.MetricEvaluationPipeline(\n",
    "    pd.Series(\n",
    "        list(_ts[:-1])+[_good_pipeline.get_current_record()['low_l1_threshold_value']],\n",
    "        index=_ts.index\n",
    "    )\n",
    ")\n",
    "_neutral_pipeline = dis.MetricEvaluationPipeline(\n",
    "    pd.Series(\n",
    "        list(_ts[:-1])+[_good_pipeline.get_current_record()['normal_range_rolling_baseline']],\n",
    "        index=_ts.index\n",
    "    )\n",
    ")\n",
    "\n",
    "dis.html_div_grid(html_elements=[\n",
    "  _good_pipeline.get_current_actionability_status_dot(),\n",
    "  _neutral_pipeline.get_current_actionability_status_dot(),\n",
    "  _bad_pipeline.get_current_actionability_status_dot(),\n",
    "])"
   ],
   "metadata": {
    "collapsed": false,
    "pycharm": {
     "name": "#%%\n"
    }
   }
  },
  {
   "cell_type": "code",
   "execution_count": 37,
   "outputs": [],
   "source": [],
   "metadata": {
    "collapsed": false,
    "pycharm": {
     "name": "#%%\n"
    }
   }
  },
  {
   "cell_type": "code",
   "execution_count": null,
   "outputs": [],
   "source": [],
   "metadata": {
    "collapsed": false,
    "pycharm": {
     "name": "#%%\n"
    }
   }
  }
 ],
 "metadata": {
  "kernelspec": {
   "display_name": "Python 3",
   "language": "python",
   "name": "python3"
  },
  "language_info": {
   "codemirror_mode": {
    "name": "ipython",
    "version": 2
   },
   "file_extension": ".py",
   "mimetype": "text/x-python",
   "name": "python",
   "nbconvert_exporter": "python",
   "pygments_lexer": "ipython2",
   "version": "2.7.6"
  }
 },
 "nbformat": 4,
 "nbformat_minor": 0
}