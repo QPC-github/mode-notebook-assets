{
 "cells": [
  {
   "cell_type": "code",
   "execution_count": 1,
   "metadata": {
    "collapsed": true
   },
   "outputs": [],
   "source": [
    "import pandas as pd\n",
    "import mode_notebook_assets.practical_dashboard_displays as dis"
   ]
  },
  {
   "cell_type": "code",
   "execution_count": 2,
   "outputs": [],
   "source": [
    "# read test series\n",
    "_ts = pd.read_csv('https://raw.githubusercontent.com/jbrownlee/Datasets/master/shampoo.csv').set_index('Month')['Sales']"
   ],
   "metadata": {
    "collapsed": false,
    "pycharm": {
     "name": "#%%\n"
    }
   }
  },
  {
   "cell_type": "code",
   "execution_count": 4,
   "outputs": [],
   "source": [
    "sales_metric_eval = dis.MetricEvaluationPipeline(_ts)"
   ],
   "metadata": {
    "collapsed": false,
    "pycharm": {
     "name": "#%%\n"
    }
   }
  },
  {
   "cell_type": "code",
   "execution_count": 6,
   "outputs": [
    {
     "data": {
      "application/vnd.plotly.v1+json": {
       "config": {
        "plotlyServerURL": "https://plot.ly"
       },
       "data": [
        {
         "hoverinfo": "skip",
         "line": {
          "color": "darkgray",
          "dash": "dash"
         },
         "mode": "lines",
         "name": "Extraordinary",
         "showlegend": false,
         "type": "scatter",
         "x": [
          "2-02",
          "2-03",
          "2-04",
          "2-05",
          "2-06",
          "2-07",
          "2-08",
          "2-09",
          "2-10",
          "2-11",
          "2-12",
          "3-01",
          "3-02",
          "3-03",
          "3-04",
          "3-05",
          "3-06",
          "3-07",
          "3-08",
          "3-09",
          "3-10",
          "3-11",
          "3-12"
         ],
         "y": [
          464.11653846153854,
          463.1618333333334,
          466.98555,
          470.2133676470589,
          481.5850849673203,
          480.8418070175439,
          487.5490000000001,
          480.2085928571429,
          501.9901818181819,
          519.6052233201582,
          525.1799130434783,
          517.700375,
          530.3625846153847,
          541.1146652421653,
          555.322126984127,
          555.0520431034483,
          555.7543678160919,
          574.4436548387097,
          590.5361895161291,
          627.2252821969698,
          647.4477058823529,
          657.7008949579831,
          664.5978
         ]
        },
        {
         "hoverinfo": "skip",
         "line": {
          "color": "lightgray",
          "dash": "dash"
         },
         "mode": "lines",
         "name": "Actionably Good",
         "showlegend": false,
         "type": "scatter",
         "x": [
          "2-02",
          "2-03",
          "2-04",
          "2-05",
          "2-06",
          "2-07",
          "2-08",
          "2-09",
          "2-10",
          "2-11",
          "2-12",
          "3-01",
          "3-02",
          "3-03",
          "3-04",
          "3-05",
          "3-06",
          "3-07",
          "3-08",
          "3-09",
          "3-10",
          "3-11",
          "3-12"
         ],
         "y": [
          373.72769230769234,
          373.4723333333334,
          377.6716166666667,
          379.6736176470589,
          388.89190849673207,
          388.7910292397661,
          394.91100000000006,
          391.2914428571429,
          408.9661818181819,
          421.31217786561274,
          426.6616086956522,
          423.1429166666667,
          434.2301846153847,
          442.3110113960114,
          454.0992751322751,
          455.63929310344827,
          458.1140229885057,
          473.93555483870966,
          486.06683467741937,
          514.6158446969698,
          529.9200392156863,
          539.4834537815126,
          547.2651999999999
         ]
        },
        {
         "hoverinfo": "skip",
         "line": {
          "color": "lightgray",
          "dash": "dash"
         },
         "mode": "lines",
         "name": "Actionably Bad",
         "showlegend": false,
         "type": "scatter",
         "x": [
          "2-02",
          "2-03",
          "2-04",
          "2-05",
          "2-06",
          "2-07",
          "2-08",
          "2-09",
          "2-10",
          "2-11",
          "2-12",
          "3-01",
          "3-02",
          "3-03",
          "3-04",
          "3-05",
          "3-06",
          "3-07",
          "3-08",
          "3-09",
          "3-10",
          "3-11",
          "3-12"
         ],
         "y": [
          12.172307692307726,
          14.714333333333371,
          20.41588333333334,
          17.514617647058827,
          18.119202614379134,
          20.58791812865499,
          24.35900000000001,
          35.62284285714287,
          36.870181818181834,
          28.139996047430856,
          32.588391304347795,
          44.913083333333276,
          49.70058461538454,
          47.09639601139594,
          49.2078677248677,
          57.9882931034482,
          67.5526436781609,
          71.9031548387097,
          68.18941532258066,
          64.17809469696971,
          59.80937254901963,
          66.61368907563022,
          77.93479999999997
         ]
        },
        {
         "hoverinfo": "skip",
         "line": {
          "color": "darkgray",
          "dash": "dash"
         },
         "mode": "lines",
         "name": "Crisis",
         "showlegend": false,
         "type": "scatter",
         "x": [
          "2-02",
          "2-03",
          "2-04",
          "2-05",
          "2-06",
          "2-07",
          "2-08",
          "2-09",
          "2-10",
          "2-11",
          "2-12",
          "3-01",
          "3-02",
          "3-03",
          "3-04",
          "3-05",
          "3-06",
          "3-07",
          "3-08",
          "3-09",
          "3-10",
          "3-11",
          "3-12"
         ],
         "y": [
          -78.21653846153845,
          -74.97516666666667,
          -68.89804999999998,
          -73.02513235294117,
          -74.57397385620914,
          -71.46285964912278,
          -68.279,
          -53.29430714285715,
          -56.153818181818195,
          -70.15304940711462,
          -65.92991304347834,
          -49.64437500000005,
          -46.43181538461545,
          -51.70725783475794,
          -52.01498412698419,
          -41.42445689655182,
          -30.0877011494253,
          -28.60494516129029,
          -36.27993951612905,
          -48.431342803030304,
          -57.71829411764702,
          -51.60375210084038,
          -39.397800000000075
         ]
        },
        {
         "hoverinfo": "text",
         "hovertext": [
          "<b>Actionably Good</b><br>Metric is <b>high</b> compared with historical ranges.<br>Metric <b>increased suddenly</b> compared to historical values.",
          "<b>Actionably Good</b><br>Metric is within a <b>normal</b> range based on historical values.<br>Metric has been <b>above</b> the historical average for 7 consecutive periods.",
          "<b>Actionably Good</b><br>Metric is <b>high</b> compared with historical ranges.<br>Metric <b>increased suddenly</b> compared to historical values.<br>Metric has been <b>above</b> the historical average for 8 consecutive periods.",
          "<b>Extraordinary</b><br>Metric is within a <b>normal</b> range based on historical values.<br>Metric has been <b>above</b> the historical average for 9 consecutive periods.",
          "<b>Extraordinary</b><br>Metric is within a <b>normal</b> range based on historical values.<br>Metric has been <b>above</b> the historical average for 10 consecutive periods.",
          "<b>Extraordinary</b><br>Metric is within a <b>normal</b> range based on historical values.<br>Metric has been <b>above</b> the historical average for 11 consecutive periods.",
          "<b>Extraordinary</b><br>Metric is within a <b>normal</b> range based on historical values.<br>Metric has been <b>above</b> the historical average for 12 consecutive periods.",
          "<b>Extraordinary</b><br>Metric is <b>high</b> compared with historical ranges.<br>Metric <b>increased suddenly</b> compared to historical values.<br>Metric has been <b>above</b> the historical average for 13 consecutive periods.",
          "<b>Extraordinary</b><br>Metric is within a <b>normal</b> range based on historical values.<br>Metric has been <b>above</b> the historical average for 14 consecutive periods.",
          "<b>Extraordinary</b><br>Metric is <b>high</b> compared with historical ranges.<br>Metric <b>increased suddenly</b> compared to historical values.<br>Metric has been <b>above</b> the historical average for 15 consecutive periods.",
          "<b>Extraordinary</b><br>Metric is within a <b>normal</b> range based on historical values.<br>Metric has been <b>above</b> the historical average for 16 consecutive periods.",
          "<b>Extraordinary</b><br>Metric is <b>high</b> compared with historical ranges.<br>Metric <b>increased suddenly</b> compared to historical values.<br>Metric has been <b>above</b> the historical average for 17 consecutive periods.",
          "<b>Extraordinary</b><br>Metric is <b>high</b> compared with historical ranges.<br>Metric <b>increased suddenly</b> compared to historical values.<br>Metric has been <b>above</b> the historical average for 17 consecutive periods."
         ],
         "marker": {
          "color": [
           "rgb(161,217,155)",
           "rgb(161,217,155)",
           "rgb(116,196,118)",
           "rgb(35,139,69)",
           "rgb(35,139,69)",
           "rgb(35,139,69)",
           "rgb(35,139,69)",
           "rgb(35,139,69)",
           "rgb(35,139,69)",
           "rgb(35,139,69)",
           "rgb(35,139,69)",
           "rgb(35,139,69)",
           "rgb(35,139,69)"
          ],
          "size": 10
         },
         "mode": "markers",
         "name": "Actionability",
         "showlegend": false,
         "type": "scatter",
         "x": [
          "2-10",
          "3-01",
          "3-02",
          "3-03",
          "3-04",
          "3-05",
          "3-06",
          "3-07",
          "3-08",
          "3-09",
          "3-10",
          "3-11",
          "3-12"
         ],
         "y": [
          421.6,
          339.7,
          440.4,
          315.9,
          439.3,
          401.3,
          437.4,
          575.5,
          407.6,
          682.0,
          475.3,
          581.3,
          646.9
         ]
        },
        {
         "hoverinfo": "skip",
         "marker": {
          "color": [
           "lightgray",
           "lightgray",
           "lightgray",
           "lightgray",
           "lightgray",
           "lightgray",
           "lightgray",
           "lightgray",
           "lightgray"
          ],
          "size": 10
         },
         "mode": "markers",
         "name": "Historical Alerts",
         "showlegend": false,
         "type": "scatter",
         "x": [
          "2-10",
          "3-01",
          "3-02",
          "3-03",
          "3-04",
          "3-05",
          "3-06",
          "3-07",
          "3-08"
         ],
         "y": [
          421.6,
          339.7,
          440.4,
          315.9,
          439.3,
          401.3,
          437.4,
          575.5,
          407.6
         ]
        },
        {
         "line": {
          "color": "gray",
          "width": 4
         },
         "mode": "lines",
         "name": "Period Value",
         "showlegend": false,
         "type": "scatter",
         "x": [
          "2-02",
          "2-03",
          "2-04",
          "2-05",
          "2-06",
          "2-07",
          "2-08",
          "2-09",
          "2-10",
          "2-11",
          "2-12",
          "3-01",
          "3-02",
          "3-03",
          "3-04",
          "3-05",
          "3-06",
          "3-07",
          "3-08",
          "3-09",
          "3-10",
          "3-11",
          "3-12"
         ],
         "y": [
          149.5,
          210.1,
          273.3,
          191.4,
          287.0,
          226.0,
          303.6,
          289.9,
          421.6,
          264.5,
          342.3,
          339.7,
          440.4,
          315.9,
          439.3,
          401.3,
          437.4,
          575.5,
          407.6,
          682.0,
          475.3,
          581.3,
          646.9
         ]
        }
       ],
       "layout": {
        "hovermode": "x",
        "paper_bgcolor": "rgba(0,0,0,0)",
        "plot_bgcolor": "rgba(0,0,0,0)",
        "template": {
         "data": {
          "bar": [
           {
            "error_x": {
             "color": "#2a3f5f"
            },
            "error_y": {
             "color": "#2a3f5f"
            },
            "marker": {
             "line": {
              "color": "#E5ECF6",
              "width": 0.5
             }
            },
            "type": "bar"
           }
          ],
          "barpolar": [
           {
            "marker": {
             "line": {
              "color": "#E5ECF6",
              "width": 0.5
             }
            },
            "type": "barpolar"
           }
          ],
          "carpet": [
           {
            "aaxis": {
             "endlinecolor": "#2a3f5f",
             "gridcolor": "white",
             "linecolor": "white",
             "minorgridcolor": "white",
             "startlinecolor": "#2a3f5f"
            },
            "baxis": {
             "endlinecolor": "#2a3f5f",
             "gridcolor": "white",
             "linecolor": "white",
             "minorgridcolor": "white",
             "startlinecolor": "#2a3f5f"
            },
            "type": "carpet"
           }
          ],
          "choropleth": [
           {
            "colorbar": {
             "outlinewidth": 0,
             "ticks": ""
            },
            "type": "choropleth"
           }
          ],
          "contour": [
           {
            "colorbar": {
             "outlinewidth": 0,
             "ticks": ""
            },
            "colorscale": [
             [
              0.0,
              "#0d0887"
             ],
             [
              0.1111111111111111,
              "#46039f"
             ],
             [
              0.2222222222222222,
              "#7201a8"
             ],
             [
              0.3333333333333333,
              "#9c179e"
             ],
             [
              0.4444444444444444,
              "#bd3786"
             ],
             [
              0.5555555555555556,
              "#d8576b"
             ],
             [
              0.6666666666666666,
              "#ed7953"
             ],
             [
              0.7777777777777778,
              "#fb9f3a"
             ],
             [
              0.8888888888888888,
              "#fdca26"
             ],
             [
              1.0,
              "#f0f921"
             ]
            ],
            "type": "contour"
           }
          ],
          "contourcarpet": [
           {
            "colorbar": {
             "outlinewidth": 0,
             "ticks": ""
            },
            "type": "contourcarpet"
           }
          ],
          "heatmap": [
           {
            "colorbar": {
             "outlinewidth": 0,
             "ticks": ""
            },
            "colorscale": [
             [
              0.0,
              "#0d0887"
             ],
             [
              0.1111111111111111,
              "#46039f"
             ],
             [
              0.2222222222222222,
              "#7201a8"
             ],
             [
              0.3333333333333333,
              "#9c179e"
             ],
             [
              0.4444444444444444,
              "#bd3786"
             ],
             [
              0.5555555555555556,
              "#d8576b"
             ],
             [
              0.6666666666666666,
              "#ed7953"
             ],
             [
              0.7777777777777778,
              "#fb9f3a"
             ],
             [
              0.8888888888888888,
              "#fdca26"
             ],
             [
              1.0,
              "#f0f921"
             ]
            ],
            "type": "heatmap"
           }
          ],
          "heatmapgl": [
           {
            "colorbar": {
             "outlinewidth": 0,
             "ticks": ""
            },
            "colorscale": [
             [
              0.0,
              "#0d0887"
             ],
             [
              0.1111111111111111,
              "#46039f"
             ],
             [
              0.2222222222222222,
              "#7201a8"
             ],
             [
              0.3333333333333333,
              "#9c179e"
             ],
             [
              0.4444444444444444,
              "#bd3786"
             ],
             [
              0.5555555555555556,
              "#d8576b"
             ],
             [
              0.6666666666666666,
              "#ed7953"
             ],
             [
              0.7777777777777778,
              "#fb9f3a"
             ],
             [
              0.8888888888888888,
              "#fdca26"
             ],
             [
              1.0,
              "#f0f921"
             ]
            ],
            "type": "heatmapgl"
           }
          ],
          "histogram": [
           {
            "marker": {
             "colorbar": {
              "outlinewidth": 0,
              "ticks": ""
             }
            },
            "type": "histogram"
           }
          ],
          "histogram2d": [
           {
            "colorbar": {
             "outlinewidth": 0,
             "ticks": ""
            },
            "colorscale": [
             [
              0.0,
              "#0d0887"
             ],
             [
              0.1111111111111111,
              "#46039f"
             ],
             [
              0.2222222222222222,
              "#7201a8"
             ],
             [
              0.3333333333333333,
              "#9c179e"
             ],
             [
              0.4444444444444444,
              "#bd3786"
             ],
             [
              0.5555555555555556,
              "#d8576b"
             ],
             [
              0.6666666666666666,
              "#ed7953"
             ],
             [
              0.7777777777777778,
              "#fb9f3a"
             ],
             [
              0.8888888888888888,
              "#fdca26"
             ],
             [
              1.0,
              "#f0f921"
             ]
            ],
            "type": "histogram2d"
           }
          ],
          "histogram2dcontour": [
           {
            "colorbar": {
             "outlinewidth": 0,
             "ticks": ""
            },
            "colorscale": [
             [
              0.0,
              "#0d0887"
             ],
             [
              0.1111111111111111,
              "#46039f"
             ],
             [
              0.2222222222222222,
              "#7201a8"
             ],
             [
              0.3333333333333333,
              "#9c179e"
             ],
             [
              0.4444444444444444,
              "#bd3786"
             ],
             [
              0.5555555555555556,
              "#d8576b"
             ],
             [
              0.6666666666666666,
              "#ed7953"
             ],
             [
              0.7777777777777778,
              "#fb9f3a"
             ],
             [
              0.8888888888888888,
              "#fdca26"
             ],
             [
              1.0,
              "#f0f921"
             ]
            ],
            "type": "histogram2dcontour"
           }
          ],
          "mesh3d": [
           {
            "colorbar": {
             "outlinewidth": 0,
             "ticks": ""
            },
            "type": "mesh3d"
           }
          ],
          "parcoords": [
           {
            "line": {
             "colorbar": {
              "outlinewidth": 0,
              "ticks": ""
             }
            },
            "type": "parcoords"
           }
          ],
          "pie": [
           {
            "automargin": true,
            "type": "pie"
           }
          ],
          "scatter": [
           {
            "marker": {
             "colorbar": {
              "outlinewidth": 0,
              "ticks": ""
             }
            },
            "type": "scatter"
           }
          ],
          "scatter3d": [
           {
            "line": {
             "colorbar": {
              "outlinewidth": 0,
              "ticks": ""
             }
            },
            "marker": {
             "colorbar": {
              "outlinewidth": 0,
              "ticks": ""
             }
            },
            "type": "scatter3d"
           }
          ],
          "scattercarpet": [
           {
            "marker": {
             "colorbar": {
              "outlinewidth": 0,
              "ticks": ""
             }
            },
            "type": "scattercarpet"
           }
          ],
          "scattergeo": [
           {
            "marker": {
             "colorbar": {
              "outlinewidth": 0,
              "ticks": ""
             }
            },
            "type": "scattergeo"
           }
          ],
          "scattergl": [
           {
            "marker": {
             "colorbar": {
              "outlinewidth": 0,
              "ticks": ""
             }
            },
            "type": "scattergl"
           }
          ],
          "scattermapbox": [
           {
            "marker": {
             "colorbar": {
              "outlinewidth": 0,
              "ticks": ""
             }
            },
            "type": "scattermapbox"
           }
          ],
          "scatterpolar": [
           {
            "marker": {
             "colorbar": {
              "outlinewidth": 0,
              "ticks": ""
             }
            },
            "type": "scatterpolar"
           }
          ],
          "scatterpolargl": [
           {
            "marker": {
             "colorbar": {
              "outlinewidth": 0,
              "ticks": ""
             }
            },
            "type": "scatterpolargl"
           }
          ],
          "scatterternary": [
           {
            "marker": {
             "colorbar": {
              "outlinewidth": 0,
              "ticks": ""
             }
            },
            "type": "scatterternary"
           }
          ],
          "surface": [
           {
            "colorbar": {
             "outlinewidth": 0,
             "ticks": ""
            },
            "colorscale": [
             [
              0.0,
              "#0d0887"
             ],
             [
              0.1111111111111111,
              "#46039f"
             ],
             [
              0.2222222222222222,
              "#7201a8"
             ],
             [
              0.3333333333333333,
              "#9c179e"
             ],
             [
              0.4444444444444444,
              "#bd3786"
             ],
             [
              0.5555555555555556,
              "#d8576b"
             ],
             [
              0.6666666666666666,
              "#ed7953"
             ],
             [
              0.7777777777777778,
              "#fb9f3a"
             ],
             [
              0.8888888888888888,
              "#fdca26"
             ],
             [
              1.0,
              "#f0f921"
             ]
            ],
            "type": "surface"
           }
          ],
          "table": [
           {
            "cells": {
             "fill": {
              "color": "#EBF0F8"
             },
             "line": {
              "color": "white"
             }
            },
            "header": {
             "fill": {
              "color": "#C8D4E3"
             },
             "line": {
              "color": "white"
             }
            },
            "type": "table"
           }
          ]
         },
         "layout": {
          "annotationdefaults": {
           "arrowcolor": "#2a3f5f",
           "arrowhead": 0,
           "arrowwidth": 1
          },
          "coloraxis": {
           "colorbar": {
            "outlinewidth": 0,
            "ticks": ""
           }
          },
          "colorscale": {
           "diverging": [
            [
             0,
             "#8e0152"
            ],
            [
             0.1,
             "#c51b7d"
            ],
            [
             0.2,
             "#de77ae"
            ],
            [
             0.3,
             "#f1b6da"
            ],
            [
             0.4,
             "#fde0ef"
            ],
            [
             0.5,
             "#f7f7f7"
            ],
            [
             0.6,
             "#e6f5d0"
            ],
            [
             0.7,
             "#b8e186"
            ],
            [
             0.8,
             "#7fbc41"
            ],
            [
             0.9,
             "#4d9221"
            ],
            [
             1,
             "#276419"
            ]
           ],
           "sequential": [
            [
             0.0,
             "#0d0887"
            ],
            [
             0.1111111111111111,
             "#46039f"
            ],
            [
             0.2222222222222222,
             "#7201a8"
            ],
            [
             0.3333333333333333,
             "#9c179e"
            ],
            [
             0.4444444444444444,
             "#bd3786"
            ],
            [
             0.5555555555555556,
             "#d8576b"
            ],
            [
             0.6666666666666666,
             "#ed7953"
            ],
            [
             0.7777777777777778,
             "#fb9f3a"
            ],
            [
             0.8888888888888888,
             "#fdca26"
            ],
            [
             1.0,
             "#f0f921"
            ]
           ],
           "sequentialminus": [
            [
             0.0,
             "#0d0887"
            ],
            [
             0.1111111111111111,
             "#46039f"
            ],
            [
             0.2222222222222222,
             "#7201a8"
            ],
            [
             0.3333333333333333,
             "#9c179e"
            ],
            [
             0.4444444444444444,
             "#bd3786"
            ],
            [
             0.5555555555555556,
             "#d8576b"
            ],
            [
             0.6666666666666666,
             "#ed7953"
            ],
            [
             0.7777777777777778,
             "#fb9f3a"
            ],
            [
             0.8888888888888888,
             "#fdca26"
            ],
            [
             1.0,
             "#f0f921"
            ]
           ]
          },
          "colorway": [
           "#636efa",
           "#EF553B",
           "#00cc96",
           "#ab63fa",
           "#FFA15A",
           "#19d3f3",
           "#FF6692",
           "#B6E880",
           "#FF97FF",
           "#FECB52"
          ],
          "font": {
           "color": "#2a3f5f"
          },
          "geo": {
           "bgcolor": "white",
           "lakecolor": "white",
           "landcolor": "#E5ECF6",
           "showlakes": true,
           "showland": true,
           "subunitcolor": "white"
          },
          "hoverlabel": {
           "align": "left"
          },
          "hovermode": "closest",
          "mapbox": {
           "style": "light"
          },
          "paper_bgcolor": "white",
          "plot_bgcolor": "#E5ECF6",
          "polar": {
           "angularaxis": {
            "gridcolor": "white",
            "linecolor": "white",
            "ticks": ""
           },
           "bgcolor": "#E5ECF6",
           "radialaxis": {
            "gridcolor": "white",
            "linecolor": "white",
            "ticks": ""
           }
          },
          "scene": {
           "xaxis": {
            "backgroundcolor": "#E5ECF6",
            "gridcolor": "white",
            "gridwidth": 2,
            "linecolor": "white",
            "showbackground": true,
            "ticks": "",
            "zerolinecolor": "white"
           },
           "yaxis": {
            "backgroundcolor": "#E5ECF6",
            "gridcolor": "white",
            "gridwidth": 2,
            "linecolor": "white",
            "showbackground": true,
            "ticks": "",
            "zerolinecolor": "white"
           },
           "zaxis": {
            "backgroundcolor": "#E5ECF6",
            "gridcolor": "white",
            "gridwidth": 2,
            "linecolor": "white",
            "showbackground": true,
            "ticks": "",
            "zerolinecolor": "white"
           }
          },
          "shapedefaults": {
           "line": {
            "color": "#2a3f5f"
           }
          },
          "ternary": {
           "aaxis": {
            "gridcolor": "white",
            "linecolor": "white",
            "ticks": ""
           },
           "baxis": {
            "gridcolor": "white",
            "linecolor": "white",
            "ticks": ""
           },
           "bgcolor": "#E5ECF6",
           "caxis": {
            "gridcolor": "white",
            "linecolor": "white",
            "ticks": ""
           }
          },
          "title": {
           "x": 0.05
          },
          "xaxis": {
           "automargin": true,
           "gridcolor": "white",
           "linecolor": "white",
           "ticks": "",
           "title": {
            "standoff": 15
           },
           "zerolinecolor": "white",
           "zerolinewidth": 2
          },
          "yaxis": {
           "automargin": true,
           "gridcolor": "white",
           "linecolor": "white",
           "ticks": "",
           "title": {
            "standoff": 15
           },
           "zerolinecolor": "white",
           "zerolinewidth": 2
          }
         }
        }
       }
      },
      "text/html": "<div>                            <div id=\"60f4c17b-2624-419a-b340-058cccdc55b3\" class=\"plotly-graph-div\" style=\"height:525px; width:100%;\"></div>            <script type=\"text/javascript\">                require([\"plotly\"], function(Plotly) {                    window.PLOTLYENV=window.PLOTLYENV || {};                                    if (document.getElementById(\"60f4c17b-2624-419a-b340-058cccdc55b3\")) {                    Plotly.newPlot(                        \"60f4c17b-2624-419a-b340-058cccdc55b3\",                        [{\"hoverinfo\": \"skip\", \"line\": {\"color\": \"darkgray\", \"dash\": \"dash\"}, \"mode\": \"lines\", \"name\": \"Extraordinary\", \"showlegend\": false, \"type\": \"scatter\", \"x\": [\"2-02\", \"2-03\", \"2-04\", \"2-05\", \"2-06\", \"2-07\", \"2-08\", \"2-09\", \"2-10\", \"2-11\", \"2-12\", \"3-01\", \"3-02\", \"3-03\", \"3-04\", \"3-05\", \"3-06\", \"3-07\", \"3-08\", \"3-09\", \"3-10\", \"3-11\", \"3-12\"], \"y\": [464.11653846153854, 463.1618333333334, 466.98555, 470.2133676470589, 481.5850849673203, 480.8418070175439, 487.5490000000001, 480.2085928571429, 501.9901818181819, 519.6052233201582, 525.1799130434783, 517.700375, 530.3625846153847, 541.1146652421653, 555.322126984127, 555.0520431034483, 555.7543678160919, 574.4436548387097, 590.5361895161291, 627.2252821969698, 647.4477058823529, 657.7008949579831, 664.5978]}, {\"hoverinfo\": \"skip\", \"line\": {\"color\": \"lightgray\", \"dash\": \"dash\"}, \"mode\": \"lines\", \"name\": \"Actionably Good\", \"showlegend\": false, \"type\": \"scatter\", \"x\": [\"2-02\", \"2-03\", \"2-04\", \"2-05\", \"2-06\", \"2-07\", \"2-08\", \"2-09\", \"2-10\", \"2-11\", \"2-12\", \"3-01\", \"3-02\", \"3-03\", \"3-04\", \"3-05\", \"3-06\", \"3-07\", \"3-08\", \"3-09\", \"3-10\", \"3-11\", \"3-12\"], \"y\": [373.72769230769234, 373.4723333333334, 377.6716166666667, 379.6736176470589, 388.89190849673207, 388.7910292397661, 394.91100000000006, 391.2914428571429, 408.9661818181819, 421.31217786561274, 426.6616086956522, 423.1429166666667, 434.2301846153847, 442.3110113960114, 454.0992751322751, 455.63929310344827, 458.1140229885057, 473.93555483870966, 486.06683467741937, 514.6158446969698, 529.9200392156863, 539.4834537815126, 547.2651999999999]}, {\"hoverinfo\": \"skip\", \"line\": {\"color\": \"lightgray\", \"dash\": \"dash\"}, \"mode\": \"lines\", \"name\": \"Actionably Bad\", \"showlegend\": false, \"type\": \"scatter\", \"x\": [\"2-02\", \"2-03\", \"2-04\", \"2-05\", \"2-06\", \"2-07\", \"2-08\", \"2-09\", \"2-10\", \"2-11\", \"2-12\", \"3-01\", \"3-02\", \"3-03\", \"3-04\", \"3-05\", \"3-06\", \"3-07\", \"3-08\", \"3-09\", \"3-10\", \"3-11\", \"3-12\"], \"y\": [12.172307692307726, 14.714333333333371, 20.41588333333334, 17.514617647058827, 18.119202614379134, 20.58791812865499, 24.35900000000001, 35.62284285714287, 36.870181818181834, 28.139996047430856, 32.588391304347795, 44.913083333333276, 49.70058461538454, 47.09639601139594, 49.2078677248677, 57.9882931034482, 67.5526436781609, 71.9031548387097, 68.18941532258066, 64.17809469696971, 59.80937254901963, 66.61368907563022, 77.93479999999997]}, {\"hoverinfo\": \"skip\", \"line\": {\"color\": \"darkgray\", \"dash\": \"dash\"}, \"mode\": \"lines\", \"name\": \"Crisis\", \"showlegend\": false, \"type\": \"scatter\", \"x\": [\"2-02\", \"2-03\", \"2-04\", \"2-05\", \"2-06\", \"2-07\", \"2-08\", \"2-09\", \"2-10\", \"2-11\", \"2-12\", \"3-01\", \"3-02\", \"3-03\", \"3-04\", \"3-05\", \"3-06\", \"3-07\", \"3-08\", \"3-09\", \"3-10\", \"3-11\", \"3-12\"], \"y\": [-78.21653846153845, -74.97516666666667, -68.89804999999998, -73.02513235294117, -74.57397385620914, -71.46285964912278, -68.279, -53.29430714285715, -56.153818181818195, -70.15304940711462, -65.92991304347834, -49.64437500000005, -46.43181538461545, -51.70725783475794, -52.01498412698419, -41.42445689655182, -30.0877011494253, -28.60494516129029, -36.27993951612905, -48.431342803030304, -57.71829411764702, -51.60375210084038, -39.397800000000075]}, {\"hoverinfo\": \"text\", \"hovertext\": [\"<b>Actionably Good</b><br>Metric is <b>high</b> compared with historical ranges.<br>Metric <b>increased suddenly</b> compared to historical values.\", \"<b>Actionably Good</b><br>Metric is within a <b>normal</b> range based on historical values.<br>Metric has been <b>above</b> the historical average for 7 consecutive periods.\", \"<b>Actionably Good</b><br>Metric is <b>high</b> compared with historical ranges.<br>Metric <b>increased suddenly</b> compared to historical values.<br>Metric has been <b>above</b> the historical average for 8 consecutive periods.\", \"<b>Extraordinary</b><br>Metric is within a <b>normal</b> range based on historical values.<br>Metric has been <b>above</b> the historical average for 9 consecutive periods.\", \"<b>Extraordinary</b><br>Metric is within a <b>normal</b> range based on historical values.<br>Metric has been <b>above</b> the historical average for 10 consecutive periods.\", \"<b>Extraordinary</b><br>Metric is within a <b>normal</b> range based on historical values.<br>Metric has been <b>above</b> the historical average for 11 consecutive periods.\", \"<b>Extraordinary</b><br>Metric is within a <b>normal</b> range based on historical values.<br>Metric has been <b>above</b> the historical average for 12 consecutive periods.\", \"<b>Extraordinary</b><br>Metric is <b>high</b> compared with historical ranges.<br>Metric <b>increased suddenly</b> compared to historical values.<br>Metric has been <b>above</b> the historical average for 13 consecutive periods.\", \"<b>Extraordinary</b><br>Metric is within a <b>normal</b> range based on historical values.<br>Metric has been <b>above</b> the historical average for 14 consecutive periods.\", \"<b>Extraordinary</b><br>Metric is <b>high</b> compared with historical ranges.<br>Metric <b>increased suddenly</b> compared to historical values.<br>Metric has been <b>above</b> the historical average for 15 consecutive periods.\", \"<b>Extraordinary</b><br>Metric is within a <b>normal</b> range based on historical values.<br>Metric has been <b>above</b> the historical average for 16 consecutive periods.\", \"<b>Extraordinary</b><br>Metric is <b>high</b> compared with historical ranges.<br>Metric <b>increased suddenly</b> compared to historical values.<br>Metric has been <b>above</b> the historical average for 17 consecutive periods.\", \"<b>Extraordinary</b><br>Metric is <b>high</b> compared with historical ranges.<br>Metric <b>increased suddenly</b> compared to historical values.<br>Metric has been <b>above</b> the historical average for 17 consecutive periods.\"], \"marker\": {\"color\": [\"rgb(161,217,155)\", \"rgb(161,217,155)\", \"rgb(116,196,118)\", \"rgb(35,139,69)\", \"rgb(35,139,69)\", \"rgb(35,139,69)\", \"rgb(35,139,69)\", \"rgb(35,139,69)\", \"rgb(35,139,69)\", \"rgb(35,139,69)\", \"rgb(35,139,69)\", \"rgb(35,139,69)\", \"rgb(35,139,69)\"], \"size\": 10}, \"mode\": \"markers\", \"name\": \"Actionability\", \"showlegend\": false, \"type\": \"scatter\", \"x\": [\"2-10\", \"3-01\", \"3-02\", \"3-03\", \"3-04\", \"3-05\", \"3-06\", \"3-07\", \"3-08\", \"3-09\", \"3-10\", \"3-11\", \"3-12\"], \"y\": [421.6, 339.7, 440.4, 315.9, 439.3, 401.3, 437.4, 575.5, 407.6, 682.0, 475.3, 581.3, 646.9]}, {\"hoverinfo\": \"skip\", \"marker\": {\"color\": [\"lightgray\", \"lightgray\", \"lightgray\", \"lightgray\", \"lightgray\", \"lightgray\", \"lightgray\", \"lightgray\", \"lightgray\"], \"size\": 10}, \"mode\": \"markers\", \"name\": \"Historical Alerts\", \"showlegend\": false, \"type\": \"scatter\", \"x\": [\"2-10\", \"3-01\", \"3-02\", \"3-03\", \"3-04\", \"3-05\", \"3-06\", \"3-07\", \"3-08\"], \"y\": [421.6, 339.7, 440.4, 315.9, 439.3, 401.3, 437.4, 575.5, 407.6]}, {\"line\": {\"color\": \"gray\", \"width\": 4}, \"mode\": \"lines\", \"name\": \"Period Value\", \"showlegend\": false, \"type\": \"scatter\", \"x\": [\"2-02\", \"2-03\", \"2-04\", \"2-05\", \"2-06\", \"2-07\", \"2-08\", \"2-09\", \"2-10\", \"2-11\", \"2-12\", \"3-01\", \"3-02\", \"3-03\", \"3-04\", \"3-05\", \"3-06\", \"3-07\", \"3-08\", \"3-09\", \"3-10\", \"3-11\", \"3-12\"], \"y\": [149.5, 210.1, 273.3, 191.4, 287.0, 226.0, 303.6, 289.9, 421.6, 264.5, 342.3, 339.7, 440.4, 315.9, 439.3, 401.3, 437.4, 575.5, 407.6, 682.0, 475.3, 581.3, 646.9]}],                        {\"hovermode\": \"x\", \"paper_bgcolor\": \"rgba(0,0,0,0)\", \"plot_bgcolor\": \"rgba(0,0,0,0)\", \"template\": {\"data\": {\"bar\": [{\"error_x\": {\"color\": \"#2a3f5f\"}, \"error_y\": {\"color\": \"#2a3f5f\"}, \"marker\": {\"line\": {\"color\": \"#E5ECF6\", \"width\": 0.5}}, \"type\": \"bar\"}], \"barpolar\": [{\"marker\": {\"line\": {\"color\": \"#E5ECF6\", \"width\": 0.5}}, \"type\": \"barpolar\"}], \"carpet\": [{\"aaxis\": {\"endlinecolor\": \"#2a3f5f\", \"gridcolor\": \"white\", \"linecolor\": \"white\", \"minorgridcolor\": \"white\", \"startlinecolor\": \"#2a3f5f\"}, \"baxis\": {\"endlinecolor\": \"#2a3f5f\", \"gridcolor\": \"white\", \"linecolor\": \"white\", \"minorgridcolor\": \"white\", \"startlinecolor\": \"#2a3f5f\"}, \"type\": \"carpet\"}], \"choropleth\": [{\"colorbar\": {\"outlinewidth\": 0, \"ticks\": \"\"}, \"type\": \"choropleth\"}], \"contour\": [{\"colorbar\": {\"outlinewidth\": 0, \"ticks\": \"\"}, \"colorscale\": [[0.0, \"#0d0887\"], [0.1111111111111111, \"#46039f\"], [0.2222222222222222, \"#7201a8\"], [0.3333333333333333, \"#9c179e\"], [0.4444444444444444, \"#bd3786\"], [0.5555555555555556, \"#d8576b\"], [0.6666666666666666, \"#ed7953\"], [0.7777777777777778, \"#fb9f3a\"], [0.8888888888888888, \"#fdca26\"], [1.0, \"#f0f921\"]], \"type\": \"contour\"}], \"contourcarpet\": [{\"colorbar\": {\"outlinewidth\": 0, \"ticks\": \"\"}, \"type\": \"contourcarpet\"}], \"heatmap\": [{\"colorbar\": {\"outlinewidth\": 0, \"ticks\": \"\"}, \"colorscale\": [[0.0, \"#0d0887\"], [0.1111111111111111, \"#46039f\"], [0.2222222222222222, \"#7201a8\"], [0.3333333333333333, \"#9c179e\"], [0.4444444444444444, \"#bd3786\"], [0.5555555555555556, \"#d8576b\"], [0.6666666666666666, \"#ed7953\"], [0.7777777777777778, \"#fb9f3a\"], [0.8888888888888888, \"#fdca26\"], [1.0, \"#f0f921\"]], \"type\": \"heatmap\"}], \"heatmapgl\": [{\"colorbar\": {\"outlinewidth\": 0, \"ticks\": \"\"}, \"colorscale\": [[0.0, \"#0d0887\"], [0.1111111111111111, \"#46039f\"], [0.2222222222222222, \"#7201a8\"], [0.3333333333333333, \"#9c179e\"], [0.4444444444444444, \"#bd3786\"], [0.5555555555555556, \"#d8576b\"], [0.6666666666666666, \"#ed7953\"], [0.7777777777777778, \"#fb9f3a\"], [0.8888888888888888, \"#fdca26\"], [1.0, \"#f0f921\"]], \"type\": \"heatmapgl\"}], \"histogram\": [{\"marker\": {\"colorbar\": {\"outlinewidth\": 0, \"ticks\": \"\"}}, \"type\": \"histogram\"}], \"histogram2d\": [{\"colorbar\": {\"outlinewidth\": 0, \"ticks\": \"\"}, \"colorscale\": [[0.0, \"#0d0887\"], [0.1111111111111111, \"#46039f\"], [0.2222222222222222, \"#7201a8\"], [0.3333333333333333, \"#9c179e\"], [0.4444444444444444, \"#bd3786\"], [0.5555555555555556, \"#d8576b\"], [0.6666666666666666, \"#ed7953\"], [0.7777777777777778, \"#fb9f3a\"], [0.8888888888888888, \"#fdca26\"], [1.0, \"#f0f921\"]], \"type\": \"histogram2d\"}], \"histogram2dcontour\": [{\"colorbar\": {\"outlinewidth\": 0, \"ticks\": \"\"}, \"colorscale\": [[0.0, \"#0d0887\"], [0.1111111111111111, \"#46039f\"], [0.2222222222222222, \"#7201a8\"], [0.3333333333333333, \"#9c179e\"], [0.4444444444444444, \"#bd3786\"], [0.5555555555555556, \"#d8576b\"], [0.6666666666666666, \"#ed7953\"], [0.7777777777777778, \"#fb9f3a\"], [0.8888888888888888, \"#fdca26\"], [1.0, \"#f0f921\"]], \"type\": \"histogram2dcontour\"}], \"mesh3d\": [{\"colorbar\": {\"outlinewidth\": 0, \"ticks\": \"\"}, \"type\": \"mesh3d\"}], \"parcoords\": [{\"line\": {\"colorbar\": {\"outlinewidth\": 0, \"ticks\": \"\"}}, \"type\": \"parcoords\"}], \"pie\": [{\"automargin\": true, \"type\": \"pie\"}], \"scatter\": [{\"marker\": {\"colorbar\": {\"outlinewidth\": 0, \"ticks\": \"\"}}, \"type\": \"scatter\"}], \"scatter3d\": [{\"line\": {\"colorbar\": {\"outlinewidth\": 0, \"ticks\": \"\"}}, \"marker\": {\"colorbar\": {\"outlinewidth\": 0, \"ticks\": \"\"}}, \"type\": \"scatter3d\"}], \"scattercarpet\": [{\"marker\": {\"colorbar\": {\"outlinewidth\": 0, \"ticks\": \"\"}}, \"type\": \"scattercarpet\"}], \"scattergeo\": [{\"marker\": {\"colorbar\": {\"outlinewidth\": 0, \"ticks\": \"\"}}, \"type\": \"scattergeo\"}], \"scattergl\": [{\"marker\": {\"colorbar\": {\"outlinewidth\": 0, \"ticks\": \"\"}}, \"type\": \"scattergl\"}], \"scattermapbox\": [{\"marker\": {\"colorbar\": {\"outlinewidth\": 0, \"ticks\": \"\"}}, \"type\": \"scattermapbox\"}], \"scatterpolar\": [{\"marker\": {\"colorbar\": {\"outlinewidth\": 0, \"ticks\": \"\"}}, \"type\": \"scatterpolar\"}], \"scatterpolargl\": [{\"marker\": {\"colorbar\": {\"outlinewidth\": 0, \"ticks\": \"\"}}, \"type\": \"scatterpolargl\"}], \"scatterternary\": [{\"marker\": {\"colorbar\": {\"outlinewidth\": 0, \"ticks\": \"\"}}, \"type\": \"scatterternary\"}], \"surface\": [{\"colorbar\": {\"outlinewidth\": 0, \"ticks\": \"\"}, \"colorscale\": [[0.0, \"#0d0887\"], [0.1111111111111111, \"#46039f\"], [0.2222222222222222, \"#7201a8\"], [0.3333333333333333, \"#9c179e\"], [0.4444444444444444, \"#bd3786\"], [0.5555555555555556, \"#d8576b\"], [0.6666666666666666, \"#ed7953\"], [0.7777777777777778, \"#fb9f3a\"], [0.8888888888888888, \"#fdca26\"], [1.0, \"#f0f921\"]], \"type\": \"surface\"}], \"table\": [{\"cells\": {\"fill\": {\"color\": \"#EBF0F8\"}, \"line\": {\"color\": \"white\"}}, \"header\": {\"fill\": {\"color\": \"#C8D4E3\"}, \"line\": {\"color\": \"white\"}}, \"type\": \"table\"}]}, \"layout\": {\"annotationdefaults\": {\"arrowcolor\": \"#2a3f5f\", \"arrowhead\": 0, \"arrowwidth\": 1}, \"coloraxis\": {\"colorbar\": {\"outlinewidth\": 0, \"ticks\": \"\"}}, \"colorscale\": {\"diverging\": [[0, \"#8e0152\"], [0.1, \"#c51b7d\"], [0.2, \"#de77ae\"], [0.3, \"#f1b6da\"], [0.4, \"#fde0ef\"], [0.5, \"#f7f7f7\"], [0.6, \"#e6f5d0\"], [0.7, \"#b8e186\"], [0.8, \"#7fbc41\"], [0.9, \"#4d9221\"], [1, \"#276419\"]], \"sequential\": [[0.0, \"#0d0887\"], [0.1111111111111111, \"#46039f\"], [0.2222222222222222, \"#7201a8\"], [0.3333333333333333, \"#9c179e\"], [0.4444444444444444, \"#bd3786\"], [0.5555555555555556, \"#d8576b\"], [0.6666666666666666, \"#ed7953\"], [0.7777777777777778, \"#fb9f3a\"], [0.8888888888888888, \"#fdca26\"], [1.0, \"#f0f921\"]], \"sequentialminus\": [[0.0, \"#0d0887\"], [0.1111111111111111, \"#46039f\"], [0.2222222222222222, \"#7201a8\"], [0.3333333333333333, \"#9c179e\"], [0.4444444444444444, \"#bd3786\"], [0.5555555555555556, \"#d8576b\"], [0.6666666666666666, \"#ed7953\"], [0.7777777777777778, \"#fb9f3a\"], [0.8888888888888888, \"#fdca26\"], [1.0, \"#f0f921\"]]}, \"colorway\": [\"#636efa\", \"#EF553B\", \"#00cc96\", \"#ab63fa\", \"#FFA15A\", \"#19d3f3\", \"#FF6692\", \"#B6E880\", \"#FF97FF\", \"#FECB52\"], \"font\": {\"color\": \"#2a3f5f\"}, \"geo\": {\"bgcolor\": \"white\", \"lakecolor\": \"white\", \"landcolor\": \"#E5ECF6\", \"showlakes\": true, \"showland\": true, \"subunitcolor\": \"white\"}, \"hoverlabel\": {\"align\": \"left\"}, \"hovermode\": \"closest\", \"mapbox\": {\"style\": \"light\"}, \"paper_bgcolor\": \"white\", \"plot_bgcolor\": \"#E5ECF6\", \"polar\": {\"angularaxis\": {\"gridcolor\": \"white\", \"linecolor\": \"white\", \"ticks\": \"\"}, \"bgcolor\": \"#E5ECF6\", \"radialaxis\": {\"gridcolor\": \"white\", \"linecolor\": \"white\", \"ticks\": \"\"}}, \"scene\": {\"xaxis\": {\"backgroundcolor\": \"#E5ECF6\", \"gridcolor\": \"white\", \"gridwidth\": 2, \"linecolor\": \"white\", \"showbackground\": true, \"ticks\": \"\", \"zerolinecolor\": \"white\"}, \"yaxis\": {\"backgroundcolor\": \"#E5ECF6\", \"gridcolor\": \"white\", \"gridwidth\": 2, \"linecolor\": \"white\", \"showbackground\": true, \"ticks\": \"\", \"zerolinecolor\": \"white\"}, \"zaxis\": {\"backgroundcolor\": \"#E5ECF6\", \"gridcolor\": \"white\", \"gridwidth\": 2, \"linecolor\": \"white\", \"showbackground\": true, \"ticks\": \"\", \"zerolinecolor\": \"white\"}}, \"shapedefaults\": {\"line\": {\"color\": \"#2a3f5f\"}}, \"ternary\": {\"aaxis\": {\"gridcolor\": \"white\", \"linecolor\": \"white\", \"ticks\": \"\"}, \"baxis\": {\"gridcolor\": \"white\", \"linecolor\": \"white\", \"ticks\": \"\"}, \"bgcolor\": \"#E5ECF6\", \"caxis\": {\"gridcolor\": \"white\", \"linecolor\": \"white\", \"ticks\": \"\"}}, \"title\": {\"x\": 0.05}, \"xaxis\": {\"automargin\": true, \"gridcolor\": \"white\", \"linecolor\": \"white\", \"ticks\": \"\", \"title\": {\"standoff\": 15}, \"zerolinecolor\": \"white\", \"zerolinewidth\": 2}, \"yaxis\": {\"automargin\": true, \"gridcolor\": \"white\", \"linecolor\": \"white\", \"ticks\": \"\", \"title\": {\"standoff\": 15}, \"zerolinecolor\": \"white\", \"zerolinewidth\": 2}}}},                        {\"responsive\": true}                    ).then(function(){\n                            \nvar gd = document.getElementById('60f4c17b-2624-419a-b340-058cccdc55b3');\nvar x = new MutationObserver(function (mutations, observer) {{\n        var display = window.getComputedStyle(gd).display;\n        if (!display || display === 'none') {{\n            console.log([gd, 'removed!']);\n            Plotly.purge(gd);\n            observer.disconnect();\n        }}\n}});\n\n// Listen for the removal of the full notebook cells\nvar notebookContainer = gd.closest('#notebook-container');\nif (notebookContainer) {{\n    x.observe(notebookContainer, {childList: true});\n}}\n\n// Listen for the clearing of the current output cell\nvar outputEl = gd.closest('.output');\nif (outputEl) {{\n    x.observe(outputEl, {childList: true});\n}}\n\n                        })                };                });            </script>        </div>"
     },
     "metadata": {},
     "output_type": "display_data"
    }
   ],
   "source": [
    "sales_metric_eval.display_actionability_time_series()"
   ],
   "metadata": {
    "collapsed": false,
    "pycharm": {
     "name": "#%%\n"
    }
   }
  },
  {
   "cell_type": "code",
   "execution_count": null,
   "outputs": [],
   "source": [],
   "metadata": {
    "collapsed": false,
    "pycharm": {
     "name": "#%%\n"
    }
   }
  }
 ],
 "metadata": {
  "kernelspec": {
   "display_name": "Python 3",
   "language": "python",
   "name": "python3"
  },
  "language_info": {
   "codemirror_mode": {
    "name": "ipython",
    "version": 2
   },
   "file_extension": ".py",
   "mimetype": "text/x-python",
   "name": "python",
   "nbconvert_exporter": "python",
   "pygments_lexer": "ipython2",
   "version": "2.7.6"
  }
 },
 "nbformat": 4,
 "nbformat_minor": 0
}