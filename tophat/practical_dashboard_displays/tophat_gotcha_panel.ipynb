{
 "cells": [
  {
   "cell_type": "code",
   "execution_count": 20,
   "metadata": {
    "collapsed": true
   },
   "outputs": [
    {
     "data": {
      "text/plain": "<module 'mode_notebook_assets.practical_dashboard_displays' from '/Users/joelbecker/src/github.com/Shopify/mode-notebook-assets/mode_notebook_assets/practical_dashboard_displays.py'>"
     },
     "execution_count": 20,
     "metadata": {},
     "output_type": "execute_result"
    }
   ],
   "source": [
    "from IPython.core.display import HTML\n",
    "import mode_notebook_assets.practical_dashboard_displays as pdd\n",
    "from importlib import reload\n",
    "reload(pdd)"
   ]
  },
  {
   "cell_type": "code",
   "execution_count": 21,
   "outputs": [
    {
     "data": {
      "text/plain": "<IPython.core.display.HTML object>",
      "text/html": "<img src=\"data:image/png;base64,iVBORw0KGgoAAAANSUhEUgAAASAAAAASCAYAAAD7RgOSAAAAOXRFWHRTb2Z0d2FyZQBNYXRwbG90bGliIHZlcnNpb24zLjMuMywgaHR0cHM6Ly9tYXRwbG90bGliLm9yZy/Il7ecAAAACXBIWXMAAAsTAAALEwEAmpwYAAADPklEQVR4nO2aTU8TURSGn5bvAAIKRBcuWKiJRg24cmfiL/GXnJwfZsLOFR+amJBocKExsQiWCioFWhf3Np0Zp+3c0o8pnie5uYf2MvfM9M477z1toV6vYxiGEYqqPgdeAJsi8qabYxRMgAzDCMWLz2tgEqgCL7sRofFeJ2YYxvVBVZeAdeAZsOHb/cSwSZwTMgEyDKM7VHWFpsg0BGctZWgV2AfuAQX/92Y3c5oAGcZ/iKreIe5qNoC7KUP/ALvAdqS9F5Gq1YAMw2iLqhZwwpJ0NrdThp8CO8AWTbHZE5GLfuVnDsgwrglebNb419kspww/Ju5qtoCPInI5mGwdJkCGMYKoahFXg4k6m3VgMWX4IU2RaQjOvogMfftjAmTkDlWdBlZ8W8JtDY6Bim8nebh5BoWqjgMPiDubdWAuZfg34kKzBXzO6/WyGpDRd1R1ErcNWMWJSrRPe22+wyHrNMXoONFniRv977zdmP5aPSRer3kKzKQM/0JcbLZF5OuAUu0J11qAVHWW9AUeXfzLwAXZFmwyPhGR2uDOKB/4J/Iyra9rUlwWA6e4AA6AElDG3XwLwA3fZq94CtF5KlxRzETkrJvJvdN7TLxe8wT3u5okn4i7mh0RKXUzb54YKQFS1Rk6L/ro4k97avSSOvCT7E/cVvGvYT6JVXUMuEl7VxLtbwVOUcMJSkNUSpE4rS+3ux5eAOdxYrSQ6LPEjX468DxaUSW78xrHbZ82gEekl0E+EHc2OyJy1KNcc8VQBcjbzSyWvNGn7XnbcUbnBf8dKJJtwSbj0HxacUn49iEtPhORui9QLpLNnaziBKUYkG8dV9jMIiYl4EcenaJffzfI/nm3en+iyxRqwB7xAvGuiFS6PN7I0VMBUtUJ2lvz5GsLgVOck23BN+K+Fiu9c5gnfMEm4145tXPgxB9zLPB/j8h2bQ+Aw0F/XZtX/FffU2T/7IvAO5zYvBWR0yGknRuCBMjXVF7RWlyWAue/JMyaH+etaNgLvHCHbh/S4mjtoEw2MSnhBOW8j6doGKmECtAcrubRihpNa97KlUT7ch6t+aiiqlM4R1YRkeqw8zGMToxUEdowjOtFSOHRMAyjp/wFFbOk3eBzeJsAAAAASUVORK5CYII=\"/>"
     },
     "execution_count": 21,
     "metadata": {},
     "output_type": "execute_result"
    }
   ],
   "source": [
    "HTML(pdd.sparkline([1,4,2,5,3,10]))"
   ],
   "metadata": {
    "collapsed": false,
    "pycharm": {
     "name": "#%%\n"
    }
   }
  },
  {
   "cell_type": "code",
   "execution_count": 22,
   "outputs": [
    {
     "data": {
      "text/plain": "<IPython.core.display.HTML object>",
      "text/html": "<img style=\"height:40px;width:40px;\" src=\"data:image/png;base64,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\"/>"
     },
     "execution_count": 22,
     "metadata": {},
     "output_type": "execute_result"
    }
   ],
   "source": [
    "HTML(pdd.dot('gray'))"
   ],
   "metadata": {
    "collapsed": false,
    "pycharm": {
     "name": "#%%\n"
    }
   }
  },
  {
   "cell_type": "code",
   "execution_count": 23,
   "outputs": [
    {
     "data": {
      "text/plain": "<IPython.core.display.HTML object>",
      "text/html": "<img style=\"height:40px;width:40px;\" src=\"data:image/png;base64,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\"/>"
     },
     "execution_count": 23,
     "metadata": {},
     "output_type": "execute_result"
    }
   ],
   "source": [
    "HTML(pdd.dot('green'))"
   ],
   "metadata": {
    "collapsed": false,
    "pycharm": {
     "name": "#%%\n"
    }
   }
  },
  {
   "cell_type": "code",
   "execution_count": null,
   "outputs": [],
   "source": [],
   "metadata": {
    "collapsed": false,
    "pycharm": {
     "name": "#%%\n"
    }
   }
  }
 ],
 "metadata": {
  "kernelspec": {
   "display_name": "Python 3",
   "language": "python",
   "name": "python3"
  },
  "language_info": {
   "codemirror_mode": {
    "name": "ipython",
    "version": 2
   },
   "file_extension": ".py",
   "mimetype": "text/x-python",
   "name": "python",
   "nbconvert_exporter": "python",
   "pygments_lexer": "ipython2",
   "version": "2.7.6"
  }
 },
 "nbformat": 4,
 "nbformat_minor": 0
}